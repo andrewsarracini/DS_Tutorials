{
 "cells": [
  {
   "cell_type": "markdown",
   "id": "0f7e1b4e",
   "metadata": {},
   "source": [
    "# Legacy Sleep Wave Project Code"
   ]
  },
  {
   "cell_type": "markdown",
   "id": "3c76fc0a",
   "metadata": {},
   "source": [
    "#### Initial Setup, Imports and Visuals\n",
    "\n",
    "Using \"Fpz-Cz\"-- voltage difference bewteen electroide at center of forehead and top of head (this can be swapped to different electrodes)"
   ]
  },
  {
   "cell_type": "code",
   "execution_count": null,
   "id": "872e251e",
   "metadata": {},
   "outputs": [],
   "source": [
    "import numpy as np\n",
    "import pandas as pd\n",
    "import mne \n",
    "import matplotlib.pyplot as plt\n",
    "\n",
    "psg_file = \"../data/sleep_waves/ST7011J0-PSG.edf\"\n",
    "hypnogram = \"../data/sleep_waves/ST7011JP-Hypnogram.edf\"\n",
    "\n",
    "# Loading new EEG data in\n",
    "raw = mne.io.read_raw(psg_file, preload=True)\n",
    "annotations = mne.read_annotations(hypnogram)\n",
    "raw.set_annotations(annotations) \n",
    "\n",
    "# Focus on EEG channel: \n",
    "# Fpz-Cz -- voltage diff between electrode at forehead center and top of head\n",
    "# One of two best for sleep data\n",
    "raw.pick(['EEG Fpz-Cz'])\n",
    "\n",
    "raw.plot(duration=60, n_channels=1, title='Raw EEG');\n",
    "\n",
    "# The warnings that come up are not a concern: "
   ]
  },
  {
   "cell_type": "markdown",
   "id": "32953680",
   "metadata": {},
   "source": [
    "#### Preprocessing the Signal\n",
    "\n",
    "EEG contains a huge range of freqs-- but sleep-related brain activity is concentrated in slow to moderate freqs. So by setting our limits to 0.5 - 40 Hz, we're filtering out all the non-sleep related (outside movement, muscle twitches, etc.)  \n",
    "\n",
    "We're using \"firwin\" (Finite Impulse Response) because it's useful for isolating clean frequency bands"
   ]
  },
  {
   "cell_type": "code",
   "execution_count": null,
   "id": "2a67a6df",
   "metadata": {},
   "outputs": [],
   "source": [
    "raw.filter(0.5, 40., fir_design='firwin')"
   ]
  },
  {
   "cell_type": "markdown",
   "id": "6be6abc8",
   "metadata": {},
   "source": [
    "#### Segment into 30s Epochs (Sleep Scoring Standard)\n",
    "\n",
    "30 second epochs have been the longstanding clinical and industry standard for measuring and classifying sleep-related brainwaves  \n",
    "\n",
    "For clarity's sake, sleep stages do *not* change every second... they tend to last minutes at least. However, 30s windows are great for catching transitions between the stages with minimal lag  \n",
    "\n",
    "**A thought**: if we encounter difficulty with classification, we could experiment with 60s window (would get more stable features)... BUT that runs the real risk of accidently mixing stages."
   ]
  },
  {
   "cell_type": "code",
   "execution_count": null,
   "id": "ee671a9d",
   "metadata": {},
   "outputs": [],
   "source": [
    "# Each annotation = 30s\n",
    "# We'll match that in epoching for clarity's sake (industry standard)\n",
    "\n",
    "events, event_id = mne.events_from_annotations(raw)\n",
    "epochs = mne.Epochs(raw, events=events, event_id=event_id, tmin=0, tmax=30, baseline=None, preload=True)\n",
    "\n",
    "\n",
    "epochs[10].plot(title='Epoch 10: Raw EEG');"
   ]
  },
  {
   "cell_type": "markdown",
   "id": "46ab3a57",
   "metadata": {},
   "source": [
    "#### Extract Sleep Stage Labels\n",
    "\n",
    "Mapping MNE annotations to the standard numeric sleep stages:"
   ]
  },
  {
   "cell_type": "code",
   "execution_count": null,
   "id": "762f7df8",
   "metadata": {},
   "outputs": [],
   "source": [
    "def extract_labels_from_events(events: np.ndarray, event_id: dict):\n",
    "    '''\n",
    "    Maps MNE event integer codes to standardized sleep labels \n",
    "\n",
    "    0: Wake\n",
    "    1: N1\n",
    "    2: N2\n",
    "    3: N3 (includes Stage 4)\n",
    "    4: REM\n",
    "\n",
    "    Args: \n",
    "        events (np.ndarray): array of shape (n_epochs, 3) from MNE Epochs.events\n",
    "        event_id (dict): Mapping from annotation strings to event codes\n",
    "    '''\n",
    "\n",
    "    reverse_event_map = {v: k for k, v in event_id.items()} \n",
    "\n",
    "    stage_map = {\n",
    "        'Sleep stage W': 'Wake',\n",
    "        'Sleep stage 1': 'N1',\n",
    "        'Sleep stage 2': 'N2',\n",
    "        'Sleep stage 3': 'N3',\n",
    "        'Sleep stage 4': 'N3',  # Merged with Stage 3\n",
    "        'Sleep stage R': 'REM'\n",
    "    }\n",
    "    \n",
    "    labels = []\n",
    "    for e in events: \n",
    "        raw_label = reverse_event_map.get(e[-1]) \n",
    "        if raw_label in stage_map: \n",
    "            labels.append(stage_map[raw_label])\n",
    "\n",
    "        else: \n",
    "            # Dropping unknown / invalid labels\n",
    "            labels.append(-1) \n",
    "\n",
    "    return labels\n"
   ]
  },
  {
   "cell_type": "markdown",
   "id": "3df13ee7",
   "metadata": {},
   "source": [
    "#### Feature Extraction (Band Power):\n",
    "\n",
    "Computing avergae power in key freq bands per epoch"
   ]
  },
  {
   "cell_type": "code",
   "execution_count": null,
   "id": "7c7c3f61",
   "metadata": {},
   "outputs": [],
   "source": [
    "from mne.time_frequency import psd_array_welch\n",
    "\n",
    "# Get raw epoch data as numpy array\n",
    "epoch_data = epochs.get_data()  # shape: (n_epochs, n_channels, n_times)\n",
    "sfreq = epochs.info['sfreq']    # typically 100 Hz for Sleep-EDF\n",
    "\n",
    "# Compute Power Spectral Density\n",
    "psds, freqs = psd_array_welch(epoch_data, sfreq=sfreq, fmin=0.5, fmax=40, n_fft=256)\n",
    "\n",
    "def bandpower(psds: np.ndarray, freqs: np.ndarray, band: tuple): \n",
    "    ''' \n",
    "    Computes the mean power in a specific freq band for all epochs\n",
    "\n",
    "    Args: \n",
    "        psds (np.array): Power spectral densities, shape (n_epochs, n_channels, n_freqs)\n",
    "        freqs (np.ndarray): Array of freq values\n",
    "        band (tuple): Lower and upper bounds of thr freq band (0.5-40Hz) \n",
    "    '''\n",
    "\n",
    "    low, high = band\n",
    "    idx = (freqs >= low) & (freqs <= high) \n",
    "    \n",
    "    return psds[:, :, idx].mean(axis=-1).mean(axis=1) \n"
   ]
  },
  {
   "cell_type": "code",
   "execution_count": null,
   "id": "46eb6d2d",
   "metadata": {},
   "outputs": [],
   "source": [
    "features = pd.DataFrame({\n",
    "    'delta': bandpower(psds, freqs, (0.5, 4)), \n",
    "    'theta': bandpower(psds, freqs, (4, 8)), \n",
    "    'alpha': bandpower(psds, freqs, (8, 13)), \n",
    "    'beta': bandpower(psds, freqs, (13, 30))\n",
    "})\n",
    "\n",
    "labels = extract_labels_from_events(epochs.events, event_id)\n",
    "features['label'] = labels\n",
    "features = features[features['label'] != -1]\n",
    "features"
   ]
  }
 ],
 "metadata": {
  "kernelspec": {
   "display_name": ".venv",
   "language": "python",
   "name": "python3"
  },
  "language_info": {
   "codemirror_mode": {
    "name": "ipython",
    "version": 3
   },
   "file_extension": ".py",
   "mimetype": "text/x-python",
   "name": "python",
   "nbconvert_exporter": "python",
   "pygments_lexer": "ipython3",
   "version": "3.13.0"
  }
 },
 "nbformat": 4,
 "nbformat_minor": 5
}

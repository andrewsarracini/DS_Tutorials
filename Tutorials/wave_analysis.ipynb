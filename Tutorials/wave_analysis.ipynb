{
 "cells": [
  {
   "cell_type": "markdown",
   "metadata": {},
   "source": [
    "# Waveform Analysis Exploration "
   ]
  },
  {
   "cell_type": "markdown",
   "metadata": {},
   "source": [
    "Need a function for mass data addition (all the unique EDF files). I'll merge them into a single table for easy analysis. Waves are waves-- so long as they have the same filtering and they're all originally raw EEG! "
   ]
  },
  {
   "cell_type": "code",
   "execution_count": 1,
   "metadata": {},
   "outputs": [],
   "source": [
    "import numpy as np\n",
    "import pandas as pd\n",
    "import mne \n",
    "from mne.time_frequency import psd_array_welch\n",
    "import matplotlib.pyplot as plt\n",
    "\n",
    "def process_edf_pair(psg_path, hypnogram_path): \n",
    "    '''\n",
    "    Loads EDF EEG recording and corresponding hypnogram \n",
    "    Extracts 30s epochs, labels them, and returns a features df\n",
    "\n",
    "    Returns: \n",
    "        features (pd.DataFrame): Features + newly created 'label' col (sleep stage as str)\n",
    "    '''\n",
    "\n",
    "    raw = mne.io.read_raw_edf(psg_path, preload=True) \n",
    "    raw.set_annotations(mne.read_annotations(hypnogram_path))\n",
    "    raw.pick(['EEG Fpz-Cz']) \n",
    "\n",
    "    events, event_id = mne.events_from_annotations(raw)\n",
    "    epochs = mne.Epochs(raw, events=events, event_id=event_id,\n",
    "                        tmin=0, tmax=30, baseline=None, preload=True)\n",
    "    \n",
    "    # Label mapping (using standardidized strings)\n",
    "    reverse_event_map = {v: k for k, v in event_id.items()} \n",
    "\n",
    "    stage_map = {\n",
    "        'Sleep stage W': 'Wake',\n",
    "        'Sleep stage 1': 'N1',\n",
    "        'Sleep stage 2': 'N2',\n",
    "        'Sleep stage 3': 'N3',\n",
    "        'Sleep stage 4': 'N3',\n",
    "        'Sleep stage R': 'REM'\n",
    "    }\n",
    "\n",
    "    labels = []\n",
    "    for e in epochs.events:\n",
    "        label = stage_map.get(reverse_event_map.get(e[-1]), None) \n",
    "        labels.append(label if label is not None else 'UNKNOWN')\n",
    "\n",
    "    # Filtering unknowns\n",
    "    valid_mask = [label != 'UNKNOWN' for label in labels]\n",
    "    epochs = epochs[valid_mask]\n",
    "    labels = [l for l in labels if l != 'UNKNOWN']\n",
    "\n",
    "    # Feat Extraction\n",
    "    data = epochs.get_data()\n",
    "    sfreq = epochs.info['sfreq'] \n",
    "    psds, freqs = psd_array_welch(data, sfreq=sfreq, fmin=0.5, fmax=40, n_fft=256)\n",
    "\n",
    "    features = pd.DataFrame({\n",
    "        'delta': bandpower(psds, freqs, (0.5, 4)),\n",
    "        'theta': bandpower(psds, freqs, (4, 8)),\n",
    "        'alpha': bandpower(psds, freqs, (8, 13)),\n",
    "        'beta':  bandpower(psds, freqs, (13, 30)),\n",
    "        'label': labels\n",
    "    })\n",
    "\n",
    "    return features\n",
    "\n",
    "def bandpower(psds, freqs, band):\n",
    "    '''\n",
    "    Small hepler for process_edf_pair\n",
    "    Returns mean band power in specified frequency range\n",
    "    '''\n",
    "    idx = (freqs >= band[0]) & (freqs <= band[1])\n",
    "    return psds[:, :, idx].mean(axis=-1).mean(axis=1)\n",
    "\n"
   ]
  },
  {
   "cell_type": "markdown",
   "metadata": {},
   "source": [
    "### Now Loop over all .edf files!"
   ]
  },
  {
   "cell_type": "code",
   "execution_count": 2,
   "metadata": {},
   "outputs": [
    {
     "name": "stdout",
     "output_type": "stream",
     "text": [
      "Found 44 valid PSG-Hypnogram edf pairs\n",
      "🧪 Processing: ST7011J0-PSG.edf & ST7011JP-Hypnogram.edf\n",
      "Extracting EDF parameters from c:\\Users\\andre\\OneDrive\\Desktop\\Code_Projects\\DS_Tutorials\\data\\sleep_waves\\ST7011J0-PSG.edf...\n",
      "EDF file detected\n",
      "Setting channel info structure...\n",
      "Creating raw.info structure...\n",
      "Reading 0 ... 3589999  =      0.000 ... 35899.990 secs...\n"
     ]
    },
    {
     "name": "stderr",
     "output_type": "stream",
     "text": [
      "C:\\Users\\andre\\AppData\\Local\\Temp\\ipykernel_23592\\1452323569.py:16: RuntimeWarning: Channels contain different highpass filters. Highest filter setting will be stored.\n",
      "  raw = mne.io.read_raw_edf(psg_path, preload=True)\n",
      "C:\\Users\\andre\\AppData\\Local\\Temp\\ipykernel_23592\\1452323569.py:16: RuntimeWarning: Channels contain different lowpass filters. Lowest filter setting will be stored.\n",
      "  raw = mne.io.read_raw_edf(psg_path, preload=True)\n"
     ]
    },
    {
     "name": "stdout",
     "output_type": "stream",
     "text": [
      "Used Annotations descriptions: [np.str_('Sleep stage 1'), np.str_('Sleep stage 2'), np.str_('Sleep stage 3'), np.str_('Sleep stage 4'), np.str_('Sleep stage R'), np.str_('Sleep stage W')]\n",
      "Not setting metadata\n",
      "231 matching events found\n",
      "No baseline correction applied\n",
      "0 projection items activated\n",
      "Using data from preloaded Raw for 231 events and 3001 original time points ...\n",
      "0 bad epochs dropped\n",
      "Effective window size : 2.560 (s)\n",
      "\n",
      "✅ Processed: ST7011J0-PSG.edf:231 epochs\n",
      "\n",
      "🧪 Processing: ST7012J0-PSG.edf & ST7012JP-Hypnogram.edf\n",
      "Extracting EDF parameters from c:\\Users\\andre\\OneDrive\\Desktop\\Code_Projects\\DS_Tutorials\\data\\sleep_waves\\ST7012J0-PSG.edf...\n",
      "EDF file detected\n",
      "Setting channel info structure...\n",
      "Creating raw.info structure...\n",
      "Reading 0 ... 3131999  =      0.000 ... 31319.990 secs...\n"
     ]
    },
    {
     "name": "stderr",
     "output_type": "stream",
     "text": [
      "C:\\Users\\andre\\AppData\\Local\\Temp\\ipykernel_23592\\1452323569.py:16: RuntimeWarning: Channels contain different highpass filters. Highest filter setting will be stored.\n",
      "  raw = mne.io.read_raw_edf(psg_path, preload=True)\n",
      "C:\\Users\\andre\\AppData\\Local\\Temp\\ipykernel_23592\\1452323569.py:16: RuntimeWarning: Channels contain different lowpass filters. Lowest filter setting will be stored.\n",
      "  raw = mne.io.read_raw_edf(psg_path, preload=True)\n"
     ]
    },
    {
     "name": "stdout",
     "output_type": "stream",
     "text": [
      "Used Annotations descriptions: [np.str_('Sleep stage 1'), np.str_('Sleep stage 2'), np.str_('Sleep stage 3'), np.str_('Sleep stage 4'), np.str_('Sleep stage R'), np.str_('Sleep stage W')]\n",
      "Not setting metadata\n",
      "173 matching events found\n",
      "No baseline correction applied\n",
      "0 projection items activated\n",
      "Using data from preloaded Raw for 173 events and 3001 original time points ...\n",
      "0 bad epochs dropped\n",
      "Effective window size : 2.560 (s)\n",
      "\n",
      "✅ Processed: ST7012J0-PSG.edf:173 epochs\n",
      "\n",
      "🧪 Processing: ST7021J0-PSG.edf & ST7021JM-Hypnogram.edf\n",
      "Extracting EDF parameters from c:\\Users\\andre\\OneDrive\\Desktop\\Code_Projects\\DS_Tutorials\\data\\sleep_waves\\ST7021J0-PSG.edf...\n",
      "EDF file detected\n",
      "Setting channel info structure...\n",
      "Creating raw.info structure...\n",
      "Reading 0 ... 3059999  =      0.000 ... 30599.990 secs...\n"
     ]
    },
    {
     "name": "stderr",
     "output_type": "stream",
     "text": [
      "C:\\Users\\andre\\AppData\\Local\\Temp\\ipykernel_23592\\1452323569.py:16: RuntimeWarning: Channels contain different highpass filters. Highest filter setting will be stored.\n",
      "  raw = mne.io.read_raw_edf(psg_path, preload=True)\n",
      "C:\\Users\\andre\\AppData\\Local\\Temp\\ipykernel_23592\\1452323569.py:16: RuntimeWarning: Channels contain different lowpass filters. Lowest filter setting will be stored.\n",
      "  raw = mne.io.read_raw_edf(psg_path, preload=True)\n"
     ]
    },
    {
     "name": "stdout",
     "output_type": "stream",
     "text": [
      "Used Annotations descriptions: [np.str_('Sleep stage 1'), np.str_('Sleep stage 2'), np.str_('Sleep stage 3'), np.str_('Sleep stage 4'), np.str_('Sleep stage R'), np.str_('Sleep stage W')]\n",
      "Not setting metadata\n",
      "135 matching events found\n",
      "No baseline correction applied\n",
      "0 projection items activated\n",
      "Using data from preloaded Raw for 135 events and 3001 original time points ...\n",
      "0 bad epochs dropped\n",
      "Effective window size : 2.560 (s)\n",
      "\n",
      "✅ Processed: ST7021J0-PSG.edf:135 epochs\n",
      "\n",
      "🧪 Processing: ST7022J0-PSG.edf & ST7022JM-Hypnogram.edf\n",
      "Extracting EDF parameters from c:\\Users\\andre\\OneDrive\\Desktop\\Code_Projects\\DS_Tutorials\\data\\sleep_waves\\ST7022J0-PSG.edf...\n",
      "EDF file detected\n",
      "Setting channel info structure...\n",
      "Creating raw.info structure...\n",
      "Reading 0 ... 3075999  =      0.000 ... 30759.990 secs...\n"
     ]
    },
    {
     "name": "stderr",
     "output_type": "stream",
     "text": [
      "C:\\Users\\andre\\AppData\\Local\\Temp\\ipykernel_23592\\1452323569.py:16: RuntimeWarning: Channels contain different highpass filters. Highest filter setting will be stored.\n",
      "  raw = mne.io.read_raw_edf(psg_path, preload=True)\n",
      "C:\\Users\\andre\\AppData\\Local\\Temp\\ipykernel_23592\\1452323569.py:16: RuntimeWarning: Channels contain different lowpass filters. Lowest filter setting will be stored.\n",
      "  raw = mne.io.read_raw_edf(psg_path, preload=True)\n"
     ]
    },
    {
     "name": "stdout",
     "output_type": "stream",
     "text": [
      "Used Annotations descriptions: [np.str_('Sleep stage 1'), np.str_('Sleep stage 2'), np.str_('Sleep stage 3'), np.str_('Sleep stage 4'), np.str_('Sleep stage R'), np.str_('Sleep stage W')]\n",
      "Not setting metadata\n",
      "148 matching events found\n",
      "No baseline correction applied\n",
      "0 projection items activated\n",
      "Using data from preloaded Raw for 148 events and 3001 original time points ...\n",
      "0 bad epochs dropped\n",
      "Effective window size : 2.560 (s)\n",
      "\n",
      "✅ Processed: ST7022J0-PSG.edf:148 epochs\n",
      "\n",
      "🧪 Processing: ST7041J0-PSG.edf & ST7041JO-Hypnogram.edf\n",
      "Extracting EDF parameters from c:\\Users\\andre\\OneDrive\\Desktop\\Code_Projects\\DS_Tutorials\\data\\sleep_waves\\ST7041J0-PSG.edf...\n",
      "EDF file detected\n",
      "Setting channel info structure...\n",
      "Creating raw.info structure...\n",
      "Reading 0 ... 3115999  =      0.000 ... 31159.990 secs...\n"
     ]
    },
    {
     "name": "stderr",
     "output_type": "stream",
     "text": [
      "C:\\Users\\andre\\AppData\\Local\\Temp\\ipykernel_23592\\1452323569.py:16: RuntimeWarning: Channels contain different highpass filters. Highest filter setting will be stored.\n",
      "  raw = mne.io.read_raw_edf(psg_path, preload=True)\n",
      "C:\\Users\\andre\\AppData\\Local\\Temp\\ipykernel_23592\\1452323569.py:16: RuntimeWarning: Channels contain different lowpass filters. Lowest filter setting will be stored.\n",
      "  raw = mne.io.read_raw_edf(psg_path, preload=True)\n"
     ]
    },
    {
     "name": "stdout",
     "output_type": "stream",
     "text": [
      "Used Annotations descriptions: [np.str_('Movement time'), np.str_('Sleep stage 1'), np.str_('Sleep stage 2'), np.str_('Sleep stage 3'), np.str_('Sleep stage 4'), np.str_('Sleep stage R'), np.str_('Sleep stage W')]\n",
      "Not setting metadata\n",
      "142 matching events found\n",
      "No baseline correction applied\n",
      "0 projection items activated\n",
      "Using data from preloaded Raw for 142 events and 3001 original time points ...\n",
      "0 bad epochs dropped\n",
      "Effective window size : 2.560 (s)\n",
      "\n",
      "✅ Processed: ST7041J0-PSG.edf:141 epochs\n",
      "\n",
      "🧪 Processing: ST7042J0-PSG.edf & ST7042JO-Hypnogram.edf\n",
      "Extracting EDF parameters from c:\\Users\\andre\\OneDrive\\Desktop\\Code_Projects\\DS_Tutorials\\data\\sleep_waves\\ST7042J0-PSG.edf...\n",
      "EDF file detected\n",
      "Setting channel info structure...\n",
      "Creating raw.info structure...\n",
      "Reading 0 ... 3470999  =      0.000 ... 34709.990 secs...\n"
     ]
    },
    {
     "name": "stderr",
     "output_type": "stream",
     "text": [
      "C:\\Users\\andre\\AppData\\Local\\Temp\\ipykernel_23592\\1452323569.py:16: RuntimeWarning: Channels contain different highpass filters. Highest filter setting will be stored.\n",
      "  raw = mne.io.read_raw_edf(psg_path, preload=True)\n",
      "C:\\Users\\andre\\AppData\\Local\\Temp\\ipykernel_23592\\1452323569.py:16: RuntimeWarning: Channels contain different lowpass filters. Lowest filter setting will be stored.\n",
      "  raw = mne.io.read_raw_edf(psg_path, preload=True)\n"
     ]
    },
    {
     "name": "stdout",
     "output_type": "stream",
     "text": [
      "Used Annotations descriptions: [np.str_('Movement time'), np.str_('Sleep stage 1'), np.str_('Sleep stage 2'), np.str_('Sleep stage 3'), np.str_('Sleep stage 4'), np.str_('Sleep stage R'), np.str_('Sleep stage W')]\n",
      "Not setting metadata\n",
      "138 matching events found\n",
      "No baseline correction applied\n",
      "0 projection items activated\n",
      "Using data from preloaded Raw for 138 events and 3001 original time points ...\n",
      "0 bad epochs dropped\n",
      "Effective window size : 2.560 (s)\n",
      "\n",
      "✅ Processed: ST7042J0-PSG.edf:137 epochs\n",
      "\n",
      "🧪 Processing: ST7051J0-PSG.edf & ST7051JA-Hypnogram.edf\n",
      "Extracting EDF parameters from c:\\Users\\andre\\OneDrive\\Desktop\\Code_Projects\\DS_Tutorials\\data\\sleep_waves\\ST7051J0-PSG.edf...\n",
      "EDF file detected\n",
      "Setting channel info structure...\n",
      "Creating raw.info structure...\n",
      "Reading 0 ... 3219999  =      0.000 ... 32199.990 secs...\n"
     ]
    },
    {
     "name": "stderr",
     "output_type": "stream",
     "text": [
      "C:\\Users\\andre\\AppData\\Local\\Temp\\ipykernel_23592\\1452323569.py:16: RuntimeWarning: Channels contain different highpass filters. Highest filter setting will be stored.\n",
      "  raw = mne.io.read_raw_edf(psg_path, preload=True)\n",
      "C:\\Users\\andre\\AppData\\Local\\Temp\\ipykernel_23592\\1452323569.py:16: RuntimeWarning: Channels contain different lowpass filters. Lowest filter setting will be stored.\n",
      "  raw = mne.io.read_raw_edf(psg_path, preload=True)\n"
     ]
    },
    {
     "name": "stdout",
     "output_type": "stream",
     "text": [
      "Used Annotations descriptions: [np.str_('Sleep stage 1'), np.str_('Sleep stage 2'), np.str_('Sleep stage 3'), np.str_('Sleep stage 4'), np.str_('Sleep stage R'), np.str_('Sleep stage W')]\n",
      "Not setting metadata\n",
      "184 matching events found\n",
      "No baseline correction applied\n",
      "0 projection items activated\n",
      "Using data from preloaded Raw for 184 events and 3001 original time points ...\n",
      "0 bad epochs dropped\n",
      "Effective window size : 2.560 (s)\n",
      "\n",
      "✅ Processed: ST7051J0-PSG.edf:184 epochs\n",
      "\n",
      "🧪 Processing: ST7052J0-PSG.edf & ST7052JA-Hypnogram.edf\n",
      "Extracting EDF parameters from c:\\Users\\andre\\OneDrive\\Desktop\\Code_Projects\\DS_Tutorials\\data\\sleep_waves\\ST7052J0-PSG.edf...\n",
      "EDF file detected\n",
      "Setting channel info structure...\n",
      "Creating raw.info structure...\n",
      "Reading 0 ... 3282999  =      0.000 ... 32829.990 secs...\n"
     ]
    },
    {
     "name": "stderr",
     "output_type": "stream",
     "text": [
      "C:\\Users\\andre\\AppData\\Local\\Temp\\ipykernel_23592\\1452323569.py:16: RuntimeWarning: Channels contain different highpass filters. Highest filter setting will be stored.\n",
      "  raw = mne.io.read_raw_edf(psg_path, preload=True)\n",
      "C:\\Users\\andre\\AppData\\Local\\Temp\\ipykernel_23592\\1452323569.py:16: RuntimeWarning: Channels contain different lowpass filters. Lowest filter setting will be stored.\n",
      "  raw = mne.io.read_raw_edf(psg_path, preload=True)\n"
     ]
    },
    {
     "name": "stdout",
     "output_type": "stream",
     "text": [
      "Used Annotations descriptions: [np.str_('Sleep stage 1'), np.str_('Sleep stage 2'), np.str_('Sleep stage 3'), np.str_('Sleep stage 4'), np.str_('Sleep stage R'), np.str_('Sleep stage W')]\n",
      "Not setting metadata\n",
      "116 matching events found\n",
      "No baseline correction applied\n",
      "0 projection items activated\n",
      "Using data from preloaded Raw for 116 events and 3001 original time points ...\n",
      "0 bad epochs dropped\n",
      "Effective window size : 2.560 (s)\n",
      "\n",
      "✅ Processed: ST7052J0-PSG.edf:116 epochs\n",
      "\n",
      "🧪 Processing: ST7061J0-PSG.edf & ST7061JR-Hypnogram.edf\n",
      "Extracting EDF parameters from c:\\Users\\andre\\OneDrive\\Desktop\\Code_Projects\\DS_Tutorials\\data\\sleep_waves\\ST7061J0-PSG.edf...\n",
      "EDF file detected\n",
      "Setting channel info structure...\n",
      "Creating raw.info structure...\n",
      "Reading 0 ... 3256999  =      0.000 ... 32569.990 secs...\n"
     ]
    },
    {
     "name": "stderr",
     "output_type": "stream",
     "text": [
      "C:\\Users\\andre\\AppData\\Local\\Temp\\ipykernel_23592\\1452323569.py:16: RuntimeWarning: Channels contain different highpass filters. Highest filter setting will be stored.\n",
      "  raw = mne.io.read_raw_edf(psg_path, preload=True)\n",
      "C:\\Users\\andre\\AppData\\Local\\Temp\\ipykernel_23592\\1452323569.py:16: RuntimeWarning: Channels contain different lowpass filters. Lowest filter setting will be stored.\n",
      "  raw = mne.io.read_raw_edf(psg_path, preload=True)\n"
     ]
    },
    {
     "name": "stdout",
     "output_type": "stream",
     "text": [
      "Used Annotations descriptions: [np.str_('Sleep stage 1'), np.str_('Sleep stage 2'), np.str_('Sleep stage 3'), np.str_('Sleep stage R'), np.str_('Sleep stage W')]\n",
      "Not setting metadata\n",
      "83 matching events found\n",
      "No baseline correction applied\n",
      "0 projection items activated\n",
      "Using data from preloaded Raw for 83 events and 3001 original time points ...\n",
      "0 bad epochs dropped\n",
      "Effective window size : 2.560 (s)\n",
      "\n",
      "✅ Processed: ST7061J0-PSG.edf:83 epochs\n",
      "\n",
      "🧪 Processing: ST7062J0-PSG.edf & ST7062JR-Hypnogram.edf\n",
      "Extracting EDF parameters from c:\\Users\\andre\\OneDrive\\Desktop\\Code_Projects\\DS_Tutorials\\data\\sleep_waves\\ST7062J0-PSG.edf...\n",
      "EDF file detected\n",
      "Setting channel info structure...\n",
      "Creating raw.info structure...\n",
      "Reading 0 ... 3277999  =      0.000 ... 32779.990 secs...\n"
     ]
    },
    {
     "name": "stderr",
     "output_type": "stream",
     "text": [
      "C:\\Users\\andre\\AppData\\Local\\Temp\\ipykernel_23592\\1452323569.py:16: RuntimeWarning: Channels contain different highpass filters. Highest filter setting will be stored.\n",
      "  raw = mne.io.read_raw_edf(psg_path, preload=True)\n",
      "C:\\Users\\andre\\AppData\\Local\\Temp\\ipykernel_23592\\1452323569.py:16: RuntimeWarning: Channels contain different lowpass filters. Lowest filter setting will be stored.\n",
      "  raw = mne.io.read_raw_edf(psg_path, preload=True)\n"
     ]
    },
    {
     "name": "stdout",
     "output_type": "stream",
     "text": [
      "Used Annotations descriptions: [np.str_('Sleep stage 1'), np.str_('Sleep stage 2'), np.str_('Sleep stage 3'), np.str_('Sleep stage R'), np.str_('Sleep stage W')]\n",
      "Not setting metadata\n",
      "92 matching events found\n",
      "No baseline correction applied\n",
      "0 projection items activated\n",
      "Using data from preloaded Raw for 92 events and 3001 original time points ...\n",
      "0 bad epochs dropped\n",
      "Effective window size : 2.560 (s)\n",
      "\n",
      "✅ Processed: ST7062J0-PSG.edf:92 epochs\n",
      "\n",
      "🧪 Processing: ST7071J0-PSG.edf & ST7071JA-Hypnogram.edf\n",
      "Extracting EDF parameters from c:\\Users\\andre\\OneDrive\\Desktop\\Code_Projects\\DS_Tutorials\\data\\sleep_waves\\ST7071J0-PSG.edf...\n",
      "EDF file detected\n",
      "Setting channel info structure...\n",
      "Creating raw.info structure...\n",
      "Reading 0 ... 2745999  =      0.000 ... 27459.990 secs...\n"
     ]
    },
    {
     "name": "stderr",
     "output_type": "stream",
     "text": [
      "C:\\Users\\andre\\AppData\\Local\\Temp\\ipykernel_23592\\1452323569.py:16: RuntimeWarning: Channels contain different highpass filters. Highest filter setting will be stored.\n",
      "  raw = mne.io.read_raw_edf(psg_path, preload=True)\n",
      "C:\\Users\\andre\\AppData\\Local\\Temp\\ipykernel_23592\\1452323569.py:16: RuntimeWarning: Channels contain different lowpass filters. Lowest filter setting will be stored.\n",
      "  raw = mne.io.read_raw_edf(psg_path, preload=True)\n"
     ]
    },
    {
     "name": "stdout",
     "output_type": "stream",
     "text": [
      "Used Annotations descriptions: [np.str_('Sleep stage 1'), np.str_('Sleep stage 2'), np.str_('Sleep stage 3'), np.str_('Sleep stage 4'), np.str_('Sleep stage R'), np.str_('Sleep stage W')]\n",
      "Not setting metadata\n",
      "139 matching events found\n",
      "No baseline correction applied\n",
      "0 projection items activated\n",
      "Using data from preloaded Raw for 139 events and 3001 original time points ...\n",
      "0 bad epochs dropped\n",
      "Effective window size : 2.560 (s)\n",
      "\n",
      "✅ Processed: ST7071J0-PSG.edf:139 epochs\n",
      "\n",
      "🧪 Processing: ST7072J0-PSG.edf & ST7072JA-Hypnogram.edf\n",
      "Extracting EDF parameters from c:\\Users\\andre\\OneDrive\\Desktop\\Code_Projects\\DS_Tutorials\\data\\sleep_waves\\ST7072J0-PSG.edf...\n",
      "EDF file detected\n",
      "Setting channel info structure...\n",
      "Creating raw.info structure...\n",
      "Reading 0 ... 2745999  =      0.000 ... 27459.990 secs...\n"
     ]
    },
    {
     "name": "stderr",
     "output_type": "stream",
     "text": [
      "C:\\Users\\andre\\AppData\\Local\\Temp\\ipykernel_23592\\1452323569.py:16: RuntimeWarning: Channels contain different highpass filters. Highest filter setting will be stored.\n",
      "  raw = mne.io.read_raw_edf(psg_path, preload=True)\n",
      "C:\\Users\\andre\\AppData\\Local\\Temp\\ipykernel_23592\\1452323569.py:16: RuntimeWarning: Channels contain different lowpass filters. Lowest filter setting will be stored.\n",
      "  raw = mne.io.read_raw_edf(psg_path, preload=True)\n"
     ]
    },
    {
     "name": "stdout",
     "output_type": "stream",
     "text": [
      "Used Annotations descriptions: [np.str_('Sleep stage 1'), np.str_('Sleep stage 2'), np.str_('Sleep stage 3'), np.str_('Sleep stage 4'), np.str_('Sleep stage R'), np.str_('Sleep stage W')]\n",
      "Not setting metadata\n",
      "161 matching events found\n",
      "No baseline correction applied\n",
      "0 projection items activated\n",
      "Using data from preloaded Raw for 161 events and 3001 original time points ...\n",
      "0 bad epochs dropped\n",
      "Effective window size : 2.560 (s)\n",
      "\n",
      "✅ Processed: ST7072J0-PSG.edf:161 epochs\n",
      "\n",
      "🧪 Processing: ST7081J0-PSG.edf & ST7081JW-Hypnogram.edf\n",
      "Extracting EDF parameters from c:\\Users\\andre\\OneDrive\\Desktop\\Code_Projects\\DS_Tutorials\\data\\sleep_waves\\ST7081J0-PSG.edf...\n",
      "EDF file detected\n",
      "Setting channel info structure...\n",
      "Creating raw.info structure...\n",
      "Reading 0 ... 2899999  =      0.000 ... 28999.990 secs...\n"
     ]
    },
    {
     "name": "stderr",
     "output_type": "stream",
     "text": [
      "C:\\Users\\andre\\AppData\\Local\\Temp\\ipykernel_23592\\1452323569.py:17: RuntimeWarning: Limited 1 annotation(s) that were expanding outside the data range.\n",
      "  raw.set_annotations(mne.read_annotations(hypnogram_path))\n",
      "C:\\Users\\andre\\AppData\\Local\\Temp\\ipykernel_23592\\1452323569.py:16: RuntimeWarning: Channels contain different highpass filters. Highest filter setting will be stored.\n",
      "  raw = mne.io.read_raw_edf(psg_path, preload=True)\n",
      "C:\\Users\\andre\\AppData\\Local\\Temp\\ipykernel_23592\\1452323569.py:16: RuntimeWarning: Channels contain different lowpass filters. Lowest filter setting will be stored.\n",
      "  raw = mne.io.read_raw_edf(psg_path, preload=True)\n"
     ]
    },
    {
     "name": "stdout",
     "output_type": "stream",
     "text": [
      "Used Annotations descriptions: [np.str_('Sleep stage 1'), np.str_('Sleep stage 2'), np.str_('Sleep stage 3'), np.str_('Sleep stage R'), np.str_('Sleep stage W')]\n",
      "Not setting metadata\n",
      "160 matching events found\n",
      "No baseline correction applied\n",
      "0 projection items activated\n",
      "Using data from preloaded Raw for 160 events and 3001 original time points ...\n",
      "0 bad epochs dropped\n",
      "Effective window size : 2.560 (s)\n",
      "\n",
      "✅ Processed: ST7081J0-PSG.edf:160 epochs\n",
      "\n",
      "🧪 Processing: ST7082J0-PSG.edf & ST7082JW-Hypnogram.edf\n",
      "Extracting EDF parameters from c:\\Users\\andre\\OneDrive\\Desktop\\Code_Projects\\DS_Tutorials\\data\\sleep_waves\\ST7082J0-PSG.edf...\n",
      "EDF file detected\n",
      "Setting channel info structure...\n",
      "Creating raw.info structure...\n",
      "Reading 0 ... 2852999  =      0.000 ... 28529.990 secs...\n"
     ]
    },
    {
     "name": "stderr",
     "output_type": "stream",
     "text": [
      "C:\\Users\\andre\\AppData\\Local\\Temp\\ipykernel_23592\\1452323569.py:17: RuntimeWarning: Limited 1 annotation(s) that were expanding outside the data range.\n",
      "  raw.set_annotations(mne.read_annotations(hypnogram_path))\n",
      "C:\\Users\\andre\\AppData\\Local\\Temp\\ipykernel_23592\\1452323569.py:16: RuntimeWarning: Channels contain different highpass filters. Highest filter setting will be stored.\n",
      "  raw = mne.io.read_raw_edf(psg_path, preload=True)\n",
      "C:\\Users\\andre\\AppData\\Local\\Temp\\ipykernel_23592\\1452323569.py:16: RuntimeWarning: Channels contain different lowpass filters. Lowest filter setting will be stored.\n",
      "  raw = mne.io.read_raw_edf(psg_path, preload=True)\n"
     ]
    },
    {
     "name": "stdout",
     "output_type": "stream",
     "text": [
      "Used Annotations descriptions: [np.str_('Sleep stage 1'), np.str_('Sleep stage 2'), np.str_('Sleep stage 3'), np.str_('Sleep stage R'), np.str_('Sleep stage W')]\n",
      "Not setting metadata\n",
      "129 matching events found\n",
      "No baseline correction applied\n",
      "0 projection items activated\n",
      "Using data from preloaded Raw for 129 events and 3001 original time points ...\n",
      "0 bad epochs dropped\n",
      "Effective window size : 2.560 (s)\n",
      "\n",
      "✅ Processed: ST7082J0-PSG.edf:129 epochs\n",
      "\n",
      "🧪 Processing: ST7091J0-PSG.edf & ST7091JE-Hypnogram.edf\n",
      "Extracting EDF parameters from c:\\Users\\andre\\OneDrive\\Desktop\\Code_Projects\\DS_Tutorials\\data\\sleep_waves\\ST7091J0-PSG.edf...\n",
      "EDF file detected\n",
      "Setting channel info structure...\n",
      "Creating raw.info structure...\n",
      "Reading 0 ... 2985999  =      0.000 ... 29859.990 secs...\n"
     ]
    },
    {
     "name": "stderr",
     "output_type": "stream",
     "text": [
      "C:\\Users\\andre\\AppData\\Local\\Temp\\ipykernel_23592\\1452323569.py:16: RuntimeWarning: Channels contain different highpass filters. Highest filter setting will be stored.\n",
      "  raw = mne.io.read_raw_edf(psg_path, preload=True)\n",
      "C:\\Users\\andre\\AppData\\Local\\Temp\\ipykernel_23592\\1452323569.py:16: RuntimeWarning: Channels contain different lowpass filters. Lowest filter setting will be stored.\n",
      "  raw = mne.io.read_raw_edf(psg_path, preload=True)\n"
     ]
    },
    {
     "name": "stdout",
     "output_type": "stream",
     "text": [
      "Used Annotations descriptions: [np.str_('Sleep stage 1'), np.str_('Sleep stage 2'), np.str_('Sleep stage 3'), np.str_('Sleep stage R'), np.str_('Sleep stage W')]\n",
      "Not setting metadata\n",
      "134 matching events found\n",
      "No baseline correction applied\n",
      "0 projection items activated\n",
      "Using data from preloaded Raw for 134 events and 3001 original time points ...\n",
      "0 bad epochs dropped\n",
      "Effective window size : 2.560 (s)\n",
      "\n",
      "✅ Processed: ST7091J0-PSG.edf:134 epochs\n",
      "\n",
      "🧪 Processing: ST7092J0-PSG.edf & ST7092JE-Hypnogram.edf\n",
      "Extracting EDF parameters from c:\\Users\\andre\\OneDrive\\Desktop\\Code_Projects\\DS_Tutorials\\data\\sleep_waves\\ST7092J0-PSG.edf...\n",
      "EDF file detected\n",
      "Setting channel info structure...\n",
      "Creating raw.info structure...\n",
      "Reading 0 ... 2886999  =      0.000 ... 28869.990 secs...\n"
     ]
    },
    {
     "name": "stderr",
     "output_type": "stream",
     "text": [
      "C:\\Users\\andre\\AppData\\Local\\Temp\\ipykernel_23592\\1452323569.py:16: RuntimeWarning: Channels contain different highpass filters. Highest filter setting will be stored.\n",
      "  raw = mne.io.read_raw_edf(psg_path, preload=True)\n",
      "C:\\Users\\andre\\AppData\\Local\\Temp\\ipykernel_23592\\1452323569.py:16: RuntimeWarning: Channels contain different lowpass filters. Lowest filter setting will be stored.\n",
      "  raw = mne.io.read_raw_edf(psg_path, preload=True)\n"
     ]
    },
    {
     "name": "stdout",
     "output_type": "stream",
     "text": [
      "Used Annotations descriptions: [np.str_('Sleep stage 1'), np.str_('Sleep stage 2'), np.str_('Sleep stage 3'), np.str_('Sleep stage R'), np.str_('Sleep stage W')]\n",
      "Not setting metadata\n",
      "190 matching events found\n",
      "No baseline correction applied\n",
      "0 projection items activated\n",
      "Using data from preloaded Raw for 190 events and 3001 original time points ...\n",
      "0 bad epochs dropped\n",
      "Effective window size : 2.560 (s)\n",
      "\n",
      "✅ Processed: ST7092J0-PSG.edf:190 epochs\n",
      "\n",
      "🧪 Processing: ST7101J0-PSG.edf & ST7101JE-Hypnogram.edf\n",
      "Extracting EDF parameters from c:\\Users\\andre\\OneDrive\\Desktop\\Code_Projects\\DS_Tutorials\\data\\sleep_waves\\ST7101J0-PSG.edf...\n",
      "EDF file detected\n",
      "Setting channel info structure...\n",
      "Creating raw.info structure...\n",
      "Reading 0 ... 3295999  =      0.000 ... 32959.990 secs...\n"
     ]
    },
    {
     "name": "stderr",
     "output_type": "stream",
     "text": [
      "C:\\Users\\andre\\AppData\\Local\\Temp\\ipykernel_23592\\1452323569.py:16: RuntimeWarning: Channels contain different highpass filters. Highest filter setting will be stored.\n",
      "  raw = mne.io.read_raw_edf(psg_path, preload=True)\n",
      "C:\\Users\\andre\\AppData\\Local\\Temp\\ipykernel_23592\\1452323569.py:16: RuntimeWarning: Channels contain different lowpass filters. Lowest filter setting will be stored.\n",
      "  raw = mne.io.read_raw_edf(psg_path, preload=True)\n"
     ]
    },
    {
     "name": "stdout",
     "output_type": "stream",
     "text": [
      "Used Annotations descriptions: [np.str_('Movement time'), np.str_('Sleep stage 1'), np.str_('Sleep stage 2'), np.str_('Sleep stage 3'), np.str_('Sleep stage 4'), np.str_('Sleep stage R'), np.str_('Sleep stage W')]\n",
      "Not setting metadata\n",
      "161 matching events found\n",
      "No baseline correction applied\n",
      "0 projection items activated\n",
      "Using data from preloaded Raw for 161 events and 3001 original time points ...\n",
      "0 bad epochs dropped\n",
      "Effective window size : 2.560 (s)\n",
      "\n",
      "✅ Processed: ST7101J0-PSG.edf:155 epochs\n",
      "\n",
      "🧪 Processing: ST7102J0-PSG.edf & ST7102JE-Hypnogram.edf\n",
      "Extracting EDF parameters from c:\\Users\\andre\\OneDrive\\Desktop\\Code_Projects\\DS_Tutorials\\data\\sleep_waves\\ST7102J0-PSG.edf...\n",
      "EDF file detected\n",
      "Setting channel info structure...\n",
      "Creating raw.info structure...\n",
      "Reading 0 ... 2981999  =      0.000 ... 29819.990 secs...\n"
     ]
    },
    {
     "name": "stderr",
     "output_type": "stream",
     "text": [
      "C:\\Users\\andre\\AppData\\Local\\Temp\\ipykernel_23592\\1452323569.py:16: RuntimeWarning: Channels contain different highpass filters. Highest filter setting will be stored.\n",
      "  raw = mne.io.read_raw_edf(psg_path, preload=True)\n",
      "C:\\Users\\andre\\AppData\\Local\\Temp\\ipykernel_23592\\1452323569.py:16: RuntimeWarning: Channels contain different lowpass filters. Lowest filter setting will be stored.\n",
      "  raw = mne.io.read_raw_edf(psg_path, preload=True)\n"
     ]
    },
    {
     "name": "stdout",
     "output_type": "stream",
     "text": [
      "Used Annotations descriptions: [np.str_('Movement time'), np.str_('Sleep stage 1'), np.str_('Sleep stage 2'), np.str_('Sleep stage 3'), np.str_('Sleep stage 4'), np.str_('Sleep stage R'), np.str_('Sleep stage W')]\n",
      "Not setting metadata\n",
      "101 matching events found\n",
      "No baseline correction applied\n",
      "0 projection items activated\n",
      "Using data from preloaded Raw for 101 events and 3001 original time points ...\n",
      "0 bad epochs dropped\n",
      "Effective window size : 2.560 (s)\n",
      "\n",
      "✅ Processed: ST7102J0-PSG.edf:96 epochs\n",
      "\n",
      "🧪 Processing: ST7111J0-PSG.edf & ST7111JE-Hypnogram.edf\n",
      "Extracting EDF parameters from c:\\Users\\andre\\OneDrive\\Desktop\\Code_Projects\\DS_Tutorials\\data\\sleep_waves\\ST7111J0-PSG.edf...\n",
      "EDF file detected\n",
      "Setting channel info structure...\n",
      "Creating raw.info structure...\n",
      "Reading 0 ... 3139999  =      0.000 ... 31399.990 secs...\n"
     ]
    },
    {
     "name": "stderr",
     "output_type": "stream",
     "text": [
      "C:\\Users\\andre\\AppData\\Local\\Temp\\ipykernel_23592\\1452323569.py:16: RuntimeWarning: Channels contain different highpass filters. Highest filter setting will be stored.\n",
      "  raw = mne.io.read_raw_edf(psg_path, preload=True)\n",
      "C:\\Users\\andre\\AppData\\Local\\Temp\\ipykernel_23592\\1452323569.py:16: RuntimeWarning: Channels contain different lowpass filters. Lowest filter setting will be stored.\n",
      "  raw = mne.io.read_raw_edf(psg_path, preload=True)\n"
     ]
    },
    {
     "name": "stdout",
     "output_type": "stream",
     "text": [
      "Used Annotations descriptions: [np.str_('Movement time'), np.str_('Sleep stage 1'), np.str_('Sleep stage 2'), np.str_('Sleep stage 3'), np.str_('Sleep stage 4'), np.str_('Sleep stage R'), np.str_('Sleep stage W')]\n",
      "Not setting metadata\n",
      "83 matching events found\n",
      "No baseline correction applied\n",
      "0 projection items activated\n",
      "Using data from preloaded Raw for 83 events and 3001 original time points ...\n",
      "0 bad epochs dropped\n",
      "Effective window size : 2.560 (s)\n",
      "\n",
      "✅ Processed: ST7111J0-PSG.edf:77 epochs\n",
      "\n",
      "🧪 Processing: ST7112J0-PSG.edf & ST7112JE-Hypnogram.edf\n",
      "Extracting EDF parameters from c:\\Users\\andre\\OneDrive\\Desktop\\Code_Projects\\DS_Tutorials\\data\\sleep_waves\\ST7112J0-PSG.edf...\n",
      "EDF file detected\n",
      "Setting channel info structure...\n",
      "Creating raw.info structure...\n",
      "Reading 0 ... 3066999  =      0.000 ... 30669.990 secs...\n"
     ]
    },
    {
     "name": "stderr",
     "output_type": "stream",
     "text": [
      "C:\\Users\\andre\\AppData\\Local\\Temp\\ipykernel_23592\\1452323569.py:16: RuntimeWarning: Channels contain different highpass filters. Highest filter setting will be stored.\n",
      "  raw = mne.io.read_raw_edf(psg_path, preload=True)\n",
      "C:\\Users\\andre\\AppData\\Local\\Temp\\ipykernel_23592\\1452323569.py:16: RuntimeWarning: Channels contain different lowpass filters. Lowest filter setting will be stored.\n",
      "  raw = mne.io.read_raw_edf(psg_path, preload=True)\n"
     ]
    },
    {
     "name": "stdout",
     "output_type": "stream",
     "text": [
      "Used Annotations descriptions: [np.str_('Movement time'), np.str_('Sleep stage 1'), np.str_('Sleep stage 2'), np.str_('Sleep stage 3'), np.str_('Sleep stage 4'), np.str_('Sleep stage R'), np.str_('Sleep stage W')]\n",
      "Not setting metadata\n",
      "113 matching events found\n",
      "No baseline correction applied\n",
      "0 projection items activated\n",
      "Using data from preloaded Raw for 113 events and 3001 original time points ...\n",
      "0 bad epochs dropped\n",
      "Effective window size : 2.560 (s)\n",
      "\n",
      "✅ Processed: ST7112J0-PSG.edf:105 epochs\n",
      "\n",
      "🧪 Processing: ST7121J0-PSG.edf & ST7121JE-Hypnogram.edf\n",
      "Extracting EDF parameters from c:\\Users\\andre\\OneDrive\\Desktop\\Code_Projects\\DS_Tutorials\\data\\sleep_waves\\ST7121J0-PSG.edf...\n",
      "EDF file detected\n",
      "Setting channel info structure...\n",
      "Creating raw.info structure...\n",
      "Reading 0 ... 3119999  =      0.000 ... 31199.990 secs...\n"
     ]
    },
    {
     "name": "stderr",
     "output_type": "stream",
     "text": [
      "C:\\Users\\andre\\AppData\\Local\\Temp\\ipykernel_23592\\1452323569.py:16: RuntimeWarning: Channels contain different highpass filters. Highest filter setting will be stored.\n",
      "  raw = mne.io.read_raw_edf(psg_path, preload=True)\n",
      "C:\\Users\\andre\\AppData\\Local\\Temp\\ipykernel_23592\\1452323569.py:16: RuntimeWarning: Channels contain different lowpass filters. Lowest filter setting will be stored.\n",
      "  raw = mne.io.read_raw_edf(psg_path, preload=True)\n"
     ]
    },
    {
     "name": "stdout",
     "output_type": "stream",
     "text": [
      "Used Annotations descriptions: [np.str_('Movement time'), np.str_('Sleep stage 1'), np.str_('Sleep stage 2'), np.str_('Sleep stage 3'), np.str_('Sleep stage 4'), np.str_('Sleep stage R'), np.str_('Sleep stage W')]\n",
      "Not setting metadata\n",
      "172 matching events found\n",
      "No baseline correction applied\n",
      "0 projection items activated\n",
      "Using data from preloaded Raw for 172 events and 3001 original time points ...\n",
      "0 bad epochs dropped\n",
      "Effective window size : 2.560 (s)\n",
      "\n",
      "✅ Processed: ST7121J0-PSG.edf:163 epochs\n",
      "\n",
      "🧪 Processing: ST7122J0-PSG.edf & ST7122JE-Hypnogram.edf\n",
      "Extracting EDF parameters from c:\\Users\\andre\\OneDrive\\Desktop\\Code_Projects\\DS_Tutorials\\data\\sleep_waves\\ST7122J0-PSG.edf...\n",
      "EDF file detected\n",
      "Setting channel info structure...\n",
      "Creating raw.info structure...\n",
      "Reading 0 ... 3034999  =      0.000 ... 30349.990 secs...\n"
     ]
    },
    {
     "name": "stderr",
     "output_type": "stream",
     "text": [
      "C:\\Users\\andre\\AppData\\Local\\Temp\\ipykernel_23592\\1452323569.py:16: RuntimeWarning: Channels contain different highpass filters. Highest filter setting will be stored.\n",
      "  raw = mne.io.read_raw_edf(psg_path, preload=True)\n",
      "C:\\Users\\andre\\AppData\\Local\\Temp\\ipykernel_23592\\1452323569.py:16: RuntimeWarning: Channels contain different lowpass filters. Lowest filter setting will be stored.\n",
      "  raw = mne.io.read_raw_edf(psg_path, preload=True)\n"
     ]
    },
    {
     "name": "stdout",
     "output_type": "stream",
     "text": [
      "Used Annotations descriptions: [np.str_('Movement time'), np.str_('Sleep stage 1'), np.str_('Sleep stage 2'), np.str_('Sleep stage 3'), np.str_('Sleep stage 4'), np.str_('Sleep stage R'), np.str_('Sleep stage W')]\n",
      "Not setting metadata\n",
      "99 matching events found\n",
      "No baseline correction applied\n",
      "0 projection items activated\n",
      "Using data from preloaded Raw for 99 events and 3001 original time points ...\n",
      "0 bad epochs dropped\n",
      "Effective window size : 2.560 (s)\n",
      "\n",
      "✅ Processed: ST7122J0-PSG.edf:82 epochs\n",
      "\n",
      "🧪 Processing: ST7131J0-PSG.edf & ST7131JR-Hypnogram.edf\n",
      "Extracting EDF parameters from c:\\Users\\andre\\OneDrive\\Desktop\\Code_Projects\\DS_Tutorials\\data\\sleep_waves\\ST7131J0-PSG.edf...\n",
      "EDF file detected\n",
      "Setting channel info structure...\n",
      "Creating raw.info structure...\n",
      "Reading 0 ... 2765999  =      0.000 ... 27659.990 secs...\n"
     ]
    },
    {
     "name": "stderr",
     "output_type": "stream",
     "text": [
      "C:\\Users\\andre\\AppData\\Local\\Temp\\ipykernel_23592\\1452323569.py:16: RuntimeWarning: Channels contain different highpass filters. Highest filter setting will be stored.\n",
      "  raw = mne.io.read_raw_edf(psg_path, preload=True)\n",
      "C:\\Users\\andre\\AppData\\Local\\Temp\\ipykernel_23592\\1452323569.py:16: RuntimeWarning: Channels contain different lowpass filters. Lowest filter setting will be stored.\n",
      "  raw = mne.io.read_raw_edf(psg_path, preload=True)\n"
     ]
    },
    {
     "name": "stdout",
     "output_type": "stream",
     "text": [
      "Used Annotations descriptions: [np.str_('Sleep stage 1'), np.str_('Sleep stage 2'), np.str_('Sleep stage 3'), np.str_('Sleep stage 4'), np.str_('Sleep stage R'), np.str_('Sleep stage W')]\n",
      "Not setting metadata\n",
      "89 matching events found\n",
      "No baseline correction applied\n",
      "0 projection items activated\n",
      "Using data from preloaded Raw for 89 events and 3001 original time points ...\n",
      "0 bad epochs dropped\n",
      "Effective window size : 2.560 (s)\n",
      "\n",
      "✅ Processed: ST7131J0-PSG.edf:89 epochs\n",
      "\n",
      "🧪 Processing: ST7132J0-PSG.edf & ST7132JR-Hypnogram.edf\n",
      "Extracting EDF parameters from c:\\Users\\andre\\OneDrive\\Desktop\\Code_Projects\\DS_Tutorials\\data\\sleep_waves\\ST7132J0-PSG.edf...\n",
      "EDF file detected\n",
      "Setting channel info structure...\n",
      "Creating raw.info structure...\n",
      "Reading 0 ... 2697999  =      0.000 ... 26979.990 secs...\n"
     ]
    },
    {
     "name": "stderr",
     "output_type": "stream",
     "text": [
      "C:\\Users\\andre\\AppData\\Local\\Temp\\ipykernel_23592\\1452323569.py:16: RuntimeWarning: Channels contain different highpass filters. Highest filter setting will be stored.\n",
      "  raw = mne.io.read_raw_edf(psg_path, preload=True)\n",
      "C:\\Users\\andre\\AppData\\Local\\Temp\\ipykernel_23592\\1452323569.py:16: RuntimeWarning: Channels contain different lowpass filters. Lowest filter setting will be stored.\n",
      "  raw = mne.io.read_raw_edf(psg_path, preload=True)\n"
     ]
    },
    {
     "name": "stdout",
     "output_type": "stream",
     "text": [
      "Used Annotations descriptions: [np.str_('Sleep stage 1'), np.str_('Sleep stage 2'), np.str_('Sleep stage 3'), np.str_('Sleep stage 4'), np.str_('Sleep stage R'), np.str_('Sleep stage W')]\n",
      "Not setting metadata\n",
      "116 matching events found\n",
      "No baseline correction applied\n",
      "0 projection items activated\n",
      "Using data from preloaded Raw for 116 events and 3001 original time points ...\n",
      "0 bad epochs dropped\n",
      "Effective window size : 2.560 (s)\n",
      "\n",
      "✅ Processed: ST7132J0-PSG.edf:116 epochs\n",
      "\n",
      "🧪 Processing: ST7141J0-PSG.edf & ST7141JE-Hypnogram.edf\n",
      "Extracting EDF parameters from c:\\Users\\andre\\OneDrive\\Desktop\\Code_Projects\\DS_Tutorials\\data\\sleep_waves\\ST7141J0-PSG.edf...\n",
      "EDF file detected\n",
      "Setting channel info structure...\n",
      "Creating raw.info structure...\n",
      "Reading 0 ... 2760999  =      0.000 ... 27609.990 secs...\n"
     ]
    },
    {
     "name": "stderr",
     "output_type": "stream",
     "text": [
      "C:\\Users\\andre\\AppData\\Local\\Temp\\ipykernel_23592\\1452323569.py:16: RuntimeWarning: Channels contain different highpass filters. Highest filter setting will be stored.\n",
      "  raw = mne.io.read_raw_edf(psg_path, preload=True)\n",
      "C:\\Users\\andre\\AppData\\Local\\Temp\\ipykernel_23592\\1452323569.py:16: RuntimeWarning: Channels contain different lowpass filters. Lowest filter setting will be stored.\n",
      "  raw = mne.io.read_raw_edf(psg_path, preload=True)\n"
     ]
    },
    {
     "name": "stdout",
     "output_type": "stream",
     "text": [
      "Used Annotations descriptions: [np.str_('Movement time'), np.str_('Sleep stage 1'), np.str_('Sleep stage 2'), np.str_('Sleep stage 3'), np.str_('Sleep stage 4'), np.str_('Sleep stage R'), np.str_('Sleep stage W')]\n",
      "Not setting metadata\n",
      "127 matching events found\n",
      "No baseline correction applied\n",
      "0 projection items activated\n",
      "Using data from preloaded Raw for 127 events and 3001 original time points ...\n",
      "0 bad epochs dropped\n",
      "Effective window size : 2.560 (s)\n",
      "\n",
      "✅ Processed: ST7141J0-PSG.edf:123 epochs\n",
      "\n",
      "🧪 Processing: ST7142J0-PSG.edf & ST7142JE-Hypnogram.edf\n",
      "Extracting EDF parameters from c:\\Users\\andre\\OneDrive\\Desktop\\Code_Projects\\DS_Tutorials\\data\\sleep_waves\\ST7142J0-PSG.edf...\n",
      "EDF file detected\n",
      "Setting channel info structure...\n",
      "Creating raw.info structure...\n",
      "Reading 0 ... 2750999  =      0.000 ... 27509.990 secs...\n"
     ]
    },
    {
     "name": "stderr",
     "output_type": "stream",
     "text": [
      "C:\\Users\\andre\\AppData\\Local\\Temp\\ipykernel_23592\\1452323569.py:16: RuntimeWarning: Channels contain different highpass filters. Highest filter setting will be stored.\n",
      "  raw = mne.io.read_raw_edf(psg_path, preload=True)\n",
      "C:\\Users\\andre\\AppData\\Local\\Temp\\ipykernel_23592\\1452323569.py:16: RuntimeWarning: Channels contain different lowpass filters. Lowest filter setting will be stored.\n",
      "  raw = mne.io.read_raw_edf(psg_path, preload=True)\n"
     ]
    },
    {
     "name": "stdout",
     "output_type": "stream",
     "text": [
      "Used Annotations descriptions: [np.str_('Movement time'), np.str_('Sleep stage 1'), np.str_('Sleep stage 2'), np.str_('Sleep stage 3'), np.str_('Sleep stage 4'), np.str_('Sleep stage R'), np.str_('Sleep stage W')]\n",
      "Not setting metadata\n",
      "91 matching events found\n",
      "No baseline correction applied\n",
      "0 projection items activated\n",
      "Using data from preloaded Raw for 91 events and 3001 original time points ...\n",
      "0 bad epochs dropped\n",
      "Effective window size : 2.560 (s)\n",
      "\n",
      "✅ Processed: ST7142J0-PSG.edf:82 epochs\n",
      "\n",
      "🧪 Processing: ST7151J0-PSG.edf & ST7151JA-Hypnogram.edf\n",
      "Extracting EDF parameters from c:\\Users\\andre\\OneDrive\\Desktop\\Code_Projects\\DS_Tutorials\\data\\sleep_waves\\ST7151J0-PSG.edf...\n",
      "EDF file detected\n",
      "Setting channel info structure...\n",
      "Creating raw.info structure...\n",
      "Reading 0 ... 3850999  =      0.000 ... 38509.990 secs...\n"
     ]
    },
    {
     "name": "stderr",
     "output_type": "stream",
     "text": [
      "C:\\Users\\andre\\AppData\\Local\\Temp\\ipykernel_23592\\1452323569.py:16: RuntimeWarning: Channels contain different highpass filters. Highest filter setting will be stored.\n",
      "  raw = mne.io.read_raw_edf(psg_path, preload=True)\n",
      "C:\\Users\\andre\\AppData\\Local\\Temp\\ipykernel_23592\\1452323569.py:16: RuntimeWarning: Channels contain different lowpass filters. Lowest filter setting will be stored.\n",
      "  raw = mne.io.read_raw_edf(psg_path, preload=True)\n"
     ]
    },
    {
     "name": "stdout",
     "output_type": "stream",
     "text": [
      "Used Annotations descriptions: [np.str_('Sleep stage 1'), np.str_('Sleep stage 2'), np.str_('Sleep stage 3'), np.str_('Sleep stage 4'), np.str_('Sleep stage R'), np.str_('Sleep stage W')]\n",
      "Not setting metadata\n",
      "178 matching events found\n",
      "No baseline correction applied\n",
      "0 projection items activated\n",
      "Using data from preloaded Raw for 178 events and 3001 original time points ...\n",
      "0 bad epochs dropped\n",
      "Effective window size : 2.560 (s)\n",
      "\n",
      "✅ Processed: ST7151J0-PSG.edf:178 epochs\n",
      "\n",
      "🧪 Processing: ST7152J0-PSG.edf & ST7152JA-Hypnogram.edf\n",
      "Extracting EDF parameters from c:\\Users\\andre\\OneDrive\\Desktop\\Code_Projects\\DS_Tutorials\\data\\sleep_waves\\ST7152J0-PSG.edf...\n",
      "EDF file detected\n",
      "Setting channel info structure...\n",
      "Creating raw.info structure...\n",
      "Reading 0 ... 3224999  =      0.000 ... 32249.990 secs...\n"
     ]
    },
    {
     "name": "stderr",
     "output_type": "stream",
     "text": [
      "C:\\Users\\andre\\AppData\\Local\\Temp\\ipykernel_23592\\1452323569.py:16: RuntimeWarning: Channels contain different highpass filters. Highest filter setting will be stored.\n",
      "  raw = mne.io.read_raw_edf(psg_path, preload=True)\n",
      "C:\\Users\\andre\\AppData\\Local\\Temp\\ipykernel_23592\\1452323569.py:16: RuntimeWarning: Channels contain different lowpass filters. Lowest filter setting will be stored.\n",
      "  raw = mne.io.read_raw_edf(psg_path, preload=True)\n"
     ]
    },
    {
     "name": "stdout",
     "output_type": "stream",
     "text": [
      "Used Annotations descriptions: [np.str_('Sleep stage 1'), np.str_('Sleep stage 2'), np.str_('Sleep stage 3'), np.str_('Sleep stage 4'), np.str_('Sleep stage R'), np.str_('Sleep stage W')]\n",
      "Not setting metadata\n",
      "167 matching events found\n",
      "No baseline correction applied\n",
      "0 projection items activated\n",
      "Using data from preloaded Raw for 167 events and 3001 original time points ...\n",
      "0 bad epochs dropped\n",
      "Effective window size : 2.560 (s)\n",
      "\n",
      "✅ Processed: ST7152J0-PSG.edf:167 epochs\n",
      "\n",
      "🧪 Processing: ST7161J0-PSG.edf & ST7161JM-Hypnogram.edf\n",
      "Extracting EDF parameters from c:\\Users\\andre\\OneDrive\\Desktop\\Code_Projects\\DS_Tutorials\\data\\sleep_waves\\ST7161J0-PSG.edf...\n",
      "EDF file detected\n",
      "Setting channel info structure...\n",
      "Creating raw.info structure...\n",
      "Reading 0 ... 3329999  =      0.000 ... 33299.990 secs...\n"
     ]
    },
    {
     "name": "stderr",
     "output_type": "stream",
     "text": [
      "C:\\Users\\andre\\AppData\\Local\\Temp\\ipykernel_23592\\1452323569.py:16: RuntimeWarning: Channels contain different highpass filters. Highest filter setting will be stored.\n",
      "  raw = mne.io.read_raw_edf(psg_path, preload=True)\n",
      "C:\\Users\\andre\\AppData\\Local\\Temp\\ipykernel_23592\\1452323569.py:16: RuntimeWarning: Channels contain different lowpass filters. Lowest filter setting will be stored.\n",
      "  raw = mne.io.read_raw_edf(psg_path, preload=True)\n"
     ]
    },
    {
     "name": "stdout",
     "output_type": "stream",
     "text": [
      "Used Annotations descriptions: [np.str_('Sleep stage 1'), np.str_('Sleep stage 2'), np.str_('Sleep stage 3'), np.str_('Sleep stage 4'), np.str_('Sleep stage R'), np.str_('Sleep stage W')]\n",
      "Not setting metadata\n",
      "148 matching events found\n",
      "No baseline correction applied\n",
      "0 projection items activated\n",
      "Using data from preloaded Raw for 148 events and 3001 original time points ...\n",
      "0 bad epochs dropped\n",
      "Effective window size : 2.560 (s)\n",
      "\n",
      "✅ Processed: ST7161J0-PSG.edf:148 epochs\n",
      "\n",
      "🧪 Processing: ST7162J0-PSG.edf & ST7162JM-Hypnogram.edf\n",
      "Extracting EDF parameters from c:\\Users\\andre\\OneDrive\\Desktop\\Code_Projects\\DS_Tutorials\\data\\sleep_waves\\ST7162J0-PSG.edf...\n",
      "EDF file detected\n",
      "Setting channel info structure...\n",
      "Creating raw.info structure...\n",
      "Reading 0 ... 3003999  =      0.000 ... 30039.990 secs...\n"
     ]
    },
    {
     "name": "stderr",
     "output_type": "stream",
     "text": [
      "C:\\Users\\andre\\AppData\\Local\\Temp\\ipykernel_23592\\1452323569.py:16: RuntimeWarning: Channels contain different highpass filters. Highest filter setting will be stored.\n",
      "  raw = mne.io.read_raw_edf(psg_path, preload=True)\n",
      "C:\\Users\\andre\\AppData\\Local\\Temp\\ipykernel_23592\\1452323569.py:16: RuntimeWarning: Channels contain different lowpass filters. Lowest filter setting will be stored.\n",
      "  raw = mne.io.read_raw_edf(psg_path, preload=True)\n"
     ]
    },
    {
     "name": "stdout",
     "output_type": "stream",
     "text": [
      "Used Annotations descriptions: [np.str_('Sleep stage 1'), np.str_('Sleep stage 2'), np.str_('Sleep stage 3'), np.str_('Sleep stage 4'), np.str_('Sleep stage R'), np.str_('Sleep stage W')]\n",
      "Not setting metadata\n",
      "180 matching events found\n",
      "No baseline correction applied\n",
      "0 projection items activated\n",
      "Using data from preloaded Raw for 180 events and 3001 original time points ...\n",
      "0 bad epochs dropped\n",
      "Effective window size : 2.560 (s)\n",
      "\n",
      "✅ Processed: ST7162J0-PSG.edf:180 epochs\n",
      "\n",
      "🧪 Processing: ST7171J0-PSG.edf & ST7171JA-Hypnogram.edf\n",
      "Extracting EDF parameters from c:\\Users\\andre\\OneDrive\\Desktop\\Code_Projects\\DS_Tutorials\\data\\sleep_waves\\ST7171J0-PSG.edf...\n",
      "EDF file detected\n",
      "Setting channel info structure...\n",
      "Creating raw.info structure...\n",
      "Reading 0 ... 2892999  =      0.000 ... 28929.990 secs...\n"
     ]
    },
    {
     "name": "stderr",
     "output_type": "stream",
     "text": [
      "C:\\Users\\andre\\AppData\\Local\\Temp\\ipykernel_23592\\1452323569.py:16: RuntimeWarning: Channels contain different highpass filters. Highest filter setting will be stored.\n",
      "  raw = mne.io.read_raw_edf(psg_path, preload=True)\n",
      "C:\\Users\\andre\\AppData\\Local\\Temp\\ipykernel_23592\\1452323569.py:16: RuntimeWarning: Channels contain different lowpass filters. Lowest filter setting will be stored.\n",
      "  raw = mne.io.read_raw_edf(psg_path, preload=True)\n"
     ]
    },
    {
     "name": "stdout",
     "output_type": "stream",
     "text": [
      "Used Annotations descriptions: [np.str_('Sleep stage 1'), np.str_('Sleep stage 2'), np.str_('Sleep stage 3'), np.str_('Sleep stage 4'), np.str_('Sleep stage R'), np.str_('Sleep stage W')]\n",
      "Not setting metadata\n",
      "194 matching events found\n",
      "No baseline correction applied\n",
      "0 projection items activated\n",
      "Using data from preloaded Raw for 194 events and 3001 original time points ...\n",
      "0 bad epochs dropped\n",
      "Effective window size : 2.560 (s)\n",
      "\n",
      "✅ Processed: ST7171J0-PSG.edf:194 epochs\n",
      "\n",
      "🧪 Processing: ST7172J0-PSG.edf & ST7172JA-Hypnogram.edf\n",
      "Extracting EDF parameters from c:\\Users\\andre\\OneDrive\\Desktop\\Code_Projects\\DS_Tutorials\\data\\sleep_waves\\ST7172J0-PSG.edf...\n",
      "EDF file detected\n",
      "Setting channel info structure...\n",
      "Creating raw.info structure...\n",
      "Reading 0 ... 3019999  =      0.000 ... 30199.990 secs...\n"
     ]
    },
    {
     "name": "stderr",
     "output_type": "stream",
     "text": [
      "C:\\Users\\andre\\AppData\\Local\\Temp\\ipykernel_23592\\1452323569.py:17: RuntimeWarning: Limited 1 annotation(s) that were expanding outside the data range.\n",
      "  raw.set_annotations(mne.read_annotations(hypnogram_path))\n",
      "C:\\Users\\andre\\AppData\\Local\\Temp\\ipykernel_23592\\1452323569.py:16: RuntimeWarning: Channels contain different highpass filters. Highest filter setting will be stored.\n",
      "  raw = mne.io.read_raw_edf(psg_path, preload=True)\n",
      "C:\\Users\\andre\\AppData\\Local\\Temp\\ipykernel_23592\\1452323569.py:16: RuntimeWarning: Channels contain different lowpass filters. Lowest filter setting will be stored.\n",
      "  raw = mne.io.read_raw_edf(psg_path, preload=True)\n"
     ]
    },
    {
     "name": "stdout",
     "output_type": "stream",
     "text": [
      "Used Annotations descriptions: [np.str_('Sleep stage 1'), np.str_('Sleep stage 2'), np.str_('Sleep stage 3'), np.str_('Sleep stage 4'), np.str_('Sleep stage R'), np.str_('Sleep stage W')]\n",
      "Not setting metadata\n",
      "199 matching events found\n",
      "No baseline correction applied\n",
      "0 projection items activated\n",
      "Using data from preloaded Raw for 199 events and 3001 original time points ...\n",
      "0 bad epochs dropped\n",
      "Effective window size : 2.560 (s)\n",
      "\n",
      "✅ Processed: ST7172J0-PSG.edf:199 epochs\n",
      "\n",
      "🧪 Processing: ST7181J0-PSG.edf & ST7181JR-Hypnogram.edf\n",
      "Extracting EDF parameters from c:\\Users\\andre\\OneDrive\\Desktop\\Code_Projects\\DS_Tutorials\\data\\sleep_waves\\ST7181J0-PSG.edf...\n",
      "EDF file detected\n",
      "Setting channel info structure...\n",
      "Creating raw.info structure...\n",
      "Reading 0 ... 3087999  =      0.000 ... 30879.990 secs...\n"
     ]
    },
    {
     "name": "stderr",
     "output_type": "stream",
     "text": [
      "C:\\Users\\andre\\AppData\\Local\\Temp\\ipykernel_23592\\1452323569.py:17: RuntimeWarning: Limited 1 annotation(s) that were expanding outside the data range.\n",
      "  raw.set_annotations(mne.read_annotations(hypnogram_path))\n",
      "C:\\Users\\andre\\AppData\\Local\\Temp\\ipykernel_23592\\1452323569.py:16: RuntimeWarning: Channels contain different highpass filters. Highest filter setting will be stored.\n",
      "  raw = mne.io.read_raw_edf(psg_path, preload=True)\n",
      "C:\\Users\\andre\\AppData\\Local\\Temp\\ipykernel_23592\\1452323569.py:16: RuntimeWarning: Channels contain different lowpass filters. Lowest filter setting will be stored.\n",
      "  raw = mne.io.read_raw_edf(psg_path, preload=True)\n"
     ]
    },
    {
     "name": "stdout",
     "output_type": "stream",
     "text": [
      "Used Annotations descriptions: [np.str_('Sleep stage 1'), np.str_('Sleep stage 2'), np.str_('Sleep stage 3'), np.str_('Sleep stage R'), np.str_('Sleep stage W')]\n",
      "Not setting metadata\n",
      "101 matching events found\n",
      "No baseline correction applied\n",
      "0 projection items activated\n",
      "Using data from preloaded Raw for 101 events and 3001 original time points ...\n",
      "0 bad epochs dropped\n",
      "Effective window size : 2.560 (s)\n",
      "\n",
      "✅ Processed: ST7181J0-PSG.edf:101 epochs\n",
      "\n",
      "🧪 Processing: ST7182J0-PSG.edf & ST7182JR-Hypnogram.edf\n",
      "Extracting EDF parameters from c:\\Users\\andre\\OneDrive\\Desktop\\Code_Projects\\DS_Tutorials\\data\\sleep_waves\\ST7182J0-PSG.edf...\n",
      "EDF file detected\n",
      "Setting channel info structure...\n",
      "Creating raw.info structure...\n",
      "Reading 0 ... 3393999  =      0.000 ... 33939.990 secs...\n"
     ]
    },
    {
     "name": "stderr",
     "output_type": "stream",
     "text": [
      "C:\\Users\\andre\\AppData\\Local\\Temp\\ipykernel_23592\\1452323569.py:16: RuntimeWarning: Channels contain different highpass filters. Highest filter setting will be stored.\n",
      "  raw = mne.io.read_raw_edf(psg_path, preload=True)\n",
      "C:\\Users\\andre\\AppData\\Local\\Temp\\ipykernel_23592\\1452323569.py:16: RuntimeWarning: Channels contain different lowpass filters. Lowest filter setting will be stored.\n",
      "  raw = mne.io.read_raw_edf(psg_path, preload=True)\n"
     ]
    },
    {
     "name": "stdout",
     "output_type": "stream",
     "text": [
      "Used Annotations descriptions: [np.str_('Sleep stage 1'), np.str_('Sleep stage 2'), np.str_('Sleep stage 3'), np.str_('Sleep stage 4'), np.str_('Sleep stage R'), np.str_('Sleep stage W')]\n",
      "Not setting metadata\n",
      "109 matching events found\n",
      "No baseline correction applied\n",
      "0 projection items activated\n",
      "Using data from preloaded Raw for 109 events and 3001 original time points ...\n",
      "0 bad epochs dropped\n",
      "Effective window size : 2.560 (s)\n",
      "\n",
      "✅ Processed: ST7182J0-PSG.edf:109 epochs\n",
      "\n",
      "🧪 Processing: ST7191J0-PSG.edf & ST7191JR-Hypnogram.edf\n",
      "Extracting EDF parameters from c:\\Users\\andre\\OneDrive\\Desktop\\Code_Projects\\DS_Tutorials\\data\\sleep_waves\\ST7191J0-PSG.edf...\n",
      "EDF file detected\n",
      "Setting channel info structure...\n",
      "Creating raw.info structure...\n",
      "Reading 0 ... 3378999  =      0.000 ... 33789.990 secs...\n"
     ]
    },
    {
     "name": "stderr",
     "output_type": "stream",
     "text": [
      "C:\\Users\\andre\\AppData\\Local\\Temp\\ipykernel_23592\\1452323569.py:16: RuntimeWarning: Channels contain different highpass filters. Highest filter setting will be stored.\n",
      "  raw = mne.io.read_raw_edf(psg_path, preload=True)\n",
      "C:\\Users\\andre\\AppData\\Local\\Temp\\ipykernel_23592\\1452323569.py:16: RuntimeWarning: Channels contain different lowpass filters. Lowest filter setting will be stored.\n",
      "  raw = mne.io.read_raw_edf(psg_path, preload=True)\n"
     ]
    },
    {
     "name": "stdout",
     "output_type": "stream",
     "text": [
      "Used Annotations descriptions: [np.str_('Sleep stage 1'), np.str_('Sleep stage 2'), np.str_('Sleep stage 3'), np.str_('Sleep stage 4'), np.str_('Sleep stage R'), np.str_('Sleep stage W')]\n",
      "Not setting metadata\n",
      "148 matching events found\n",
      "No baseline correction applied\n",
      "0 projection items activated\n",
      "Using data from preloaded Raw for 148 events and 3001 original time points ...\n",
      "0 bad epochs dropped\n",
      "Effective window size : 2.560 (s)\n",
      "\n",
      "✅ Processed: ST7191J0-PSG.edf:148 epochs\n",
      "\n",
      "🧪 Processing: ST7192J0-PSG.edf & ST7192JR-Hypnogram.edf\n",
      "Extracting EDF parameters from c:\\Users\\andre\\OneDrive\\Desktop\\Code_Projects\\DS_Tutorials\\data\\sleep_waves\\ST7192J0-PSG.edf...\n",
      "EDF file detected\n",
      "Setting channel info structure...\n",
      "Creating raw.info structure...\n",
      "Reading 0 ... 3289999  =      0.000 ... 32899.990 secs...\n"
     ]
    },
    {
     "name": "stderr",
     "output_type": "stream",
     "text": [
      "C:\\Users\\andre\\AppData\\Local\\Temp\\ipykernel_23592\\1452323569.py:16: RuntimeWarning: Channels contain different highpass filters. Highest filter setting will be stored.\n",
      "  raw = mne.io.read_raw_edf(psg_path, preload=True)\n",
      "C:\\Users\\andre\\AppData\\Local\\Temp\\ipykernel_23592\\1452323569.py:16: RuntimeWarning: Channels contain different lowpass filters. Lowest filter setting will be stored.\n",
      "  raw = mne.io.read_raw_edf(psg_path, preload=True)\n"
     ]
    },
    {
     "name": "stdout",
     "output_type": "stream",
     "text": [
      "Used Annotations descriptions: [np.str_('Sleep stage 1'), np.str_('Sleep stage 2'), np.str_('Sleep stage 3'), np.str_('Sleep stage 4'), np.str_('Sleep stage R'), np.str_('Sleep stage W')]\n",
      "Not setting metadata\n",
      "85 matching events found\n",
      "No baseline correction applied\n",
      "0 projection items activated\n",
      "Using data from preloaded Raw for 85 events and 3001 original time points ...\n",
      "0 bad epochs dropped\n",
      "Effective window size : 2.560 (s)\n",
      "\n",
      "✅ Processed: ST7192J0-PSG.edf:85 epochs\n",
      "\n",
      "🧪 Processing: ST7201J0-PSG.edf & ST7201JO-Hypnogram.edf\n",
      "Extracting EDF parameters from c:\\Users\\andre\\OneDrive\\Desktop\\Code_Projects\\DS_Tutorials\\data\\sleep_waves\\ST7201J0-PSG.edf...\n",
      "EDF file detected\n",
      "Setting channel info structure...\n",
      "Creating raw.info structure...\n",
      "Reading 0 ... 2911999  =      0.000 ... 29119.990 secs...\n"
     ]
    },
    {
     "name": "stderr",
     "output_type": "stream",
     "text": [
      "C:\\Users\\andre\\AppData\\Local\\Temp\\ipykernel_23592\\1452323569.py:16: RuntimeWarning: Channels contain different highpass filters. Highest filter setting will be stored.\n",
      "  raw = mne.io.read_raw_edf(psg_path, preload=True)\n",
      "C:\\Users\\andre\\AppData\\Local\\Temp\\ipykernel_23592\\1452323569.py:16: RuntimeWarning: Channels contain different lowpass filters. Lowest filter setting will be stored.\n",
      "  raw = mne.io.read_raw_edf(psg_path, preload=True)\n"
     ]
    },
    {
     "name": "stdout",
     "output_type": "stream",
     "text": [
      "Used Annotations descriptions: [np.str_('Movement time'), np.str_('Sleep stage 1'), np.str_('Sleep stage 2'), np.str_('Sleep stage 3'), np.str_('Sleep stage 4'), np.str_('Sleep stage R'), np.str_('Sleep stage W')]\n",
      "Not setting metadata\n",
      "137 matching events found\n",
      "No baseline correction applied\n",
      "0 projection items activated\n",
      "Using data from preloaded Raw for 137 events and 3001 original time points ...\n",
      "0 bad epochs dropped\n",
      "Effective window size : 2.560 (s)\n",
      "\n",
      "✅ Processed: ST7201J0-PSG.edf:135 epochs\n",
      "\n",
      "🧪 Processing: ST7202J0-PSG.edf & ST7202JO-Hypnogram.edf\n",
      "Extracting EDF parameters from c:\\Users\\andre\\OneDrive\\Desktop\\Code_Projects\\DS_Tutorials\\data\\sleep_waves\\ST7202J0-PSG.edf...\n",
      "EDF file detected\n",
      "Setting channel info structure...\n",
      "Creating raw.info structure...\n",
      "Reading 0 ... 2999999  =      0.000 ... 29999.990 secs...\n"
     ]
    },
    {
     "name": "stderr",
     "output_type": "stream",
     "text": [
      "C:\\Users\\andre\\AppData\\Local\\Temp\\ipykernel_23592\\1452323569.py:17: RuntimeWarning: Limited 1 annotation(s) that were expanding outside the data range.\n",
      "  raw.set_annotations(mne.read_annotations(hypnogram_path))\n",
      "C:\\Users\\andre\\AppData\\Local\\Temp\\ipykernel_23592\\1452323569.py:16: RuntimeWarning: Channels contain different highpass filters. Highest filter setting will be stored.\n",
      "  raw = mne.io.read_raw_edf(psg_path, preload=True)\n",
      "C:\\Users\\andre\\AppData\\Local\\Temp\\ipykernel_23592\\1452323569.py:16: RuntimeWarning: Channels contain different lowpass filters. Lowest filter setting will be stored.\n",
      "  raw = mne.io.read_raw_edf(psg_path, preload=True)\n"
     ]
    },
    {
     "name": "stdout",
     "output_type": "stream",
     "text": [
      "Used Annotations descriptions: [np.str_('Movement time'), np.str_('Sleep stage 1'), np.str_('Sleep stage 2'), np.str_('Sleep stage 3'), np.str_('Sleep stage R'), np.str_('Sleep stage W')]\n",
      "Not setting metadata\n",
      "121 matching events found\n",
      "No baseline correction applied\n",
      "0 projection items activated\n",
      "Using data from preloaded Raw for 121 events and 3001 original time points ...\n",
      "0 bad epochs dropped\n",
      "Effective window size : 2.560 (s)\n",
      "\n",
      "✅ Processed: ST7202J0-PSG.edf:120 epochs\n",
      "\n",
      "🧪 Processing: ST7211J0-PSG.edf & ST7211JJ-Hypnogram.edf\n",
      "Extracting EDF parameters from c:\\Users\\andre\\OneDrive\\Desktop\\Code_Projects\\DS_Tutorials\\data\\sleep_waves\\ST7211J0-PSG.edf...\n",
      "EDF file detected\n",
      "Setting channel info structure...\n",
      "Creating raw.info structure...\n",
      "Reading 0 ... 3236999  =      0.000 ... 32369.990 secs...\n"
     ]
    },
    {
     "name": "stderr",
     "output_type": "stream",
     "text": [
      "C:\\Users\\andre\\AppData\\Local\\Temp\\ipykernel_23592\\1452323569.py:16: RuntimeWarning: Channels contain different highpass filters. Highest filter setting will be stored.\n",
      "  raw = mne.io.read_raw_edf(psg_path, preload=True)\n",
      "C:\\Users\\andre\\AppData\\Local\\Temp\\ipykernel_23592\\1452323569.py:16: RuntimeWarning: Channels contain different lowpass filters. Lowest filter setting will be stored.\n",
      "  raw = mne.io.read_raw_edf(psg_path, preload=True)\n"
     ]
    },
    {
     "name": "stdout",
     "output_type": "stream",
     "text": [
      "Used Annotations descriptions: [np.str_('Sleep stage 1'), np.str_('Sleep stage 2'), np.str_('Sleep stage 3'), np.str_('Sleep stage 4'), np.str_('Sleep stage R'), np.str_('Sleep stage W')]\n",
      "Not setting metadata\n",
      "166 matching events found\n",
      "No baseline correction applied\n",
      "0 projection items activated\n",
      "Using data from preloaded Raw for 166 events and 3001 original time points ...\n",
      "0 bad epochs dropped\n",
      "Effective window size : 2.560 (s)\n",
      "\n",
      "✅ Processed: ST7211J0-PSG.edf:166 epochs\n",
      "\n",
      "🧪 Processing: ST7212J0-PSG.edf & ST7212JJ-Hypnogram.edf\n",
      "Extracting EDF parameters from c:\\Users\\andre\\OneDrive\\Desktop\\Code_Projects\\DS_Tutorials\\data\\sleep_waves\\ST7212J0-PSG.edf...\n",
      "EDF file detected\n",
      "Setting channel info structure...\n",
      "Creating raw.info structure...\n",
      "Reading 0 ... 3161999  =      0.000 ... 31619.990 secs...\n"
     ]
    },
    {
     "name": "stderr",
     "output_type": "stream",
     "text": [
      "C:\\Users\\andre\\AppData\\Local\\Temp\\ipykernel_23592\\1452323569.py:16: RuntimeWarning: Channels contain different highpass filters. Highest filter setting will be stored.\n",
      "  raw = mne.io.read_raw_edf(psg_path, preload=True)\n",
      "C:\\Users\\andre\\AppData\\Local\\Temp\\ipykernel_23592\\1452323569.py:16: RuntimeWarning: Channels contain different lowpass filters. Lowest filter setting will be stored.\n",
      "  raw = mne.io.read_raw_edf(psg_path, preload=True)\n"
     ]
    },
    {
     "name": "stdout",
     "output_type": "stream",
     "text": [
      "Used Annotations descriptions: [np.str_('Sleep stage 1'), np.str_('Sleep stage 2'), np.str_('Sleep stage 3'), np.str_('Sleep stage 4'), np.str_('Sleep stage R'), np.str_('Sleep stage W')]\n",
      "Not setting metadata\n",
      "142 matching events found\n",
      "No baseline correction applied\n",
      "0 projection items activated\n",
      "Using data from preloaded Raw for 142 events and 3001 original time points ...\n",
      "0 bad epochs dropped\n",
      "Effective window size : 2.560 (s)\n",
      "\n",
      "✅ Processed: ST7212J0-PSG.edf:142 epochs\n",
      "\n",
      "🧪 Processing: ST7221J0-PSG.edf & ST7221JA-Hypnogram.edf\n",
      "Extracting EDF parameters from c:\\Users\\andre\\OneDrive\\Desktop\\Code_Projects\\DS_Tutorials\\data\\sleep_waves\\ST7221J0-PSG.edf...\n",
      "EDF file detected\n",
      "Setting channel info structure...\n",
      "Creating raw.info structure...\n",
      "Reading 0 ... 3295999  =      0.000 ... 32959.990 secs...\n"
     ]
    },
    {
     "name": "stderr",
     "output_type": "stream",
     "text": [
      "C:\\Users\\andre\\AppData\\Local\\Temp\\ipykernel_23592\\1452323569.py:16: RuntimeWarning: Channels contain different highpass filters. Highest filter setting will be stored.\n",
      "  raw = mne.io.read_raw_edf(psg_path, preload=True)\n",
      "C:\\Users\\andre\\AppData\\Local\\Temp\\ipykernel_23592\\1452323569.py:16: RuntimeWarning: Channels contain different lowpass filters. Lowest filter setting will be stored.\n",
      "  raw = mne.io.read_raw_edf(psg_path, preload=True)\n"
     ]
    },
    {
     "name": "stdout",
     "output_type": "stream",
     "text": [
      "Used Annotations descriptions: [np.str_('Sleep stage 1'), np.str_('Sleep stage 2'), np.str_('Sleep stage 3'), np.str_('Sleep stage R'), np.str_('Sleep stage W')]\n",
      "Not setting metadata\n",
      "138 matching events found\n",
      "No baseline correction applied\n",
      "0 projection items activated\n",
      "Using data from preloaded Raw for 138 events and 3001 original time points ...\n",
      "0 bad epochs dropped\n",
      "Effective window size : 2.560 (s)\n",
      "\n",
      "✅ Processed: ST7221J0-PSG.edf:138 epochs\n",
      "\n",
      "🧪 Processing: ST7222J0-PSG.edf & ST7222JA-Hypnogram.edf\n",
      "Extracting EDF parameters from c:\\Users\\andre\\OneDrive\\Desktop\\Code_Projects\\DS_Tutorials\\data\\sleep_waves\\ST7222J0-PSG.edf...\n",
      "EDF file detected\n",
      "Setting channel info structure...\n",
      "Creating raw.info structure...\n",
      "Reading 0 ... 2873999  =      0.000 ... 28739.990 secs...\n"
     ]
    },
    {
     "name": "stderr",
     "output_type": "stream",
     "text": [
      "C:\\Users\\andre\\AppData\\Local\\Temp\\ipykernel_23592\\1452323569.py:16: RuntimeWarning: Channels contain different highpass filters. Highest filter setting will be stored.\n",
      "  raw = mne.io.read_raw_edf(psg_path, preload=True)\n",
      "C:\\Users\\andre\\AppData\\Local\\Temp\\ipykernel_23592\\1452323569.py:16: RuntimeWarning: Channels contain different lowpass filters. Lowest filter setting will be stored.\n",
      "  raw = mne.io.read_raw_edf(psg_path, preload=True)\n"
     ]
    },
    {
     "name": "stdout",
     "output_type": "stream",
     "text": [
      "Used Annotations descriptions: [np.str_('Sleep stage 1'), np.str_('Sleep stage 2'), np.str_('Sleep stage R'), np.str_('Sleep stage W')]\n",
      "Not setting metadata\n",
      "131 matching events found\n",
      "No baseline correction applied\n",
      "0 projection items activated\n",
      "Using data from preloaded Raw for 131 events and 3001 original time points ...\n",
      "0 bad epochs dropped\n",
      "Effective window size : 2.560 (s)\n",
      "\n",
      "✅ Processed: ST7222J0-PSG.edf:131 epochs\n",
      "\n",
      "🧪 Processing: ST7241J0-PSG.edf & ST7241JO-Hypnogram.edf\n",
      "Extracting EDF parameters from c:\\Users\\andre\\OneDrive\\Desktop\\Code_Projects\\DS_Tutorials\\data\\sleep_waves\\ST7241J0-PSG.edf...\n",
      "EDF file detected\n",
      "Setting channel info structure...\n",
      "Creating raw.info structure...\n",
      "Reading 0 ... 3260999  =      0.000 ... 32609.990 secs...\n"
     ]
    },
    {
     "name": "stderr",
     "output_type": "stream",
     "text": [
      "C:\\Users\\andre\\AppData\\Local\\Temp\\ipykernel_23592\\1452323569.py:16: RuntimeWarning: Channels contain different highpass filters. Highest filter setting will be stored.\n",
      "  raw = mne.io.read_raw_edf(psg_path, preload=True)\n",
      "C:\\Users\\andre\\AppData\\Local\\Temp\\ipykernel_23592\\1452323569.py:16: RuntimeWarning: Channels contain different lowpass filters. Lowest filter setting will be stored.\n",
      "  raw = mne.io.read_raw_edf(psg_path, preload=True)\n"
     ]
    },
    {
     "name": "stdout",
     "output_type": "stream",
     "text": [
      "Used Annotations descriptions: [np.str_('Movement time'), np.str_('Sleep stage 1'), np.str_('Sleep stage 2'), np.str_('Sleep stage 3'), np.str_('Sleep stage 4'), np.str_('Sleep stage R'), np.str_('Sleep stage W')]\n",
      "Not setting metadata\n",
      "102 matching events found\n",
      "No baseline correction applied\n",
      "0 projection items activated\n",
      "Using data from preloaded Raw for 102 events and 3001 original time points ...\n",
      "0 bad epochs dropped\n",
      "Effective window size : 2.560 (s)\n",
      "\n",
      "✅ Processed: ST7241J0-PSG.edf:99 epochs\n",
      "\n",
      "🧪 Processing: ST7242J0-PSG.edf & ST7242JO-Hypnogram.edf\n",
      "Extracting EDF parameters from c:\\Users\\andre\\OneDrive\\Desktop\\Code_Projects\\DS_Tutorials\\data\\sleep_waves\\ST7242J0-PSG.edf...\n",
      "EDF file detected\n",
      "Setting channel info structure...\n",
      "Creating raw.info structure...\n",
      "Reading 0 ... 2947999  =      0.000 ... 29479.990 secs...\n"
     ]
    },
    {
     "name": "stderr",
     "output_type": "stream",
     "text": [
      "C:\\Users\\andre\\AppData\\Local\\Temp\\ipykernel_23592\\1452323569.py:16: RuntimeWarning: Channels contain different highpass filters. Highest filter setting will be stored.\n",
      "  raw = mne.io.read_raw_edf(psg_path, preload=True)\n",
      "C:\\Users\\andre\\AppData\\Local\\Temp\\ipykernel_23592\\1452323569.py:16: RuntimeWarning: Channels contain different lowpass filters. Lowest filter setting will be stored.\n",
      "  raw = mne.io.read_raw_edf(psg_path, preload=True)\n"
     ]
    },
    {
     "name": "stdout",
     "output_type": "stream",
     "text": [
      "Used Annotations descriptions: [np.str_('Movement time'), np.str_('Sleep stage 1'), np.str_('Sleep stage 2'), np.str_('Sleep stage 3'), np.str_('Sleep stage 4'), np.str_('Sleep stage R'), np.str_('Sleep stage W')]\n",
      "Not setting metadata\n",
      "146 matching events found\n",
      "No baseline correction applied\n",
      "0 projection items activated\n",
      "Using data from preloaded Raw for 146 events and 3001 original time points ...\n",
      "0 bad epochs dropped\n",
      "Effective window size : 2.560 (s)\n",
      "\n",
      "✅ Processed: ST7242J0-PSG.edf:145 epochs\n",
      "\n"
     ]
    }
   ],
   "source": [
    "import os\n",
    "\n",
    "# Match PSG and Hypnogram files by prefix\n",
    "data_dir = '../data/sleep_waves/'\n",
    "files = os.listdir(data_dir) \n",
    "\n",
    "# Grouping PSG and Hypnogram files by shared sybject root (first 7 chars) \n",
    "psg_files = [f for f in files if f.endswith('-PSG.edf')]\n",
    "hyp_files = [f for f in files if 'Hypnogram' in f] \n",
    "\n",
    "file_pairs = []\n",
    "\n",
    "for psg in psg_files:\n",
    "    subj_root = psg[:7] # example: 'ST7011J'\n",
    "    matching_hyp = [h for h in hyp_files if h.startswith(subj_root)]\n",
    "\n",
    "    if matching_hyp: \n",
    "        psg_path = os.path.join(data_dir, psg) \n",
    "        hyp_path = os.path.join(data_dir, matching_hyp[0]) # Note: assuming only 1 match! \n",
    "        file_pairs.append((psg_path, hyp_path)) \n",
    "    else: \n",
    "        print(f'No matching hypnogram for {psg}')\n",
    "\n",
    "print(f'Found {len(file_pairs)} valid PSG-Hypnogram edf pairs') \n",
    "\n",
    "# Process all and concat \n",
    "all_feats = []\n",
    "\n",
    "for psg, hyp in file_pairs:\n",
    "    print(f\"🧪 Processing: {os.path.basename(psg)} & {os.path.basename(hyp)}\")\n",
    "    try: \n",
    "        features = process_edf_pair(psg, hyp)\n",
    "        all_feats.append(features) \n",
    "        print(f'\\n✅ Processed: {os.path.basename(psg)}:{len(features)} epochs\\n')\n",
    "    except Exception as e: \n",
    "        print(f'❌ Failed on {psg}: {e}')\n",
    "\n",
    "df_edf = pd.concat(all_feats, ignore_index=True) \n",
    "\n",
    "\n"
   ]
  },
  {
   "cell_type": "code",
   "execution_count": 3,
   "metadata": {},
   "outputs": [
    {
     "data": {
      "text/html": [
       "<div>\n",
       "<style scoped>\n",
       "    .dataframe tbody tr th:only-of-type {\n",
       "        vertical-align: middle;\n",
       "    }\n",
       "\n",
       "    .dataframe tbody tr th {\n",
       "        vertical-align: top;\n",
       "    }\n",
       "\n",
       "    .dataframe thead th {\n",
       "        text-align: right;\n",
       "    }\n",
       "</style>\n",
       "<table border=\"1\" class=\"dataframe\">\n",
       "  <thead>\n",
       "    <tr style=\"text-align: right;\">\n",
       "      <th></th>\n",
       "      <th>delta</th>\n",
       "      <th>theta</th>\n",
       "      <th>alpha</th>\n",
       "      <th>beta</th>\n",
       "      <th>label</th>\n",
       "    </tr>\n",
       "  </thead>\n",
       "  <tbody>\n",
       "    <tr>\n",
       "      <th>0</th>\n",
       "      <td>6.160646e-12</td>\n",
       "      <td>3.309411e-12</td>\n",
       "      <td>1.943593e-12</td>\n",
       "      <td>2.366059e-12</td>\n",
       "      <td>Wake</td>\n",
       "    </tr>\n",
       "    <tr>\n",
       "      <th>1</th>\n",
       "      <td>6.851487e-12</td>\n",
       "      <td>2.188516e-12</td>\n",
       "      <td>1.104633e-12</td>\n",
       "      <td>8.372303e-13</td>\n",
       "      <td>N1</td>\n",
       "    </tr>\n",
       "    <tr>\n",
       "      <th>2</th>\n",
       "      <td>2.707088e-11</td>\n",
       "      <td>3.864857e-12</td>\n",
       "      <td>1.452854e-12</td>\n",
       "      <td>8.678398e-13</td>\n",
       "      <td>N2</td>\n",
       "    </tr>\n",
       "    <tr>\n",
       "      <th>3</th>\n",
       "      <td>2.403117e-11</td>\n",
       "      <td>1.126442e-12</td>\n",
       "      <td>1.835699e-12</td>\n",
       "      <td>5.003665e-13</td>\n",
       "      <td>N1</td>\n",
       "    </tr>\n",
       "    <tr>\n",
       "      <th>4</th>\n",
       "      <td>4.395439e-11</td>\n",
       "      <td>2.545034e-12</td>\n",
       "      <td>1.276473e-12</td>\n",
       "      <td>8.361875e-13</td>\n",
       "      <td>N2</td>\n",
       "    </tr>\n",
       "    <tr>\n",
       "      <th>...</th>\n",
       "      <td>...</td>\n",
       "      <td>...</td>\n",
       "      <td>...</td>\n",
       "      <td>...</td>\n",
       "      <td>...</td>\n",
       "    </tr>\n",
       "    <tr>\n",
       "      <th>6021</th>\n",
       "      <td>1.416674e-11</td>\n",
       "      <td>4.520787e-12</td>\n",
       "      <td>1.160433e-12</td>\n",
       "      <td>2.291765e-13</td>\n",
       "      <td>REM</td>\n",
       "    </tr>\n",
       "    <tr>\n",
       "      <th>6022</th>\n",
       "      <td>4.827426e-10</td>\n",
       "      <td>7.670029e-12</td>\n",
       "      <td>3.671621e-12</td>\n",
       "      <td>3.220177e-12</td>\n",
       "      <td>Wake</td>\n",
       "    </tr>\n",
       "    <tr>\n",
       "      <th>6023</th>\n",
       "      <td>5.953652e-12</td>\n",
       "      <td>1.894862e-12</td>\n",
       "      <td>1.252515e-12</td>\n",
       "      <td>5.406972e-13</td>\n",
       "      <td>N1</td>\n",
       "    </tr>\n",
       "    <tr>\n",
       "      <th>6024</th>\n",
       "      <td>1.037589e-11</td>\n",
       "      <td>2.498837e-12</td>\n",
       "      <td>8.997023e-13</td>\n",
       "      <td>2.299988e-13</td>\n",
       "      <td>N2</td>\n",
       "    </tr>\n",
       "    <tr>\n",
       "      <th>6025</th>\n",
       "      <td>2.846232e-10</td>\n",
       "      <td>1.342760e-11</td>\n",
       "      <td>3.760796e-12</td>\n",
       "      <td>3.510913e-12</td>\n",
       "      <td>Wake</td>\n",
       "    </tr>\n",
       "  </tbody>\n",
       "</table>\n",
       "<p>6026 rows × 5 columns</p>\n",
       "</div>"
      ],
      "text/plain": [
       "             delta         theta         alpha          beta label\n",
       "0     6.160646e-12  3.309411e-12  1.943593e-12  2.366059e-12  Wake\n",
       "1     6.851487e-12  2.188516e-12  1.104633e-12  8.372303e-13    N1\n",
       "2     2.707088e-11  3.864857e-12  1.452854e-12  8.678398e-13    N2\n",
       "3     2.403117e-11  1.126442e-12  1.835699e-12  5.003665e-13    N1\n",
       "4     4.395439e-11  2.545034e-12  1.276473e-12  8.361875e-13    N2\n",
       "...            ...           ...           ...           ...   ...\n",
       "6021  1.416674e-11  4.520787e-12  1.160433e-12  2.291765e-13   REM\n",
       "6022  4.827426e-10  7.670029e-12  3.671621e-12  3.220177e-12  Wake\n",
       "6023  5.953652e-12  1.894862e-12  1.252515e-12  5.406972e-13    N1\n",
       "6024  1.037589e-11  2.498837e-12  8.997023e-13  2.299988e-13    N2\n",
       "6025  2.846232e-10  1.342760e-11  3.760796e-12  3.510913e-12  Wake\n",
       "\n",
       "[6026 rows x 5 columns]"
      ]
     },
     "execution_count": 3,
     "metadata": {},
     "output_type": "execute_result"
    }
   ],
   "source": [
    "df_edf.to_csv('../data/eeg_hypno.csv', index=False)\n",
    "\n",
    "df_edf"
   ]
  },
  {
   "cell_type": "markdown",
   "metadata": {},
   "source": [
    "### Training a Basic Classifier (RF)"
   ]
  },
  {
   "cell_type": "code",
   "execution_count": 8,
   "metadata": {},
   "outputs": [
    {
     "name": "stdout",
     "output_type": "stream",
     "text": [
      "              precision    recall  f1-score   support\n",
      "\n",
      "          N1       0.57      0.56      0.56       270\n",
      "          N2       0.54      0.58      0.56       359\n",
      "          N3       0.71      0.78      0.74       346\n",
      "         REM       0.60      0.38      0.47        78\n",
      "        Wake       0.62      0.50      0.55       153\n",
      "\n",
      "    accuracy                           0.61      1206\n",
      "   macro avg       0.61      0.56      0.58      1206\n",
      "weighted avg       0.61      0.61      0.61      1206\n",
      "\n"
     ]
    }
   ],
   "source": [
    "from sklearn.ensemble import RandomForestClassifier\n",
    "from sklearn.model_selection import train_test_split\n",
    "from sklearn.metrics import classification_report \n",
    "\n",
    "X = df_edf.drop(columns=['label'])\n",
    "y = df_edf['label']\n",
    "\n",
    "X_train, X_test, y_train, y_test = train_test_split(X, y, stratify=y, test_size=0.2, random_state=10)\n",
    "\n",
    "clf = RandomForestClassifier(n_estimators=100, random_state=10, class_weight='balanced')\n",
    "clf.fit(X_train, y_train) \n",
    "\n",
    "y_pred = clf.predict(X_test) \n",
    "print(classification_report(y_test, y_pred))\n"
   ]
  },
  {
   "cell_type": "markdown",
   "metadata": {},
   "source": [
    "### Pipeline Project Adapted to Waveforms:"
   ]
  },
  {
   "cell_type": "code",
   "execution_count": 10,
   "metadata": {},
   "outputs": [
    {
     "name": "stdout",
     "output_type": "stream",
     "text": [
      "🔍 Sampled 4293 rows (95.0%)\n",
      "Class distribution:\n",
      "1    1277\n",
      "2    1232\n",
      "0     961\n",
      "4     543\n",
      "3     280\n",
      "============================================================ \n",
      "\n",
      "Starting Grand Tuner | CV: 5 | Scoring: accuracy\n",
      "Model: RandomForestClassifier | SMOTE: True | Random Iterations: 20\n",
      "============================================================ \n",
      "\n",
      "**RandomForestClassifier param grid is None, using default\n",
      "\n",
      "Fitting 5 folds for each of 20 candidates, totalling 100 fits\n",
      "⏱️ RandomizedSearchCV completed in 0.45 minutes\n",
      "\n",
      "Fitting 5 folds for each of 9 candidates, totalling 45 fits\n"
     ]
    },
    {
     "name": "stderr",
     "output_type": "stream",
     "text": [
      "c:\\Users\\andre\\OneDrive\\Desktop\\Code_Projects\\.venv\\Lib\\site-packages\\sklearn\\model_selection\\_validation.py:528: FitFailedWarning: \n",
      "15 fits failed out of a total of 45.\n",
      "The score on these train-test partitions for these parameters will be set to nan.\n",
      "If these failures are not expected, you can try to debug them by setting error_score='raise'.\n",
      "\n",
      "Below are more details about the failures:\n",
      "--------------------------------------------------------------------------------\n",
      "15 fits failed with the following error:\n",
      "Traceback (most recent call last):\n",
      "  File \"c:\\Users\\andre\\OneDrive\\Desktop\\Code_Projects\\.venv\\Lib\\site-packages\\sklearn\\model_selection\\_validation.py\", line 866, in _fit_and_score\n",
      "    estimator.fit(X_train, y_train, **fit_params)\n",
      "    ~~~~~~~~~~~~~^^^^^^^^^^^^^^^^^^^^^^^^^^^^^^^^\n",
      "  File \"c:\\Users\\andre\\OneDrive\\Desktop\\Code_Projects\\.venv\\Lib\\site-packages\\sklearn\\base.py\", line 1389, in wrapper\n",
      "    return fit_method(estimator, *args, **kwargs)\n",
      "  File \"c:\\Users\\andre\\OneDrive\\Desktop\\Code_Projects\\.venv\\Lib\\site-packages\\imblearn\\pipeline.py\", line 526, in fit\n",
      "    self._final_estimator.fit(Xt, yt, **last_step_params[\"fit\"])\n",
      "    ~~~~~~~~~~~~~~~~~~~~~~~~~^^^^^^^^^^^^^^^^^^^^^^^^^^^^^^^^^^^\n",
      "  File \"c:\\Users\\andre\\OneDrive\\Desktop\\Code_Projects\\.venv\\Lib\\site-packages\\sklearn\\base.py\", line 1382, in wrapper\n",
      "    estimator._validate_params()\n",
      "    ~~~~~~~~~~~~~~~~~~~~~~~~~~^^\n",
      "  File \"c:\\Users\\andre\\OneDrive\\Desktop\\Code_Projects\\.venv\\Lib\\site-packages\\sklearn\\base.py\", line 436, in _validate_params\n",
      "    validate_parameter_constraints(\n",
      "    ~~~~~~~~~~~~~~~~~~~~~~~~~~~~~~^\n",
      "        self._parameter_constraints,\n",
      "        ^^^^^^^^^^^^^^^^^^^^^^^^^^^^\n",
      "        self.get_params(deep=False),\n",
      "        ^^^^^^^^^^^^^^^^^^^^^^^^^^^^\n",
      "        caller_name=self.__class__.__name__,\n",
      "        ^^^^^^^^^^^^^^^^^^^^^^^^^^^^^^^^^^^^\n",
      "    )\n",
      "    ^\n",
      "  File \"c:\\Users\\andre\\OneDrive\\Desktop\\Code_Projects\\.venv\\Lib\\site-packages\\sklearn\\utils\\_param_validation.py\", line 98, in validate_parameter_constraints\n",
      "    raise InvalidParameterError(\n",
      "    ...<2 lines>...\n",
      "    )\n",
      "sklearn.utils._param_validation.InvalidParameterError: The 'max_depth' parameter of RandomForestClassifier must be an int in the range [1, inf) or None. Got 0 instead.\n",
      "\n",
      "  warnings.warn(some_fits_failed_message, FitFailedWarning)\n",
      "c:\\Users\\andre\\OneDrive\\Desktop\\Code_Projects\\.venv\\Lib\\site-packages\\sklearn\\model_selection\\_search.py:1108: UserWarning: One or more of the test scores are non-finite: [       nan        nan        nan 0.5588243  0.56045518 0.55928968\n",
      " 0.55463093 0.55533105 0.5530014 ]\n",
      "  warnings.warn(\n"
     ]
    },
    {
     "name": "stdout",
     "output_type": "stream",
     "text": [
      "⏱️ GridSearchCV completed in 0.36 minutes\n",
      "\n",
      "==================================================\n",
      "🏆 Best Hyperparameters: {\n",
      "  \"classifier__n_estimators\": 300,\n",
      "  \"classifier__min_samples_split\": 2,\n",
      "  \"classifier__min_samples_leaf\": 5,\n",
      "  \"classifier__max_features\": \"log2\",\n",
      "  \"classifier__max_depth\": 10\n",
      "}\n",
      "\n",
      "📊 Best accuracy: 0.5605\n",
      "💾 Saved best params for RandomForestClassifier to ../tuned_params\\RandomForestClassifier_best_params.json\n",
      "\n",
      "============================================================ \n",
      "\n",
      "[TRAINING] Starting model training...\n",
      "\n",
      "→ Training Random Forest with params:\n",
      "{\n",
      "    \"class_weight\": \"balanced\",\n",
      "    \"classifier__n_estimators\": 300,\n",
      "    \"classifier__min_samples_split\": 2,\n",
      "    \"classifier__min_samples_leaf\": 5,\n",
      "    \"classifier__max_features\": \"log2\",\n",
      "    \"classifier__max_depth\": 10\n",
      "}\n",
      "\n",
      "✅ Random Forest trained | Saved to ../models\\Random Forest.pkl\n",
      "============================================================\n",
      "\n",
      " Running evaluation on test set...\n",
      "⚠️ Imbalanced test set detected (Minority class = 6.50%)\n",
      "\n",
      "Label decoder active:\n",
      "  y_test unique: [0 1 2 3 4]\n",
      "  Classes: ['N1' 'N2' 'N3' 'REM' 'Wake']\n",
      "\n",
      "Evaluating Model: RandomForestClassifier\n",
      "Hyperparameters:\n",
      "{\n",
      "    \"bootstrap\": true,\n",
      "    \"ccp_alpha\": 0.0,\n",
      "    \"class_weight\": \"balanced\",\n",
      "    \"criterion\": \"gini\",\n",
      "    \"max_depth\": 10,\n",
      "    \"max_features\": \"log2\",\n",
      "    \"max_leaf_nodes\": null,\n",
      "    \"max_samples\": null,\n",
      "    \"min_impurity_decrease\": 0.0,\n",
      "    \"min_samples_leaf\": 5,\n",
      "    \"min_samples_split\": 2,\n",
      "    \"min_weight_fraction_leaf\": 0.0,\n",
      "    \"monotonic_cst\": null,\n",
      "    \"n_estimators\": 300,\n",
      "    \"n_jobs\": null,\n",
      "    \"oob_score\": false,\n",
      "    \"random_state\": null,\n",
      "    \"verbose\": 0,\n",
      "    \"warm_start\": false\n",
      "}\n",
      "\n",
      "Overall Metrics:\n",
      "| Metric             |   Score |\n",
      "|:-------------------|--------:|\n",
      "| Accuracy           |  0.5972 |\n",
      "| Weighted Precision |  0.5956 |\n",
      "| Weighted Recall    |  0.5972 |\n",
      "| Weighted F1-Score  |  0.5922 |\n",
      "\n",
      "Class-Specific Metrics:\n",
      "| Class   |   Precision |   Recall |   F1-Score |   Support |\n",
      "|:--------|------------:|---------:|-----------:|----------:|\n",
      "| N1      |      0.5672 |   0.5134 |     0.5389 |       337 |\n",
      "| N2      |      0.575  |   0.461  |     0.5117 |       449 |\n",
      "| N3      |      0.7131 |   0.8171 |     0.7616 |       432 |\n",
      "| REM     |      0.437  |   0.602  |     0.5064 |        98 |\n",
      "| Wake    |      0.5094 |   0.5654 |     0.536  |       191 |\n"
     ]
    }
   ],
   "source": [
    "import sys\n",
    "import os\n",
    "\n",
    "from sklearn.calibration import LabelEncoder\n",
    "from sklearn.ensemble import RandomForestClassifier\n",
    "from sklearn.model_selection import train_test_split\n",
    "\n",
    "sys.path.append(os.path.abspath(\"..\"))\n",
    "\n",
    "from src.run_pipeline import tune_and_train_full\n",
    "\n",
    "# Label Encoding with decoding built into tune_and_train_full()\n",
    "le = LabelEncoder()\n",
    "y_encoded = le.fit_transform(y) \n",
    "X_train, X_test, y_train, y_test = train_test_split(X, y_encoded, stratify=y_encoded, random_state=10)\n",
    "\n",
    "rf_wave, best_params = tune_and_train_full(RandomForestClassifier, \n",
    "                    'Random Forest', \n",
    "                    X_train, \n",
    "                    y_train,\n",
    "                    X_test=X_test, \n",
    "                    y_test=y_test, \n",
    "                    model_params={'class_weight': 'balanced'},\n",
    "                    sample_frac=0.95, \n",
    "                    scoring='accuracy',\n",
    "                    label_encoder=le) "
   ]
  },
  {
   "cell_type": "markdown",
   "metadata": {},
   "source": [
    "## Great, Classifier is Built! What Now?\n",
    "Just completed work on a sleep stage classifier that is ~60% effective. While that's not bad... we can do better, by using the elements of the data to our advantage: \n",
    "- Sleep is **not** random, it follows structured stage transitions\n",
    "- HMM can capture those structured transitions as probabilities\n",
    "- We can use a HMM approach to smooth the pipeline model's predictions into a more biologically probably sequence.\n"
   ]
  },
  {
   "cell_type": "markdown",
   "metadata": {},
   "source": [
    "### While Discussing Goals: \n",
    "**Real-time sleep classification**. It's possible (with a ton of work). That is our final product. \n",
    "\n",
    "<hr>"
   ]
  },
  {
   "cell_type": "markdown",
   "metadata": {},
   "source": [
    "### Back to Reality: HMM Smoothing Pass \n",
    "\n",
    "It's important to remember that the HMM is *not* making new predictions or replacing the already nicely trained and optimized classifier. The HMM will function to refine the outputs.  \n",
    "  \n",
    "We'll learn from the data in order to estimate stage transition probabilities. For example: how likely are you to stay in N2, or jump to N3, etc. "
   ]
  },
  {
   "cell_type": "code",
   "execution_count": 11,
   "metadata": {},
   "outputs": [],
   "source": [
    "# Step 1. \n",
    "# Convert predicted and true labels back to class indices\n",
    "\n",
    "from sklearn.preprocessing import LabelEncoder\n",
    "\n",
    "y_test_decoded = le.inverse_transform(y_test) \n",
    "y_pred_decoded = le.inverse_transform(rf_wave.predict(X_test)) \n",
    "\n",
    "# Re-encode with a fresh label encoder for HMM\n",
    "le_hmm = LabelEncoder()\n",
    "y_test_idx = le_hmm.fit_transform(y_test_decoded)\n",
    "y_pred_idx = le_hmm.fit_transform(y_pred_decoded) "
   ]
  },
  {
   "cell_type": "code",
   "execution_count": 12,
   "metadata": {},
   "outputs": [],
   "source": [
    "# Step 2.\n",
    "# Fit the HMM (only on stage transitions)\n",
    "\n",
    "from hmmlearn import hmm\n",
    "import numpy as np\n",
    "\n",
    "n_states = len(le_hmm.classes_) \n",
    "model_hmm = hmm.GaussianHMM(n_components=5, covariance_type='full', n_iter=100)\n",
    "\n",
    "# Now reshape to (n_samples, 1)-- required by hmmlearn\n",
    "y_test_seq = y_test_idx.reshape(-1, 1) \n",
    "\n",
    "# Fit transition and start probs using the true label seq\n",
    "model_hmm.fit(y_test_seq) \n",
    "\n",
    "# Define domain-informed transition matrix (Wake, N1, N2, N3, REM)\n",
    "custom_transitions = np.array([\n",
    "    [0.1,  0.8,  0.05, 0.0,  0.05],  # Wake -> mostly N1\n",
    "    [0.0,  0.1,  0.8,  0.1,  0.0],  # N1 -> mostly N2\n",
    "    [0.0,  0.1,  0.2,  0.6,  0.1],  # N2 -> transition to N3\n",
    "    [0.0,  0.0,  0.4,  0.4,  0.2],  # N3 -> some REM or back to N2\n",
    "    [0.2,  0.3,  0.3,  0.0,  0.2],  # REM -> looping back, or staying REM\n",
    "])\n",
    "\n",
    "# Normalize to ensure each row sums to 1\n",
    "custom_transitions = custom_transitions / custom_transitions.sum(axis=1, keepdims=True)\n",
    "custom_transitions\n",
    "\n",
    "model_hmm.transmat_ = custom_transitions\n",
    "model_hmm.startprob_ = np.array([0.6, 0.4, 0.0, 0.0, 0.0]) "
   ]
  },
  {
   "cell_type": "code",
   "execution_count": 13,
   "metadata": {},
   "outputs": [],
   "source": [
    "# Step 3. \n",
    "# Use Classifier preds + HMM for smoothing\n",
    "\n",
    "# Classifier pred sequence (unsmoothed) \n",
    "y_pred_seq = y_pred_idx.reshape(-1, 1) \n",
    "\n",
    "# Applying Viterbi to get smoothed predictions\n",
    "smoothed_idx = model_hmm.predict(y_pred_seq) \n",
    "\n",
    "# Decode to original class labels\n",
    "smoothed_labels = le_hmm.inverse_transform(smoothed_idx) "
   ]
  },
  {
   "cell_type": "markdown",
   "metadata": {},
   "source": [
    "To make things more clear, we now have: \n",
    "- `y_test_decoded` -- ground truth\n",
    "- `y_pred_decoded` -- raw classifier \n",
    "- `smoothed_labels` -- post-HMM output"
   ]
  },
  {
   "cell_type": "code",
   "execution_count": 14,
   "metadata": {},
   "outputs": [
    {
     "name": "stdout",
     "output_type": "stream",
     "text": [
      "🔍 Classifier (Raw) Performance:\n",
      "              precision    recall  f1-score   support\n",
      "\n",
      "          N1       0.57      0.51      0.54       337\n",
      "          N2       0.57      0.46      0.51       449\n",
      "          N3       0.71      0.82      0.76       432\n",
      "         REM       0.44      0.60      0.51        98\n",
      "        Wake       0.51      0.57      0.54       191\n",
      "\n",
      "    accuracy                           0.60      1507\n",
      "   macro avg       0.56      0.59      0.57      1507\n",
      "weighted avg       0.60      0.60      0.59      1507\n",
      "\n",
      "🧠 HMM-Smooth Performance:\n",
      "              precision    recall  f1-score   support\n",
      "\n",
      "          N1       0.13      0.03      0.05       337\n",
      "          N2       0.48      0.35      0.40       449\n",
      "          N3       0.06      0.04      0.05       432\n",
      "         REM       0.05      0.16      0.07        98\n",
      "        Wake       0.03      0.08      0.05       191\n",
      "\n",
      "    accuracy                           0.14      1507\n",
      "   macro avg       0.15      0.13      0.12      1507\n",
      "weighted avg       0.19      0.14      0.15      1507\n",
      "\n"
     ]
    }
   ],
   "source": [
    "# Step 4. \n",
    "# Evaluate Improvements\n",
    "\n",
    "from sklearn.metrics import classification_report\n",
    "\n",
    "print(\"🔍 Classifier (Raw) Performance:\")\n",
    "print(classification_report(y_test_decoded, y_pred_decoded))\n",
    "\n",
    "print(\"🧠 HMM-Smooth Performance:\")\n",
    "print(classification_report(y_test_decoded, smoothed_labels))\n"
   ]
  },
  {
   "cell_type": "markdown",
   "metadata": {},
   "source": [
    "Leaving things here for tonight, tomorrow *morning* come back to create and work on the visualization code..."
   ]
  },
  {
   "cell_type": "code",
   "execution_count": 15,
   "metadata": {},
   "outputs": [],
   "source": [
    "import matplotlib.pyplot as plt\n",
    "import numpy as np \n",
    "\n",
    "def plot_sleep_sequences(y_true, y_pred, y_hmm, label_order=None): \n",
    "    '''\n",
    "    Simultaneously Plots: \n",
    "        1) ground truth\n",
    "        2) classifier preds\n",
    "        3) HMM-smoothed preds over time\n",
    "\n",
    "    Args: \n",
    "        y_true (array-like): Ground truth labels\n",
    "        y_preds (array-like): Classifier raw predictions\n",
    "        y_hmm (array-like): HMM-smoothed predictions\n",
    "        label_order (list): Optional, ordered list of sleep stage names for consistent y-axis\n",
    "    '''\n",
    "\n",
    "    # Align stage names to consistent int-encoding\n",
    "    if label_order is None: \n",
    "        label_order = sorted(list(set(y_true) | set(y_pred) | set(y_hmm)))\n",
    "\n",
    "    label_to_int = {label: i for i, label in enumerate(label_order)} \n",
    "\n",
    "    y_true_idx = [label_to_int[y] for y in y_true]\n",
    "    y_pred_idx = [label_to_int[y] for y in y_pred]\n",
    "    y_hmm_idx = [label_to_int[y] for y in y_hmm] \n",
    "\n",
    "    data = np.array([y_true_idx, y_pred_idx, y_hmm_idx]) \n",
    "\n",
    "    # Define colors for 5 stages\n",
    "    stage_colors = {\n",
    "        \"Wake\": \"#1f77b4\",   # blue\n",
    "        \"N1\": \"#ff7f0e\",     # orange\n",
    "        \"N2\": \"#2ca02c\",     # green\n",
    "        \"N3\": \"#d62728\",     # red\n",
    "        \"REM\": \"#9467bd\"     # purple\n",
    "    }\n",
    "\n",
    "    # Colourmap and listing colours in stage order\n",
    "    from matplotlib.colors import ListedColormap\n",
    "    cmap = ListedColormap([stage_colors[stage] for stage in label_order]) \n",
    "\n",
    "    # Plot\n",
    "    plt.figure(figsize=(16,3))\n",
    "    plt.imshow(data, aspect='auto', cmap=cmap, interpolation='nearest')\n",
    "\n",
    "    plt.yticks([0, 1, 2], ['Ground Truth', 'Classifier', 'HMM Smoothed'])\n",
    "    plt.xticks([])  # too many to be readable\n",
    "    plt.title('Sleep Stage Sequences')\n",
    "\n",
    "    # Custom legend\n",
    "    handles = [plt.Line2D([0], [0], color=stage_colors[stage], lw=6) for stage in label_order]\n",
    "    plt.legend(handles, label_order, bbox_to_anchor=(1.01, 1), loc='upper left', title=\"Stages\")\n",
    "\n",
    "    plt.tight_layout()\n",
    "    plt.show()\n"
   ]
  },
  {
   "cell_type": "code",
   "execution_count": 16,
   "metadata": {},
   "outputs": [
    {
     "data": {
      "image/png": "[encoded data removed]",
      "text/plain": [
       "<Figure size 1600x300 with 1 Axes>"
      ]
     },
     "metadata": {},
     "output_type": "display_data"
    }
   ],
   "source": [
    "plot_sleep_sequences(\n",
    "    y_true=y_test_decoded[:50],     # First ~50 minutes\n",
    "    y_pred=y_pred_decoded[:50],\n",
    "    y_hmm=smoothed_labels[:50],\n",
    "    label_order=[\"Wake\", \"N1\", \"N2\", \"N3\", \"REM\"]\n",
    ")"
   ]
  },
  {
   "cell_type": "markdown",
   "metadata": {},
   "source": [
    "### Data Augmentation, Not Rollback\n",
    "Since smushing together ~100 eeg and hypnogram pairs (for the purpose of a large enough training sample), I've realized that this many different Cycles (complicated by Cycle 1 != Cycle 2) are present, and all mashed together as if it's 6000 hours of constant sleep.  \n",
    "  \n",
    "However, it makes sense why I had to do it. Now, in order to preserve the **temporal structure**, we're going to: \n",
    "1) Track sleep cycles explicitly\n",
    "2) Add a `cycle_number` feature \n",
    "3) Test HMM-Smoothing on a per-night and per-cycle basis\n",
    "\n",
    "If none of these options work, RNN or a Temportal CNN might be a better fit for the nature of our data."
   ]
  },
  {
   "cell_type": "code",
   "execution_count": 43,
   "metadata": {},
   "outputs": [
    {
     "name": "stdout",
     "output_type": "stream",
     "text": [
      "13\n"
     ]
    }
   ],
   "source": [
    "# Sanity check for multiple REM instances\n",
    "\n",
    "rem_count = 0\n",
    "\n",
    "for i in range(len(y)): \n",
    "    if y[i] == 'REM' and y[i+1] == 'REM': \n",
    "        rem_count += 1\n",
    "\n",
    "print(rem_count)"
   ]
  }
 ],
 "metadata": {
  "kernelspec": {
   "display_name": ".venv",
   "language": "python",
   "name": "python3"
  },
  "language_info": {
   "codemirror_mode": {
    "name": "ipython",
    "version": 3
   },
   "file_extension": ".py",
   "mimetype": "text/x-python",
   "name": "python",
   "nbconvert_exporter": "python",
   "pygments_lexer": "ipython3",
   "version": "3.13.0"
  }
 },
 "nbformat": 4,
 "nbformat_minor": 2
}

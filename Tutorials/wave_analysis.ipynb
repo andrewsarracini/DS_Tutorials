{
 "cells": [
  {
   "cell_type": "markdown",
   "metadata": {},
   "source": [
    "# Waveform Analysis Exploration "
   ]
  },
  {
   "cell_type": "markdown",
   "metadata": {},
   "source": [
    "Need a function for mass data addition (all the unique EDF files). I'll merge them into a single table for easy analysis. Waves are waves-- so long as they have the same filtering and they're all originally raw EEG! "
   ]
  },
  {
   "cell_type": "markdown",
   "metadata": {},
   "source": [
    "Since there's a major problem with unreliable annotations, I'm taking matters into my own hands and manually constructing a label list for fixed 30s intervals. I'll do this by binning annotations from the paired Hypnogram for each file. \n",
    "- Going to time-align the labels using `raw.annotations` \n",
    "- Then slice the entire sleep period into 30s chunks \n",
    "- Finally, assign the sleep stage based on the label-list "
   ]
  },
  {
   "cell_type": "code",
   "execution_count": 2,
   "metadata": {},
   "outputs": [],
   "source": [
    "import numpy as np\n",
    "import pandas as pd\n",
    "import mne \n",
    "from mne.time_frequency import psd_array_welch\n",
    "import matplotlib.pyplot as plt\n",
    "\n",
    "def process_edf_pair(psg_path, hypnogram_path): \n",
    "    '''\n",
    "    Loads EDF EEG recording and corresponding hypnogram \n",
    "    Extracts 30s epochs, labels them, and returns a features df\n",
    "\n",
    "    Returns: \n",
    "        features (pd.DataFrame): Features + newly created 'label' col (sleep stage as str)\n",
    "    '''\n",
    "\n",
    "    raw = mne.io.read_raw_edf(psg_path, preload=True) \n",
    "    raw.set_annotations(mne.read_annotations(hypnogram_path))\n",
    "    raw.pick(['EEG Fpz-Cz']) \n",
    "\n",
    "    data = raw.get_data()[0]\n",
    "    sfreq = raw.info['sfreq']\n",
    "    total_duration = int(data.shape[-1] / sfreq) # in seconds!\n",
    "\n",
    "    # Map annotation label -> clean stage name\n",
    "    stage_map = {\n",
    "        'Sleep stage W': 'Wake',\n",
    "        'Sleep stage 1': 'N1',\n",
    "        'Sleep stage 2': 'N2',\n",
    "        'Sleep stage 3': 'N3',\n",
    "        'Sleep stage 4': 'N3', # Mergnig 4 into N3\n",
    "        'Sleep stage R': 'REM'\n",
    "    }\n",
    "\n",
    "    epoch_length = 30 # seconds\n",
    "    n_epochs = total_duration // epoch_length\n",
    "    labels = ['UNKNOWN'] * n_epochs\n",
    "\n",
    "    for ann in raw.annotations:\n",
    "        label = stage_map.get(ann['description'], None)\n",
    "        if label is None: \n",
    "            continue\n",
    "        start = int(ann['onset']) // epoch_length\n",
    "        duration = int(ann['duration']) // epoch_length\n",
    "\n",
    "        for i in range(start, min(start + duration, n_epochs)):\n",
    "            labels[i] = label\n",
    "\n",
    "    # Remove unknown-labeled epochs\n",
    "    valid_idxs = [i for i, l in enumerate(labels) if l != 'UNKNOWN'] \n",
    "\n",
    "    # Manually epoch the signal into 30s chunks \n",
    "    samples_per_epoch = int(epoch_length * sfreq) \n",
    "    epoch_data = np.array([\n",
    "        data[i * samples_per_epoch:(i+1) * samples_per_epoch]\n",
    "        for i in valid_idxs if (i+1) * samples_per_epoch <= len(data) \n",
    "    ])\n",
    "        \n",
    "    # Compute bandpower features \n",
    "    psds, freqs = psd_array_welch(epoch_data[:, np.newaxis, :], sfreq=sfreq, fmin=0.5, fmax=40, n_fft=256)\n",
    "\n",
    "    features = pd.DataFrame({\n",
    "        'delta': bandpower(psds, freqs, (0.5, 4)),\n",
    "        'theta': bandpower(psds, freqs, (4, 8)),\n",
    "        'alpha': bandpower(psds, freqs, (8, 13)),\n",
    "        'beta':  bandpower(psds, freqs, (13, 30)),\n",
    "        'label': [labels[i] for i in valid_idxs]\n",
    "    })\n",
    "\n",
    "    # Adding subject ID derived from filename (ex. \"ST7011J\") \n",
    "    subj_id = psg_path.name[2:6]\n",
    "    features['subject_id'] = subj_id\n",
    "\n",
    "    return features\n",
    "\n",
    "def bandpower(psds, freqs, band):\n",
    "    '''\n",
    "    Small hepler for process_edf_pair\n",
    "    Returns mean band power in specified frequency band\n",
    "    '''\n",
    "    idx = (freqs >= band[0]) & (freqs <= band[1])\n",
    "    return psds[:, :, idx].mean(axis=-1).mean(axis=1)\n",
    "\n"
   ]
  },
  {
   "cell_type": "markdown",
   "metadata": {},
   "source": [
    "### Now Loop over all .edf files!"
   ]
  },
  {
   "cell_type": "code",
   "execution_count": null,
   "metadata": {},
   "outputs": [],
   "source": [
    "import os\n",
    "from src.paths import DATA_DIR\n",
    "\n",
    "# Match PSG and Hypnogram files by prefix\n",
    "\n",
    "data_dir = DATA_DIR / 'sleep_waves'\n",
    "files = os.listdir(data_dir) \n",
    "\n",
    "# Grouping PSG and Hypnogram files by shared sybject root (first 7 chars) \n",
    "psg_files = [f for f in files if f.endswith('-PSG.edf')]\n",
    "hyp_files = [f for f in files if 'Hypnogram' in f] \n",
    "\n",
    "file_pairs = []\n",
    "\n",
    "for psg in psg_files:\n",
    "    subj_root = psg[:7] # example: 'ST7011J'\n",
    "    matching_hyp = [h for h in hyp_files if h.startswith(subj_root)]\n",
    "\n",
    "    if matching_hyp: \n",
    "        psg_path = data_dir / psg\n",
    "        hyp_path = data_dir / matching_hyp[0] # Note: assuming only 1 match! \n",
    "        file_pairs.append((psg_path, hyp_path)) \n",
    "    else: \n",
    "        print(f'No matching hypnogram for {psg}')\n",
    "\n",
    "print(f'Found {len(file_pairs)} valid PSG-Hypnogram edf pairs') \n",
    "\n",
    "# Process all and concat \n",
    "all_feats = []\n",
    "\n",
    "for psg, hyp in file_pairs:\n",
    "    print(f\"🧪 Processing: {os.path.basename(psg)} & {os.path.basename(hyp)}\")\n",
    "    try: \n",
    "        features = process_edf_pair(psg, hyp)\n",
    "        all_feats.append(features) \n",
    "        print(f'\\n✅ Processed: {os.path.basename(psg)}:{len(features)} epochs\\n')\n",
    "    except Exception as e: \n",
    "        print(f'❌ Failed on {psg}: {e}')\n",
    "\n",
    "df_edf = pd.concat(all_feats, ignore_index=True) \n",
    "\n",
    "\n"
   ]
  },
  {
   "cell_type": "markdown",
   "metadata": {},
   "source": [
    "# Feature Engineering"
   ]
  },
  {
   "cell_type": "markdown",
   "metadata": {},
   "source": [
    "### Why Distinguish Between Subjects? \n",
    "Sleep progresses through ~4-5 distinct cycles per night (each 90-100 mins). Each cycle starts in N1 / Wake (still digging for this answer), and progresses to REM. We've learned that later cycles (in a typical night sleep) have less N3 and more REM.  \n",
    "  \n",
    "  Since these patterns are subject-specific, it makes sense to segmenet by subject and learn from these cycles within a given night. If we know where cycles start and end, the HMM can follow real transitions, preventing overfitting."
   ]
  },
  {
   "cell_type": "markdown",
   "metadata": {},
   "source": [
    "### Adding new column `cycle` before model training:"
   ]
  },
  {
   "cell_type": "markdown",
   "metadata": {},
   "source": [
    "### Cycle Detection v2.0\n",
    "The previous system was an excellent step forward. However, an average cycle number of ~1.94 is *much* lower than what modern reserach agrees upon (4-6 cycles / night). It's understandable that some subjects might have tumultuous sleeps, but that average cycle count has to get closer to the national average!"
   ]
  },
  {
   "cell_type": "markdown",
   "metadata": {},
   "source": [
    "*New and Improved!*\n",
    "1. Waits for the first NREM to start 'real' sleep\n",
    "2. Tracks REM streaks-- when a long enough one ends, checks if a full cycle can end (meets min/max epoch reqs)\n",
    "3. If valid, assigns a cycle number to that segment\n",
    "4. Continues through the sequence; ignores noise and edge cases!   \n",
    "  \n",
    "**Note**: Pre-sleep (Wake, N1) to cycle = 0  \n",
    "**Note**: caps total sleep cycles to 7"
   ]
  },
  {
   "cell_type": "code",
   "execution_count": 14,
   "metadata": {},
   "outputs": [],
   "source": [
    "def segment_sleep_cycles(\n",
    "    stages,\n",
    "    min_cycle_duration=120,\n",
    "    max_cycle_duration=400,\n",
    "    min_rem_streak=8,\n",
    "    max_cycles=7):\n",
    "    '''\n",
    "    Segments sleep data into cycles only when REM ends and NREM begins again \n",
    "\n",
    "    Parameters: \n",
    "        stages (list): list of sleep stages\n",
    "        min_cycle_duration (int): min cycle duration \n",
    "        max_cycle_duration (int): max cycle duration \n",
    "        min_rem_streak (int): min number of REM epochs to be valid \n",
    "        max_cycles (int) max cycles possible \n",
    "    \n",
    "    Returns: \n",
    "        cycle_labels (list): list of cycle labels for each epoch\n",
    "    '''\n",
    "    n = len(stages)\n",
    "    cycle_labels = [0] * n  # Start with all epochs labeled Cycle 0 (presleep)\n",
    "    cycle_id = 1\n",
    "    in_sleep = False\n",
    "    sleep_started = False\n",
    "    current_start = None\n",
    "    in_rem = False\n",
    "    rem_start = None\n",
    "    post_rem_waiting = False\n",
    "    last_valid_cycle = 0\n",
    "\n",
    "    for i in range(n):\n",
    "        stage = stages[i]\n",
    "\n",
    "        # Wait for first NREM to initiate sleep\n",
    "        if not in_sleep:\n",
    "            if stage in ['N2', 'N3']:\n",
    "                in_sleep = True\n",
    "                sleep_started = True\n",
    "                current_start = i\n",
    "            continue\n",
    "\n",
    "        # Begin REM streak\n",
    "        if stage == 'REM':\n",
    "            if not in_rem:\n",
    "                rem_start = i\n",
    "                in_rem = True\n",
    "            # Still assign the last valid cycle\n",
    "            if last_valid_cycle > 0:\n",
    "                cycle_labels[i] = last_valid_cycle\n",
    "            continue\n",
    "\n",
    "        # End REM streak\n",
    "        if in_rem and stage != 'REM':\n",
    "            rem_length = i - rem_start\n",
    "            in_rem = False\n",
    "            if rem_length >= min_rem_streak:\n",
    "                post_rem_waiting = True\n",
    "\n",
    "        # After valid REM, wait for NREM to close and start next cycle\n",
    "        if post_rem_waiting and stage in ['N2', 'N3']:\n",
    "            cycle_len = i - current_start\n",
    "            if min_cycle_duration <= cycle_len <= max_cycle_duration:\n",
    "                for j in range(current_start, i):\n",
    "                    cycle_labels[j] = cycle_id\n",
    "                last_valid_cycle = cycle_id\n",
    "                cycle_id += 1\n",
    "                current_start = i\n",
    "                post_rem_waiting = False\n",
    "\n",
    "                if cycle_id > max_cycles:\n",
    "                    break\n",
    "            else:\n",
    "                post_rem_waiting = False\n",
    "\n",
    "        # Assign ongoing epochs with current or last cycle\n",
    "        if sleep_started:\n",
    "            if current_start is not None and cycle_id > 1:\n",
    "                cycle_labels[i] = cycle_id - 1\n",
    "            elif last_valid_cycle > 0:\n",
    "                cycle_labels[i] = last_valid_cycle\n",
    "\n",
    "    # Label final NREM if it meets duration\n",
    "    if current_start is not None and (n - current_start) >= min_cycle_duration:\n",
    "        for j in range(current_start, n):\n",
    "            cycle_labels[j] = cycle_id\n",
    "        last_valid_cycle = cycle_id\n",
    "\n",
    "    # Final sweep: fill in any remaining 0s after sleep started\n",
    "    if sleep_started:\n",
    "        for i in range(current_start, n):  # Only fill from sleep onset forward\n",
    "            if cycle_labels[i] == 0:\n",
    "                cycle_labels[i] = last_valid_cycle\n",
    "\n",
    "    return cycle_labels\n",
    "\n",
    "\n",
    "def apply_cycle_detection(df:pd.DataFrame): \n",
    "    '''\n",
    "    Applies cycle detection to each subject, and assigns a 'cycle' col\n",
    "\n",
    "    Params: \n",
    "        df: DataFrame that contains 'subject_id' and 'label' cols\n",
    "    \n",
    "    Retuns: \n",
    "        df: Same df with new 'cycle' col\n",
    "    '''\n",
    "    df = df.copy() \n",
    "    df['cycle'] = None # Pre-allocation! \n",
    "\n",
    "    for subject, group in df.groupby('subject_id'):\n",
    "        stages = group['label'].tolist()\n",
    "        cycles = segment_sleep_cycles(stages)\n",
    "        df.loc[group.index, 'cycle'] = cycles \n",
    "\n",
    "    df['cycle'] = df['cycle'].astype(int) \n",
    "    df['subject_id'] = df['subject_id'].astype(int)\n",
    "    return df"
   ]
  },
  {
   "cell_type": "code",
   "execution_count": 17,
   "metadata": {},
   "outputs": [
    {
     "data": {
      "text/plain": [
       "cycle\n",
       "1    0.321637\n",
       "2    0.226957\n",
       "3    0.213980\n",
       "4    0.128247\n",
       "5    0.063526\n",
       "0    0.045654\n",
       "Name: proportion, dtype: float64"
      ]
     },
     "execution_count": 17,
     "metadata": {},
     "output_type": "execute_result"
    }
   ],
   "source": [
    "df_edf = apply_cycle_detection(df_edf)\n",
    "# df_edf.groupby('subject_id')['cycle'].value_counts(normalize=True)\n",
    "df_edf['cycle'].value_counts(normalize=True)"
   ]
  },
  {
   "cell_type": "markdown",
   "metadata": {},
   "source": [
    "## Creating Binary Labels (REM/NREM)"
   ]
  },
  {
   "cell_type": "code",
   "execution_count": 22,
   "metadata": {},
   "outputs": [],
   "source": [
    "def create_binary_label(stage_label): \n",
    "    '''\n",
    "    Convert full sleep stage labels to binary REM/NREM \n",
    "    '''\n",
    "    return 'REM' if stage_label == 'REM' else 'NREM'\n",
    "\n",
    "df_edf['binary_label'] = df_edf['label'].apply(create_binary_label)"
   ]
  },
  {
   "cell_type": "code",
   "execution_count": null,
   "metadata": {},
   "outputs": [
    {
     "data": {
      "text/html": [
       "<div>\n",
       "<style scoped>\n",
       "    .dataframe tbody tr th:only-of-type {\n",
       "        vertical-align: middle;\n",
       "    }\n",
       "\n",
       "    .dataframe tbody tr th {\n",
       "        vertical-align: top;\n",
       "    }\n",
       "\n",
       "    .dataframe thead th {\n",
       "        text-align: right;\n",
       "    }\n",
       "</style>\n",
       "<table border=\"1\" class=\"dataframe\">\n",
       "  <thead>\n",
       "    <tr style=\"text-align: right;\">\n",
       "      <th></th>\n",
       "      <th>delta</th>\n",
       "      <th>theta</th>\n",
       "      <th>alpha</th>\n",
       "      <th>beta</th>\n",
       "      <th>label</th>\n",
       "      <th>subject_id</th>\n",
       "      <th>cycle</th>\n",
       "      <th>binary_label</th>\n",
       "      <th>time_index</th>\n",
       "      <th>norm_time</th>\n",
       "    </tr>\n",
       "  </thead>\n",
       "  <tbody>\n",
       "    <tr>\n",
       "      <th>0</th>\n",
       "      <td>6.160646e-12</td>\n",
       "      <td>3.309411e-12</td>\n",
       "      <td>1.943593e-12</td>\n",
       "      <td>2.366059e-12</td>\n",
       "      <td>Wake</td>\n",
       "      <td>7011</td>\n",
       "      <td>0</td>\n",
       "      <td>NREM</td>\n",
       "      <td>0</td>\n",
       "      <td>0.000000</td>\n",
       "    </tr>\n",
       "    <tr>\n",
       "      <th>1</th>\n",
       "      <td>4.988774e-10</td>\n",
       "      <td>1.235113e-11</td>\n",
       "      <td>4.446865e-12</td>\n",
       "      <td>2.844799e-12</td>\n",
       "      <td>Wake</td>\n",
       "      <td>7011</td>\n",
       "      <td>0</td>\n",
       "      <td>NREM</td>\n",
       "      <td>1</td>\n",
       "      <td>0.000917</td>\n",
       "    </tr>\n",
       "    <tr>\n",
       "      <th>2</th>\n",
       "      <td>1.534984e-10</td>\n",
       "      <td>2.390680e-12</td>\n",
       "      <td>1.519197e-12</td>\n",
       "      <td>5.406593e-13</td>\n",
       "      <td>Wake</td>\n",
       "      <td>7011</td>\n",
       "      <td>0</td>\n",
       "      <td>NREM</td>\n",
       "      <td>2</td>\n",
       "      <td>0.001833</td>\n",
       "    </tr>\n",
       "    <tr>\n",
       "      <th>3</th>\n",
       "      <td>4.962507e-11</td>\n",
       "      <td>2.943184e-12</td>\n",
       "      <td>1.687577e-12</td>\n",
       "      <td>5.375286e-13</td>\n",
       "      <td>Wake</td>\n",
       "      <td>7011</td>\n",
       "      <td>0</td>\n",
       "      <td>NREM</td>\n",
       "      <td>3</td>\n",
       "      <td>0.002750</td>\n",
       "    </tr>\n",
       "    <tr>\n",
       "      <th>4</th>\n",
       "      <td>2.378089e-11</td>\n",
       "      <td>1.779550e-12</td>\n",
       "      <td>2.156748e-12</td>\n",
       "      <td>4.648331e-13</td>\n",
       "      <td>Wake</td>\n",
       "      <td>7011</td>\n",
       "      <td>0</td>\n",
       "      <td>NREM</td>\n",
       "      <td>4</td>\n",
       "      <td>0.003666</td>\n",
       "    </tr>\n",
       "    <tr>\n",
       "      <th>...</th>\n",
       "      <td>...</td>\n",
       "      <td>...</td>\n",
       "      <td>...</td>\n",
       "      <td>...</td>\n",
       "      <td>...</td>\n",
       "      <td>...</td>\n",
       "      <td>...</td>\n",
       "      <td>...</td>\n",
       "      <td>...</td>\n",
       "      <td>...</td>\n",
       "    </tr>\n",
       "    <tr>\n",
       "      <th>42686</th>\n",
       "      <td>4.120337e-11</td>\n",
       "      <td>7.154511e-12</td>\n",
       "      <td>1.723270e-12</td>\n",
       "      <td>2.457063e-13</td>\n",
       "      <td>N2</td>\n",
       "      <td>7242</td>\n",
       "      <td>4</td>\n",
       "      <td>NREM</td>\n",
       "      <td>934</td>\n",
       "      <td>0.995736</td>\n",
       "    </tr>\n",
       "    <tr>\n",
       "      <th>42687</th>\n",
       "      <td>9.937038e-11</td>\n",
       "      <td>4.455668e-12</td>\n",
       "      <td>1.793157e-12</td>\n",
       "      <td>3.096157e-13</td>\n",
       "      <td>N2</td>\n",
       "      <td>7242</td>\n",
       "      <td>4</td>\n",
       "      <td>NREM</td>\n",
       "      <td>935</td>\n",
       "      <td>0.996802</td>\n",
       "    </tr>\n",
       "    <tr>\n",
       "      <th>42688</th>\n",
       "      <td>2.846232e-10</td>\n",
       "      <td>1.342760e-11</td>\n",
       "      <td>3.760796e-12</td>\n",
       "      <td>3.510913e-12</td>\n",
       "      <td>Wake</td>\n",
       "      <td>7242</td>\n",
       "      <td>4</td>\n",
       "      <td>NREM</td>\n",
       "      <td>936</td>\n",
       "      <td>0.997868</td>\n",
       "    </tr>\n",
       "    <tr>\n",
       "      <th>42689</th>\n",
       "      <td>9.707442e-10</td>\n",
       "      <td>2.485227e-11</td>\n",
       "      <td>6.117589e-12</td>\n",
       "      <td>8.264715e-12</td>\n",
       "      <td>Wake</td>\n",
       "      <td>7242</td>\n",
       "      <td>4</td>\n",
       "      <td>NREM</td>\n",
       "      <td>937</td>\n",
       "      <td>0.998934</td>\n",
       "    </tr>\n",
       "    <tr>\n",
       "      <th>42690</th>\n",
       "      <td>1.084597e-09</td>\n",
       "      <td>1.266863e-10</td>\n",
       "      <td>2.847203e-11</td>\n",
       "      <td>9.301527e-12</td>\n",
       "      <td>Wake</td>\n",
       "      <td>7242</td>\n",
       "      <td>4</td>\n",
       "      <td>NREM</td>\n",
       "      <td>938</td>\n",
       "      <td>1.000000</td>\n",
       "    </tr>\n",
       "  </tbody>\n",
       "</table>\n",
       "<p>42691 rows × 10 columns</p>\n",
       "</div>"
      ],
      "text/plain": [
       "              delta         theta         alpha          beta label  \\\n",
       "0      6.160646e-12  3.309411e-12  1.943593e-12  2.366059e-12  Wake   \n",
       "1      4.988774e-10  1.235113e-11  4.446865e-12  2.844799e-12  Wake   \n",
       "2      1.534984e-10  2.390680e-12  1.519197e-12  5.406593e-13  Wake   \n",
       "3      4.962507e-11  2.943184e-12  1.687577e-12  5.375286e-13  Wake   \n",
       "4      2.378089e-11  1.779550e-12  2.156748e-12  4.648331e-13  Wake   \n",
       "...             ...           ...           ...           ...   ...   \n",
       "42686  4.120337e-11  7.154511e-12  1.723270e-12  2.457063e-13    N2   \n",
       "42687  9.937038e-11  4.455668e-12  1.793157e-12  3.096157e-13    N2   \n",
       "42688  2.846232e-10  1.342760e-11  3.760796e-12  3.510913e-12  Wake   \n",
       "42689  9.707442e-10  2.485227e-11  6.117589e-12  8.264715e-12  Wake   \n",
       "42690  1.084597e-09  1.266863e-10  2.847203e-11  9.301527e-12  Wake   \n",
       "\n",
       "       subject_id  cycle binary_label  time_index  norm_time  \n",
       "0            7011      0         NREM           0   0.000000  \n",
       "1            7011      0         NREM           1   0.000917  \n",
       "2            7011      0         NREM           2   0.001833  \n",
       "3            7011      0         NREM           3   0.002750  \n",
       "4            7011      0         NREM           4   0.003666  \n",
       "...           ...    ...          ...         ...        ...  \n",
       "42686        7242      4         NREM         934   0.995736  \n",
       "42687        7242      4         NREM         935   0.996802  \n",
       "42688        7242      4         NREM         936   0.997868  \n",
       "42689        7242      4         NREM         937   0.998934  \n",
       "42690        7242      4         NREM         938   1.000000  \n",
       "\n",
       "[42691 rows x 10 columns]"
      ]
     },
     "execution_count": 2,
     "metadata": {},
     "output_type": "execute_result"
    }
   ],
   "source": [
    "# from sleep_wave.features.builders import feat_time_context\n",
    "\n",
    "\n",
    "# df_edf = feat_time_context(df_edf)\n",
    "# df_edf\n"
   ]
  },
  {
   "cell_type": "code",
   "execution_count": 1,
   "metadata": {},
   "outputs": [
    {
     "ename": "NameError",
     "evalue": "name 'df_edf' is not defined",
     "output_type": "error",
     "traceback": [
      "\u001b[1;31m---------------------------------------------------------------------------\u001b[0m",
      "\u001b[1;31mNameError\u001b[0m                                 Traceback (most recent call last)",
      "Cell \u001b[1;32mIn[1], line 1\u001b[0m\n\u001b[1;32m----> 1\u001b[0m df_edf \u001b[38;5;241m=\u001b[39m \u001b[43mdf_edf\u001b[49m\u001b[38;5;241m.\u001b[39mloc[:, \u001b[38;5;241m~\u001b[39mdf_edf\u001b[38;5;241m.\u001b[39mcolumns\u001b[38;5;241m.\u001b[39mduplicated()]\n\u001b[0;32m      2\u001b[0m df_edf\u001b[38;5;241m.\u001b[39mto_csv(\u001b[38;5;124m'\u001b[39m\u001b[38;5;124m../data/eeg_hypno.csv\u001b[39m\u001b[38;5;124m'\u001b[39m, index\u001b[38;5;241m=\u001b[39m\u001b[38;5;28;01mFalse\u001b[39;00m)\n\u001b[0;32m      4\u001b[0m df_edf\n",
      "\u001b[1;31mNameError\u001b[0m: name 'df_edf' is not defined"
     ]
    }
   ],
   "source": [
    "df_edf = df_edf.loc[:, ~df_edf.columns.duplicated()]\n",
    "df_edf.to_csv('../data/eeg_hypno.csv', index=False)\n",
    "\n",
    "df_edf"
   ]
  },
  {
   "cell_type": "markdown",
   "metadata": {},
   "source": [
    "<hr>"
   ]
  },
  {
   "cell_type": "markdown",
   "metadata": {},
   "source": [
    "# Quickload through the .csv\n",
    "Skip to here to avoid generating files for the thousanth time"
   ]
  },
  {
   "cell_type": "code",
   "execution_count": null,
   "metadata": {},
   "outputs": [
    {
     "name": "stdout",
     "output_type": "stream",
     "text": [
      "[INFO] Loading from local: c:\\Users\\andre\\OneDrive\\Desktop\\Code_Projects\\DS_Tutorials\\data\\eeg_hypno.csv\n"
     ]
    },
    {
     "data": {
      "text/html": [
       "<div>\n",
       "<style scoped>\n",
       "    .dataframe tbody tr th:only-of-type {\n",
       "        vertical-align: middle;\n",
       "    }\n",
       "\n",
       "    .dataframe tbody tr th {\n",
       "        vertical-align: top;\n",
       "    }\n",
       "\n",
       "    .dataframe thead th {\n",
       "        text-align: right;\n",
       "    }\n",
       "</style>\n",
       "<table border=\"1\" class=\"dataframe\">\n",
       "  <thead>\n",
       "    <tr style=\"text-align: right;\">\n",
       "      <th></th>\n",
       "      <th>delta</th>\n",
       "      <th>theta</th>\n",
       "      <th>alpha</th>\n",
       "      <th>beta</th>\n",
       "      <th>label</th>\n",
       "      <th>subject_id</th>\n",
       "      <th>cycle</th>\n",
       "      <th>binary_label</th>\n",
       "      <th>time_index</th>\n",
       "      <th>norm_time</th>\n",
       "    </tr>\n",
       "  </thead>\n",
       "  <tbody>\n",
       "    <tr>\n",
       "      <th>0</th>\n",
       "      <td>6.160646e-12</td>\n",
       "      <td>3.309411e-12</td>\n",
       "      <td>1.943593e-12</td>\n",
       "      <td>2.366059e-12</td>\n",
       "      <td>Wake</td>\n",
       "      <td>7011</td>\n",
       "      <td>0</td>\n",
       "      <td>NREM</td>\n",
       "      <td>0</td>\n",
       "      <td>0.000000</td>\n",
       "    </tr>\n",
       "    <tr>\n",
       "      <th>1</th>\n",
       "      <td>4.988774e-10</td>\n",
       "      <td>1.235113e-11</td>\n",
       "      <td>4.446865e-12</td>\n",
       "      <td>2.844799e-12</td>\n",
       "      <td>Wake</td>\n",
       "      <td>7011</td>\n",
       "      <td>0</td>\n",
       "      <td>NREM</td>\n",
       "      <td>1</td>\n",
       "      <td>0.000917</td>\n",
       "    </tr>\n",
       "    <tr>\n",
       "      <th>2</th>\n",
       "      <td>1.534984e-10</td>\n",
       "      <td>2.390680e-12</td>\n",
       "      <td>1.519197e-12</td>\n",
       "      <td>5.406593e-13</td>\n",
       "      <td>Wake</td>\n",
       "      <td>7011</td>\n",
       "      <td>0</td>\n",
       "      <td>NREM</td>\n",
       "      <td>2</td>\n",
       "      <td>0.001833</td>\n",
       "    </tr>\n",
       "    <tr>\n",
       "      <th>3</th>\n",
       "      <td>4.962507e-11</td>\n",
       "      <td>2.943184e-12</td>\n",
       "      <td>1.687577e-12</td>\n",
       "      <td>5.375286e-13</td>\n",
       "      <td>Wake</td>\n",
       "      <td>7011</td>\n",
       "      <td>0</td>\n",
       "      <td>NREM</td>\n",
       "      <td>3</td>\n",
       "      <td>0.002750</td>\n",
       "    </tr>\n",
       "    <tr>\n",
       "      <th>4</th>\n",
       "      <td>2.378089e-11</td>\n",
       "      <td>1.779550e-12</td>\n",
       "      <td>2.156748e-12</td>\n",
       "      <td>4.648331e-13</td>\n",
       "      <td>Wake</td>\n",
       "      <td>7011</td>\n",
       "      <td>0</td>\n",
       "      <td>NREM</td>\n",
       "      <td>4</td>\n",
       "      <td>0.003666</td>\n",
       "    </tr>\n",
       "    <tr>\n",
       "      <th>...</th>\n",
       "      <td>...</td>\n",
       "      <td>...</td>\n",
       "      <td>...</td>\n",
       "      <td>...</td>\n",
       "      <td>...</td>\n",
       "      <td>...</td>\n",
       "      <td>...</td>\n",
       "      <td>...</td>\n",
       "      <td>...</td>\n",
       "      <td>...</td>\n",
       "    </tr>\n",
       "    <tr>\n",
       "      <th>42686</th>\n",
       "      <td>4.120337e-11</td>\n",
       "      <td>7.154511e-12</td>\n",
       "      <td>1.723270e-12</td>\n",
       "      <td>2.457063e-13</td>\n",
       "      <td>N2</td>\n",
       "      <td>7242</td>\n",
       "      <td>4</td>\n",
       "      <td>NREM</td>\n",
       "      <td>934</td>\n",
       "      <td>0.995736</td>\n",
       "    </tr>\n",
       "    <tr>\n",
       "      <th>42687</th>\n",
       "      <td>9.937038e-11</td>\n",
       "      <td>4.455668e-12</td>\n",
       "      <td>1.793157e-12</td>\n",
       "      <td>3.096157e-13</td>\n",
       "      <td>N2</td>\n",
       "      <td>7242</td>\n",
       "      <td>4</td>\n",
       "      <td>NREM</td>\n",
       "      <td>935</td>\n",
       "      <td>0.996802</td>\n",
       "    </tr>\n",
       "    <tr>\n",
       "      <th>42688</th>\n",
       "      <td>2.846232e-10</td>\n",
       "      <td>1.342760e-11</td>\n",
       "      <td>3.760796e-12</td>\n",
       "      <td>3.510913e-12</td>\n",
       "      <td>Wake</td>\n",
       "      <td>7242</td>\n",
       "      <td>4</td>\n",
       "      <td>NREM</td>\n",
       "      <td>936</td>\n",
       "      <td>0.997868</td>\n",
       "    </tr>\n",
       "    <tr>\n",
       "      <th>42689</th>\n",
       "      <td>9.707442e-10</td>\n",
       "      <td>2.485227e-11</td>\n",
       "      <td>6.117589e-12</td>\n",
       "      <td>8.264715e-12</td>\n",
       "      <td>Wake</td>\n",
       "      <td>7242</td>\n",
       "      <td>4</td>\n",
       "      <td>NREM</td>\n",
       "      <td>937</td>\n",
       "      <td>0.998934</td>\n",
       "    </tr>\n",
       "    <tr>\n",
       "      <th>42690</th>\n",
       "      <td>1.084597e-09</td>\n",
       "      <td>1.266863e-10</td>\n",
       "      <td>2.847203e-11</td>\n",
       "      <td>9.301527e-12</td>\n",
       "      <td>Wake</td>\n",
       "      <td>7242</td>\n",
       "      <td>4</td>\n",
       "      <td>NREM</td>\n",
       "      <td>938</td>\n",
       "      <td>1.000000</td>\n",
       "    </tr>\n",
       "  </tbody>\n",
       "</table>\n",
       "<p>42691 rows × 10 columns</p>\n",
       "</div>"
      ],
      "text/plain": [
       "              delta         theta         alpha          beta label  \\\n",
       "0      6.160646e-12  3.309411e-12  1.943593e-12  2.366059e-12  Wake   \n",
       "1      4.988774e-10  1.235113e-11  4.446865e-12  2.844799e-12  Wake   \n",
       "2      1.534984e-10  2.390680e-12  1.519197e-12  5.406593e-13  Wake   \n",
       "3      4.962507e-11  2.943184e-12  1.687577e-12  5.375286e-13  Wake   \n",
       "4      2.378089e-11  1.779550e-12  2.156748e-12  4.648331e-13  Wake   \n",
       "...             ...           ...           ...           ...   ...   \n",
       "42686  4.120337e-11  7.154511e-12  1.723270e-12  2.457063e-13    N2   \n",
       "42687  9.937038e-11  4.455668e-12  1.793157e-12  3.096157e-13    N2   \n",
       "42688  2.846232e-10  1.342760e-11  3.760796e-12  3.510913e-12  Wake   \n",
       "42689  9.707442e-10  2.485227e-11  6.117589e-12  8.264715e-12  Wake   \n",
       "42690  1.084597e-09  1.266863e-10  2.847203e-11  9.301527e-12  Wake   \n",
       "\n",
       "       subject_id  cycle binary_label  time_index  norm_time  \n",
       "0            7011      0         NREM           0   0.000000  \n",
       "1            7011      0         NREM           1   0.000917  \n",
       "2            7011      0         NREM           2   0.001833  \n",
       "3            7011      0         NREM           3   0.002750  \n",
       "4            7011      0         NREM           4   0.003666  \n",
       "...           ...    ...          ...         ...        ...  \n",
       "42686        7242      4         NREM         934   0.995736  \n",
       "42687        7242      4         NREM         935   0.996802  \n",
       "42688        7242      4         NREM         936   0.997868  \n",
       "42689        7242      4         NREM         937   0.998934  \n",
       "42690        7242      4         NREM         938   1.000000  \n",
       "\n",
       "[42691 rows x 10 columns]"
      ]
     },
     "execution_count": 8,
     "metadata": {},
     "output_type": "execute_result"
    },
    {
     "ename": "",
     "evalue": "",
     "output_type": "error",
     "traceback": [
      "\u001b[1;31mThe Kernel crashed while executing code in the current cell or a previous cell. \n",
      "\u001b[1;31mPlease review the code in the cell(s) to identify a possible cause of the failure. \n",
      "\u001b[1;31mClick <a href='https://aka.ms/vscodeJupyterKernelCrash'>here</a> for more info. \n",
      "\u001b[1;31mView Jupyter <a href='command:jupyter.viewOutput'>log</a> for further details."
     ]
    }
   ],
   "source": [
    "import sys \n",
    "import os\n",
    "\n",
    "from src.utils.loaders import load_eeg_data\n",
    "\n",
    "PROJECT_ROOT = os.path.abspath(os.path.join(os.getcwd(), \"..\"))\n",
    "sys.path.append(PROJECT_ROOT)\n",
    "\n",
    "import pandas as pd\n",
    "import matplotlib.pyplot as plt\n",
    "from src.paths import DATA_DIR\n",
    "\n",
    "# df_edf = pd.read_csv('../data/eeg_hypno.csv')\n",
    "# df_edf = pd.read_csv(DATA_DIR / 'eeg_hypno.csv')\n",
    "df_edf = load_eeg_data('eeg_hypno.csv')\n",
    "\n",
    "df_edf"
   ]
  },
  {
   "cell_type": "code",
   "execution_count": 7,
   "metadata": {},
   "outputs": [
    {
     "data": {
      "text/plain": [
       "binary_label\n",
       "NREM    0.804432\n",
       "REM     0.195568\n",
       "Name: proportion, dtype: float64"
      ]
     },
     "execution_count": 7,
     "metadata": {},
     "output_type": "execute_result"
    }
   ],
   "source": [
    "df_edf['binary_label'].value_counts(normalize=True) "
   ]
  },
  {
   "cell_type": "markdown",
   "metadata": {},
   "source": [
    "### Training a Basic Classifier (RF)"
   ]
  },
  {
   "cell_type": "code",
   "execution_count": 29,
   "metadata": {},
   "outputs": [
    {
     "name": "stdout",
     "output_type": "stream",
     "text": [
      "              precision    recall  f1-score   support\n",
      "\n",
      "        NREM       0.90      0.95      0.92      6869\n",
      "         REM       0.74      0.56      0.63      1670\n",
      "\n",
      "    accuracy                           0.87      8539\n",
      "   macro avg       0.82      0.75      0.78      8539\n",
      "weighted avg       0.87      0.87      0.87      8539\n",
      "\n"
     ]
    }
   ],
   "source": [
    "from sklearn.ensemble import RandomForestClassifier\n",
    "from sklearn.model_selection import train_test_split\n",
    "from sklearn.metrics import classification_report \n",
    "\n",
    "X = df_edf.drop(columns=['binary_label', 'label', 'subject_id'])\n",
    "y = df_edf['binary_label']\n",
    "\n",
    "X_train, X_test, y_train, y_test = train_test_split(X, y, stratify=y, test_size=0.2, random_state=10)\n",
    "\n",
    "base_rf = RandomForestClassifier(n_estimators=100, random_state=10, class_weight='balanced')\n",
    "base_rf.fit(X_train, y_train) \n",
    "\n",
    "y_pred = base_rf.predict(X_test) \n",
    "print(classification_report(y_test, y_pred))\n"
   ]
  },
  {
   "cell_type": "markdown",
   "metadata": {},
   "source": [
    "### Pipeline Project Adapted to Waveforms (LONG WAIT, HYPERPARAM TUNING):"
   ]
  },
  {
   "cell_type": "code",
   "execution_count": 5,
   "metadata": {},
   "outputs": [
    {
     "name": "stdout",
     "output_type": "stream",
     "text": [
      "🔍 Sampled 28816 rows (90.0%)\n",
      "Class distribution:\n",
      "1    13399\n",
      "3     5636\n",
      "2     4330\n",
      "4     2985\n",
      "0     2466\n",
      "============================================================ \n",
      "\n"
     ]
    },
    {
     "name": "stderr",
     "output_type": "stream",
     "text": [
      "🔍 Tuning: 100%|██████████████████████████████████████████████████████| 1/1 [00:19<00:00, 19.40s/it]\n"
     ]
    },
    {
     "name": "stdout",
     "output_type": "stream",
     "text": [
      "[LightGBM] [Info] Auto-choosing col-wise multi-threading, the overhead of testing was 0.000330 seconds.\n",
      "You can set `force_col_wise=true` to remove the overhead.\n",
      "[LightGBM] [Info] Total Bins 1071\n",
      "[LightGBM] [Info] Number of data points in the train set: 28816, number of used features: 6\n",
      "[LightGBM] [Info] Start training from score -2.458333\n",
      "[LightGBM] [Info] Start training from score -0.765751\n",
      "[LightGBM] [Info] Start training from score -1.895363\n",
      "[LightGBM] [Info] Start training from score -1.631756\n",
      "[LightGBM] [Info] Start training from score -2.267331\n",
      "[LightGBM] [Warning] No further splits with positive gain, best gain: -inf\n",
      "[LightGBM] [Warning] No further splits with positive gain, best gain: -inf\n",
      "[LightGBM] [Warning] No further splits with positive gain, best gain: -inf\n",
      "[LightGBM] [Warning] No further splits with positive gain, best gain: -inf\n",
      "[LightGBM] [Warning] No further splits with positive gain, best gain: -inf\n",
      "[LightGBM] [Warning] No further splits with positive gain, best gain: -inf\n",
      "[LightGBM] [Warning] No further splits with positive gain, best gain: -inf\n",
      "[LightGBM] [Warning] No further splits with positive gain, best gain: -inf\n",
      "[LightGBM] [Warning] No further splits with positive gain, best gain: -inf\n",
      "[LightGBM] [Warning] No further splits with positive gain, best gain: -inf\n",
      "[LightGBM] [Warning] No further splits with positive gain, best gain: -inf\n",
      "[LightGBM] [Warning] No further splits with positive gain, best gain: -inf\n",
      "[LightGBM] [Warning] No further splits with positive gain, best gain: -inf\n",
      "[LightGBM] [Warning] No further splits with positive gain, best gain: -inf\n",
      "[LightGBM] [Warning] No further splits with positive gain, best gain: -inf\n",
      "[LightGBM] [Warning] No further splits with positive gain, best gain: -inf\n",
      "[LightGBM] [Warning] No further splits with positive gain, best gain: -inf\n",
      "[LightGBM] [Warning] No further splits with positive gain, best gain: -inf\n",
      "[LightGBM] [Warning] No further splits with positive gain, best gain: -inf\n",
      "[LightGBM] [Warning] No further splits with positive gain, best gain: -inf\n",
      "[LightGBM] [Warning] No further splits with positive gain, best gain: -inf\n",
      "[LightGBM] [Warning] No further splits with positive gain, best gain: -inf\n",
      "[LightGBM] [Warning] No further splits with positive gain, best gain: -inf\n",
      "[LightGBM] [Warning] No further splits with positive gain, best gain: -inf\n",
      "[LightGBM] [Warning] No further splits with positive gain, best gain: -inf\n",
      "[LightGBM] [Warning] No further splits with positive gain, best gain: -inf\n",
      "[LightGBM] [Warning] No further splits with positive gain, best gain: -inf\n",
      "[LightGBM] [Warning] No further splits with positive gain, best gain: -inf\n",
      "[LightGBM] [Warning] No further splits with positive gain, best gain: -inf\n",
      "[LightGBM] [Warning] No further splits with positive gain, best gain: -inf\n",
      "[LightGBM] [Warning] No further splits with positive gain, best gain: -inf\n",
      "[LightGBM] [Warning] No further splits with positive gain, best gain: -inf\n",
      "[LightGBM] [Warning] No further splits with positive gain, best gain: -inf\n",
      "[LightGBM] [Warning] No further splits with positive gain, best gain: -inf\n",
      "[LightGBM] [Warning] No further splits with positive gain, best gain: -inf\n",
      "[LightGBM] [Warning] No further splits with positive gain, best gain: -inf\n",
      "[LightGBM] [Warning] No further splits with positive gain, best gain: -inf\n",
      "[LightGBM] [Warning] No further splits with positive gain, best gain: -inf\n",
      "[LightGBM] [Warning] No further splits with positive gain, best gain: -inf\n",
      "[LightGBM] [Warning] No further splits with positive gain, best gain: -inf\n",
      "[LightGBM] [Warning] No further splits with positive gain, best gain: -inf\n",
      "[LightGBM] [Warning] No further splits with positive gain, best gain: -inf\n",
      "[LightGBM] [Warning] No further splits with positive gain, best gain: -inf\n",
      "[LightGBM] [Warning] No further splits with positive gain, best gain: -inf\n",
      "[LightGBM] [Warning] No further splits with positive gain, best gain: -inf\n",
      "[LightGBM] [Warning] No further splits with positive gain, best gain: -inf\n",
      "[LightGBM] [Warning] No further splits with positive gain, best gain: -inf\n",
      "[LightGBM] [Warning] No further splits with positive gain, best gain: -inf\n",
      "[LightGBM] [Warning] No further splits with positive gain, best gain: -inf\n",
      "[LightGBM] [Warning] No further splits with positive gain, best gain: -inf\n",
      "[LightGBM] [Warning] No further splits with positive gain, best gain: -inf\n",
      "[LightGBM] [Warning] No further splits with positive gain, best gain: -inf\n",
      "[LightGBM] [Warning] No further splits with positive gain, best gain: -inf\n",
      "[LightGBM] [Warning] No further splits with positive gain, best gain: -inf\n",
      "[LightGBM] [Warning] No further splits with positive gain, best gain: -inf\n",
      "[LightGBM] [Warning] No further splits with positive gain, best gain: -inf\n",
      "[LightGBM] [Warning] No further splits with positive gain, best gain: -inf\n",
      "[LightGBM] [Warning] No further splits with positive gain, best gain: -inf\n",
      "[LightGBM] [Warning] No further splits with positive gain, best gain: -inf\n",
      "[LightGBM] [Warning] No further splits with positive gain, best gain: -inf\n",
      "[LightGBM] [Warning] No further splits with positive gain, best gain: -inf\n",
      "[LightGBM] [Warning] No further splits with positive gain, best gain: -inf\n",
      "[LightGBM] [Warning] No further splits with positive gain, best gain: -inf\n",
      "[LightGBM] [Warning] No further splits with positive gain, best gain: -inf\n",
      "[LightGBM] [Warning] No further splits with positive gain, best gain: -inf\n",
      "[LightGBM] [Warning] No further splits with positive gain, best gain: -inf\n",
      "[LightGBM] [Warning] No further splits with positive gain, best gain: -inf\n",
      "[LightGBM] [Warning] No further splits with positive gain, best gain: -inf\n",
      "[LightGBM] [Warning] No further splits with positive gain, best gain: -inf\n",
      "[LightGBM] [Warning] No further splits with positive gain, best gain: -inf\n",
      "[LightGBM] [Warning] No further splits with positive gain, best gain: -inf\n",
      "[LightGBM] [Warning] No further splits with positive gain, best gain: -inf\n",
      "[LightGBM] [Warning] No further splits with positive gain, best gain: -inf\n",
      "[LightGBM] [Warning] No further splits with positive gain, best gain: -inf\n",
      "[LightGBM] [Warning] No further splits with positive gain, best gain: -inf\n",
      "[LightGBM] [Warning] No further splits with positive gain, best gain: -inf\n",
      "[LightGBM] [Warning] No further splits with positive gain, best gain: -inf\n",
      "[LightGBM] [Warning] No further splits with positive gain, best gain: -inf\n",
      "[LightGBM] [Warning] No further splits with positive gain, best gain: -inf\n",
      "[LightGBM] [Warning] No further splits with positive gain, best gain: -inf\n",
      "[LightGBM] [Warning] No further splits with positive gain, best gain: -inf\n",
      "[LightGBM] [Warning] No further splits with positive gain, best gain: -inf\n",
      "[LightGBM] [Warning] No further splits with positive gain, best gain: -inf\n",
      "[LightGBM] [Warning] No further splits with positive gain, best gain: -inf\n",
      "[LightGBM] [Warning] No further splits with positive gain, best gain: -inf\n",
      "[LightGBM] [Warning] No further splits with positive gain, best gain: -inf\n",
      "[LightGBM] [Warning] No further splits with positive gain, best gain: -inf\n",
      "[LightGBM] [Warning] No further splits with positive gain, best gain: -inf\n",
      "[LightGBM] [Warning] No further splits with positive gain, best gain: -inf\n",
      "[LightGBM] [Warning] No further splits with positive gain, best gain: -inf\n",
      "[LightGBM] [Warning] No further splits with positive gain, best gain: -inf\n",
      "[LightGBM] [Warning] No further splits with positive gain, best gain: -inf\n",
      "[LightGBM] [Warning] No further splits with positive gain, best gain: -inf\n",
      "[LightGBM] [Warning] No further splits with positive gain, best gain: -inf\n",
      "[LightGBM] [Warning] No further splits with positive gain, best gain: -inf\n",
      "[LightGBM] [Warning] No further splits with positive gain, best gain: -inf\n",
      "[LightGBM] [Warning] No further splits with positive gain, best gain: -inf\n",
      "[LightGBM] [Warning] No further splits with positive gain, best gain: -inf\n",
      "[LightGBM] [Warning] No further splits with positive gain, best gain: -inf\n",
      "[LightGBM] [Warning] No further splits with positive gain, best gain: -inf\n",
      "[LightGBM] [Warning] No further splits with positive gain, best gain: -inf\n",
      "[LightGBM] [Warning] No further splits with positive gain, best gain: -inf\n",
      "[LightGBM] [Warning] No further splits with positive gain, best gain: -inf\n",
      "[LightGBM] [Warning] No further splits with positive gain, best gain: -inf\n",
      "[TRAINING] Starting model training...\n",
      "\n",
      "→ Training LGBM_wave with params:\n",
      "{\n",
      "    \"class_weight\": \"balanced\",\n",
      "    \"n_estimators\": 400,\n",
      "    \"max_depth\": 12,\n",
      "    \"learning_rate\": 0.01722703944736364,\n",
      "    \"num_leaves\": 191\n",
      "}\n",
      "Scaling: OFF\n",
      "[LightGBM] [Info] Auto-choosing row-wise multi-threading, the overhead of testing was 0.000130 seconds.\n",
      "You can set `force_row_wise=true` to remove the overhead.\n",
      "And if memory is not enough, you can set `force_col_wise=true`.\n",
      "[LightGBM] [Info] Total Bins 1071\n",
      "[LightGBM] [Info] Number of data points in the train set: 32018, number of used features: 6\n",
      "[LightGBM] [Info] Start training from score -1.609438\n",
      "[LightGBM] [Info] Start training from score -1.609438\n",
      "[LightGBM] [Info] Start training from score -1.609438\n",
      "[LightGBM] [Info] Start training from score -1.609438\n",
      "[LightGBM] [Info] Start training from score -1.609438\n",
      "[LightGBM] [Warning] No further splits with positive gain, best gain: -inf\n",
      "[LightGBM] [Warning] No further splits with positive gain, best gain: -inf\n",
      "[LightGBM] [Warning] No further splits with positive gain, best gain: -inf\n",
      "[LightGBM] [Warning] No further splits with positive gain, best gain: -inf\n",
      "[LightGBM] [Warning] No further splits with positive gain, best gain: -inf\n",
      "[LightGBM] [Warning] No further splits with positive gain, best gain: -inf\n",
      "[LightGBM] [Warning] No further splits with positive gain, best gain: -inf\n",
      "[LightGBM] [Warning] No further splits with positive gain, best gain: -inf\n",
      "[LightGBM] [Warning] No further splits with positive gain, best gain: -inf\n",
      "[LightGBM] [Warning] No further splits with positive gain, best gain: -inf\n",
      "[LightGBM] [Warning] No further splits with positive gain, best gain: -inf\n",
      "[LightGBM] [Warning] No further splits with positive gain, best gain: -inf\n",
      "[LightGBM] [Warning] No further splits with positive gain, best gain: -inf\n",
      "[LightGBM] [Warning] No further splits with positive gain, best gain: -inf\n",
      "[LightGBM] [Warning] No further splits with positive gain, best gain: -inf\n",
      "[LightGBM] [Warning] No further splits with positive gain, best gain: -inf\n",
      "[LightGBM] [Warning] No further splits with positive gain, best gain: -inf\n",
      "[LightGBM] [Warning] No further splits with positive gain, best gain: -inf\n",
      "[LightGBM] [Warning] No further splits with positive gain, best gain: -inf\n",
      "[LightGBM] [Warning] No further splits with positive gain, best gain: -inf\n",
      "[LightGBM] [Warning] No further splits with positive gain, best gain: -inf\n",
      "[LightGBM] [Warning] No further splits with positive gain, best gain: -inf\n",
      "[LightGBM] [Warning] No further splits with positive gain, best gain: -inf\n",
      "[LightGBM] [Warning] No further splits with positive gain, best gain: -inf\n",
      "[LightGBM] [Warning] No further splits with positive gain, best gain: -inf\n",
      "[LightGBM] [Warning] No further splits with positive gain, best gain: -inf\n",
      "[LightGBM] [Warning] No further splits with positive gain, best gain: -inf\n",
      "[LightGBM] [Warning] No further splits with positive gain, best gain: -inf\n",
      "[LightGBM] [Warning] No further splits with positive gain, best gain: -inf\n",
      "[LightGBM] [Warning] No further splits with positive gain, best gain: -inf\n",
      "[LightGBM] [Warning] No further splits with positive gain, best gain: -inf\n",
      "[LightGBM] [Warning] No further splits with positive gain, best gain: -inf\n",
      "[LightGBM] [Warning] No further splits with positive gain, best gain: -inf\n",
      "[LightGBM] [Warning] No further splits with positive gain, best gain: -inf\n",
      "[LightGBM] [Warning] No further splits with positive gain, best gain: -inf\n",
      "[LightGBM] [Warning] No further splits with positive gain, best gain: -inf\n",
      "[LightGBM] [Warning] No further splits with positive gain, best gain: -inf\n",
      "[LightGBM] [Warning] No further splits with positive gain, best gain: -inf\n",
      "[LightGBM] [Warning] No further splits with positive gain, best gain: -inf\n",
      "[LightGBM] [Warning] No further splits with positive gain, best gain: -inf\n",
      "[LightGBM] [Warning] No further splits with positive gain, best gain: -inf\n",
      "[LightGBM] [Warning] No further splits with positive gain, best gain: -inf\n",
      "[LightGBM] [Warning] No further splits with positive gain, best gain: -inf\n",
      "[LightGBM] [Warning] No further splits with positive gain, best gain: -inf\n",
      "[LightGBM] [Warning] No further splits with positive gain, best gain: -inf\n",
      "[LightGBM] [Warning] No further splits with positive gain, best gain: -inf\n",
      "[LightGBM] [Warning] No further splits with positive gain, best gain: -inf\n",
      "[LightGBM] [Warning] No further splits with positive gain, best gain: -inf\n",
      "[LightGBM] [Warning] No further splits with positive gain, best gain: -inf\n",
      "[LightGBM] [Warning] No further splits with positive gain, best gain: -inf\n",
      "[LightGBM] [Warning] No further splits with positive gain, best gain: -inf\n",
      "[LightGBM] [Warning] No further splits with positive gain, best gain: -inf\n",
      "[LightGBM] [Warning] No further splits with positive gain, best gain: -inf\n",
      "[LightGBM] [Warning] No further splits with positive gain, best gain: -inf\n",
      "[LightGBM] [Warning] No further splits with positive gain, best gain: -inf\n",
      "[LightGBM] [Warning] No further splits with positive gain, best gain: -inf\n",
      "[LightGBM] [Warning] No further splits with positive gain, best gain: -inf\n",
      "[LightGBM] [Warning] No further splits with positive gain, best gain: -inf\n",
      "[LightGBM] [Warning] No further splits with positive gain, best gain: -inf\n",
      "[LightGBM] [Warning] No further splits with positive gain, best gain: -inf\n",
      "[LightGBM] [Warning] No further splits with positive gain, best gain: -inf\n",
      "[LightGBM] [Warning] No further splits with positive gain, best gain: -inf\n",
      "[LightGBM] [Warning] No further splits with positive gain, best gain: -inf\n",
      "[LightGBM] [Warning] No further splits with positive gain, best gain: -inf\n",
      "[LightGBM] [Warning] No further splits with positive gain, best gain: -inf\n",
      "[LightGBM] [Warning] No further splits with positive gain, best gain: -inf\n",
      "[LightGBM] [Warning] No further splits with positive gain, best gain: -inf\n",
      "[LightGBM] [Warning] No further splits with positive gain, best gain: -inf\n",
      "[LightGBM] [Warning] No further splits with positive gain, best gain: -inf\n",
      "[LightGBM] [Warning] No further splits with positive gain, best gain: -inf\n",
      "[LightGBM] [Warning] No further splits with positive gain, best gain: -inf\n",
      "[LightGBM] [Warning] No further splits with positive gain, best gain: -inf\n",
      "[LightGBM] [Warning] No further splits with positive gain, best gain: -inf\n",
      "[LightGBM] [Warning] No further splits with positive gain, best gain: -inf\n",
      "[LightGBM] [Warning] No further splits with positive gain, best gain: -inf\n",
      "[LightGBM] [Warning] No further splits with positive gain, best gain: -inf\n",
      "[LightGBM] [Warning] No further splits with positive gain, best gain: -inf\n",
      "[LightGBM] [Warning] No further splits with positive gain, best gain: -inf\n",
      "[LightGBM] [Warning] No further splits with positive gain, best gain: -inf\n",
      "[LightGBM] [Warning] No further splits with positive gain, best gain: -inf\n",
      "[LightGBM] [Warning] No further splits with positive gain, best gain: -inf\n",
      "[LightGBM] [Warning] No further splits with positive gain, best gain: -inf\n",
      "[LightGBM] [Warning] No further splits with positive gain, best gain: -inf\n",
      "[LightGBM] [Warning] No further splits with positive gain, best gain: -inf\n",
      "[LightGBM] [Warning] No further splits with positive gain, best gain: -inf\n",
      "[LightGBM] [Warning] No further splits with positive gain, best gain: -inf\n",
      "[LightGBM] [Warning] No further splits with positive gain, best gain: -inf\n",
      "\n",
      "✅ LGBM_wave trained | Saved to ../models\\LGBM_wave.pkl\n",
      "============================================================\n",
      "\n",
      " Running evaluation on test set...\n",
      "⚠️ Imbalanced test set detected (Minority class = 8.55%)\n",
      "\n",
      "Label decoder active:\n",
      "  y_test unique: [0 1 2 3 4]\n",
      "  Classes: ['N1' 'N2' 'N3' 'REM' 'Wake']\n",
      "\n",
      "Evaluating Model: LGBMClassifier\n",
      "Hyperparameters:\n",
      "{\n",
      "    \"boosting_type\": \"gbdt\",\n",
      "    \"class_weight\": \"balanced\",\n",
      "    \"colsample_bytree\": 1.0,\n",
      "    \"importance_type\": \"split\",\n",
      "    \"learning_rate\": 0.01722703944736364,\n",
      "    \"max_depth\": 12,\n",
      "    \"min_child_samples\": 20,\n",
      "    \"min_child_weight\": 0.001,\n",
      "    \"min_split_gain\": 0.0,\n",
      "    \"n_estimators\": 400,\n",
      "    \"n_jobs\": null,\n",
      "    \"num_leaves\": 191,\n",
      "    \"objective\": null,\n",
      "    \"random_state\": null,\n",
      "    \"reg_alpha\": 0.0,\n",
      "    \"reg_lambda\": 0.0,\n",
      "    \"subsample\": 1.0,\n",
      "    \"subsample_for_bin\": 200000,\n",
      "    \"subsample_freq\": 0\n",
      "}\n",
      "\n",
      "Overall Metrics:\n",
      "| Metric             |   Score |\n",
      "|:-------------------|--------:|\n",
      "| Accuracy           |  0.7992 |\n",
      "| Weighted Precision |  0.8073 |\n",
      "| Weighted Recall    |  0.7992 |\n",
      "| Weighted F1-Score  |  0.8017 |\n",
      "\n",
      "Class-Specific Metrics:\n",
      "| Class   |   Precision |   Recall |   F1-Score |   Support |\n",
      "|:--------|------------:|---------:|-----------:|----------:|\n",
      "| N1      |      0.4726 |   0.5564 |     0.5111 |       913 |\n",
      "| N2      |      0.8822 |   0.8122 |     0.8458 |      4963 |\n",
      "| N3      |      0.7952 |   0.9077 |     0.8477 |      1604 |\n",
      "| REM     |      0.7969 |   0.7973 |     0.7971 |      2087 |\n",
      "| Wake    |      0.7847 |   0.7875 |     0.7861 |      1106 |\n"
     ]
    }
   ],
   "source": [
    "import sys\n",
    "import os\n",
    "\n",
    "from sklearn.preprocessing import LabelEncoder\n",
    "from sklearn.ensemble import RandomForestClassifier\n",
    "from lightgbm import LGBMClassifier\n",
    "from sklearn.model_selection import train_test_split\n",
    "\n",
    "import sys \n",
    "import os\n",
    "sys.path.append(os.path.abspath(\"..\"))\n",
    "\n",
    "from src.run_pipeline import tune_and_train_full\n",
    "\n",
    "# Label Encoding with decoding built into tune_and_train_full()\n",
    "le = LabelEncoder()\n",
    "y_encoded = le.fit_transform(y) \n",
    "\n",
    "X_train, X_test, y_train, y_test = train_test_split(\n",
    "    X, y_encoded, stratify=y_encoded, random_state=10)\n",
    "\n",
    "lgbm_wave, best_params, final_metrics = tune_and_train_full(\n",
    "    model_class=LGBMClassifier,\n",
    "    model_name='LGBM_wave',\n",
    "    X_train=X_train,\n",
    "    y_train=y_train,\n",
    "    X_test=X_test,\n",
    "    y_test=y_test,\n",
    "    model_params={'class_weight': 'balanced'},\n",
    "    sample_frac=0.9,\n",
    "    scoring='f1_weighted',\n",
    "    use_scaler=False,\n",
    "    n_trials=1,\n",
    "    label_encoder=le  \n",
    ")"
   ]
  },
  {
   "cell_type": "code",
   "execution_count": 3,
   "metadata": {},
   "outputs": [
    {
     "name": "stdout",
     "output_type": "stream",
     "text": [
      "\n",
      "Label decoder active:\n",
      "  y_test unique: [0 1 2 3 4]\n",
      "  Classes: ['N1' 'N2' 'N3' 'REM' 'Wake']\n",
      "\n",
      "Evaluating Model: LGBMClassifier\n",
      "Hyperparameters:\n",
      "{\n",
      "    \"boosting_type\": \"gbdt\",\n",
      "    \"class_weight\": \"balanced\",\n",
      "    \"colsample_bytree\": 1.0,\n",
      "    \"importance_type\": \"split\",\n",
      "    \"learning_rate\": 0.05209032565537784,\n",
      "    \"max_depth\": 32,\n",
      "    \"min_child_samples\": 20,\n",
      "    \"min_child_weight\": 0.001,\n",
      "    \"min_split_gain\": 0.0,\n",
      "    \"n_estimators\": 200,\n",
      "    \"n_jobs\": null,\n",
      "    \"num_leaves\": 122,\n",
      "    \"objective\": null,\n",
      "    \"random_state\": null,\n",
      "    \"reg_alpha\": 0.0,\n",
      "    \"reg_lambda\": 0.0,\n",
      "    \"subsample\": 1.0,\n",
      "    \"subsample_for_bin\": 200000,\n",
      "    \"subsample_freq\": 0\n",
      "}\n",
      "\n",
      "Overall Metrics:\n",
      "| Metric             |   Score |\n",
      "|:-------------------|--------:|\n",
      "| Accuracy           |  0.7953 |\n",
      "| Weighted Precision |  0.8021 |\n",
      "| Weighted Recall    |  0.7953 |\n",
      "| Weighted F1-Score  |  0.7976 |\n",
      "\n",
      "Class-Specific Metrics:\n",
      "| Class   |   Precision |   Recall |   F1-Score |   Support |\n",
      "|:--------|------------:|---------:|-----------:|----------:|\n",
      "| N1      |      0.459  |   0.5268 |     0.4906 |       913 |\n",
      "| N2      |      0.8757 |   0.812  |     0.8427 |      4963 |\n",
      "| N3      |      0.8114 |   0.8984 |     0.8527 |      1604 |\n",
      "| REM     |      0.7879 |   0.7954 |     0.7916 |      2087 |\n",
      "| Wake    |      0.7684 |   0.792  |     0.7801 |      1106 |\n"
     ]
    }
   ],
   "source": [
    "sys.path.append(os.path.abspath(\"..\"))\n",
    "\n",
    "import joblib\n",
    "from sklearn.preprocessing import LabelEncoder\n",
    "from src.eval import eval_classification \n",
    "\n",
    "le = LabelEncoder()\n",
    "y_encoded = le.fit_transform(y)  # y is label column\n",
    "X_train, X_test, y_train, y_test = train_test_split(X, y_encoded, stratify=y_encoded, random_state=10)\n",
    "\n",
    "lgbm_pipeline = joblib.load('../models/LGBM_wave.pkl')\n",
    "\n",
    "eval_classification(lgbm_pipeline, X_test, y_test, label_encoder=le) \n"
   ]
  },
  {
   "cell_type": "markdown",
   "metadata": {},
   "source": [
    "## Great, Classifier is Built! What Now?\n",
    "Just completed work on a sleep stage classifier that is ~80% effective. While that's not bad... we can do better, by using the elements of the data to our advantage: \n",
    "- Sleep is **not** random, it follows structured stage transitions\n",
    "- HMM can capture those structured transitions as probabilities\n",
    "- We can use a HMM approach to smooth the pipeline model's predictions into a more biologically probably sequence.\n"
   ]
  },
  {
   "cell_type": "markdown",
   "metadata": {},
   "source": [
    "### While Discussing Goals: \n",
    "**Real-time sleep classification**. It's possible (with a ton of work). That is our final product. \n",
    "\n",
    "<hr>"
   ]
  },
  {
   "cell_type": "markdown",
   "metadata": {},
   "source": [
    "### Back to Reality: HMM Smoothing Pass \n",
    "\n",
    "It's important to remember that the HMM is *not* making new predictions or replacing the already nicely trained and optimized classifier. The HMM will function to refine the outputs.  \n",
    "  \n",
    "We'll learn from the data in order to estimate stage transition probabilities. For example: how likely are you to stay in N2, or jump to N3, etc. "
   ]
  },
  {
   "cell_type": "code",
   "execution_count": 58,
   "metadata": {},
   "outputs": [],
   "source": [
    "from hmmlearn.hmm import GaussianHMM\n",
    "from sklearn.preprocessing import StandardScaler\n",
    "import numpy as np\n",
    "\n",
    "def apply_hybrid_hmm(df: pd.DataFrame, base_predictions, label_encoder, transition_matrices): \n",
    "    '''\n",
    "    Applies hybrid GaussianHMM smoothing to predicted labels using per-cycle transition matrices\n",
    "\n",
    "    Args: \n",
    "        df (pd.DataFrame): EEG data with 'cycle' and 'subject_id' cols\n",
    "        base_predictions (np.ndarray): Raw model predictions (same order as df) \n",
    "        label_encoder (LabelEncoder): Fitted encoder to convert betweeen stages labels and indices\n",
    "        transition_matrices (dict): \n",
    "            Keys= 'early', 'mid', 'late'\n",
    "            Values= 2D np.ndarray (5x5 transitions)\n",
    "\n",
    "    Returns: \n",
    "        np.ndarray: smoothed predictions using cycle-aware HMM pass-over \n",
    "    '''\n",
    "\n",
    "    df = df.copy()\n",
    "    df['pred'] = base_predictions\n",
    "\n",
    "    stage_order = label_encoder.classes_\n",
    "    n_states = len(stage_order) \n",
    "\n",
    "    smoothed_all = []\n",
    "    used_indices = [] \n",
    "\n",
    "    for (subject_id, cycle), group in df.groupby(['subject_id', 'cycle']): \n",
    "        if len(group) < n_states:\n",
    "            print(f\"⏭️ Skipping subject {subject_id}, cycle {cycle} — only {len(group)} rows\")\n",
    "            continue\n",
    "\n",
    "        X = group[['delta', 'theta', 'alpha', 'beta']].values\n",
    "        scaler = StandardScaler()\n",
    "        X_scaled = scaler.fit_transform(X) \n",
    "\n",
    "        hmm_model = GaussianHMM(n_components=n_states, \n",
    "                        covariance_type='full', \n",
    "                        n_iter=100, \n",
    "                        random_state=10)\n",
    "        \n",
    "        # startprob = np.full(n_states, 0.01)\n",
    "        # wake_index = label_encoder.transform(['Wake'])[0]\n",
    "        # startprob[wake_index] = 0.95\n",
    "        # hmm_model.startprob_ = startprob / startprob.sum()\n",
    "        \n",
    "        hmm_model.fit(X_scaled) \n",
    "\n",
    "        row_sums = hmm_model.transmat_.sum(axis=1)\n",
    "        if not np.allclose(row_sums, 1):\n",
    "            print(f\"⚠️ Fixing transmat_ for subject {subject_id}, cycle {cycle}\")\n",
    "            transmat = hmm_model.transmat_\n",
    "            transmat[row_sums == 0] = np.full(n_states, 1.0 / n_states)\n",
    "            transmat /= transmat.sum(axis=1, keepdims=True)\n",
    "            hmm_model.transmat_ = transmat\n",
    "\n",
    "        # # Select transition matrix based on cycle phase\n",
    "        # if cycle <= 1: \n",
    "        #     phase = 'early'\n",
    "        # elif cycle <= 3:\n",
    "        #     phase = 'mid'\n",
    "        # else: \n",
    "        #     phase = 'late'\n",
    "\n",
    "        # transmat = transition_matrices[phase]\n",
    "\n",
    "        \n",
    "        # hmm_model.transmat_ = transmat\n",
    "        \n",
    "        # Step 3: Override learned transition with hybrid transition logic \n",
    "        # hmm_model.transmat_ = transmat.copy()\n",
    "\n",
    "\n",
    "        # Step 4: Predict (Viterbi) and Decode!\n",
    "        smoothed_idx = hmm_model.predict(X_scaled)\n",
    "        smoothed_labels = label_encoder.inverse_transform(smoothed_idx) \n",
    "\n",
    "        smoothed_all.extend(smoothed_labels) \n",
    "        used_indices.extend(group.index.tolist())\n",
    "\n",
    "    return np.array(smoothed_all), np.array(used_indices)\n",
    "    "
   ]
  },
  {
   "cell_type": "code",
   "execution_count": 59,
   "metadata": {},
   "outputs": [],
   "source": [
    "\n",
    "# Order: ['N1', 'N2', 'N3', 'REM', 'Wake']\n",
    "transition_matrices = {\n",
    "    \"early\": np.array([\n",
    "        [0.10, 0.85, 0.00, 0.00, 0.05],  # N1 → mostly N2\n",
    "        [0.00, 0.80, 0.15, 0.00, 0.05],  # N2 → N3\n",
    "        [0.00, 0.30, 0.65, 0.00, 0.05],  # N3 → N2\n",
    "        [0.00, 0.00, 0.00, 0.90, 0.10],  # REM → Wake\n",
    "        [0.40, 0.50, 0.00, 0.00, 0.10],  # Wake → N1/N2\n",
    "    ]),\n",
    "\n",
    "    \"mid\": np.array([\n",
    "        [0.10, 0.85, 0.00, 0.00, 0.05],\n",
    "        [0.05, 0.75, 0.10, 0.05, 0.05],\n",
    "        [0.05, 0.30, 0.60, 0.00, 0.05],\n",
    "        [0.00, 0.10, 0.00, 0.80, 0.10],\n",
    "        [0.30, 0.60, 0.00, 0.00, 0.10],\n",
    "    ]),\n",
    "\n",
    "    \"late\": np.array([\n",
    "        [0.10, 0.80, 0.00, 0.05, 0.05],\n",
    "        [0.10, 0.65, 0.00, 0.15, 0.10],\n",
    "        [0.10, 0.20, 0.50, 0.00, 0.20],\n",
    "        [0.05, 0.15, 0.00, 0.75, 0.05],\n",
    "        [0.20, 0.65, 0.00, 0.10, 0.05],\n",
    "    ])\n",
    "}"
   ]
  },
  {
   "cell_type": "code",
   "execution_count": null,
   "metadata": {},
   "outputs": [],
   "source": [
    "# base_predictions = le.inverse_transform(rf_pipeline.predict(X))\n",
    "base_preds = rf_pipeline.predict(X) \n",
    "\n",
    "smoothed_preds, used_indices = apply_hybrid_hmm(df_edf, base_preds, le, transition_matrices)"
   ]
  },
  {
   "cell_type": "markdown",
   "metadata": {},
   "source": [
    "### Ready to Visualize the Hybrid HMM's performance"
   ]
  },
  {
   "cell_type": "code",
   "execution_count": null,
   "metadata": {},
   "outputs": [],
   "source": [
    "from src.eval import eval_predictions\n",
    "\n",
    "eval_predictions(smoothed_preds, np.array(y)[used_indices], le)\n"
   ]
  },
  {
   "cell_type": "code",
   "execution_count": null,
   "metadata": {},
   "outputs": [],
   "source": [
    "from src.eval import eval_predictions\n",
    "\n",
    "eval_predictions(lgbm_pipeline.predict(X_test), y_test, le)"
   ]
  },
  {
   "cell_type": "code",
   "execution_count": 3,
   "metadata": {},
   "outputs": [],
   "source": [
    "from matplotlib.colors import ListedColormap\n",
    "\n",
    "def plot_subject_sequence(subject_id, model, model_name, df: pd.DataFrame, \n",
    "                          label_encoder, label_order=None, n_epochs=50, save_path=None):\n",
    "    '''\n",
    "    Visualizes sleep stage preds vs ground truth for a specific subject\n",
    "\n",
    "    Args: \n",
    "        subject_id (int): subject ID to filter rows\n",
    "        model: Trained classifier with .predict() \n",
    "        model_name (str): Name of the model for the plot title\n",
    "        df (pd.DataFrame): full dataset with 'label' and 'subject_id'\n",
    "        label_encoder: Fitted label encoder (decoding preds)\n",
    "        label_order (list): Optional fixed order of labels \n",
    "        n_epochs (int): Number of epochs to plot (default=50)\n",
    "    '''\n",
    "    # Filter for the subject: \n",
    "    df_subj = df[df['subject_id'] == subject_id].copy()\n",
    "\n",
    "    # Predict: \n",
    "    X_subj = df_subj.drop(columns=['label'])\n",
    "    y_true = df_subj['label'].values\n",
    "\n",
    "    y_pred = label_encoder.inverse_transform(model.predict(X_subj))\n",
    "\n",
    "    # For safety, clip to n_epochs available\n",
    "    n_epochs = min(n_epochs, len(df_subj))\n",
    "    y_true, y_pred = y_true[:n_epochs], y_pred[:n_epochs] \n",
    "    df_subj = df_subj.iloc[:n_epochs]\n",
    "    \n",
    "    # Label Mapping\n",
    "    if label_order is None: \n",
    "        label_order = sorted(list(set(y_true) | set(y_pred)))\n",
    "\n",
    "    label_to_int = {label: i for i, label in enumerate(label_order)} \n",
    "    y_true_idx = [label_to_int[y] for y in y_true]\n",
    "    y_pred_idx = [label_to_int[y] for y in y_pred]\n",
    "\n",
    "    # Add a thin white row separator between Ground Truth and Classifier\n",
    "    data = np.array([y_true_idx, y_pred_idx])\n",
    "\n",
    "    stage_colors = {\n",
    "        \"Wake\": \"#9b59b6\",  # Soft lavender\n",
    "        \"N1\": \"#f1c40f\",     # Yellow\n",
    "        \"REM\": \"#e67e22\",    # Rich orange (darker than N1)\n",
    "        \"N2\": \"#1abc9c\",     # Teal\n",
    "        \"N3\": \"#2c3e50\"      # Dark blue-gray\n",
    "    }\n",
    "\n",
    "    cmap = ListedColormap([stage_colors[stage] for stage in label_order])\n",
    "\n",
    "    fig, ax = plt.subplots(figsize=(16, 3))\n",
    "    ax.imshow(data, \n",
    "              cmap=cmap, \n",
    "              aspect='auto', \n",
    "              interpolation='none', \n",
    "              extent=[0, data.shape[1], 0, data.shape[0]])\n",
    "\n",
    "    # Cycle markers with annotations\n",
    "    if 'cycle' in df_subj.columns:\n",
    "        cycle_seq = df_subj['cycle'].values[:n_epochs]\n",
    "        for i in range(1, len(cycle_seq)):\n",
    "            if cycle_seq[i] != cycle_seq[i - 1]:\n",
    "                ax.axvline(i - 0.5, color='black', linestyle='--', linewidth=3)\n",
    "                ax.text(i, 1.08, f\"Cycle {cycle_seq[i]}\", rotation=0,\n",
    "                        verticalalignment='top', horizontalalignment='center', \n",
    "                        fontsize=14, fontweight='bold')\n",
    "\n",
    "    # X-axis ticks every 200 epochs\n",
    "    ax.set_xticks(np.arange(0, n_epochs + 1, 200)) \n",
    "\n",
    "    # Draw white horizontal separator line\n",
    "    ax.axhline(y=1, color='white', linewidth=9)\n",
    "\n",
    "    ax.set_yticks([0.5, 1.5])\n",
    "    ax.set_yticklabels([f'{model_name}', 'Ground Truth'], fontsize=14)\n",
    "    ax.tick_params(axis='x', labelsize=12)\n",
    "    ax.set_title(f\"Sleep Stage Sequence – Subject {subject_id}\", fontsize=26)\n",
    "\n",
    "    handles = [plt.Line2D([0], [0], color=stage_colors[stage], lw=6) for stage in label_order]\n",
    "    ax.legend(handles, label_order, bbox_to_anchor=(1.01, 1), loc='upper left', title=\"Stages\", fontsize=12, title_fontsize=13)\n",
    "\n",
    "    plt.tight_layout()\n",
    "    plt.show()\n"
   ]
  },
  {
   "cell_type": "code",
   "execution_count": 5,
   "metadata": {},
   "outputs": [
    {
     "data": {
      "image/png": "[encoded data removed]",
      "text/plain": [
       "<Figure size 1600x300 with 1 Axes>"
      ]
     },
     "metadata": {},
     "output_type": "display_data"
    }
   ],
   "source": [
    "plot_subject_sequence(\n",
    "    subject_id = 7012, \n",
    "    model=lgbm_pipeline,\n",
    "    model_name='LGBM_wave',\n",
    "    df=df_edf,\n",
    "    label_encoder=le, \n",
    "    n_epochs=10000\n",
    ")"
   ]
  },
  {
   "cell_type": "markdown",
   "metadata": {},
   "source": [
    "## Plots Look Awesome... Maybe *Too* Awesome? \n",
    "I'm quite concerned about the model being **overfit**, so let's test that by performing some cross-validation. Specifically unique to this data, I'll adapt Leave-One-Out-CV (LOO-CV) for Leave-One-Subject-Out-CV (LOSO-CV). It'll involve holding a random subject_id out of the model training process. That way we can simulate testing our model's performance on completely new data!"
   ]
  },
  {
   "cell_type": "code",
   "execution_count": 24,
   "metadata": {},
   "outputs": [],
   "source": [
    "def loso_full(df: pd.DataFrame, model_class, model_name, n_trials=30,\n",
    "                          save_plot=False, target_subject=None, plot_dir='../sleep_plots/'):\n",
    "    '''\n",
    "    Performs leave-one-subject-out cross-validation\n",
    "\n",
    "    Args:\n",
    "        df (pd.DataFrame): Dataset including 'label' and 'subject_id'\n",
    "        model_class: Classifier to train (e.g., LGBMClassifier)\n",
    "        model_name (str): Name used for reporting\n",
    "        n_trials (int): Number of Optuna trials for tuning\n",
    "        save_plot (bool): Toggle to save plots \n",
    "        plot_dir (str): Directory to save plots\n",
    "\n",
    "    Returns:\n",
    "        results (dict): Dictionary mapping subject_id to evaluation result\n",
    "    '''\n",
    "\n",
    "    results = {}\n",
    "    if target_subject is not None:\n",
    "        subjects = [target_subject]\n",
    "    else:\n",
    "        subjects = df['subject_id'].unique()\n",
    "\n",
    "    for left_out in subjects:\n",
    "        print(f\"\\n🚪 Leaving out Subject {left_out}...\\n\")\n",
    "\n",
    "        df_train = df[df['subject_id'] != left_out].copy()\n",
    "        df_test = df[df['subject_id'] == left_out].copy()\n",
    "\n",
    "        if df_test.empty:\n",
    "            print(f\"⚠️ No data found for subject {left_out}, skipping.\")\n",
    "            continue\n",
    "\n",
    "        le = LabelEncoder()\n",
    "        le.fit(df_train['label']) \n",
    "\n",
    "        y_train = le.fit_transform(df_train['label'])\n",
    "        y_test = le.transform(df_test['label'])\n",
    "\n",
    "        X_train = df_train.drop(columns=['label'])\n",
    "        X_test = df_test.drop(columns=['label']) \n",
    "\n",
    "        trained_model, best_params = tune_and_train_full(\n",
    "            model_class=model_class,\n",
    "            model_name=f\"{model_name}_{left_out}\",\n",
    "            X_train=X_train,\n",
    "            y_train=y_train,\n",
    "            X_test=X_test,\n",
    "            y_test=y_test, \n",
    "            model_params={'class_weight': 'balanced'},\n",
    "            sample_frac=0.9,\n",
    "            scoring='f1_weighted',\n",
    "            use_scaler=False,\n",
    "            n_trials=n_trials,\n",
    "            label_encoder=le)\n",
    "        \n",
    "        results[left_out] = {\n",
    "            'model' : trained_model,\n",
    "            'best_params' : best_params, \n",
    "            'label_encoder' : le,\n",
    "        }\n",
    "\n",
    "        # Optional-- plot or save:\n",
    "        if save_plot: \n",
    "            save_path = os.path.join(plot_dir, f'{model_name}_{left_out}.png')\n",
    "            os.makedirs(os.path.dirname(save_path), exist_ok=True)\n",
    "        else: \n",
    "            save_path = None\n",
    "\n",
    "        plot_subject_sequence(\n",
    "            subject_id = left_out,\n",
    "            model = trained_model,\n",
    "            model_name = f'{model_name}_{left_out}',\n",
    "            df = df, \n",
    "            label_encoder= le, \n",
    "            n_epochs= len(df_test),\n",
    "            save_path=save_path\n",
    "        )\n",
    "\n",
    "    return results\n",
    "\n",
    "    "
   ]
  },
  {
   "cell_type": "code",
   "execution_count": 37,
   "metadata": {},
   "outputs": [
    {
     "name": "stdout",
     "output_type": "stream",
     "text": [
      "\n",
      "🚪 Leaving out Subject 7011...\n",
      "\n",
      "\n",
      "📦 Training features: ['delta', 'theta', 'alpha', 'beta', 'cycle']\n",
      "🔍 Sampled 41183 rows (99.0%)\n",
      "Class distribution:\n",
      "1    19129\n",
      "3     8145\n",
      "2     6216\n",
      "4     4177\n",
      "0     3516\n",
      "============================================================ \n",
      "\n"
     ]
    },
    {
     "name": "stderr",
     "output_type": "stream",
     "text": [
      "🔍 Tuning: 100%|████████████████████████████████████████████████████| 30/30 [07:18<00:00, 14.60s/it]\n"
     ]
    },
    {
     "name": "stdout",
     "output_type": "stream",
     "text": [
      "[LightGBM] [Info] Auto-choosing col-wise multi-threading, the overhead of testing was 0.000389 seconds.\n",
      "You can set `force_col_wise=true` to remove the overhead.\n",
      "[LightGBM] [Info] Total Bins 1026\n",
      "[LightGBM] [Info] Number of data points in the train set: 41183, number of used features: 5\n",
      "[LightGBM] [Info] Start training from score -2.460702\n",
      "[LightGBM] [Info] Start training from score -0.766820\n",
      "[LightGBM] [Info] Start training from score -1.890899\n",
      "[LightGBM] [Info] Start training from score -1.620621\n",
      "[LightGBM] [Info] Start training from score -2.288432\n",
      "[TRAINING] Starting model training...\n",
      "\n",
      "→ Training LGBM_loso_7011 with params:\n",
      "{\n",
      "    \"class_weight\": \"balanced\",\n",
      "    \"n_estimators\": 350,\n",
      "    \"max_depth\": 49,\n",
      "    \"learning_rate\": 0.05590244682522378,\n",
      "    \"num_leaves\": 36\n",
      "}\n",
      "Scaling: OFF\n",
      "[LightGBM] [Info] Auto-choosing col-wise multi-threading, the overhead of testing was 0.000454 seconds.\n",
      "You can set `force_col_wise=true` to remove the overhead.\n",
      "[LightGBM] [Info] Total Bins 1026\n",
      "[LightGBM] [Info] Number of data points in the train set: 41599, number of used features: 5\n",
      "[LightGBM] [Info] Start training from score -1.609438\n",
      "[LightGBM] [Info] Start training from score -1.609438\n",
      "[LightGBM] [Info] Start training from score -1.609438\n",
      "[LightGBM] [Info] Start training from score -1.609438\n",
      "[LightGBM] [Info] Start training from score -1.609438\n",
      "\n",
      "✅ LGBM_loso_7011 Trained!\n",
      "============================================================\n",
      "✅ Saved to c:\\Users\\andre\\OneDrive\\Desktop\\Code_Projects\\DS_Tutorials\\models\\lgbm-loso-7011.pkl\n",
      "\n",
      " Running evaluation on test set...\n",
      "⚠️ Imbalanced test set detected (Minority class = 9.25%)\n",
      "\n",
      "Label decoder active:\n",
      "  y_test unique: [0 1 2 3 4]\n",
      "  Classes: ['N1' 'N2' 'N3' 'REM' 'Wake']\n",
      "\n",
      "Evaluating Model: LGBMClassifier\n",
      "Hyperparameters:\n",
      "{\n",
      "    \"boosting_type\": \"gbdt\",\n",
      "    \"class_weight\": \"balanced\",\n",
      "    \"colsample_bytree\": 1.0,\n",
      "    \"importance_type\": \"split\",\n",
      "    \"learning_rate\": 0.05590244682522378,\n",
      "    \"max_depth\": 49,\n",
      "    \"min_child_samples\": 20,\n",
      "    \"min_child_weight\": 0.001,\n",
      "    \"min_split_gain\": 0.0,\n",
      "    \"n_estimators\": 350,\n",
      "    \"n_jobs\": null,\n",
      "    \"num_leaves\": 36,\n",
      "    \"objective\": null,\n",
      "    \"random_state\": null,\n",
      "    \"reg_alpha\": 0.0,\n",
      "    \"reg_lambda\": 0.0,\n",
      "    \"subsample\": 1.0,\n",
      "    \"subsample_for_bin\": 200000,\n",
      "    \"subsample_freq\": 0\n",
      "}\n",
      "\n",
      "Overall Metrics:\n",
      "| Metric             |   Score |\n",
      "|:-------------------|--------:|\n",
      "| Accuracy           |  0.5668 |\n",
      "| Weighted Precision |  0.6342 |\n",
      "| Weighted Recall    |  0.5668 |\n",
      "| Weighted F1-Score  |  0.5837 |\n",
      "\n",
      "Class-Specific Metrics:\n",
      "| Class   |   Precision |   Recall |   F1-Score |   Support |\n",
      "|:--------|------------:|---------:|-----------:|----------:|\n",
      "| N1      |      0.25   |   0.4752 |     0.3276 |       101 |\n",
      "| N2      |      0.7345 |   0.6957 |     0.7146 |       529 |\n",
      "| N3      |      0.7101 |   0.3603 |     0.478  |       136 |\n",
      "| REM     |      0.2812 |   0.4426 |     0.3439 |       122 |\n",
      "| Wake    |      0.7246 |   0.4902 |     0.5848 |       204 |\n"
     ]
    },
    {
     "data": {
      "image/png": "[encoded data removed]",
      "text/plain": [
       "<Figure size 1600x300 with 1 Axes>"
      ]
     },
     "metadata": {},
     "output_type": "display_data"
    }
   ],
   "source": [
    "from sklearn.preprocessing import LabelEncoder\n",
    "from lightgbm import LGBMClassifier\n",
    "from src.run_pipeline import tune_and_train_full\n",
    "from src.models.loso import loso_full\n",
    "\n",
    "loso_results = loso_full(\n",
    "    df=df_edf, \n",
    "    model_class=LGBMClassifier,\n",
    "    model_name='LGBM_loso',\n",
    "    n_trials=30,\n",
    "    save_plot=True,\n",
    "    target_subject=7011,\n",
    "    target_col='label') \n"
   ]
  },
  {
   "cell_type": "code",
   "execution_count": 30,
   "metadata": {},
   "outputs": [],
   "source": [
    "import joblib\n",
    "from sklearn.preprocessing import LabelEncoder\n",
    "\n",
    "le = LabelEncoder()\n",
    "y_encoded = le.fit_transform(y)  # y is label column\n",
    "X_train, X_test, y_train, y_test = train_test_split(X, y_encoded, stratify=y_encoded, random_state=10)\n",
    "\n",
    "loso_7021 = joblib.load('../models/LGBM_loso_7021.pkl')\n",
    "loso_7011 = joblib.load('../models/LGBM_loso_7011.pkl') \n",
    "loso_7012 = joblib.load('../models/LGBM_loso_7012.pkl') \n",
    "loso_7162 = joblib.load('../models/LGBM_loso_7162.pkl') "
   ]
  },
  {
   "cell_type": "code",
   "execution_count": null,
   "metadata": {},
   "outputs": [],
   "source": [
    "from src.models.loso import plot_subject_sequence\n",
    "\n",
    "plot_subject_sequence(7011, \n",
    "                      loso_7011, \n",
    "                      'LGBM_loso_7011', \n",
    "                      df_edf, \n",
    "                      le, \n",
    "                      n_epochs=1000000000000)"
   ]
  },
  {
   "cell_type": "code",
   "execution_count": 70,
   "metadata": {},
   "outputs": [
    {
     "data": {
      "text/plain": [
       "np.float64(2.2481085006207397)"
      ]
     },
     "execution_count": 70,
     "metadata": {},
     "output_type": "execute_result"
    }
   ],
   "source": [
    "# df_edf['cycle'].value_counts(normalize=True)\n",
    "\n",
    "# df_edf.groupby('subject_id')['cycle'].mean()\n",
    "df_edf['cycle'].mean()"
   ]
  },
  {
   "cell_type": "markdown",
   "metadata": {},
   "source": [
    "## Intelligent Feature Tracking System\n",
    "1. Define feature function (adds to df_edf)\n",
    "2. Log the feature name + code\n",
    "3. Apply to eeg_hypno.csv \n",
    "4. Run LOSO on 1 subject \n",
    "5. Save results (metrics + config) \n",
    "6. Repeat with new features!"
   ]
  },
  {
   "cell_type": "code",
   "execution_count": 28,
   "metadata": {},
   "outputs": [],
   "source": [
    "FEATURE_REGISTRY = [] \n",
    "\n",
    "def register_feature(name, feature_func, notes=''): \n",
    "    '''\n",
    "    Registers a new feature function with a name and notes\n",
    "\n",
    "    Args: \n",
    "        name (str): Name of the feature\n",
    "        feature_func (callable): Function to compute the feature\n",
    "        notes (str): Optional notes about the feature\n",
    "    '''\n",
    "    FEATURE_REGISTRY.append({\n",
    "        'name': name,\n",
    "        'func': feature_func,\n",
    "        'notes': notes\n",
    "    })\n",
    "    print(f\"✅ Registered feature: {name}\")"
   ]
  },
  {
   "cell_type": "markdown",
   "metadata": {},
   "source": [
    "#### Adding Temporal Contexts"
   ]
  },
  {
   "cell_type": "code",
   "execution_count": 29,
   "metadata": {},
   "outputs": [
    {
     "name": "stdout",
     "output_type": "stream",
     "text": [
      "✅ Registered feature: +- temporal bandpower\n"
     ]
    }
   ],
   "source": [
    "def feat_temporal_t1(df:pd.DataFrame): \n",
    "    return add_temporal_context(df, ['delta', 'theta', 'alpha', 'beta'], shifts=[-1,1])\n",
    "\n",
    "register_feature(\n",
    "    name='+- temporal bandpower',\n",
    "    feature_func=feat_temporal_t1,\n",
    "    notes='Adds t-1 and t+1 EEG band powers. Drops NaNs at edges'\n",
    ")"
   ]
  },
  {
   "cell_type": "markdown",
   "metadata": {},
   "source": [
    "#### Run + Track Experiment Results"
   ]
  },
  {
   "cell_type": "code",
   "execution_count": null,
   "metadata": {},
   "outputs": [],
   "source": [
    "RESULT_LOG = []\n",
    "\n",
    "def run_feature_experiment_loso(\n",
    "        df:pd.DataFrame,\n",
    "        feature_entry, \n",
    "        target_subject,\n",
    "        model_class, \n",
    "        model_name, \n",
    "        n_trials=30, \n",
    "        save_plot=True): \n",
    "    '''\n",
    "    Applies a feature func, runs LOSO and logs results (RESULT LOG)\n",
    "\n",
    "    Parameters: \n",
    "        base_df (pd.DataFrame):  df_edf (raw)\n",
    "        feature_entry (dict): Feat registry ('name', 'func', 'notes', etc.)\n",
    "        target_subject (int): Subject ID to leave out and test on\n",
    "        model_class (sklearn): ex. RandomForestClassifier\n",
    "        model_name (str): Name for model tracking\n",
    "        n_trials (int): Number of trials for Optuna\n",
    "        save_plot (bool): Whether or not to save plots\n",
    "\n",
    "    Returns: \n",
    "        results (dict): Dictionary with feature metadata\n",
    "    '''\n",
    "    # Apply feature transformation: \n",
    "    df_feat = feature_entry['func'](df.copy()) \n",
    "\n",
    "    # Run LOSO\n",
    "    results = loso_full(\n",
    "        df=df_feat, \n",
    "        model_class=model_class,\n",
    "        model_name=model_name,\n",
    "        n_trials=n_trials,\n",
    "        save_plot=save_plot,\n",
    "        target_subject=target_subject)\n",
    "    \n",
    "    # Add metadata \n",
    "    results['feature_name'] = feature_entry['name'] \n",
    "    results['notes'] = feature_entry['notes']\n",
    "    results['target_subject'] = target_subject\n",
    "    results['model_used'] = model_name\n",
    "\n",
    "    return results\n",
    "\n"
   ]
  },
  {
   "cell_type": "code",
   "execution_count": null,
   "metadata": {},
   "outputs": [],
   "source": [
    "from lightgbm import LGBMClassifier\n",
    "from sklearn.ensemble import RandomForestClassifier\n",
    "\n",
    "from src.run_pipeline import tune_and_train_full\n",
    "\n",
    "# set the feature to test: \n",
    "feature_to_test = FEATURE_REGISTRY[0] \n",
    "\n",
    "# Select model and subject:\n",
    "model_class = LGBMClassifier\n",
    "target_subject = 7242\n",
    "\n",
    "# Descriptive model name: \n",
    "model_name = f'{model_class.__name__}_loso_{feature_to_test['name'].replace(\" \", \"_\")}'\n",
    "\n",
    "# Run the experiment: \n",
    "result = run_feature_experiment_loso(\n",
    "    base_df=df_edf, \n",
    "    feature_entry=feature_to_test, \n",
    "    target_subject=target_subject,\n",
    "    model_class=model_class, \n",
    "    model_name=model_name,\n",
    "    n_trials=30, \n",
    "    save_plot=True\n",
    ")"
   ]
  },
  {
   "cell_type": "markdown",
   "metadata": {},
   "source": [
    "## Binary Classification\n",
    "It might be advantageous to turn this multiclass problem into a binary classification problem (REM and NREM) "
   ]
  },
  {
   "cell_type": "code",
   "execution_count": null,
   "metadata": {},
   "outputs": [],
   "source": [
    "# Something something [N1, N2, N3, Wake] in NREM\n",
    "# Should strengthen classification \n",
    "# If we need to include N1 in the REM category for biowake purposes... \n",
    "# That can be arranged, we'll just rename the cats to something suitable\n",
    "\n"
   ]
  },
  {
   "cell_type": "code",
   "execution_count": null,
   "metadata": {},
   "outputs": [],
   "source": [
    "# Removed subject_id from model training\n",
    "# Lead to an unfortunate but important drop in both binary and multi metrics \n",
    "# Seems there was some overfitting going on after all... \n",
    "# Models were \"cheating\" by learning patterns directly from the subject \n",
    "# (instead of just getting good at learning from bands)"
   ]
  },
  {
   "cell_type": "code",
   "execution_count": 1,
   "metadata": {},
   "outputs": [
    {
     "name": "stdout",
     "output_type": "stream",
     "text": [
      "2.7.0+cu118\n",
      "True\n",
      "NVIDIA GeForce RTX 4070 Laptop GPU\n"
     ]
    }
   ],
   "source": [
    "import torch\n",
    "print(torch.__version__)\n",
    "print(torch.cuda.is_available())  # Should now be True!\n",
    "print(torch.cuda.get_device_name())  # Should say RTX 4070"
   ]
  },
  {
   "cell_type": "code",
   "execution_count": 1,
   "metadata": {},
   "outputs": [
    {
     "ename": "NameError",
     "evalue": "name 'df_edf' is not defined",
     "output_type": "error",
     "traceback": [
      "\u001b[1;31m---------------------------------------------------------------------------\u001b[0m",
      "\u001b[1;31mNameError\u001b[0m                                 Traceback (most recent call last)",
      "Cell \u001b[1;32mIn[1], line 1\u001b[0m\n\u001b[1;32m----> 1\u001b[0m \u001b[43mdf_edf\u001b[49m\n",
      "\u001b[1;31mNameError\u001b[0m: name 'df_edf' is not defined"
     ]
    }
   ],
   "source": [
    "df_edf"
   ]
  },
  {
   "cell_type": "code",
   "execution_count": null,
   "metadata": {},
   "outputs": [],
   "source": [
    "from src.datasets.sequence_dataset import LSTMDataset\n",
    "\n",
    "dataset = LSTMDataset(df_edf, feature_cols=['delta', 'theta', 'alpha', 'beta', 'cycle', 'norm_time', 'label'], window_size=10, seq2seq=True)\n",
    "\n",
    "x, y = dataset[0]\n",
    "print(x.shape)  \n",
    "print(y.shape) "
   ]
  },
  {
   "cell_type": "code",
   "execution_count": 16,
   "metadata": {},
   "outputs": [
    {
     "data": {
      "text/html": [
       "<div>\n",
       "<style scoped>\n",
       "    .dataframe tbody tr th:only-of-type {\n",
       "        vertical-align: middle;\n",
       "    }\n",
       "\n",
       "    .dataframe tbody tr th {\n",
       "        vertical-align: top;\n",
       "    }\n",
       "\n",
       "    .dataframe thead th {\n",
       "        text-align: right;\n",
       "    }\n",
       "</style>\n",
       "<table border=\"1\" class=\"dataframe\">\n",
       "  <thead>\n",
       "    <tr style=\"text-align: right;\">\n",
       "      <th></th>\n",
       "      <th>delta</th>\n",
       "      <th>theta</th>\n",
       "      <th>alpha</th>\n",
       "      <th>beta</th>\n",
       "    </tr>\n",
       "  </thead>\n",
       "  <tbody>\n",
       "    <tr>\n",
       "      <th>count</th>\n",
       "      <td>8.349000e+03</td>\n",
       "      <td>8.349000e+03</td>\n",
       "      <td>8.349000e+03</td>\n",
       "      <td>8.349000e+03</td>\n",
       "    </tr>\n",
       "    <tr>\n",
       "      <th>mean</th>\n",
       "      <td>3.221615e-11</td>\n",
       "      <td>5.315007e-12</td>\n",
       "      <td>1.649456e-12</td>\n",
       "      <td>5.852052e-13</td>\n",
       "    </tr>\n",
       "    <tr>\n",
       "      <th>std</th>\n",
       "      <td>3.578095e-11</td>\n",
       "      <td>3.617487e-12</td>\n",
       "      <td>1.324684e-12</td>\n",
       "      <td>7.174190e-13</td>\n",
       "    </tr>\n",
       "    <tr>\n",
       "      <th>min</th>\n",
       "      <td>2.600732e-12</td>\n",
       "      <td>7.168107e-13</td>\n",
       "      <td>2.715201e-13</td>\n",
       "      <td>1.107537e-13</td>\n",
       "    </tr>\n",
       "    <tr>\n",
       "      <th>25%</th>\n",
       "      <td>1.338291e-11</td>\n",
       "      <td>2.983952e-12</td>\n",
       "      <td>8.496138e-13</td>\n",
       "      <td>2.646855e-13</td>\n",
       "    </tr>\n",
       "    <tr>\n",
       "      <th>50%</th>\n",
       "      <td>2.214247e-11</td>\n",
       "      <td>4.415837e-12</td>\n",
       "      <td>1.214784e-12</td>\n",
       "      <td>3.750883e-13</td>\n",
       "    </tr>\n",
       "    <tr>\n",
       "      <th>75%</th>\n",
       "      <td>3.763348e-11</td>\n",
       "      <td>6.430798e-12</td>\n",
       "      <td>1.948605e-12</td>\n",
       "      <td>6.022325e-13</td>\n",
       "    </tr>\n",
       "    <tr>\n",
       "      <th>max</th>\n",
       "      <td>7.712539e-10</td>\n",
       "      <td>4.077287e-11</td>\n",
       "      <td>2.035418e-11</td>\n",
       "      <td>2.887856e-11</td>\n",
       "    </tr>\n",
       "  </tbody>\n",
       "</table>\n",
       "</div>"
      ],
      "text/plain": [
       "              delta         theta         alpha          beta\n",
       "count  8.349000e+03  8.349000e+03  8.349000e+03  8.349000e+03\n",
       "mean   3.221615e-11  5.315007e-12  1.649456e-12  5.852052e-13\n",
       "std    3.578095e-11  3.617487e-12  1.324684e-12  7.174190e-13\n",
       "min    2.600732e-12  7.168107e-13  2.715201e-13  1.107537e-13\n",
       "25%    1.338291e-11  2.983952e-12  8.496138e-13  2.646855e-13\n",
       "50%    2.214247e-11  4.415837e-12  1.214784e-12  3.750883e-13\n",
       "75%    3.763348e-11  6.430798e-12  1.948605e-12  6.022325e-13\n",
       "max    7.712539e-10  4.077287e-11  2.035418e-11  2.887856e-11"
      ]
     },
     "execution_count": 16,
     "metadata": {},
     "output_type": "execute_result"
    }
   ],
   "source": [
    "df_edf[df_edf['label'] == 'REM'][['delta', 'theta', 'alpha', 'beta']].describe()\n"
   ]
  },
  {
   "cell_type": "code",
   "execution_count": 19,
   "metadata": {},
   "outputs": [],
   "source": [
    "import os \n",
    "import sys \n",
    "\n",
    "PROJECT_ROOT = os.path.abspath(os.path.join(os.getcwd(), \"..\"))\n",
    "sys.path.append(PROJECT_ROOT)\n",
    "\n",
    "from src.tune import optuna_lstm_tuner\n",
    "\n",
    "\n",
    "from src.utils.loaders import load_eeg_data\n",
    "\n",
    "# Load your EEG dataset and feature list\n",
    "df = load_eeg_data(\"eeg_hypno.csv\")  # or whatever your default is\n",
    "features = ['delta', 'theta', 'alpha', 'beta', 'cycle', 'norm_time']\n",
    "\n",
    "# Create a static config just like the CLI does\n",
    "static_config = {\n",
    "    \"df\": df,\n",
    "    \"feature_cols\": features,\n",
    "    \"label_col\": \"binary_label\",\n",
    "    \"is_binary\": True,\n",
    "    \"verbose\": False,\n",
    "    \"auto_thresh\": True,\n",
    "    \"plot_thresholds\": False,\n",
    "}"
   ]
  },
  {
   "cell_type": "code",
   "execution_count": 20,
   "metadata": {},
   "outputs": [
    {
     "name": "stderr",
     "output_type": "stream",
     "text": []
    },
    {
     "name": "stdout",
     "output_type": "stream",
     "text": [
      "[INFO] Using device: cuda\n"
     ]
    },
    {
     "name": "stderr",
     "output_type": "stream",
     "text": []
    },
    {
     "name": "stdout",
     "output_type": "stream",
     "text": [
      "✅ LSTM training complete.\n",
      "\n",
      "\n",
      "[METRICS] | Weighted F1: 0.0591 | Accuracy: 0.1872\n",
      "\n",
      "[INFO] Using device: cuda\n"
     ]
    },
    {
     "name": "stderr",
     "output_type": "stream",
     "text": []
    },
    {
     "name": "stdout",
     "output_type": "stream",
     "text": [
      "✅ LSTM training complete.\n",
      "\n",
      "\n",
      "[METRICS] | Weighted F1: 0.8282 | Accuracy: 0.8421\n",
      "\n",
      "[INFO] Using device: cuda\n"
     ]
    },
    {
     "name": "stderr",
     "output_type": "stream",
     "text": []
    },
    {
     "name": "stdout",
     "output_type": "stream",
     "text": [
      "✅ LSTM training complete.\n",
      "\n",
      "\n",
      "[METRICS] | Weighted F1: 0.0631 | Accuracy: 0.1941\n",
      "\n",
      "[INFO] Using device: cuda\n",
      "✅ LSTM training complete.\n",
      "\n"
     ]
    },
    {
     "name": "stderr",
     "output_type": "stream",
     "text": []
    },
    {
     "name": "stdout",
     "output_type": "stream",
     "text": [
      "\n",
      "[METRICS] | Weighted F1: 0.7995 | Accuracy: 0.8006\n",
      "\n",
      "[INFO] Using device: cuda\n"
     ]
    },
    {
     "name": "stderr",
     "output_type": "stream",
     "text": [
      "🔍 Tuning: 100%|██████████████████████████████████████████████████████| 5/5 [01:07<00:00, 13.57s/it]"
     ]
    },
    {
     "name": "stdout",
     "output_type": "stream",
     "text": [
      "✅ LSTM training complete.\n",
      "\n",
      "\n",
      "[METRICS] | Weighted F1: 0.7965 | Accuracy: 0.7924\n",
      "\n",
      "✅ Exported subject scores to c:\\Users\\andre\\OneDrive\\Desktop\\Code_Projects\\DS_Tutorials\\logs\\optuna_lstm_05-20.csv\n",
      "✅ Exported subject scores to c:\\Users\\andre\\OneDrive\\Desktop\\Code_Projects\\DS_Tutorials\\logs\\optuna_lstm_05-20.csv\n",
      "✅ Exported subject scores to c:\\Users\\andre\\OneDrive\\Desktop\\Code_Projects\\DS_Tutorials\\logs\\optuna_lstm_05-20.csv\n",
      "✅ Exported subject scores to c:\\Users\\andre\\OneDrive\\Desktop\\Code_Projects\\DS_Tutorials\\logs\\optuna_lstm_05-20.csv\n",
      "✅ Exported subject scores to c:\\Users\\andre\\OneDrive\\Desktop\\Code_Projects\\DS_Tutorials\\logs\\optuna_lstm_05-20.csv\n"
     ]
    },
    {
     "name": "stderr",
     "output_type": "stream",
     "text": [
      "\n"
     ]
    }
   ],
   "source": [
    "\n",
    "\n",
    "\n",
    "from src.tune import optuna_lstm_tuner\n",
    "\n",
    "best_params, study = optuna_lstm_tuner(\n",
    "    n_trials = 5, \n",
    "    random_state =10, \n",
    "    static_config=static_config,\n",
    "    subject_list=[7242]\n",
    ")"
   ]
  },
  {
   "cell_type": "code",
   "execution_count": 21,
   "metadata": {},
   "outputs": [],
   "source": [
    "from optuna.visualization import plot_parallel_coordinate, plot_contour\n",
    "import plotly.io as pio\n",
    "\n",
    "# Optional: force Plotly to use Kaleido\n",
    "pio.kaleido.scope.default_format = \"png\"\n",
    "\n",
    "fig = plot_parallel_coordinate(study)\n",
    "fig.write_image(\"debug_parallel.png\")\n",
    "\n",
    "fig2 = plot_contour(study, params=[\"learning_rate\", \"dropout\"])  # or any other pair\n",
    "fig2.write_image(\"debug_contour.png\")\n"
   ]
  },
  {
   "cell_type": "code",
   "execution_count": 23,
   "metadata": {},
   "outputs": [
    {
     "data": {
      "application/vnd.plotly.v1+json": {
       "config": {
        "plotlyServerURL": "https://plot.ly"
       },
       "data": [
        {
         "dimensions": [
          {
           "label": "Objective Value",
           "range": [
            0.059050452379590196,
            0.8282175004335277
           ],
           "values": [
            0.059050452379590196,
            0.8282175004335277,
            0.7994633653626365,
            0.796485713244701,
            0.063080052734051
           ]
          },
          {
           "label": "batch_size",
           "range": [
            0,
            1
           ],
           "ticktext": [
            "64",
            "128"
           ],
           "tickvals": [
            0,
            1
           ],
           "values": [
            0,
            0,
            0,
            1,
            1
           ]
          },
          {
           "label": "bidirectional",
           "range": [
            0,
            1
           ],
           "ticktext": [
            "True",
            "False"
           ],
           "tickvals": [
            0,
            1
           ],
           "values": [
            0,
            0,
            1,
            1,
            0
           ]
          },
          {
           "label": "dropout",
           "range": [
            0.17957901587152492,
            0.46113270413265095
           ],
           "values": [
            0.2994028049210362,
            0.36965344602653816,
            0.46113270413265095,
            0.34223102575750275,
            0.17957901587152492
           ]
          },
          {
           "label": "epochs",
           "range": [
            8,
            14
           ],
           "values": [
            13,
            8,
            9,
            10,
            14
           ]
          },
          {
           "label": "hidden_size",
           "range": [
            0,
            1
           ],
           "ticktext": [
            "64",
            "128"
           ],
           "tickvals": [
            0,
            1
           ],
           "values": [
            0,
            0,
            1,
            0,
            1
           ]
          },
          {
           "label": "learning_rate",
           "range": [
            -3.921436465549225,
            -2.4789385756020823
           ],
           "ticktext": [
            "0.00012",
            "0.001",
            "0.00332"
           ],
           "tickvals": [
            -3.921436465549225,
            -3,
            -2.4789385756020823
           ],
           "values": [
            -2.4789385756020823,
            -2.7644660430613657,
            -3.921436465549225,
            -3.475568677736099,
            -2.490704616940285
           ]
          },
          {
           "label": "num_layers",
           "range": [
            2,
            3
           ],
           "values": [
            3,
            2,
            2,
            2,
            3
           ]
          },
          {
           "label": "seq_len",
           "range": [
            0,
            2
           ],
           "ticktext": [
            "32",
            "64",
            "128"
           ],
           "tickvals": [
            0,
            1,
            2
           ],
           "values": [
            0,
            2,
            1,
            2,
            1
           ]
          },
          {
           "label": "stride",
           "range": [
            0,
            2
           ],
           "ticktext": [
            "1",
            "2",
            "4"
           ],
           "tickvals": [
            0,
            1,
            2
           ],
           "values": [
            2,
            1,
            0,
            2,
            1
           ]
          },
          {
           "label": "weight_decay",
           "range": [
            -4.870707931385017,
            -2.037123575294383
           ],
           "ticktext": [
            "1.35e-05",
            "0.0001",
            "0.001",
            "0.00918"
           ],
           "tickvals": [
            -4.870707931385017,
            -4,
            -3,
            -2.037123575294383
           ],
           "values": [
            -2.2466776324611697,
            -2.51395602107697,
            -4.870707931385017,
            -3.9808764690864087,
            -2.037123575294383
           ]
          }
         ],
         "labelangle": 30,
         "labelside": "bottom",
         "line": {
          "color": [
           0.059050452379590196,
           0.8282175004335277,
           0.7994633653626365,
           0.796485713244701,
           0.063080052734051
          ],
          "colorbar": {
           "title": {
            "text": "Objective Value"
           }
          },
          "colorscale": [
           [
            0,
            "rgb(247,251,255)"
           ],
           [
            0.125,
            "rgb(222,235,247)"
           ],
           [
            0.25,
            "rgb(198,219,239)"
           ],
           [
            0.375,
            "rgb(158,202,225)"
           ],
           [
            0.5,
            "rgb(107,174,214)"
           ],
           [
            0.625,
            "rgb(66,146,198)"
           ],
           [
            0.75,
            "rgb(33,113,181)"
           ],
           [
            0.875,
            "rgb(8,81,156)"
           ],
           [
            1,
            "rgb(8,48,107)"
           ]
          ],
          "reversescale": false,
          "showscale": true
         },
         "type": "parcoords"
        }
       ],
       "layout": {
        "template": {
         "data": {
          "bar": [
           {
            "error_x": {
             "color": "#2a3f5f"
            },
            "error_y": {
             "color": "#2a3f5f"
            },
            "marker": {
             "line": {
              "color": "#E5ECF6",
              "width": 0.5
             },
             "pattern": {
              "fillmode": "overlay",
              "size": 10,
              "solidity": 0.2
             }
            },
            "type": "bar"
           }
          ],
          "barpolar": [
           {
            "marker": {
             "line": {
              "color": "#E5ECF6",
              "width": 0.5
             },
             "pattern": {
              "fillmode": "overlay",
              "size": 10,
              "solidity": 0.2
             }
            },
            "type": "barpolar"
           }
          ],
          "carpet": [
           {
            "aaxis": {
             "endlinecolor": "#2a3f5f",
             "gridcolor": "white",
             "linecolor": "white",
             "minorgridcolor": "white",
             "startlinecolor": "#2a3f5f"
            },
            "baxis": {
             "endlinecolor": "#2a3f5f",
             "gridcolor": "white",
             "linecolor": "white",
             "minorgridcolor": "white",
             "startlinecolor": "#2a3f5f"
            },
            "type": "carpet"
           }
          ],
          "choropleth": [
           {
            "colorbar": {
             "outlinewidth": 0,
             "ticks": ""
            },
            "type": "choropleth"
           }
          ],
          "contour": [
           {
            "colorbar": {
             "outlinewidth": 0,
             "ticks": ""
            },
            "colorscale": [
             [
              0,
              "#0d0887"
             ],
             [
              0.1111111111111111,
              "#46039f"
             ],
             [
              0.2222222222222222,
              "#7201a8"
             ],
             [
              0.3333333333333333,
              "#9c179e"
             ],
             [
              0.4444444444444444,
              "#bd3786"
             ],
             [
              0.5555555555555556,
              "#d8576b"
             ],
             [
              0.6666666666666666,
              "#ed7953"
             ],
             [
              0.7777777777777778,
              "#fb9f3a"
             ],
             [
              0.8888888888888888,
              "#fdca26"
             ],
             [
              1,
              "#f0f921"
             ]
            ],
            "type": "contour"
           }
          ],
          "contourcarpet": [
           {
            "colorbar": {
             "outlinewidth": 0,
             "ticks": ""
            },
            "type": "contourcarpet"
           }
          ],
          "heatmap": [
           {
            "colorbar": {
             "outlinewidth": 0,
             "ticks": ""
            },
            "colorscale": [
             [
              0,
              "#0d0887"
             ],
             [
              0.1111111111111111,
              "#46039f"
             ],
             [
              0.2222222222222222,
              "#7201a8"
             ],
             [
              0.3333333333333333,
              "#9c179e"
             ],
             [
              0.4444444444444444,
              "#bd3786"
             ],
             [
              0.5555555555555556,
              "#d8576b"
             ],
             [
              0.6666666666666666,
              "#ed7953"
             ],
             [
              0.7777777777777778,
              "#fb9f3a"
             ],
             [
              0.8888888888888888,
              "#fdca26"
             ],
             [
              1,
              "#f0f921"
             ]
            ],
            "type": "heatmap"
           }
          ],
          "histogram": [
           {
            "marker": {
             "pattern": {
              "fillmode": "overlay",
              "size": 10,
              "solidity": 0.2
             }
            },
            "type": "histogram"
           }
          ],
          "histogram2d": [
           {
            "colorbar": {
             "outlinewidth": 0,
             "ticks": ""
            },
            "colorscale": [
             [
              0,
              "#0d0887"
             ],
             [
              0.1111111111111111,
              "#46039f"
             ],
             [
              0.2222222222222222,
              "#7201a8"
             ],
             [
              0.3333333333333333,
              "#9c179e"
             ],
             [
              0.4444444444444444,
              "#bd3786"
             ],
             [
              0.5555555555555556,
              "#d8576b"
             ],
             [
              0.6666666666666666,
              "#ed7953"
             ],
             [
              0.7777777777777778,
              "#fb9f3a"
             ],
             [
              0.8888888888888888,
              "#fdca26"
             ],
             [
              1,
              "#f0f921"
             ]
            ],
            "type": "histogram2d"
           }
          ],
          "histogram2dcontour": [
           {
            "colorbar": {
             "outlinewidth": 0,
             "ticks": ""
            },
            "colorscale": [
             [
              0,
              "#0d0887"
             ],
             [
              0.1111111111111111,
              "#46039f"
             ],
             [
              0.2222222222222222,
              "#7201a8"
             ],
             [
              0.3333333333333333,
              "#9c179e"
             ],
             [
              0.4444444444444444,
              "#bd3786"
             ],
             [
              0.5555555555555556,
              "#d8576b"
             ],
             [
              0.6666666666666666,
              "#ed7953"
             ],
             [
              0.7777777777777778,
              "#fb9f3a"
             ],
             [
              0.8888888888888888,
              "#fdca26"
             ],
             [
              1,
              "#f0f921"
             ]
            ],
            "type": "histogram2dcontour"
           }
          ],
          "mesh3d": [
           {
            "colorbar": {
             "outlinewidth": 0,
             "ticks": ""
            },
            "type": "mesh3d"
           }
          ],
          "parcoords": [
           {
            "line": {
             "colorbar": {
              "outlinewidth": 0,
              "ticks": ""
             }
            },
            "type": "parcoords"
           }
          ],
          "pie": [
           {
            "automargin": true,
            "type": "pie"
           }
          ],
          "scatter": [
           {
            "fillpattern": {
             "fillmode": "overlay",
             "size": 10,
             "solidity": 0.2
            },
            "type": "scatter"
           }
          ],
          "scatter3d": [
           {
            "line": {
             "colorbar": {
              "outlinewidth": 0,
              "ticks": ""
             }
            },
            "marker": {
             "colorbar": {
              "outlinewidth": 0,
              "ticks": ""
             }
            },
            "type": "scatter3d"
           }
          ],
          "scattercarpet": [
           {
            "marker": {
             "colorbar": {
              "outlinewidth": 0,
              "ticks": ""
             }
            },
            "type": "scattercarpet"
           }
          ],
          "scattergeo": [
           {
            "marker": {
             "colorbar": {
              "outlinewidth": 0,
              "ticks": ""
             }
            },
            "type": "scattergeo"
           }
          ],
          "scattergl": [
           {
            "marker": {
             "colorbar": {
              "outlinewidth": 0,
              "ticks": ""
             }
            },
            "type": "scattergl"
           }
          ],
          "scattermap": [
           {
            "marker": {
             "colorbar": {
              "outlinewidth": 0,
              "ticks": ""
             }
            },
            "type": "scattermap"
           }
          ],
          "scattermapbox": [
           {
            "marker": {
             "colorbar": {
              "outlinewidth": 0,
              "ticks": ""
             }
            },
            "type": "scattermapbox"
           }
          ],
          "scatterpolar": [
           {
            "marker": {
             "colorbar": {
              "outlinewidth": 0,
              "ticks": ""
             }
            },
            "type": "scatterpolar"
           }
          ],
          "scatterpolargl": [
           {
            "marker": {
             "colorbar": {
              "outlinewidth": 0,
              "ticks": ""
             }
            },
            "type": "scatterpolargl"
           }
          ],
          "scatterternary": [
           {
            "marker": {
             "colorbar": {
              "outlinewidth": 0,
              "ticks": ""
             }
            },
            "type": "scatterternary"
           }
          ],
          "surface": [
           {
            "colorbar": {
             "outlinewidth": 0,
             "ticks": ""
            },
            "colorscale": [
             [
              0,
              "#0d0887"
             ],
             [
              0.1111111111111111,
              "#46039f"
             ],
             [
              0.2222222222222222,
              "#7201a8"
             ],
             [
              0.3333333333333333,
              "#9c179e"
             ],
             [
              0.4444444444444444,
              "#bd3786"
             ],
             [
              0.5555555555555556,
              "#d8576b"
             ],
             [
              0.6666666666666666,
              "#ed7953"
             ],
             [
              0.7777777777777778,
              "#fb9f3a"
             ],
             [
              0.8888888888888888,
              "#fdca26"
             ],
             [
              1,
              "#f0f921"
             ]
            ],
            "type": "surface"
           }
          ],
          "table": [
           {
            "cells": {
             "fill": {
              "color": "#EBF0F8"
             },
             "line": {
              "color": "white"
             }
            },
            "header": {
             "fill": {
              "color": "#C8D4E3"
             },
             "line": {
              "color": "white"
             }
            },
            "type": "table"
           }
          ]
         },
         "layout": {
          "annotationdefaults": {
           "arrowcolor": "#2a3f5f",
           "arrowhead": 0,
           "arrowwidth": 1
          },
          "autotypenumbers": "strict",
          "coloraxis": {
           "colorbar": {
            "outlinewidth": 0,
            "ticks": ""
           }
          },
          "colorscale": {
           "diverging": [
            [
             0,
             "#8e0152"
            ],
            [
             0.1,
             "#c51b7d"
            ],
            [
             0.2,
             "#de77ae"
            ],
            [
             0.3,
             "#f1b6da"
            ],
            [
             0.4,
             "#fde0ef"
            ],
            [
             0.5,
             "#f7f7f7"
            ],
            [
             0.6,
             "#e6f5d0"
            ],
            [
             0.7,
             "#b8e186"
            ],
            [
             0.8,
             "#7fbc41"
            ],
            [
             0.9,
             "#4d9221"
            ],
            [
             1,
             "#276419"
            ]
           ],
           "sequential": [
            [
             0,
             "#0d0887"
            ],
            [
             0.1111111111111111,
             "#46039f"
            ],
            [
             0.2222222222222222,
             "#7201a8"
            ],
            [
             0.3333333333333333,
             "#9c179e"
            ],
            [
             0.4444444444444444,
             "#bd3786"
            ],
            [
             0.5555555555555556,
             "#d8576b"
            ],
            [
             0.6666666666666666,
             "#ed7953"
            ],
            [
             0.7777777777777778,
             "#fb9f3a"
            ],
            [
             0.8888888888888888,
             "#fdca26"
            ],
            [
             1,
             "#f0f921"
            ]
           ],
           "sequentialminus": [
            [
             0,
             "#0d0887"
            ],
            [
             0.1111111111111111,
             "#46039f"
            ],
            [
             0.2222222222222222,
             "#7201a8"
            ],
            [
             0.3333333333333333,
             "#9c179e"
            ],
            [
             0.4444444444444444,
             "#bd3786"
            ],
            [
             0.5555555555555556,
             "#d8576b"
            ],
            [
             0.6666666666666666,
             "#ed7953"
            ],
            [
             0.7777777777777778,
             "#fb9f3a"
            ],
            [
             0.8888888888888888,
             "#fdca26"
            ],
            [
             1,
             "#f0f921"
            ]
           ]
          },
          "colorway": [
           "#636efa",
           "#EF553B",
           "#00cc96",
           "#ab63fa",
           "#FFA15A",
           "#19d3f3",
           "#FF6692",
           "#B6E880",
           "#FF97FF",
           "#FECB52"
          ],
          "font": {
           "color": "#2a3f5f"
          },
          "geo": {
           "bgcolor": "white",
           "lakecolor": "white",
           "landcolor": "#E5ECF6",
           "showlakes": true,
           "showland": true,
           "subunitcolor": "white"
          },
          "hoverlabel": {
           "align": "left"
          },
          "hovermode": "closest",
          "mapbox": {
           "style": "light"
          },
          "paper_bgcolor": "white",
          "plot_bgcolor": "#E5ECF6",
          "polar": {
           "angularaxis": {
            "gridcolor": "white",
            "linecolor": "white",
            "ticks": ""
           },
           "bgcolor": "#E5ECF6",
           "radialaxis": {
            "gridcolor": "white",
            "linecolor": "white",
            "ticks": ""
           }
          },
          "scene": {
           "xaxis": {
            "backgroundcolor": "#E5ECF6",
            "gridcolor": "white",
            "gridwidth": 2,
            "linecolor": "white",
            "showbackground": true,
            "ticks": "",
            "zerolinecolor": "white"
           },
           "yaxis": {
            "backgroundcolor": "#E5ECF6",
            "gridcolor": "white",
            "gridwidth": 2,
            "linecolor": "white",
            "showbackground": true,
            "ticks": "",
            "zerolinecolor": "white"
           },
           "zaxis": {
            "backgroundcolor": "#E5ECF6",
            "gridcolor": "white",
            "gridwidth": 2,
            "linecolor": "white",
            "showbackground": true,
            "ticks": "",
            "zerolinecolor": "white"
           }
          },
          "shapedefaults": {
           "line": {
            "color": "#2a3f5f"
           }
          },
          "ternary": {
           "aaxis": {
            "gridcolor": "white",
            "linecolor": "white",
            "ticks": ""
           },
           "baxis": {
            "gridcolor": "white",
            "linecolor": "white",
            "ticks": ""
           },
           "bgcolor": "#E5ECF6",
           "caxis": {
            "gridcolor": "white",
            "linecolor": "white",
            "ticks": ""
           }
          },
          "title": {
           "x": 0.05
          },
          "xaxis": {
           "automargin": true,
           "gridcolor": "white",
           "linecolor": "white",
           "ticks": "",
           "title": {
            "standoff": 15
           },
           "zerolinecolor": "white",
           "zerolinewidth": 2
          },
          "yaxis": {
           "automargin": true,
           "gridcolor": "white",
           "linecolor": "white",
           "ticks": "",
           "title": {
            "standoff": 15
           },
           "zerolinecolor": "white",
           "zerolinewidth": 2
          }
         }
        },
        "title": {
         "text": "Parallel Coordinate Plot"
        }
       }
      }
     },
     "metadata": {},
     "output_type": "display_data"
    }
   ],
   "source": [
    "from optuna.visualization import plot_parallel_coordinate\n",
    "\n",
    "fig = plot_parallel_coordinate(study) \n",
    "fig.show()"
   ]
  },
  {
   "cell_type": "code",
   "execution_count": 25,
   "metadata": {},
   "outputs": [
    {
     "data": {
      "application/vnd.plotly.v1+json": {
       "config": {
        "plotlyServerURL": "https://plot.ly"
       },
       "data": [
        {
         "type": "scatter",
         "xaxis": "x",
         "yaxis": "y"
        },
        {
         "colorbar": {
          "title": {
           "text": "Objective Value"
          }
         },
         "colorscale": [
          [
           0,
           "rgb(247,251,255)"
          ],
          [
           0.125,
           "rgb(222,235,247)"
          ],
          [
           0.25,
           "rgb(198,219,239)"
          ],
          [
           0.375,
           "rgb(158,202,225)"
          ],
          [
           0.5,
           "rgb(107,174,214)"
          ],
          [
           0.625,
           "rgb(66,146,198)"
          ],
          [
           0.75,
           "rgb(33,113,181)"
          ],
          [
           0.875,
           "rgb(8,81,156)"
          ],
          [
           1,
           "rgb(8,48,107)"
          ]
         ],
         "connectgaps": true,
         "contours": {
          "coloring": "heatmap"
         },
         "hoverinfo": "none",
         "line": {
          "smoothing": 1.3
         },
         "reversescale": false,
         "showscale": true,
         "type": "contour",
         "x": [
          60.8,
          64,
          128,
          131.2
         ],
         "xaxis": "x11",
         "y": [
          "False",
          "True"
         ],
         "yaxis": "y11",
         "z": {
          "bdata": "AAAAAAAA+H/ZpBIyNJXpP07AQ5vPfOk/AAAAAAAA+H8AAAAAAAD4f57HyvzBgOo/9c+FqwMmsD8AAAAAAAD4fw==",
          "dtype": "f8",
          "shape": "2, 4"
         }
        },
        {
         "marker": {
          "color": "black",
          "line": {
           "color": "Gray",
           "width": 2
          }
         },
         "mode": "markers",
         "name": "Feasible Trial",
         "showlegend": false,
         "type": "scatter",
         "x": [
          64,
          64,
          128,
          64,
          128
         ],
         "xaxis": "x11",
         "y": [
          "True",
          "True",
          "True",
          "False",
          "False"
         ],
         "yaxis": "y11"
        },
        {
         "colorbar": {
          "title": {
           "text": "Objective Value"
          }
         },
         "colorscale": [
          [
           0,
           "rgb(247,251,255)"
          ],
          [
           0.125,
           "rgb(222,235,247)"
          ],
          [
           0.25,
           "rgb(198,219,239)"
          ],
          [
           0.375,
           "rgb(158,202,225)"
          ],
          [
           0.5,
           "rgb(107,174,214)"
          ],
          [
           0.625,
           "rgb(66,146,198)"
          ],
          [
           0.75,
           "rgb(33,113,181)"
          ],
          [
           0.875,
           "rgb(8,81,156)"
          ],
          [
           1,
           "rgb(8,48,107)"
          ]
         ],
         "connectgaps": true,
         "contours": {
          "coloring": "heatmap"
         },
         "hoverinfo": "none",
         "line": {
          "smoothing": 1.3
         },
         "reversescale": false,
         "showscale": false,
         "type": "contour",
         "x": [
          60.8,
          64,
          128,
          131.2
         ],
         "xaxis": "x21",
         "y": [
          0.16550133145846863,
          0.17957901587152492,
          0.2994028049210362,
          0.34223102575750275,
          0.36965344602653816,
          0.46113270413265095,
          0.47521038854570724
         ],
         "yaxis": "y21",
         "z": {
          "bdata": "AAAAAAAA+H8AAAAAAAD4fwAAAAAAAPh/AAAAAAAA+H8AAAAAAAD4fwAAAAAAAPh/9c+FqwMmsD8AAAAAAAD4fwAAAAAAAPh/tJWRY9w7rj8AAAAAAAD4fwAAAAAAAPh/AAAAAAAA+H8AAAAAAAD4f07AQ5vPfOk/AAAAAAAA+H8AAAAAAAD4f57HyvzBgOo/AAAAAAAA+H8AAAAAAAD4fwAAAAAAAPh/2aQSMjSV6T8AAAAAAAD4fwAAAAAAAPh/AAAAAAAA+H8AAAAAAAD4fwAAAAAAAPh/AAAAAAAA+H8=",
          "dtype": "f8",
          "shape": "7, 4"
         }
        },
        {
         "marker": {
          "color": "black",
          "line": {
           "color": "Gray",
           "width": 2
          }
         },
         "mode": "markers",
         "name": "Feasible Trial",
         "showlegend": false,
         "type": "scatter",
         "x": [
          64,
          64,
          128,
          64,
          128
         ],
         "xaxis": "x21",
         "y": [
          0.2994028049210362,
          0.36965344602653816,
          0.17957901587152492,
          0.46113270413265095,
          0.34223102575750275
         ],
         "yaxis": "y21"
        },
        {
         "colorbar": {
          "title": {
           "text": "Objective Value"
          }
         },
         "colorscale": [
          [
           0,
           "rgb(247,251,255)"
          ],
          [
           0.125,
           "rgb(222,235,247)"
          ],
          [
           0.25,
           "rgb(198,219,239)"
          ],
          [
           0.375,
           "rgb(158,202,225)"
          ],
          [
           0.5,
           "rgb(107,174,214)"
          ],
          [
           0.625,
           "rgb(66,146,198)"
          ],
          [
           0.75,
           "rgb(33,113,181)"
          ],
          [
           0.875,
           "rgb(8,81,156)"
          ],
          [
           1,
           "rgb(8,48,107)"
          ]
         ],
         "connectgaps": true,
         "contours": {
          "coloring": "heatmap"
         },
         "hoverinfo": "none",
         "line": {
          "smoothing": 1.3
         },
         "reversescale": false,
         "showscale": false,
         "type": "contour",
         "x": [
          60.8,
          64,
          128,
          131.2
         ],
         "xaxis": "x31",
         "y": [
          7.7,
          8,
          9,
          10,
          13,
          14,
          14.3
         ],
         "yaxis": "y31",
         "z": {
          "bdata": "AAAAAAAA+H8AAAAAAAD4fwAAAAAAAPh/AAAAAAAA+H8AAAAAAAD4f57HyvzBgOo/AAAAAAAA+H8AAAAAAAD4fwAAAAAAAPh/2aQSMjSV6T8AAAAAAAD4fwAAAAAAAPh/AAAAAAAA+H8AAAAAAAD4f07AQ5vPfOk/AAAAAAAA+H8AAAAAAAD4f7SVkWPcO64/AAAAAAAA+H8AAAAAAAD4fwAAAAAAAPh/AAAAAAAA+H/1z4WrAyawPwAAAAAAAPh/AAAAAAAA+H8AAAAAAAD4fwAAAAAAAPh/AAAAAAAA+H8=",
          "dtype": "f8",
          "shape": "7, 4"
         }
        },
        {
         "marker": {
          "color": "black",
          "line": {
           "color": "Gray",
           "width": 2
          }
         },
         "mode": "markers",
         "name": "Feasible Trial",
         "showlegend": false,
         "type": "scatter",
         "x": [
          64,
          64,
          128,
          64,
          128
         ],
         "xaxis": "x31",
         "y": [
          13,
          8,
          14,
          9,
          10
         ],
         "yaxis": "y31"
        },
        {
         "colorbar": {
          "title": {
           "text": "Objective Value"
          }
         },
         "colorscale": [
          [
           0,
           "rgb(247,251,255)"
          ],
          [
           0.125,
           "rgb(222,235,247)"
          ],
          [
           0.25,
           "rgb(198,219,239)"
          ],
          [
           0.375,
           "rgb(158,202,225)"
          ],
          [
           0.5,
           "rgb(107,174,214)"
          ],
          [
           0.625,
           "rgb(66,146,198)"
          ],
          [
           0.75,
           "rgb(33,113,181)"
          ],
          [
           0.875,
           "rgb(8,81,156)"
          ],
          [
           1,
           "rgb(8,48,107)"
          ]
         ],
         "connectgaps": true,
         "contours": {
          "coloring": "heatmap"
         },
         "hoverinfo": "none",
         "line": {
          "smoothing": 1.3
         },
         "reversescale": false,
         "showscale": false,
         "type": "contour",
         "x": [
          60.8,
          64,
          128,
          131.2
         ],
         "xaxis": "x41",
         "y": [
          60.8,
          64,
          128,
          131.2
         ],
         "yaxis": "y41",
         "z": {
          "bdata": "AAAAAAAA+H8AAAAAAAD4fwAAAAAAAPh/AAAAAAAA+H8AAAAAAAD4f57HyvzBgOo/TsBDm8986T8AAAAAAAD4fwAAAAAAAPh/2aQSMjSV6T/1z4WrAyawPwAAAAAAAPh/AAAAAAAA+H8AAAAAAAD4fwAAAAAAAPh/AAAAAAAA+H8=",
          "dtype": "f8",
          "shape": "4, 4"
         }
        },
        {
         "marker": {
          "color": "black",
          "line": {
           "color": "Gray",
           "width": 2
          }
         },
         "mode": "markers",
         "name": "Feasible Trial",
         "showlegend": false,
         "type": "scatter",
         "x": [
          64,
          64,
          128,
          64,
          128
         ],
         "xaxis": "x41",
         "y": [
          64,
          64,
          128,
          128,
          64
         ],
         "yaxis": "y41"
        },
        {
         "colorbar": {
          "title": {
           "text": "Objective Value"
          }
         },
         "colorscale": [
          [
           0,
           "rgb(247,251,255)"
          ],
          [
           0.125,
           "rgb(222,235,247)"
          ],
          [
           0.25,
           "rgb(198,219,239)"
          ],
          [
           0.375,
           "rgb(158,202,225)"
          ],
          [
           0.5,
           "rgb(107,174,214)"
          ],
          [
           0.625,
           "rgb(66,146,198)"
          ],
          [
           0.75,
           "rgb(33,113,181)"
          ],
          [
           0.875,
           "rgb(8,81,156)"
          ],
          [
           1,
           "rgb(8,48,107)"
          ]
         ],
         "connectgaps": true,
         "contours": {
          "coloring": "heatmap"
         },
         "hoverinfo": "none",
         "line": {
          "smoothing": 1.3
         },
         "reversescale": false,
         "showscale": false,
         "type": "contour",
         "x": [
          60.8,
          64,
          128,
          131.2
         ],
         "xaxis": "x51",
         "y": [
          0.00010149359594607536,
          0.00011982944130266843,
          0.00033452711277994786,
          0.001720021822320989,
          0.003230690711567297,
          0.003319414023327547,
          0.003919099763485756
         ],
         "yaxis": "y51",
         "z": {
          "bdata": "AAAAAAAA+H8AAAAAAAD4fwAAAAAAAPh/AAAAAAAA+H8AAAAAAAD4f9mkEjI0lek/AAAAAAAA+H8AAAAAAAD4fwAAAAAAAPh/AAAAAAAA+H9OwEObz3zpPwAAAAAAAPh/AAAAAAAA+H+ex8r8wYDqPwAAAAAAAPh/AAAAAAAA+H8AAAAAAAD4fwAAAAAAAPh/9c+FqwMmsD8AAAAAAAD4fwAAAAAAAPh/tJWRY9w7rj8AAAAAAAD4fwAAAAAAAPh/AAAAAAAA+H8AAAAAAAD4fwAAAAAAAPh/AAAAAAAA+H8=",
          "dtype": "f8",
          "shape": "7, 4"
         }
        },
        {
         "marker": {
          "color": "black",
          "line": {
           "color": "Gray",
           "width": 2
          }
         },
         "mode": "markers",
         "name": "Feasible Trial",
         "showlegend": false,
         "type": "scatter",
         "x": [
          64,
          64,
          128,
          64,
          128
         ],
         "xaxis": "x51",
         "y": [
          0.003319414023327547,
          0.001720021822320989,
          0.003230690711567297,
          0.00011982944130266843,
          0.00033452711277994786
         ],
         "yaxis": "y51"
        },
        {
         "colorbar": {
          "title": {
           "text": "Objective Value"
          }
         },
         "colorscale": [
          [
           0,
           "rgb(247,251,255)"
          ],
          [
           0.125,
           "rgb(222,235,247)"
          ],
          [
           0.25,
           "rgb(198,219,239)"
          ],
          [
           0.375,
           "rgb(158,202,225)"
          ],
          [
           0.5,
           "rgb(107,174,214)"
          ],
          [
           0.625,
           "rgb(66,146,198)"
          ],
          [
           0.75,
           "rgb(33,113,181)"
          ],
          [
           0.875,
           "rgb(8,81,156)"
          ],
          [
           1,
           "rgb(8,48,107)"
          ]
         ],
         "connectgaps": true,
         "contours": {
          "coloring": "heatmap"
         },
         "hoverinfo": "none",
         "line": {
          "smoothing": 1.3
         },
         "reversescale": false,
         "showscale": false,
         "type": "contour",
         "x": [
          60.8,
          64,
          128,
          131.2
         ],
         "xaxis": "x61",
         "y": [
          1.95,
          2,
          3,
          3.05
         ],
         "yaxis": "y61",
         "z": {
          "bdata": "AAAAAAAA+H8AAAAAAAD4fwAAAAAAAPh/AAAAAAAA+H8AAAAAAAD4f57HyvzBgOo/TsBDm8986T8AAAAAAAD4fwAAAAAAAPh/tJWRY9w7rj/1z4WrAyawPwAAAAAAAPh/AAAAAAAA+H8AAAAAAAD4fwAAAAAAAPh/AAAAAAAA+H8=",
          "dtype": "f8",
          "shape": "4, 4"
         }
        },
        {
         "marker": {
          "color": "black",
          "line": {
           "color": "Gray",
           "width": 2
          }
         },
         "mode": "markers",
         "name": "Feasible Trial",
         "showlegend": false,
         "type": "scatter",
         "x": [
          64,
          64,
          128,
          64,
          128
         ],
         "xaxis": "x61",
         "y": [
          3,
          2,
          3,
          2,
          2
         ],
         "yaxis": "y61"
        },
        {
         "colorbar": {
          "title": {
           "text": "Objective Value"
          }
         },
         "colorscale": [
          [
           0,
           "rgb(247,251,255)"
          ],
          [
           0.125,
           "rgb(222,235,247)"
          ],
          [
           0.25,
           "rgb(198,219,239)"
          ],
          [
           0.375,
           "rgb(158,202,225)"
          ],
          [
           0.5,
           "rgb(107,174,214)"
          ],
          [
           0.625,
           "rgb(66,146,198)"
          ],
          [
           0.75,
           "rgb(33,113,181)"
          ],
          [
           0.875,
           "rgb(8,81,156)"
          ],
          [
           1,
           "rgb(8,48,107)"
          ]
         ],
         "connectgaps": true,
         "contours": {
          "coloring": "heatmap"
         },
         "hoverinfo": "none",
         "line": {
          "smoothing": 1.3
         },
         "reversescale": false,
         "showscale": false,
         "type": "contour",
         "x": [
          60.8,
          64,
          128,
          131.2
         ],
         "xaxis": "x71",
         "y": [
          27.2,
          32,
          64,
          128,
          132.8
         ],
         "yaxis": "y71",
         "z": {
          "bdata": "AAAAAAAA+H8AAAAAAAD4fwAAAAAAAPh/AAAAAAAA+H8AAAAAAAD4f7SVkWPcO64/AAAAAAAA+H8AAAAAAAD4fwAAAAAAAPh/2aQSMjSV6T/1z4WrAyawPwAAAAAAAPh/AAAAAAAA+H+ex8r8wYDqP07AQ5vPfOk/AAAAAAAA+H8AAAAAAAD4fwAAAAAAAPh/AAAAAAAA+H8AAAAAAAD4fw==",
          "dtype": "f8",
          "shape": "5, 4"
         }
        },
        {
         "marker": {
          "color": "black",
          "line": {
           "color": "Gray",
           "width": 2
          }
         },
         "mode": "markers",
         "name": "Feasible Trial",
         "showlegend": false,
         "type": "scatter",
         "x": [
          64,
          64,
          128,
          64,
          128
         ],
         "xaxis": "x71",
         "y": [
          32,
          128,
          64,
          64,
          128
         ],
         "yaxis": "y71"
        },
        {
         "colorbar": {
          "title": {
           "text": "Objective Value"
          }
         },
         "colorscale": [
          [
           0,
           "rgb(247,251,255)"
          ],
          [
           0.125,
           "rgb(222,235,247)"
          ],
          [
           0.25,
           "rgb(198,219,239)"
          ],
          [
           0.375,
           "rgb(158,202,225)"
          ],
          [
           0.5,
           "rgb(107,174,214)"
          ],
          [
           0.625,
           "rgb(66,146,198)"
          ],
          [
           0.75,
           "rgb(33,113,181)"
          ],
          [
           0.875,
           "rgb(8,81,156)"
          ],
          [
           1,
           "rgb(8,48,107)"
          ]
         ],
         "connectgaps": true,
         "contours": {
          "coloring": "heatmap"
         },
         "hoverinfo": "none",
         "line": {
          "smoothing": 1.3
         },
         "reversescale": false,
         "showscale": false,
         "type": "contour",
         "x": [
          60.8,
          64,
          128,
          131.2
         ],
         "xaxis": "x81",
         "y": [
          0.85,
          1,
          2,
          4,
          4.15
         ],
         "yaxis": "y81",
         "z": {
          "bdata": "AAAAAAAA+H8AAAAAAAD4fwAAAAAAAPh/AAAAAAAA+H8AAAAAAAD4f9mkEjI0lek/AAAAAAAA+H8AAAAAAAD4fwAAAAAAAPh/nsfK/MGA6j/1z4WrAyawPwAAAAAAAPh/AAAAAAAA+H+0lZFj3DuuP07AQ5vPfOk/AAAAAAAA+H8AAAAAAAD4fwAAAAAAAPh/AAAAAAAA+H8AAAAAAAD4fw==",
          "dtype": "f8",
          "shape": "5, 4"
         }
        },
        {
         "marker": {
          "color": "black",
          "line": {
           "color": "Gray",
           "width": 2
          }
         },
         "mode": "markers",
         "name": "Feasible Trial",
         "showlegend": false,
         "type": "scatter",
         "x": [
          64,
          64,
          128,
          64,
          128
         ],
         "xaxis": "x81",
         "y": [
          4,
          2,
          2,
          1,
          4
         ],
         "yaxis": "y81"
        },
        {
         "colorbar": {
          "title": {
           "text": "Objective Value"
          }
         },
         "colorscale": [
          [
           0,
           "rgb(247,251,255)"
          ],
          [
           0.125,
           "rgb(222,235,247)"
          ],
          [
           0.25,
           "rgb(198,219,239)"
          ],
          [
           0.375,
           "rgb(158,202,225)"
          ],
          [
           0.5,
           "rgb(107,174,214)"
          ],
          [
           0.625,
           "rgb(66,146,198)"
          ],
          [
           0.75,
           "rgb(33,113,181)"
          ],
          [
           0.875,
           "rgb(8,81,156)"
          ],
          [
           1,
           "rgb(8,48,107)"
          ]
         ],
         "connectgaps": true,
         "contours": {
          "coloring": "heatmap"
         },
         "hoverinfo": "none",
         "line": {
          "smoothing": 1.3
         },
         "reversescale": false,
         "showscale": false,
         "type": "contour",
         "x": [
          60.8,
          64,
          128,
          131.2
         ],
         "xaxis": "x91",
         "y": [
          0.000009718804605397253,
          0.000013467657668402778,
          0.00010450174221660634,
          0.003062273519768889,
          0.005666597524267947,
          0.009180713288833598,
          0.012722007360566055
         ],
         "yaxis": "y91",
         "z": {
          "bdata": "AAAAAAAA+H8AAAAAAAD4fwAAAAAAAPh/AAAAAAAA+H8AAAAAAAD4f9mkEjI0lek/AAAAAAAA+H8AAAAAAAD4fwAAAAAAAPh/AAAAAAAA+H9OwEObz3zpPwAAAAAAAPh/AAAAAAAA+H+ex8r8wYDqPwAAAAAAAPh/AAAAAAAA+H8AAAAAAAD4f7SVkWPcO64/AAAAAAAA+H8AAAAAAAD4fwAAAAAAAPh/AAAAAAAA+H/1z4WrAyawPwAAAAAAAPh/AAAAAAAA+H8AAAAAAAD4fwAAAAAAAPh/AAAAAAAA+H8=",
          "dtype": "f8",
          "shape": "7, 4"
         }
        },
        {
         "marker": {
          "color": "black",
          "line": {
           "color": "Gray",
           "width": 2
          }
         },
         "mode": "markers",
         "name": "Feasible Trial",
         "showlegend": false,
         "type": "scatter",
         "x": [
          64,
          64,
          128,
          64,
          128
         ],
         "xaxis": "x91",
         "y": [
          0.005666597524267947,
          0.003062273519768889,
          0.009180713288833598,
          0.000013467657668402778,
          0.00010450174221660634
         ],
         "yaxis": "y91"
        },
        {
         "colorbar": {
          "title": {
           "text": "Objective Value"
          }
         },
         "colorscale": [
          [
           0,
           "rgb(247,251,255)"
          ],
          [
           0.125,
           "rgb(222,235,247)"
          ],
          [
           0.25,
           "rgb(198,219,239)"
          ],
          [
           0.375,
           "rgb(158,202,225)"
          ],
          [
           0.5,
           "rgb(107,174,214)"
          ],
          [
           0.625,
           "rgb(66,146,198)"
          ],
          [
           0.75,
           "rgb(33,113,181)"
          ],
          [
           0.875,
           "rgb(8,81,156)"
          ],
          [
           1,
           "rgb(8,48,107)"
          ]
         ],
         "connectgaps": true,
         "contours": {
          "coloring": "heatmap"
         },
         "hoverinfo": "none",
         "line": {
          "smoothing": 1.3
         },
         "reversescale": false,
         "showscale": false,
         "type": "contour",
         "x": [
          "False",
          "True"
         ],
         "xaxis": "x2",
         "y": [
          60.8,
          64,
          128,
          131.2
         ],
         "yaxis": "y2",
         "z": {
          "bdata": "AAAAAAAA+H8AAAAAAAD4f9mkEjI0lek/nsfK/MGA6j9OwEObz3zpP/XPhasDJrA/AAAAAAAA+H8AAAAAAAD4fw==",
          "dtype": "f8",
          "shape": "4, 2"
         }
        },
        {
         "marker": {
          "color": "black",
          "line": {
           "color": "Gray",
           "width": 2
          }
         },
         "mode": "markers",
         "name": "Feasible Trial",
         "showlegend": false,
         "type": "scatter",
         "x": [
          "True",
          "True",
          "True",
          "False",
          "False"
         ],
         "xaxis": "x2",
         "y": [
          64,
          64,
          128,
          64,
          128
         ],
         "yaxis": "y2"
        },
        {
         "type": "scatter",
         "xaxis": "x12",
         "yaxis": "y12"
        },
        {
         "colorbar": {
          "title": {
           "text": "Objective Value"
          }
         },
         "colorscale": [
          [
           0,
           "rgb(247,251,255)"
          ],
          [
           0.125,
           "rgb(222,235,247)"
          ],
          [
           0.25,
           "rgb(198,219,239)"
          ],
          [
           0.375,
           "rgb(158,202,225)"
          ],
          [
           0.5,
           "rgb(107,174,214)"
          ],
          [
           0.625,
           "rgb(66,146,198)"
          ],
          [
           0.75,
           "rgb(33,113,181)"
          ],
          [
           0.875,
           "rgb(8,81,156)"
          ],
          [
           1,
           "rgb(8,48,107)"
          ]
         ],
         "connectgaps": true,
         "contours": {
          "coloring": "heatmap"
         },
         "hoverinfo": "none",
         "line": {
          "smoothing": 1.3
         },
         "reversescale": false,
         "showscale": false,
         "type": "contour",
         "x": [
          "False",
          "True"
         ],
         "xaxis": "x22",
         "y": [
          0.16550133145846863,
          0.17957901587152492,
          0.2994028049210362,
          0.34223102575750275,
          0.36965344602653816,
          0.46113270413265095,
          0.47521038854570724
         ],
         "yaxis": "y22",
         "z": {
          "bdata": "AAAAAAAA+H8AAAAAAAD4fwAAAAAAAPh/9c+FqwMmsD8AAAAAAAD4f7SVkWPcO64/TsBDm8986T8AAAAAAAD4fwAAAAAAAPh/nsfK/MGA6j/ZpBIyNJXpPwAAAAAAAPh/AAAAAAAA+H8AAAAAAAD4fw==",
          "dtype": "f8",
          "shape": "7, 2"
         }
        },
        {
         "marker": {
          "color": "black",
          "line": {
           "color": "Gray",
           "width": 2
          }
         },
         "mode": "markers",
         "name": "Feasible Trial",
         "showlegend": false,
         "type": "scatter",
         "x": [
          "True",
          "True",
          "True",
          "False",
          "False"
         ],
         "xaxis": "x22",
         "y": [
          0.2994028049210362,
          0.36965344602653816,
          0.17957901587152492,
          0.46113270413265095,
          0.34223102575750275
         ],
         "yaxis": "y22"
        },
        {
         "colorbar": {
          "title": {
           "text": "Objective Value"
          }
         },
         "colorscale": [
          [
           0,
           "rgb(247,251,255)"
          ],
          [
           0.125,
           "rgb(222,235,247)"
          ],
          [
           0.25,
           "rgb(198,219,239)"
          ],
          [
           0.375,
           "rgb(158,202,225)"
          ],
          [
           0.5,
           "rgb(107,174,214)"
          ],
          [
           0.625,
           "rgb(66,146,198)"
          ],
          [
           0.75,
           "rgb(33,113,181)"
          ],
          [
           0.875,
           "rgb(8,81,156)"
          ],
          [
           1,
           "rgb(8,48,107)"
          ]
         ],
         "connectgaps": true,
         "contours": {
          "coloring": "heatmap"
         },
         "hoverinfo": "none",
         "line": {
          "smoothing": 1.3
         },
         "reversescale": false,
         "showscale": false,
         "type": "contour",
         "x": [
          "False",
          "True"
         ],
         "xaxis": "x32",
         "y": [
          7.7,
          8,
          9,
          10,
          13,
          14,
          14.3
         ],
         "yaxis": "y32",
         "z": {
          "bdata": "AAAAAAAA+H8AAAAAAAD4fwAAAAAAAPh/nsfK/MGA6j/ZpBIyNJXpPwAAAAAAAPh/TsBDm8986T8AAAAAAAD4fwAAAAAAAPh/tJWRY9w7rj8AAAAAAAD4f/XPhasDJrA/AAAAAAAA+H8AAAAAAAD4fw==",
          "dtype": "f8",
          "shape": "7, 2"
         }
        },
        {
         "marker": {
          "color": "black",
          "line": {
           "color": "Gray",
           "width": 2
          }
         },
         "mode": "markers",
         "name": "Feasible Trial",
         "showlegend": false,
         "type": "scatter",
         "x": [
          "True",
          "True",
          "True",
          "False",
          "False"
         ],
         "xaxis": "x32",
         "y": [
          13,
          8,
          14,
          9,
          10
         ],
         "yaxis": "y32"
        },
        {
         "colorbar": {
          "title": {
           "text": "Objective Value"
          }
         },
         "colorscale": [
          [
           0,
           "rgb(247,251,255)"
          ],
          [
           0.125,
           "rgb(222,235,247)"
          ],
          [
           0.25,
           "rgb(198,219,239)"
          ],
          [
           0.375,
           "rgb(158,202,225)"
          ],
          [
           0.5,
           "rgb(107,174,214)"
          ],
          [
           0.625,
           "rgb(66,146,198)"
          ],
          [
           0.75,
           "rgb(33,113,181)"
          ],
          [
           0.875,
           "rgb(8,81,156)"
          ],
          [
           1,
           "rgb(8,48,107)"
          ]
         ],
         "connectgaps": true,
         "contours": {
          "coloring": "heatmap"
         },
         "hoverinfo": "none",
         "line": {
          "smoothing": 1.3
         },
         "reversescale": false,
         "showscale": false,
         "type": "contour",
         "x": [
          "False",
          "True"
         ],
         "xaxis": "x42",
         "y": [
          60.8,
          64,
          128,
          131.2
         ],
         "yaxis": "y42",
         "z": {
          "bdata": "AAAAAAAA+H8AAAAAAAD4f07AQ5vPfOk/nsfK/MGA6j/ZpBIyNJXpP/XPhasDJrA/AAAAAAAA+H8AAAAAAAD4fw==",
          "dtype": "f8",
          "shape": "4, 2"
         }
        },
        {
         "marker": {
          "color": "black",
          "line": {
           "color": "Gray",
           "width": 2
          }
         },
         "mode": "markers",
         "name": "Feasible Trial",
         "showlegend": false,
         "type": "scatter",
         "x": [
          "True",
          "True",
          "True",
          "False",
          "False"
         ],
         "xaxis": "x42",
         "y": [
          64,
          64,
          128,
          128,
          64
         ],
         "yaxis": "y42"
        },
        {
         "colorbar": {
          "title": {
           "text": "Objective Value"
          }
         },
         "colorscale": [
          [
           0,
           "rgb(247,251,255)"
          ],
          [
           0.125,
           "rgb(222,235,247)"
          ],
          [
           0.25,
           "rgb(198,219,239)"
          ],
          [
           0.375,
           "rgb(158,202,225)"
          ],
          [
           0.5,
           "rgb(107,174,214)"
          ],
          [
           0.625,
           "rgb(66,146,198)"
          ],
          [
           0.75,
           "rgb(33,113,181)"
          ],
          [
           0.875,
           "rgb(8,81,156)"
          ],
          [
           1,
           "rgb(8,48,107)"
          ]
         ],
         "connectgaps": true,
         "contours": {
          "coloring": "heatmap"
         },
         "hoverinfo": "none",
         "line": {
          "smoothing": 1.3
         },
         "reversescale": false,
         "showscale": false,
         "type": "contour",
         "x": [
          "False",
          "True"
         ],
         "xaxis": "x52",
         "y": [
          0.00010149359594607536,
          0.00011982944130266843,
          0.00033452711277994786,
          0.001720021822320989,
          0.003230690711567297,
          0.003319414023327547,
          0.003919099763485756
         ],
         "yaxis": "y52",
         "z": {
          "bdata": "AAAAAAAA+H8AAAAAAAD4f9mkEjI0lek/AAAAAAAA+H9OwEObz3zpPwAAAAAAAPh/AAAAAAAA+H+ex8r8wYDqPwAAAAAAAPh/9c+FqwMmsD8AAAAAAAD4f7SVkWPcO64/AAAAAAAA+H8AAAAAAAD4fw==",
          "dtype": "f8",
          "shape": "7, 2"
         }
        },
        {
         "marker": {
          "color": "black",
          "line": {
           "color": "Gray",
           "width": 2
          }
         },
         "mode": "markers",
         "name": "Feasible Trial",
         "showlegend": false,
         "type": "scatter",
         "x": [
          "True",
          "True",
          "True",
          "False",
          "False"
         ],
         "xaxis": "x52",
         "y": [
          0.003319414023327547,
          0.001720021822320989,
          0.003230690711567297,
          0.00011982944130266843,
          0.00033452711277994786
         ],
         "yaxis": "y52"
        },
        {
         "colorbar": {
          "title": {
           "text": "Objective Value"
          }
         },
         "colorscale": [
          [
           0,
           "rgb(247,251,255)"
          ],
          [
           0.125,
           "rgb(222,235,247)"
          ],
          [
           0.25,
           "rgb(198,219,239)"
          ],
          [
           0.375,
           "rgb(158,202,225)"
          ],
          [
           0.5,
           "rgb(107,174,214)"
          ],
          [
           0.625,
           "rgb(66,146,198)"
          ],
          [
           0.75,
           "rgb(33,113,181)"
          ],
          [
           0.875,
           "rgb(8,81,156)"
          ],
          [
           1,
           "rgb(8,48,107)"
          ]
         ],
         "connectgaps": true,
         "contours": {
          "coloring": "heatmap"
         },
         "hoverinfo": "none",
         "line": {
          "smoothing": 1.3
         },
         "reversescale": false,
         "showscale": false,
         "type": "contour",
         "x": [
          "False",
          "True"
         ],
         "xaxis": "x62",
         "y": [
          1.95,
          2,
          3,
          3.05
         ],
         "yaxis": "y62",
         "z": {
          "bdata": "AAAAAAAA+H8AAAAAAAD4f9mkEjI0lek/nsfK/MGA6j8AAAAAAAD4f/XPhasDJrA/AAAAAAAA+H8AAAAAAAD4fw==",
          "dtype": "f8",
          "shape": "4, 2"
         }
        },
        {
         "marker": {
          "color": "black",
          "line": {
           "color": "Gray",
           "width": 2
          }
         },
         "mode": "markers",
         "name": "Feasible Trial",
         "showlegend": false,
         "type": "scatter",
         "x": [
          "True",
          "True",
          "True",
          "False",
          "False"
         ],
         "xaxis": "x62",
         "y": [
          3,
          2,
          3,
          2,
          2
         ],
         "yaxis": "y62"
        },
        {
         "colorbar": {
          "title": {
           "text": "Objective Value"
          }
         },
         "colorscale": [
          [
           0,
           "rgb(247,251,255)"
          ],
          [
           0.125,
           "rgb(222,235,247)"
          ],
          [
           0.25,
           "rgb(198,219,239)"
          ],
          [
           0.375,
           "rgb(158,202,225)"
          ],
          [
           0.5,
           "rgb(107,174,214)"
          ],
          [
           0.625,
           "rgb(66,146,198)"
          ],
          [
           0.75,
           "rgb(33,113,181)"
          ],
          [
           0.875,
           "rgb(8,81,156)"
          ],
          [
           1,
           "rgb(8,48,107)"
          ]
         ],
         "connectgaps": true,
         "contours": {
          "coloring": "heatmap"
         },
         "hoverinfo": "none",
         "line": {
          "smoothing": 1.3
         },
         "reversescale": false,
         "showscale": false,
         "type": "contour",
         "x": [
          "False",
          "True"
         ],
         "xaxis": "x72",
         "y": [
          27.2,
          32,
          64,
          128,
          132.8
         ],
         "yaxis": "y72",
         "z": {
          "bdata": "AAAAAAAA+H8AAAAAAAD4fwAAAAAAAPh/tJWRY9w7rj/ZpBIyNJXpP/XPhasDJrA/TsBDm8986T+ex8r8wYDqPwAAAAAAAPh/AAAAAAAA+H8=",
          "dtype": "f8",
          "shape": "5, 2"
         }
        },
        {
         "marker": {
          "color": "black",
          "line": {
           "color": "Gray",
           "width": 2
          }
         },
         "mode": "markers",
         "name": "Feasible Trial",
         "showlegend": false,
         "type": "scatter",
         "x": [
          "True",
          "True",
          "True",
          "False",
          "False"
         ],
         "xaxis": "x72",
         "y": [
          32,
          128,
          64,
          64,
          128
         ],
         "yaxis": "y72"
        },
        {
         "colorbar": {
          "title": {
           "text": "Objective Value"
          }
         },
         "colorscale": [
          [
           0,
           "rgb(247,251,255)"
          ],
          [
           0.125,
           "rgb(222,235,247)"
          ],
          [
           0.25,
           "rgb(198,219,239)"
          ],
          [
           0.375,
           "rgb(158,202,225)"
          ],
          [
           0.5,
           "rgb(107,174,214)"
          ],
          [
           0.625,
           "rgb(66,146,198)"
          ],
          [
           0.75,
           "rgb(33,113,181)"
          ],
          [
           0.875,
           "rgb(8,81,156)"
          ],
          [
           1,
           "rgb(8,48,107)"
          ]
         ],
         "connectgaps": true,
         "contours": {
          "coloring": "heatmap"
         },
         "hoverinfo": "none",
         "line": {
          "smoothing": 1.3
         },
         "reversescale": false,
         "showscale": false,
         "type": "contour",
         "x": [
          "False",
          "True"
         ],
         "xaxis": "x82",
         "y": [
          0.85,
          1,
          2,
          4,
          4.15
         ],
         "yaxis": "y82",
         "z": {
          "bdata": "AAAAAAAA+H8AAAAAAAD4f9mkEjI0lek/AAAAAAAA+H8AAAAAAAD4f57HyvzBgOo/TsBDm8986T+0lZFj3DuuPwAAAAAAAPh/AAAAAAAA+H8=",
          "dtype": "f8",
          "shape": "5, 2"
         }
        },
        {
         "marker": {
          "color": "black",
          "line": {
           "color": "Gray",
           "width": 2
          }
         },
         "mode": "markers",
         "name": "Feasible Trial",
         "showlegend": false,
         "type": "scatter",
         "x": [
          "True",
          "True",
          "True",
          "False",
          "False"
         ],
         "xaxis": "x82",
         "y": [
          4,
          2,
          2,
          1,
          4
         ],
         "yaxis": "y82"
        },
        {
         "colorbar": {
          "title": {
           "text": "Objective Value"
          }
         },
         "colorscale": [
          [
           0,
           "rgb(247,251,255)"
          ],
          [
           0.125,
           "rgb(222,235,247)"
          ],
          [
           0.25,
           "rgb(198,219,239)"
          ],
          [
           0.375,
           "rgb(158,202,225)"
          ],
          [
           0.5,
           "rgb(107,174,214)"
          ],
          [
           0.625,
           "rgb(66,146,198)"
          ],
          [
           0.75,
           "rgb(33,113,181)"
          ],
          [
           0.875,
           "rgb(8,81,156)"
          ],
          [
           1,
           "rgb(8,48,107)"
          ]
         ],
         "connectgaps": true,
         "contours": {
          "coloring": "heatmap"
         },
         "hoverinfo": "none",
         "line": {
          "smoothing": 1.3
         },
         "reversescale": false,
         "showscale": false,
         "type": "contour",
         "x": [
          "False",
          "True"
         ],
         "xaxis": "x92",
         "y": [
          0.000009718804605397253,
          0.000013467657668402778,
          0.00010450174221660634,
          0.003062273519768889,
          0.005666597524267947,
          0.009180713288833598,
          0.012722007360566055
         ],
         "yaxis": "y92",
         "z": {
          "bdata": "AAAAAAAA+H8AAAAAAAD4f9mkEjI0lek/AAAAAAAA+H9OwEObz3zpPwAAAAAAAPh/AAAAAAAA+H+ex8r8wYDqPwAAAAAAAPh/tJWRY9w7rj8AAAAAAAD4f/XPhasDJrA/AAAAAAAA+H8AAAAAAAD4fw==",
          "dtype": "f8",
          "shape": "7, 2"
         }
        },
        {
         "marker": {
          "color": "black",
          "line": {
           "color": "Gray",
           "width": 2
          }
         },
         "mode": "markers",
         "name": "Feasible Trial",
         "showlegend": false,
         "type": "scatter",
         "x": [
          "True",
          "True",
          "True",
          "False",
          "False"
         ],
         "xaxis": "x92",
         "y": [
          0.005666597524267947,
          0.003062273519768889,
          0.009180713288833598,
          0.000013467657668402778,
          0.00010450174221660634
         ],
         "yaxis": "y92"
        },
        {
         "colorbar": {
          "title": {
           "text": "Objective Value"
          }
         },
         "colorscale": [
          [
           0,
           "rgb(247,251,255)"
          ],
          [
           0.125,
           "rgb(222,235,247)"
          ],
          [
           0.25,
           "rgb(198,219,239)"
          ],
          [
           0.375,
           "rgb(158,202,225)"
          ],
          [
           0.5,
           "rgb(107,174,214)"
          ],
          [
           0.625,
           "rgb(66,146,198)"
          ],
          [
           0.75,
           "rgb(33,113,181)"
          ],
          [
           0.875,
           "rgb(8,81,156)"
          ],
          [
           1,
           "rgb(8,48,107)"
          ]
         ],
         "connectgaps": true,
         "contours": {
          "coloring": "heatmap"
         },
         "hoverinfo": "none",
         "line": {
          "smoothing": 1.3
         },
         "reversescale": false,
         "showscale": false,
         "type": "contour",
         "x": [
          0.16550133145846863,
          0.17957901587152492,
          0.2994028049210362,
          0.34223102575750275,
          0.36965344602653816,
          0.46113270413265095,
          0.47521038854570724
         ],
         "xaxis": "x3",
         "y": [
          60.8,
          64,
          128,
          131.2
         ],
         "yaxis": "y3",
         "z": {
          "bdata": "AAAAAAAA+H8AAAAAAAD4fwAAAAAAAPh/AAAAAAAA+H8AAAAAAAD4fwAAAAAAAPh/AAAAAAAA+H8AAAAAAAD4fwAAAAAAAPh/tJWRY9w7rj8AAAAAAAD4f57HyvzBgOo/2aQSMjSV6T8AAAAAAAD4fwAAAAAAAPh/9c+FqwMmsD8AAAAAAAD4f07AQ5vPfOk/AAAAAAAA+H8AAAAAAAD4fwAAAAAAAPh/AAAAAAAA+H8AAAAAAAD4fwAAAAAAAPh/AAAAAAAA+H8AAAAAAAD4fwAAAAAAAPh/AAAAAAAA+H8=",
          "dtype": "f8",
          "shape": "4, 7"
         }
        },
        {
         "marker": {
          "color": "black",
          "line": {
           "color": "Gray",
           "width": 2
          }
         },
         "mode": "markers",
         "name": "Feasible Trial",
         "showlegend": false,
         "type": "scatter",
         "x": [
          0.2994028049210362,
          0.36965344602653816,
          0.17957901587152492,
          0.46113270413265095,
          0.34223102575750275
         ],
         "xaxis": "x3",
         "y": [
          64,
          64,
          128,
          64,
          128
         ],
         "yaxis": "y3"
        },
        {
         "colorbar": {
          "title": {
           "text": "Objective Value"
          }
         },
         "colorscale": [
          [
           0,
           "rgb(247,251,255)"
          ],
          [
           0.125,
           "rgb(222,235,247)"
          ],
          [
           0.25,
           "rgb(198,219,239)"
          ],
          [
           0.375,
           "rgb(158,202,225)"
          ],
          [
           0.5,
           "rgb(107,174,214)"
          ],
          [
           0.625,
           "rgb(66,146,198)"
          ],
          [
           0.75,
           "rgb(33,113,181)"
          ],
          [
           0.875,
           "rgb(8,81,156)"
          ],
          [
           1,
           "rgb(8,48,107)"
          ]
         ],
         "connectgaps": true,
         "contours": {
          "coloring": "heatmap"
         },
         "hoverinfo": "none",
         "line": {
          "smoothing": 1.3
         },
         "reversescale": false,
         "showscale": false,
         "type": "contour",
         "x": [
          0.16550133145846863,
          0.17957901587152492,
          0.2994028049210362,
          0.34223102575750275,
          0.36965344602653816,
          0.46113270413265095,
          0.47521038854570724
         ],
         "xaxis": "x13",
         "y": [
          "False",
          "True"
         ],
         "yaxis": "y13",
         "z": {
          "bdata": "AAAAAAAA+H8AAAAAAAD4fwAAAAAAAPh/TsBDm8986T8AAAAAAAD4f9mkEjI0lek/AAAAAAAA+H8AAAAAAAD4f/XPhasDJrA/tJWRY9w7rj8AAAAAAAD4f57HyvzBgOo/AAAAAAAA+H8AAAAAAAD4fw==",
          "dtype": "f8",
          "shape": "2, 7"
         }
        },
        {
         "marker": {
          "color": "black",
          "line": {
           "color": "Gray",
           "width": 2
          }
         },
         "mode": "markers",
         "name": "Feasible Trial",
         "showlegend": false,
         "type": "scatter",
         "x": [
          0.2994028049210362,
          0.36965344602653816,
          0.17957901587152492,
          0.46113270413265095,
          0.34223102575750275
         ],
         "xaxis": "x13",
         "y": [
          "True",
          "True",
          "True",
          "False",
          "False"
         ],
         "yaxis": "y13"
        },
        {
         "type": "scatter",
         "xaxis": "x23",
         "yaxis": "y23"
        },
        {
         "colorbar": {
          "title": {
           "text": "Objective Value"
          }
         },
         "colorscale": [
          [
           0,
           "rgb(247,251,255)"
          ],
          [
           0.125,
           "rgb(222,235,247)"
          ],
          [
           0.25,
           "rgb(198,219,239)"
          ],
          [
           0.375,
           "rgb(158,202,225)"
          ],
          [
           0.5,
           "rgb(107,174,214)"
          ],
          [
           0.625,
           "rgb(66,146,198)"
          ],
          [
           0.75,
           "rgb(33,113,181)"
          ],
          [
           0.875,
           "rgb(8,81,156)"
          ],
          [
           1,
           "rgb(8,48,107)"
          ]
         ],
         "connectgaps": true,
         "contours": {
          "coloring": "heatmap"
         },
         "hoverinfo": "none",
         "line": {
          "smoothing": 1.3
         },
         "reversescale": false,
         "showscale": false,
         "type": "contour",
         "x": [
          0.16550133145846863,
          0.17957901587152492,
          0.2994028049210362,
          0.34223102575750275,
          0.36965344602653816,
          0.46113270413265095,
          0.47521038854570724
         ],
         "xaxis": "x33",
         "y": [
          7.7,
          8,
          9,
          10,
          13,
          14,
          14.3
         ],
         "yaxis": "y33",
         "z": {
          "bdata": "AAAAAAAA+H8AAAAAAAD4fwAAAAAAAPh/AAAAAAAA+H8AAAAAAAD4fwAAAAAAAPh/AAAAAAAA+H8AAAAAAAD4fwAAAAAAAPh/AAAAAAAA+H8AAAAAAAD4f57HyvzBgOo/AAAAAAAA+H8AAAAAAAD4fwAAAAAAAPh/AAAAAAAA+H8AAAAAAAD4fwAAAAAAAPh/AAAAAAAA+H/ZpBIyNJXpPwAAAAAAAPh/AAAAAAAA+H8AAAAAAAD4fwAAAAAAAPh/TsBDm8986T8AAAAAAAD4fwAAAAAAAPh/AAAAAAAA+H8AAAAAAAD4fwAAAAAAAPh/tJWRY9w7rj8AAAAAAAD4fwAAAAAAAPh/AAAAAAAA+H8AAAAAAAD4fwAAAAAAAPh/9c+FqwMmsD8AAAAAAAD4fwAAAAAAAPh/AAAAAAAA+H8AAAAAAAD4fwAAAAAAAPh/AAAAAAAA+H8AAAAAAAD4fwAAAAAAAPh/AAAAAAAA+H8AAAAAAAD4fwAAAAAAAPh/AAAAAAAA+H8=",
          "dtype": "f8",
          "shape": "7, 7"
         }
        },
        {
         "marker": {
          "color": "black",
          "line": {
           "color": "Gray",
           "width": 2
          }
         },
         "mode": "markers",
         "name": "Feasible Trial",
         "showlegend": false,
         "type": "scatter",
         "x": [
          0.2994028049210362,
          0.36965344602653816,
          0.17957901587152492,
          0.46113270413265095,
          0.34223102575750275
         ],
         "xaxis": "x33",
         "y": [
          13,
          8,
          14,
          9,
          10
         ],
         "yaxis": "y33"
        },
        {
         "colorbar": {
          "title": {
           "text": "Objective Value"
          }
         },
         "colorscale": [
          [
           0,
           "rgb(247,251,255)"
          ],
          [
           0.125,
           "rgb(222,235,247)"
          ],
          [
           0.25,
           "rgb(198,219,239)"
          ],
          [
           0.375,
           "rgb(158,202,225)"
          ],
          [
           0.5,
           "rgb(107,174,214)"
          ],
          [
           0.625,
           "rgb(66,146,198)"
          ],
          [
           0.75,
           "rgb(33,113,181)"
          ],
          [
           0.875,
           "rgb(8,81,156)"
          ],
          [
           1,
           "rgb(8,48,107)"
          ]
         ],
         "connectgaps": true,
         "contours": {
          "coloring": "heatmap"
         },
         "hoverinfo": "none",
         "line": {
          "smoothing": 1.3
         },
         "reversescale": false,
         "showscale": false,
         "type": "contour",
         "x": [
          0.16550133145846863,
          0.17957901587152492,
          0.2994028049210362,
          0.34223102575750275,
          0.36965344602653816,
          0.46113270413265095,
          0.47521038854570724
         ],
         "xaxis": "x43",
         "y": [
          60.8,
          64,
          128,
          131.2
         ],
         "yaxis": "y43",
         "z": {
          "bdata": "AAAAAAAA+H8AAAAAAAD4fwAAAAAAAPh/AAAAAAAA+H8AAAAAAAD4fwAAAAAAAPh/AAAAAAAA+H8AAAAAAAD4fwAAAAAAAPh/tJWRY9w7rj9OwEObz3zpP57HyvzBgOo/AAAAAAAA+H8AAAAAAAD4fwAAAAAAAPh/9c+FqwMmsD8AAAAAAAD4fwAAAAAAAPh/AAAAAAAA+H/ZpBIyNJXpPwAAAAAAAPh/AAAAAAAA+H8AAAAAAAD4fwAAAAAAAPh/AAAAAAAA+H8AAAAAAAD4fwAAAAAAAPh/AAAAAAAA+H8=",
          "dtype": "f8",
          "shape": "4, 7"
         }
        },
        {
         "marker": {
          "color": "black",
          "line": {
           "color": "Gray",
           "width": 2
          }
         },
         "mode": "markers",
         "name": "Feasible Trial",
         "showlegend": false,
         "type": "scatter",
         "x": [
          0.2994028049210362,
          0.36965344602653816,
          0.17957901587152492,
          0.46113270413265095,
          0.34223102575750275
         ],
         "xaxis": "x43",
         "y": [
          64,
          64,
          128,
          128,
          64
         ],
         "yaxis": "y43"
        },
        {
         "colorbar": {
          "title": {
           "text": "Objective Value"
          }
         },
         "colorscale": [
          [
           0,
           "rgb(247,251,255)"
          ],
          [
           0.125,
           "rgb(222,235,247)"
          ],
          [
           0.25,
           "rgb(198,219,239)"
          ],
          [
           0.375,
           "rgb(158,202,225)"
          ],
          [
           0.5,
           "rgb(107,174,214)"
          ],
          [
           0.625,
           "rgb(66,146,198)"
          ],
          [
           0.75,
           "rgb(33,113,181)"
          ],
          [
           0.875,
           "rgb(8,81,156)"
          ],
          [
           1,
           "rgb(8,48,107)"
          ]
         ],
         "connectgaps": true,
         "contours": {
          "coloring": "heatmap"
         },
         "hoverinfo": "none",
         "line": {
          "smoothing": 1.3
         },
         "reversescale": false,
         "showscale": false,
         "type": "contour",
         "x": [
          0.16550133145846863,
          0.17957901587152492,
          0.2994028049210362,
          0.34223102575750275,
          0.36965344602653816,
          0.46113270413265095,
          0.47521038854570724
         ],
         "xaxis": "x53",
         "y": [
          0.00010149359594607536,
          0.00011982944130266843,
          0.00033452711277994786,
          0.001720021822320989,
          0.003230690711567297,
          0.003319414023327547,
          0.003919099763485756
         ],
         "yaxis": "y53",
         "z": {
          "bdata": "AAAAAAAA+H8AAAAAAAD4fwAAAAAAAPh/AAAAAAAA+H8AAAAAAAD4fwAAAAAAAPh/AAAAAAAA+H8AAAAAAAD4fwAAAAAAAPh/AAAAAAAA+H8AAAAAAAD4fwAAAAAAAPh/2aQSMjSV6T8AAAAAAAD4fwAAAAAAAPh/AAAAAAAA+H8AAAAAAAD4f07AQ5vPfOk/AAAAAAAA+H8AAAAAAAD4fwAAAAAAAPh/AAAAAAAA+H8AAAAAAAD4fwAAAAAAAPh/AAAAAAAA+H+ex8r8wYDqPwAAAAAAAPh/AAAAAAAA+H8AAAAAAAD4f/XPhasDJrA/AAAAAAAA+H8AAAAAAAD4fwAAAAAAAPh/AAAAAAAA+H8AAAAAAAD4fwAAAAAAAPh/AAAAAAAA+H+0lZFj3DuuPwAAAAAAAPh/AAAAAAAA+H8AAAAAAAD4fwAAAAAAAPh/AAAAAAAA+H8AAAAAAAD4fwAAAAAAAPh/AAAAAAAA+H8AAAAAAAD4fwAAAAAAAPh/AAAAAAAA+H8=",
          "dtype": "f8",
          "shape": "7, 7"
         }
        },
        {
         "marker": {
          "color": "black",
          "line": {
           "color": "Gray",
           "width": 2
          }
         },
         "mode": "markers",
         "name": "Feasible Trial",
         "showlegend": false,
         "type": "scatter",
         "x": [
          0.2994028049210362,
          0.36965344602653816,
          0.17957901587152492,
          0.46113270413265095,
          0.34223102575750275
         ],
         "xaxis": "x53",
         "y": [
          0.003319414023327547,
          0.001720021822320989,
          0.003230690711567297,
          0.00011982944130266843,
          0.00033452711277994786
         ],
         "yaxis": "y53"
        },
        {
         "colorbar": {
          "title": {
           "text": "Objective Value"
          }
         },
         "colorscale": [
          [
           0,
           "rgb(247,251,255)"
          ],
          [
           0.125,
           "rgb(222,235,247)"
          ],
          [
           0.25,
           "rgb(198,219,239)"
          ],
          [
           0.375,
           "rgb(158,202,225)"
          ],
          [
           0.5,
           "rgb(107,174,214)"
          ],
          [
           0.625,
           "rgb(66,146,198)"
          ],
          [
           0.75,
           "rgb(33,113,181)"
          ],
          [
           0.875,
           "rgb(8,81,156)"
          ],
          [
           1,
           "rgb(8,48,107)"
          ]
         ],
         "connectgaps": true,
         "contours": {
          "coloring": "heatmap"
         },
         "hoverinfo": "none",
         "line": {
          "smoothing": 1.3
         },
         "reversescale": false,
         "showscale": false,
         "type": "contour",
         "x": [
          0.16550133145846863,
          0.17957901587152492,
          0.2994028049210362,
          0.34223102575750275,
          0.36965344602653816,
          0.46113270413265095,
          0.47521038854570724
         ],
         "xaxis": "x63",
         "y": [
          1.95,
          2,
          3,
          3.05
         ],
         "yaxis": "y63",
         "z": {
          "bdata": "AAAAAAAA+H8AAAAAAAD4fwAAAAAAAPh/AAAAAAAA+H8AAAAAAAD4fwAAAAAAAPh/AAAAAAAA+H8AAAAAAAD4fwAAAAAAAPh/AAAAAAAA+H9OwEObz3zpP57HyvzBgOo/2aQSMjSV6T8AAAAAAAD4fwAAAAAAAPh/9c+FqwMmsD+0lZFj3DuuPwAAAAAAAPh/AAAAAAAA+H8AAAAAAAD4fwAAAAAAAPh/AAAAAAAA+H8AAAAAAAD4fwAAAAAAAPh/AAAAAAAA+H8AAAAAAAD4fwAAAAAAAPh/AAAAAAAA+H8=",
          "dtype": "f8",
          "shape": "4, 7"
         }
        },
        {
         "marker": {
          "color": "black",
          "line": {
           "color": "Gray",
           "width": 2
          }
         },
         "mode": "markers",
         "name": "Feasible Trial",
         "showlegend": false,
         "type": "scatter",
         "x": [
          0.2994028049210362,
          0.36965344602653816,
          0.17957901587152492,
          0.46113270413265095,
          0.34223102575750275
         ],
         "xaxis": "x63",
         "y": [
          3,
          2,
          3,
          2,
          2
         ],
         "yaxis": "y63"
        },
        {
         "colorbar": {
          "title": {
           "text": "Objective Value"
          }
         },
         "colorscale": [
          [
           0,
           "rgb(247,251,255)"
          ],
          [
           0.125,
           "rgb(222,235,247)"
          ],
          [
           0.25,
           "rgb(198,219,239)"
          ],
          [
           0.375,
           "rgb(158,202,225)"
          ],
          [
           0.5,
           "rgb(107,174,214)"
          ],
          [
           0.625,
           "rgb(66,146,198)"
          ],
          [
           0.75,
           "rgb(33,113,181)"
          ],
          [
           0.875,
           "rgb(8,81,156)"
          ],
          [
           1,
           "rgb(8,48,107)"
          ]
         ],
         "connectgaps": true,
         "contours": {
          "coloring": "heatmap"
         },
         "hoverinfo": "none",
         "line": {
          "smoothing": 1.3
         },
         "reversescale": false,
         "showscale": false,
         "type": "contour",
         "x": [
          0.16550133145846863,
          0.17957901587152492,
          0.2994028049210362,
          0.34223102575750275,
          0.36965344602653816,
          0.46113270413265095,
          0.47521038854570724
         ],
         "xaxis": "x73",
         "y": [
          27.2,
          32,
          64,
          128,
          132.8
         ],
         "yaxis": "y73",
         "z": {
          "bdata": "AAAAAAAA+H8AAAAAAAD4fwAAAAAAAPh/AAAAAAAA+H8AAAAAAAD4fwAAAAAAAPh/AAAAAAAA+H8AAAAAAAD4fwAAAAAAAPh/tJWRY9w7rj8AAAAAAAD4fwAAAAAAAPh/AAAAAAAA+H8AAAAAAAD4fwAAAAAAAPh/9c+FqwMmsD8AAAAAAAD4fwAAAAAAAPh/AAAAAAAA+H/ZpBIyNJXpPwAAAAAAAPh/AAAAAAAA+H8AAAAAAAD4fwAAAAAAAPh/TsBDm8986T+ex8r8wYDqPwAAAAAAAPh/AAAAAAAA+H8AAAAAAAD4fwAAAAAAAPh/AAAAAAAA+H8AAAAAAAD4fwAAAAAAAPh/AAAAAAAA+H8AAAAAAAD4fw==",
          "dtype": "f8",
          "shape": "5, 7"
         }
        },
        {
         "marker": {
          "color": "black",
          "line": {
           "color": "Gray",
           "width": 2
          }
         },
         "mode": "markers",
         "name": "Feasible Trial",
         "showlegend": false,
         "type": "scatter",
         "x": [
          0.2994028049210362,
          0.36965344602653816,
          0.17957901587152492,
          0.46113270413265095,
          0.34223102575750275
         ],
         "xaxis": "x73",
         "y": [
          32,
          128,
          64,
          64,
          128
         ],
         "yaxis": "y73"
        },
        {
         "colorbar": {
          "title": {
           "text": "Objective Value"
          }
         },
         "colorscale": [
          [
           0,
           "rgb(247,251,255)"
          ],
          [
           0.125,
           "rgb(222,235,247)"
          ],
          [
           0.25,
           "rgb(198,219,239)"
          ],
          [
           0.375,
           "rgb(158,202,225)"
          ],
          [
           0.5,
           "rgb(107,174,214)"
          ],
          [
           0.625,
           "rgb(66,146,198)"
          ],
          [
           0.75,
           "rgb(33,113,181)"
          ],
          [
           0.875,
           "rgb(8,81,156)"
          ],
          [
           1,
           "rgb(8,48,107)"
          ]
         ],
         "connectgaps": true,
         "contours": {
          "coloring": "heatmap"
         },
         "hoverinfo": "none",
         "line": {
          "smoothing": 1.3
         },
         "reversescale": false,
         "showscale": false,
         "type": "contour",
         "x": [
          0.16550133145846863,
          0.17957901587152492,
          0.2994028049210362,
          0.34223102575750275,
          0.36965344602653816,
          0.46113270413265095,
          0.47521038854570724
         ],
         "xaxis": "x83",
         "y": [
          0.85,
          1,
          2,
          4,
          4.15
         ],
         "yaxis": "y83",
         "z": {
          "bdata": "AAAAAAAA+H8AAAAAAAD4fwAAAAAAAPh/AAAAAAAA+H8AAAAAAAD4fwAAAAAAAPh/AAAAAAAA+H8AAAAAAAD4fwAAAAAAAPh/AAAAAAAA+H8AAAAAAAD4fwAAAAAAAPh/2aQSMjSV6T8AAAAAAAD4fwAAAAAAAPh/9c+FqwMmsD8AAAAAAAD4fwAAAAAAAPh/nsfK/MGA6j8AAAAAAAD4fwAAAAAAAPh/AAAAAAAA+H8AAAAAAAD4f7SVkWPcO64/TsBDm8986T8AAAAAAAD4fwAAAAAAAPh/AAAAAAAA+H8AAAAAAAD4fwAAAAAAAPh/AAAAAAAA+H8AAAAAAAD4fwAAAAAAAPh/AAAAAAAA+H8AAAAAAAD4fw==",
          "dtype": "f8",
          "shape": "5, 7"
         }
        },
        {
         "marker": {
          "color": "black",
          "line": {
           "color": "Gray",
           "width": 2
          }
         },
         "mode": "markers",
         "name": "Feasible Trial",
         "showlegend": false,
         "type": "scatter",
         "x": [
          0.2994028049210362,
          0.36965344602653816,
          0.17957901587152492,
          0.46113270413265095,
          0.34223102575750275
         ],
         "xaxis": "x83",
         "y": [
          4,
          2,
          2,
          1,
          4
         ],
         "yaxis": "y83"
        },
        {
         "colorbar": {
          "title": {
           "text": "Objective Value"
          }
         },
         "colorscale": [
          [
           0,
           "rgb(247,251,255)"
          ],
          [
           0.125,
           "rgb(222,235,247)"
          ],
          [
           0.25,
           "rgb(198,219,239)"
          ],
          [
           0.375,
           "rgb(158,202,225)"
          ],
          [
           0.5,
           "rgb(107,174,214)"
          ],
          [
           0.625,
           "rgb(66,146,198)"
          ],
          [
           0.75,
           "rgb(33,113,181)"
          ],
          [
           0.875,
           "rgb(8,81,156)"
          ],
          [
           1,
           "rgb(8,48,107)"
          ]
         ],
         "connectgaps": true,
         "contours": {
          "coloring": "heatmap"
         },
         "hoverinfo": "none",
         "line": {
          "smoothing": 1.3
         },
         "reversescale": false,
         "showscale": false,
         "type": "contour",
         "x": [
          0.16550133145846863,
          0.17957901587152492,
          0.2994028049210362,
          0.34223102575750275,
          0.36965344602653816,
          0.46113270413265095,
          0.47521038854570724
         ],
         "xaxis": "x93",
         "y": [
          0.000009718804605397253,
          0.000013467657668402778,
          0.00010450174221660634,
          0.003062273519768889,
          0.005666597524267947,
          0.009180713288833598,
          0.012722007360566055
         ],
         "yaxis": "y93",
         "z": {
          "bdata": "AAAAAAAA+H8AAAAAAAD4fwAAAAAAAPh/AAAAAAAA+H8AAAAAAAD4fwAAAAAAAPh/AAAAAAAA+H8AAAAAAAD4fwAAAAAAAPh/AAAAAAAA+H8AAAAAAAD4fwAAAAAAAPh/2aQSMjSV6T8AAAAAAAD4fwAAAAAAAPh/AAAAAAAA+H8AAAAAAAD4f07AQ5vPfOk/AAAAAAAA+H8AAAAAAAD4fwAAAAAAAPh/AAAAAAAA+H8AAAAAAAD4fwAAAAAAAPh/AAAAAAAA+H+ex8r8wYDqPwAAAAAAAPh/AAAAAAAA+H8AAAAAAAD4fwAAAAAAAPh/tJWRY9w7rj8AAAAAAAD4fwAAAAAAAPh/AAAAAAAA+H8AAAAAAAD4fwAAAAAAAPh/9c+FqwMmsD8AAAAAAAD4fwAAAAAAAPh/AAAAAAAA+H8AAAAAAAD4fwAAAAAAAPh/AAAAAAAA+H8AAAAAAAD4fwAAAAAAAPh/AAAAAAAA+H8AAAAAAAD4fwAAAAAAAPh/AAAAAAAA+H8=",
          "dtype": "f8",
          "shape": "7, 7"
         }
        },
        {
         "marker": {
          "color": "black",
          "line": {
           "color": "Gray",
           "width": 2
          }
         },
         "mode": "markers",
         "name": "Feasible Trial",
         "showlegend": false,
         "type": "scatter",
         "x": [
          0.2994028049210362,
          0.36965344602653816,
          0.17957901587152492,
          0.46113270413265095,
          0.34223102575750275
         ],
         "xaxis": "x93",
         "y": [
          0.005666597524267947,
          0.003062273519768889,
          0.009180713288833598,
          0.000013467657668402778,
          0.00010450174221660634
         ],
         "yaxis": "y93"
        },
        {
         "colorbar": {
          "title": {
           "text": "Objective Value"
          }
         },
         "colorscale": [
          [
           0,
           "rgb(247,251,255)"
          ],
          [
           0.125,
           "rgb(222,235,247)"
          ],
          [
           0.25,
           "rgb(198,219,239)"
          ],
          [
           0.375,
           "rgb(158,202,225)"
          ],
          [
           0.5,
           "rgb(107,174,214)"
          ],
          [
           0.625,
           "rgb(66,146,198)"
          ],
          [
           0.75,
           "rgb(33,113,181)"
          ],
          [
           0.875,
           "rgb(8,81,156)"
          ],
          [
           1,
           "rgb(8,48,107)"
          ]
         ],
         "connectgaps": true,
         "contours": {
          "coloring": "heatmap"
         },
         "hoverinfo": "none",
         "line": {
          "smoothing": 1.3
         },
         "reversescale": false,
         "showscale": false,
         "type": "contour",
         "x": [
          7.7,
          8,
          9,
          10,
          13,
          14,
          14.3
         ],
         "xaxis": "x4",
         "y": [
          60.8,
          64,
          128,
          131.2
         ],
         "yaxis": "y4",
         "z": {
          "bdata": "AAAAAAAA+H8AAAAAAAD4fwAAAAAAAPh/AAAAAAAA+H8AAAAAAAD4fwAAAAAAAPh/AAAAAAAA+H8AAAAAAAD4f57HyvzBgOo/2aQSMjSV6T8AAAAAAAD4f7SVkWPcO64/AAAAAAAA+H8AAAAAAAD4fwAAAAAAAPh/AAAAAAAA+H8AAAAAAAD4f07AQ5vPfOk/AAAAAAAA+H/1z4WrAyawPwAAAAAAAPh/AAAAAAAA+H8AAAAAAAD4fwAAAAAAAPh/AAAAAAAA+H8AAAAAAAD4fwAAAAAAAPh/AAAAAAAA+H8=",
          "dtype": "f8",
          "shape": "4, 7"
         }
        },
        {
         "marker": {
          "color": "black",
          "line": {
           "color": "Gray",
           "width": 2
          }
         },
         "mode": "markers",
         "name": "Feasible Trial",
         "showlegend": false,
         "type": "scatter",
         "x": [
          13,
          8,
          14,
          9,
          10
         ],
         "xaxis": "x4",
         "y": [
          64,
          64,
          128,
          64,
          128
         ],
         "yaxis": "y4"
        },
        {
         "colorbar": {
          "title": {
           "text": "Objective Value"
          }
         },
         "colorscale": [
          [
           0,
           "rgb(247,251,255)"
          ],
          [
           0.125,
           "rgb(222,235,247)"
          ],
          [
           0.25,
           "rgb(198,219,239)"
          ],
          [
           0.375,
           "rgb(158,202,225)"
          ],
          [
           0.5,
           "rgb(107,174,214)"
          ],
          [
           0.625,
           "rgb(66,146,198)"
          ],
          [
           0.75,
           "rgb(33,113,181)"
          ],
          [
           0.875,
           "rgb(8,81,156)"
          ],
          [
           1,
           "rgb(8,48,107)"
          ]
         ],
         "connectgaps": true,
         "contours": {
          "coloring": "heatmap"
         },
         "hoverinfo": "none",
         "line": {
          "smoothing": 1.3
         },
         "reversescale": false,
         "showscale": false,
         "type": "contour",
         "x": [
          7.7,
          8,
          9,
          10,
          13,
          14,
          14.3
         ],
         "xaxis": "x14",
         "y": [
          "False",
          "True"
         ],
         "yaxis": "y14",
         "z": {
          "bdata": "AAAAAAAA+H8AAAAAAAD4f9mkEjI0lek/TsBDm8986T8AAAAAAAD4fwAAAAAAAPh/AAAAAAAA+H8AAAAAAAD4f57HyvzBgOo/AAAAAAAA+H8AAAAAAAD4f7SVkWPcO64/9c+FqwMmsD8AAAAAAAD4fw==",
          "dtype": "f8",
          "shape": "2, 7"
         }
        },
        {
         "marker": {
          "color": "black",
          "line": {
           "color": "Gray",
           "width": 2
          }
         },
         "mode": "markers",
         "name": "Feasible Trial",
         "showlegend": false,
         "type": "scatter",
         "x": [
          13,
          8,
          14,
          9,
          10
         ],
         "xaxis": "x14",
         "y": [
          "True",
          "True",
          "True",
          "False",
          "False"
         ],
         "yaxis": "y14"
        },
        {
         "colorbar": {
          "title": {
           "text": "Objective Value"
          }
         },
         "colorscale": [
          [
           0,
           "rgb(247,251,255)"
          ],
          [
           0.125,
           "rgb(222,235,247)"
          ],
          [
           0.25,
           "rgb(198,219,239)"
          ],
          [
           0.375,
           "rgb(158,202,225)"
          ],
          [
           0.5,
           "rgb(107,174,214)"
          ],
          [
           0.625,
           "rgb(66,146,198)"
          ],
          [
           0.75,
           "rgb(33,113,181)"
          ],
          [
           0.875,
           "rgb(8,81,156)"
          ],
          [
           1,
           "rgb(8,48,107)"
          ]
         ],
         "connectgaps": true,
         "contours": {
          "coloring": "heatmap"
         },
         "hoverinfo": "none",
         "line": {
          "smoothing": 1.3
         },
         "reversescale": false,
         "showscale": false,
         "type": "contour",
         "x": [
          7.7,
          8,
          9,
          10,
          13,
          14,
          14.3
         ],
         "xaxis": "x24",
         "y": [
          0.16550133145846863,
          0.17957901587152492,
          0.2994028049210362,
          0.34223102575750275,
          0.36965344602653816,
          0.46113270413265095,
          0.47521038854570724
         ],
         "yaxis": "y24",
         "z": {
          "bdata": "AAAAAAAA+H8AAAAAAAD4fwAAAAAAAPh/AAAAAAAA+H8AAAAAAAD4fwAAAAAAAPh/AAAAAAAA+H8AAAAAAAD4fwAAAAAAAPh/AAAAAAAA+H8AAAAAAAD4fwAAAAAAAPh/9c+FqwMmsD8AAAAAAAD4fwAAAAAAAPh/AAAAAAAA+H8AAAAAAAD4fwAAAAAAAPh/tJWRY9w7rj8AAAAAAAD4fwAAAAAAAPh/AAAAAAAA+H8AAAAAAAD4fwAAAAAAAPh/TsBDm8986T8AAAAAAAD4fwAAAAAAAPh/AAAAAAAA+H8AAAAAAAD4f57HyvzBgOo/AAAAAAAA+H8AAAAAAAD4fwAAAAAAAPh/AAAAAAAA+H8AAAAAAAD4fwAAAAAAAPh/AAAAAAAA+H/ZpBIyNJXpPwAAAAAAAPh/AAAAAAAA+H8AAAAAAAD4fwAAAAAAAPh/AAAAAAAA+H8AAAAAAAD4fwAAAAAAAPh/AAAAAAAA+H8AAAAAAAD4fwAAAAAAAPh/AAAAAAAA+H8=",
          "dtype": "f8",
          "shape": "7, 7"
         }
        },
        {
         "marker": {
          "color": "black",
          "line": {
           "color": "Gray",
           "width": 2
          }
         },
         "mode": "markers",
         "name": "Feasible Trial",
         "showlegend": false,
         "type": "scatter",
         "x": [
          13,
          8,
          14,
          9,
          10
         ],
         "xaxis": "x24",
         "y": [
          0.2994028049210362,
          0.36965344602653816,
          0.17957901587152492,
          0.46113270413265095,
          0.34223102575750275
         ],
         "yaxis": "y24"
        },
        {
         "type": "scatter",
         "xaxis": "x34",
         "yaxis": "y34"
        },
        {
         "colorbar": {
          "title": {
           "text": "Objective Value"
          }
         },
         "colorscale": [
          [
           0,
           "rgb(247,251,255)"
          ],
          [
           0.125,
           "rgb(222,235,247)"
          ],
          [
           0.25,
           "rgb(198,219,239)"
          ],
          [
           0.375,
           "rgb(158,202,225)"
          ],
          [
           0.5,
           "rgb(107,174,214)"
          ],
          [
           0.625,
           "rgb(66,146,198)"
          ],
          [
           0.75,
           "rgb(33,113,181)"
          ],
          [
           0.875,
           "rgb(8,81,156)"
          ],
          [
           1,
           "rgb(8,48,107)"
          ]
         ],
         "connectgaps": true,
         "contours": {
          "coloring": "heatmap"
         },
         "hoverinfo": "none",
         "line": {
          "smoothing": 1.3
         },
         "reversescale": false,
         "showscale": false,
         "type": "contour",
         "x": [
          7.7,
          8,
          9,
          10,
          13,
          14,
          14.3
         ],
         "xaxis": "x44",
         "y": [
          60.8,
          64,
          128,
          131.2
         ],
         "yaxis": "y44",
         "z": {
          "bdata": "AAAAAAAA+H8AAAAAAAD4fwAAAAAAAPh/AAAAAAAA+H8AAAAAAAD4fwAAAAAAAPh/AAAAAAAA+H8AAAAAAAD4f57HyvzBgOo/AAAAAAAA+H9OwEObz3zpP7SVkWPcO64/AAAAAAAA+H8AAAAAAAD4fwAAAAAAAPh/AAAAAAAA+H/ZpBIyNJXpPwAAAAAAAPh/AAAAAAAA+H/1z4WrAyawPwAAAAAAAPh/AAAAAAAA+H8AAAAAAAD4fwAAAAAAAPh/AAAAAAAA+H8AAAAAAAD4fwAAAAAAAPh/AAAAAAAA+H8=",
          "dtype": "f8",
          "shape": "4, 7"
         }
        },
        {
         "marker": {
          "color": "black",
          "line": {
           "color": "Gray",
           "width": 2
          }
         },
         "mode": "markers",
         "name": "Feasible Trial",
         "showlegend": false,
         "type": "scatter",
         "x": [
          13,
          8,
          14,
          9,
          10
         ],
         "xaxis": "x44",
         "y": [
          64,
          64,
          128,
          128,
          64
         ],
         "yaxis": "y44"
        },
        {
         "colorbar": {
          "title": {
           "text": "Objective Value"
          }
         },
         "colorscale": [
          [
           0,
           "rgb(247,251,255)"
          ],
          [
           0.125,
           "rgb(222,235,247)"
          ],
          [
           0.25,
           "rgb(198,219,239)"
          ],
          [
           0.375,
           "rgb(158,202,225)"
          ],
          [
           0.5,
           "rgb(107,174,214)"
          ],
          [
           0.625,
           "rgb(66,146,198)"
          ],
          [
           0.75,
           "rgb(33,113,181)"
          ],
          [
           0.875,
           "rgb(8,81,156)"
          ],
          [
           1,
           "rgb(8,48,107)"
          ]
         ],
         "connectgaps": true,
         "contours": {
          "coloring": "heatmap"
         },
         "hoverinfo": "none",
         "line": {
          "smoothing": 1.3
         },
         "reversescale": false,
         "showscale": false,
         "type": "contour",
         "x": [
          7.7,
          8,
          9,
          10,
          13,
          14,
          14.3
         ],
         "xaxis": "x54",
         "y": [
          0.00010149359594607536,
          0.00011982944130266843,
          0.00033452711277994786,
          0.001720021822320989,
          0.003230690711567297,
          0.003319414023327547,
          0.003919099763485756
         ],
         "yaxis": "y54",
         "z": {
          "bdata": "AAAAAAAA+H8AAAAAAAD4fwAAAAAAAPh/AAAAAAAA+H8AAAAAAAD4fwAAAAAAAPh/AAAAAAAA+H8AAAAAAAD4fwAAAAAAAPh/2aQSMjSV6T8AAAAAAAD4fwAAAAAAAPh/AAAAAAAA+H8AAAAAAAD4fwAAAAAAAPh/AAAAAAAA+H8AAAAAAAD4f07AQ5vPfOk/AAAAAAAA+H8AAAAAAAD4fwAAAAAAAPh/AAAAAAAA+H+ex8r8wYDqPwAAAAAAAPh/AAAAAAAA+H8AAAAAAAD4fwAAAAAAAPh/AAAAAAAA+H8AAAAAAAD4fwAAAAAAAPh/AAAAAAAA+H8AAAAAAAD4fwAAAAAAAPh/9c+FqwMmsD8AAAAAAAD4fwAAAAAAAPh/AAAAAAAA+H8AAAAAAAD4fwAAAAAAAPh/tJWRY9w7rj8AAAAAAAD4fwAAAAAAAPh/AAAAAAAA+H8AAAAAAAD4fwAAAAAAAPh/AAAAAAAA+H8AAAAAAAD4fwAAAAAAAPh/AAAAAAAA+H8=",
          "dtype": "f8",
          "shape": "7, 7"
         }
        },
        {
         "marker": {
          "color": "black",
          "line": {
           "color": "Gray",
           "width": 2
          }
         },
         "mode": "markers",
         "name": "Feasible Trial",
         "showlegend": false,
         "type": "scatter",
         "x": [
          13,
          8,
          14,
          9,
          10
         ],
         "xaxis": "x54",
         "y": [
          0.003319414023327547,
          0.001720021822320989,
          0.003230690711567297,
          0.00011982944130266843,
          0.00033452711277994786
         ],
         "yaxis": "y54"
        },
        {
         "colorbar": {
          "title": {
           "text": "Objective Value"
          }
         },
         "colorscale": [
          [
           0,
           "rgb(247,251,255)"
          ],
          [
           0.125,
           "rgb(222,235,247)"
          ],
          [
           0.25,
           "rgb(198,219,239)"
          ],
          [
           0.375,
           "rgb(158,202,225)"
          ],
          [
           0.5,
           "rgb(107,174,214)"
          ],
          [
           0.625,
           "rgb(66,146,198)"
          ],
          [
           0.75,
           "rgb(33,113,181)"
          ],
          [
           0.875,
           "rgb(8,81,156)"
          ],
          [
           1,
           "rgb(8,48,107)"
          ]
         ],
         "connectgaps": true,
         "contours": {
          "coloring": "heatmap"
         },
         "hoverinfo": "none",
         "line": {
          "smoothing": 1.3
         },
         "reversescale": false,
         "showscale": false,
         "type": "contour",
         "x": [
          7.7,
          8,
          9,
          10,
          13,
          14,
          14.3
         ],
         "xaxis": "x64",
         "y": [
          1.95,
          2,
          3,
          3.05
         ],
         "yaxis": "y64",
         "z": {
          "bdata": "AAAAAAAA+H8AAAAAAAD4fwAAAAAAAPh/AAAAAAAA+H8AAAAAAAD4fwAAAAAAAPh/AAAAAAAA+H8AAAAAAAD4f57HyvzBgOo/2aQSMjSV6T9OwEObz3zpPwAAAAAAAPh/AAAAAAAA+H8AAAAAAAD4fwAAAAAAAPh/AAAAAAAA+H8AAAAAAAD4fwAAAAAAAPh/tJWRY9w7rj/1z4WrAyawPwAAAAAAAPh/AAAAAAAA+H8AAAAAAAD4fwAAAAAAAPh/AAAAAAAA+H8AAAAAAAD4fwAAAAAAAPh/AAAAAAAA+H8=",
          "dtype": "f8",
          "shape": "4, 7"
         }
        },
        {
         "marker": {
          "color": "black",
          "line": {
           "color": "Gray",
           "width": 2
          }
         },
         "mode": "markers",
         "name": "Feasible Trial",
         "showlegend": false,
         "type": "scatter",
         "x": [
          13,
          8,
          14,
          9,
          10
         ],
         "xaxis": "x64",
         "y": [
          3,
          2,
          3,
          2,
          2
         ],
         "yaxis": "y64"
        },
        {
         "colorbar": {
          "title": {
           "text": "Objective Value"
          }
         },
         "colorscale": [
          [
           0,
           "rgb(247,251,255)"
          ],
          [
           0.125,
           "rgb(222,235,247)"
          ],
          [
           0.25,
           "rgb(198,219,239)"
          ],
          [
           0.375,
           "rgb(158,202,225)"
          ],
          [
           0.5,
           "rgb(107,174,214)"
          ],
          [
           0.625,
           "rgb(66,146,198)"
          ],
          [
           0.75,
           "rgb(33,113,181)"
          ],
          [
           0.875,
           "rgb(8,81,156)"
          ],
          [
           1,
           "rgb(8,48,107)"
          ]
         ],
         "connectgaps": true,
         "contours": {
          "coloring": "heatmap"
         },
         "hoverinfo": "none",
         "line": {
          "smoothing": 1.3
         },
         "reversescale": false,
         "showscale": false,
         "type": "contour",
         "x": [
          7.7,
          8,
          9,
          10,
          13,
          14,
          14.3
         ],
         "xaxis": "x74",
         "y": [
          27.2,
          32,
          64,
          128,
          132.8
         ],
         "yaxis": "y74",
         "z": {
          "bdata": "AAAAAAAA+H8AAAAAAAD4fwAAAAAAAPh/AAAAAAAA+H8AAAAAAAD4fwAAAAAAAPh/AAAAAAAA+H8AAAAAAAD4fwAAAAAAAPh/AAAAAAAA+H8AAAAAAAD4f7SVkWPcO64/AAAAAAAA+H8AAAAAAAD4fwAAAAAAAPh/AAAAAAAA+H/ZpBIyNJXpPwAAAAAAAPh/AAAAAAAA+H/1z4WrAyawPwAAAAAAAPh/AAAAAAAA+H+ex8r8wYDqPwAAAAAAAPh/TsBDm8986T8AAAAAAAD4fwAAAAAAAPh/AAAAAAAA+H8AAAAAAAD4fwAAAAAAAPh/AAAAAAAA+H8AAAAAAAD4fwAAAAAAAPh/AAAAAAAA+H8AAAAAAAD4fw==",
          "dtype": "f8",
          "shape": "5, 7"
         }
        },
        {
         "marker": {
          "color": "black",
          "line": {
           "color": "Gray",
           "width": 2
          }
         },
         "mode": "markers",
         "name": "Feasible Trial",
         "showlegend": false,
         "type": "scatter",
         "x": [
          13,
          8,
          14,
          9,
          10
         ],
         "xaxis": "x74",
         "y": [
          32,
          128,
          64,
          64,
          128
         ],
         "yaxis": "y74"
        },
        {
         "colorbar": {
          "title": {
           "text": "Objective Value"
          }
         },
         "colorscale": [
          [
           0,
           "rgb(247,251,255)"
          ],
          [
           0.125,
           "rgb(222,235,247)"
          ],
          [
           0.25,
           "rgb(198,219,239)"
          ],
          [
           0.375,
           "rgb(158,202,225)"
          ],
          [
           0.5,
           "rgb(107,174,214)"
          ],
          [
           0.625,
           "rgb(66,146,198)"
          ],
          [
           0.75,
           "rgb(33,113,181)"
          ],
          [
           0.875,
           "rgb(8,81,156)"
          ],
          [
           1,
           "rgb(8,48,107)"
          ]
         ],
         "connectgaps": true,
         "contours": {
          "coloring": "heatmap"
         },
         "hoverinfo": "none",
         "line": {
          "smoothing": 1.3
         },
         "reversescale": false,
         "showscale": false,
         "type": "contour",
         "x": [
          7.7,
          8,
          9,
          10,
          13,
          14,
          14.3
         ],
         "xaxis": "x84",
         "y": [
          0.85,
          1,
          2,
          4,
          4.15
         ],
         "yaxis": "y84",
         "z": {
          "bdata": "AAAAAAAA+H8AAAAAAAD4fwAAAAAAAPh/AAAAAAAA+H8AAAAAAAD4fwAAAAAAAPh/AAAAAAAA+H8AAAAAAAD4fwAAAAAAAPh/2aQSMjSV6T8AAAAAAAD4fwAAAAAAAPh/AAAAAAAA+H8AAAAAAAD4fwAAAAAAAPh/nsfK/MGA6j8AAAAAAAD4fwAAAAAAAPh/AAAAAAAA+H/1z4WrAyawPwAAAAAAAPh/AAAAAAAA+H8AAAAAAAD4fwAAAAAAAPh/TsBDm8986T+0lZFj3DuuPwAAAAAAAPh/AAAAAAAA+H8AAAAAAAD4fwAAAAAAAPh/AAAAAAAA+H8AAAAAAAD4fwAAAAAAAPh/AAAAAAAA+H8AAAAAAAD4fw==",
          "dtype": "f8",
          "shape": "5, 7"
         }
        },
        {
         "marker": {
          "color": "black",
          "line": {
           "color": "Gray",
           "width": 2
          }
         },
         "mode": "markers",
         "name": "Feasible Trial",
         "showlegend": false,
         "type": "scatter",
         "x": [
          13,
          8,
          14,
          9,
          10
         ],
         "xaxis": "x84",
         "y": [
          4,
          2,
          2,
          1,
          4
         ],
         "yaxis": "y84"
        },
        {
         "colorbar": {
          "title": {
           "text": "Objective Value"
          }
         },
         "colorscale": [
          [
           0,
           "rgb(247,251,255)"
          ],
          [
           0.125,
           "rgb(222,235,247)"
          ],
          [
           0.25,
           "rgb(198,219,239)"
          ],
          [
           0.375,
           "rgb(158,202,225)"
          ],
          [
           0.5,
           "rgb(107,174,214)"
          ],
          [
           0.625,
           "rgb(66,146,198)"
          ],
          [
           0.75,
           "rgb(33,113,181)"
          ],
          [
           0.875,
           "rgb(8,81,156)"
          ],
          [
           1,
           "rgb(8,48,107)"
          ]
         ],
         "connectgaps": true,
         "contours": {
          "coloring": "heatmap"
         },
         "hoverinfo": "none",
         "line": {
          "smoothing": 1.3
         },
         "reversescale": false,
         "showscale": false,
         "type": "contour",
         "x": [
          7.7,
          8,
          9,
          10,
          13,
          14,
          14.3
         ],
         "xaxis": "x94",
         "y": [
          0.000009718804605397253,
          0.000013467657668402778,
          0.00010450174221660634,
          0.003062273519768889,
          0.005666597524267947,
          0.009180713288833598,
          0.012722007360566055
         ],
         "yaxis": "y94",
         "z": {
          "bdata": "AAAAAAAA+H8AAAAAAAD4fwAAAAAAAPh/AAAAAAAA+H8AAAAAAAD4fwAAAAAAAPh/AAAAAAAA+H8AAAAAAAD4fwAAAAAAAPh/2aQSMjSV6T8AAAAAAAD4fwAAAAAAAPh/AAAAAAAA+H8AAAAAAAD4fwAAAAAAAPh/AAAAAAAA+H8AAAAAAAD4f07AQ5vPfOk/AAAAAAAA+H8AAAAAAAD4fwAAAAAAAPh/AAAAAAAA+H+ex8r8wYDqPwAAAAAAAPh/AAAAAAAA+H8AAAAAAAD4fwAAAAAAAPh/AAAAAAAA+H8AAAAAAAD4fwAAAAAAAPh/AAAAAAAA+H8AAAAAAAD4f7SVkWPcO64/AAAAAAAA+H8AAAAAAAD4fwAAAAAAAPh/AAAAAAAA+H8AAAAAAAD4fwAAAAAAAPh/AAAAAAAA+H/1z4WrAyawPwAAAAAAAPh/AAAAAAAA+H8AAAAAAAD4fwAAAAAAAPh/AAAAAAAA+H8AAAAAAAD4fwAAAAAAAPh/AAAAAAAA+H8=",
          "dtype": "f8",
          "shape": "7, 7"
         }
        },
        {
         "marker": {
          "color": "black",
          "line": {
           "color": "Gray",
           "width": 2
          }
         },
         "mode": "markers",
         "name": "Feasible Trial",
         "showlegend": false,
         "type": "scatter",
         "x": [
          13,
          8,
          14,
          9,
          10
         ],
         "xaxis": "x94",
         "y": [
          0.005666597524267947,
          0.003062273519768889,
          0.009180713288833598,
          0.000013467657668402778,
          0.00010450174221660634
         ],
         "yaxis": "y94"
        },
        {
         "colorbar": {
          "title": {
           "text": "Objective Value"
          }
         },
         "colorscale": [
          [
           0,
           "rgb(247,251,255)"
          ],
          [
           0.125,
           "rgb(222,235,247)"
          ],
          [
           0.25,
           "rgb(198,219,239)"
          ],
          [
           0.375,
           "rgb(158,202,225)"
          ],
          [
           0.5,
           "rgb(107,174,214)"
          ],
          [
           0.625,
           "rgb(66,146,198)"
          ],
          [
           0.75,
           "rgb(33,113,181)"
          ],
          [
           0.875,
           "rgb(8,81,156)"
          ],
          [
           1,
           "rgb(8,48,107)"
          ]
         ],
         "connectgaps": true,
         "contours": {
          "coloring": "heatmap"
         },
         "hoverinfo": "none",
         "line": {
          "smoothing": 1.3
         },
         "reversescale": false,
         "showscale": false,
         "type": "contour",
         "x": [
          60.8,
          64,
          128,
          131.2
         ],
         "xaxis": "x5",
         "y": [
          60.8,
          64,
          128,
          131.2
         ],
         "yaxis": "y5",
         "z": {
          "bdata": "AAAAAAAA+H8AAAAAAAD4fwAAAAAAAPh/AAAAAAAA+H8AAAAAAAD4f57HyvzBgOo/2aQSMjSV6T8AAAAAAAD4fwAAAAAAAPh/TsBDm8986T/1z4WrAyawPwAAAAAAAPh/AAAAAAAA+H8AAAAAAAD4fwAAAAAAAPh/AAAAAAAA+H8=",
          "dtype": "f8",
          "shape": "4, 4"
         }
        },
        {
         "marker": {
          "color": "black",
          "line": {
           "color": "Gray",
           "width": 2
          }
         },
         "mode": "markers",
         "name": "Feasible Trial",
         "showlegend": false,
         "type": "scatter",
         "x": [
          64,
          64,
          128,
          128,
          64
         ],
         "xaxis": "x5",
         "y": [
          64,
          64,
          128,
          64,
          128
         ],
         "yaxis": "y5"
        },
        {
         "colorbar": {
          "title": {
           "text": "Objective Value"
          }
         },
         "colorscale": [
          [
           0,
           "rgb(247,251,255)"
          ],
          [
           0.125,
           "rgb(222,235,247)"
          ],
          [
           0.25,
           "rgb(198,219,239)"
          ],
          [
           0.375,
           "rgb(158,202,225)"
          ],
          [
           0.5,
           "rgb(107,174,214)"
          ],
          [
           0.625,
           "rgb(66,146,198)"
          ],
          [
           0.75,
           "rgb(33,113,181)"
          ],
          [
           0.875,
           "rgb(8,81,156)"
          ],
          [
           1,
           "rgb(8,48,107)"
          ]
         ],
         "connectgaps": true,
         "contours": {
          "coloring": "heatmap"
         },
         "hoverinfo": "none",
         "line": {
          "smoothing": 1.3
         },
         "reversescale": false,
         "showscale": false,
         "type": "contour",
         "x": [
          60.8,
          64,
          128,
          131.2
         ],
         "xaxis": "x15",
         "y": [
          "False",
          "True"
         ],
         "yaxis": "y15",
         "z": {
          "bdata": "AAAAAAAA+H9OwEObz3zpP9mkEjI0lek/AAAAAAAA+H8AAAAAAAD4f57HyvzBgOo/9c+FqwMmsD8AAAAAAAD4fw==",
          "dtype": "f8",
          "shape": "2, 4"
         }
        },
        {
         "marker": {
          "color": "black",
          "line": {
           "color": "Gray",
           "width": 2
          }
         },
         "mode": "markers",
         "name": "Feasible Trial",
         "showlegend": false,
         "type": "scatter",
         "x": [
          64,
          64,
          128,
          128,
          64
         ],
         "xaxis": "x15",
         "y": [
          "True",
          "True",
          "True",
          "False",
          "False"
         ],
         "yaxis": "y15"
        },
        {
         "colorbar": {
          "title": {
           "text": "Objective Value"
          }
         },
         "colorscale": [
          [
           0,
           "rgb(247,251,255)"
          ],
          [
           0.125,
           "rgb(222,235,247)"
          ],
          [
           0.25,
           "rgb(198,219,239)"
          ],
          [
           0.375,
           "rgb(158,202,225)"
          ],
          [
           0.5,
           "rgb(107,174,214)"
          ],
          [
           0.625,
           "rgb(66,146,198)"
          ],
          [
           0.75,
           "rgb(33,113,181)"
          ],
          [
           0.875,
           "rgb(8,81,156)"
          ],
          [
           1,
           "rgb(8,48,107)"
          ]
         ],
         "connectgaps": true,
         "contours": {
          "coloring": "heatmap"
         },
         "hoverinfo": "none",
         "line": {
          "smoothing": 1.3
         },
         "reversescale": false,
         "showscale": false,
         "type": "contour",
         "x": [
          60.8,
          64,
          128,
          131.2
         ],
         "xaxis": "x25",
         "y": [
          0.16550133145846863,
          0.17957901587152492,
          0.2994028049210362,
          0.34223102575750275,
          0.36965344602653816,
          0.46113270413265095,
          0.47521038854570724
         ],
         "yaxis": "y25",
         "z": {
          "bdata": "AAAAAAAA+H8AAAAAAAD4fwAAAAAAAPh/AAAAAAAA+H8AAAAAAAD4fwAAAAAAAPh/9c+FqwMmsD8AAAAAAAD4fwAAAAAAAPh/tJWRY9w7rj8AAAAAAAD4fwAAAAAAAPh/AAAAAAAA+H9OwEObz3zpPwAAAAAAAPh/AAAAAAAA+H8AAAAAAAD4f57HyvzBgOo/AAAAAAAA+H8AAAAAAAD4fwAAAAAAAPh/AAAAAAAA+H/ZpBIyNJXpPwAAAAAAAPh/AAAAAAAA+H8AAAAAAAD4fwAAAAAAAPh/AAAAAAAA+H8=",
          "dtype": "f8",
          "shape": "7, 4"
         }
        },
        {
         "marker": {
          "color": "black",
          "line": {
           "color": "Gray",
           "width": 2
          }
         },
         "mode": "markers",
         "name": "Feasible Trial",
         "showlegend": false,
         "type": "scatter",
         "x": [
          64,
          64,
          128,
          128,
          64
         ],
         "xaxis": "x25",
         "y": [
          0.2994028049210362,
          0.36965344602653816,
          0.17957901587152492,
          0.46113270413265095,
          0.34223102575750275
         ],
         "yaxis": "y25"
        },
        {
         "colorbar": {
          "title": {
           "text": "Objective Value"
          }
         },
         "colorscale": [
          [
           0,
           "rgb(247,251,255)"
          ],
          [
           0.125,
           "rgb(222,235,247)"
          ],
          [
           0.25,
           "rgb(198,219,239)"
          ],
          [
           0.375,
           "rgb(158,202,225)"
          ],
          [
           0.5,
           "rgb(107,174,214)"
          ],
          [
           0.625,
           "rgb(66,146,198)"
          ],
          [
           0.75,
           "rgb(33,113,181)"
          ],
          [
           0.875,
           "rgb(8,81,156)"
          ],
          [
           1,
           "rgb(8,48,107)"
          ]
         ],
         "connectgaps": true,
         "contours": {
          "coloring": "heatmap"
         },
         "hoverinfo": "none",
         "line": {
          "smoothing": 1.3
         },
         "reversescale": false,
         "showscale": false,
         "type": "contour",
         "x": [
          60.8,
          64,
          128,
          131.2
         ],
         "xaxis": "x35",
         "y": [
          7.7,
          8,
          9,
          10,
          13,
          14,
          14.3
         ],
         "yaxis": "y35",
         "z": {
          "bdata": "AAAAAAAA+H8AAAAAAAD4fwAAAAAAAPh/AAAAAAAA+H8AAAAAAAD4f57HyvzBgOo/AAAAAAAA+H8AAAAAAAD4fwAAAAAAAPh/AAAAAAAA+H/ZpBIyNJXpPwAAAAAAAPh/AAAAAAAA+H9OwEObz3zpPwAAAAAAAPh/AAAAAAAA+H8AAAAAAAD4f7SVkWPcO64/AAAAAAAA+H8AAAAAAAD4fwAAAAAAAPh/AAAAAAAA+H/1z4WrAyawPwAAAAAAAPh/AAAAAAAA+H8AAAAAAAD4fwAAAAAAAPh/AAAAAAAA+H8=",
          "dtype": "f8",
          "shape": "7, 4"
         }
        },
        {
         "marker": {
          "color": "black",
          "line": {
           "color": "Gray",
           "width": 2
          }
         },
         "mode": "markers",
         "name": "Feasible Trial",
         "showlegend": false,
         "type": "scatter",
         "x": [
          64,
          64,
          128,
          128,
          64
         ],
         "xaxis": "x35",
         "y": [
          13,
          8,
          14,
          9,
          10
         ],
         "yaxis": "y35"
        },
        {
         "type": "scatter",
         "xaxis": "x45",
         "yaxis": "y45"
        },
        {
         "colorbar": {
          "title": {
           "text": "Objective Value"
          }
         },
         "colorscale": [
          [
           0,
           "rgb(247,251,255)"
          ],
          [
           0.125,
           "rgb(222,235,247)"
          ],
          [
           0.25,
           "rgb(198,219,239)"
          ],
          [
           0.375,
           "rgb(158,202,225)"
          ],
          [
           0.5,
           "rgb(107,174,214)"
          ],
          [
           0.625,
           "rgb(66,146,198)"
          ],
          [
           0.75,
           "rgb(33,113,181)"
          ],
          [
           0.875,
           "rgb(8,81,156)"
          ],
          [
           1,
           "rgb(8,48,107)"
          ]
         ],
         "connectgaps": true,
         "contours": {
          "coloring": "heatmap"
         },
         "hoverinfo": "none",
         "line": {
          "smoothing": 1.3
         },
         "reversescale": false,
         "showscale": false,
         "type": "contour",
         "x": [
          60.8,
          64,
          128,
          131.2
         ],
         "xaxis": "x55",
         "y": [
          0.00010149359594607536,
          0.00011982944130266843,
          0.00033452711277994786,
          0.001720021822320989,
          0.003230690711567297,
          0.003319414023327547,
          0.003919099763485756
         ],
         "yaxis": "y55",
         "z": {
          "bdata": "AAAAAAAA+H8AAAAAAAD4fwAAAAAAAPh/AAAAAAAA+H8AAAAAAAD4fwAAAAAAAPh/2aQSMjSV6T8AAAAAAAD4fwAAAAAAAPh/TsBDm8986T8AAAAAAAD4fwAAAAAAAPh/AAAAAAAA+H+ex8r8wYDqPwAAAAAAAPh/AAAAAAAA+H8AAAAAAAD4fwAAAAAAAPh/9c+FqwMmsD8AAAAAAAD4fwAAAAAAAPh/tJWRY9w7rj8AAAAAAAD4fwAAAAAAAPh/AAAAAAAA+H8AAAAAAAD4fwAAAAAAAPh/AAAAAAAA+H8=",
          "dtype": "f8",
          "shape": "7, 4"
         }
        },
        {
         "marker": {
          "color": "black",
          "line": {
           "color": "Gray",
           "width": 2
          }
         },
         "mode": "markers",
         "name": "Feasible Trial",
         "showlegend": false,
         "type": "scatter",
         "x": [
          64,
          64,
          128,
          128,
          64
         ],
         "xaxis": "x55",
         "y": [
          0.003319414023327547,
          0.001720021822320989,
          0.003230690711567297,
          0.00011982944130266843,
          0.00033452711277994786
         ],
         "yaxis": "y55"
        },
        {
         "colorbar": {
          "title": {
           "text": "Objective Value"
          }
         },
         "colorscale": [
          [
           0,
           "rgb(247,251,255)"
          ],
          [
           0.125,
           "rgb(222,235,247)"
          ],
          [
           0.25,
           "rgb(198,219,239)"
          ],
          [
           0.375,
           "rgb(158,202,225)"
          ],
          [
           0.5,
           "rgb(107,174,214)"
          ],
          [
           0.625,
           "rgb(66,146,198)"
          ],
          [
           0.75,
           "rgb(33,113,181)"
          ],
          [
           0.875,
           "rgb(8,81,156)"
          ],
          [
           1,
           "rgb(8,48,107)"
          ]
         ],
         "connectgaps": true,
         "contours": {
          "coloring": "heatmap"
         },
         "hoverinfo": "none",
         "line": {
          "smoothing": 1.3
         },
         "reversescale": false,
         "showscale": false,
         "type": "contour",
         "x": [
          60.8,
          64,
          128,
          131.2
         ],
         "xaxis": "x65",
         "y": [
          1.95,
          2,
          3,
          3.05
         ],
         "yaxis": "y65",
         "z": {
          "bdata": "AAAAAAAA+H8AAAAAAAD4fwAAAAAAAPh/AAAAAAAA+H8AAAAAAAD4f57HyvzBgOo/2aQSMjSV6T8AAAAAAAD4fwAAAAAAAPh/tJWRY9w7rj/1z4WrAyawPwAAAAAAAPh/AAAAAAAA+H8AAAAAAAD4fwAAAAAAAPh/AAAAAAAA+H8=",
          "dtype": "f8",
          "shape": "4, 4"
         }
        },
        {
         "marker": {
          "color": "black",
          "line": {
           "color": "Gray",
           "width": 2
          }
         },
         "mode": "markers",
         "name": "Feasible Trial",
         "showlegend": false,
         "type": "scatter",
         "x": [
          64,
          64,
          128,
          128,
          64
         ],
         "xaxis": "x65",
         "y": [
          3,
          2,
          3,
          2,
          2
         ],
         "yaxis": "y65"
        },
        {
         "colorbar": {
          "title": {
           "text": "Objective Value"
          }
         },
         "colorscale": [
          [
           0,
           "rgb(247,251,255)"
          ],
          [
           0.125,
           "rgb(222,235,247)"
          ],
          [
           0.25,
           "rgb(198,219,239)"
          ],
          [
           0.375,
           "rgb(158,202,225)"
          ],
          [
           0.5,
           "rgb(107,174,214)"
          ],
          [
           0.625,
           "rgb(66,146,198)"
          ],
          [
           0.75,
           "rgb(33,113,181)"
          ],
          [
           0.875,
           "rgb(8,81,156)"
          ],
          [
           1,
           "rgb(8,48,107)"
          ]
         ],
         "connectgaps": true,
         "contours": {
          "coloring": "heatmap"
         },
         "hoverinfo": "none",
         "line": {
          "smoothing": 1.3
         },
         "reversescale": false,
         "showscale": false,
         "type": "contour",
         "x": [
          60.8,
          64,
          128,
          131.2
         ],
         "xaxis": "x75",
         "y": [
          27.2,
          32,
          64,
          128,
          132.8
         ],
         "yaxis": "y75",
         "z": {
          "bdata": "AAAAAAAA+H8AAAAAAAD4fwAAAAAAAPh/AAAAAAAA+H8AAAAAAAD4f7SVkWPcO64/AAAAAAAA+H8AAAAAAAD4fwAAAAAAAPh/AAAAAAAA+H/ZpBIyNJXpPwAAAAAAAPh/AAAAAAAA+H+ex8r8wYDqPwAAAAAAAPh/AAAAAAAA+H8AAAAAAAD4fwAAAAAAAPh/AAAAAAAA+H8AAAAAAAD4fw==",
          "dtype": "f8",
          "shape": "5, 4"
         }
        },
        {
         "marker": {
          "color": "black",
          "line": {
           "color": "Gray",
           "width": 2
          }
         },
         "mode": "markers",
         "name": "Feasible Trial",
         "showlegend": false,
         "type": "scatter",
         "x": [
          64,
          64,
          128,
          128,
          64
         ],
         "xaxis": "x75",
         "y": [
          32,
          128,
          64,
          64,
          128
         ],
         "yaxis": "y75"
        },
        {
         "colorbar": {
          "title": {
           "text": "Objective Value"
          }
         },
         "colorscale": [
          [
           0,
           "rgb(247,251,255)"
          ],
          [
           0.125,
           "rgb(222,235,247)"
          ],
          [
           0.25,
           "rgb(198,219,239)"
          ],
          [
           0.375,
           "rgb(158,202,225)"
          ],
          [
           0.5,
           "rgb(107,174,214)"
          ],
          [
           0.625,
           "rgb(66,146,198)"
          ],
          [
           0.75,
           "rgb(33,113,181)"
          ],
          [
           0.875,
           "rgb(8,81,156)"
          ],
          [
           1,
           "rgb(8,48,107)"
          ]
         ],
         "connectgaps": true,
         "contours": {
          "coloring": "heatmap"
         },
         "hoverinfo": "none",
         "line": {
          "smoothing": 1.3
         },
         "reversescale": false,
         "showscale": false,
         "type": "contour",
         "x": [
          60.8,
          64,
          128,
          131.2
         ],
         "xaxis": "x85",
         "y": [
          0.85,
          1,
          2,
          4,
          4.15
         ],
         "yaxis": "y85",
         "z": {
          "bdata": "AAAAAAAA+H8AAAAAAAD4fwAAAAAAAPh/AAAAAAAA+H8AAAAAAAD4fwAAAAAAAPh/2aQSMjSV6T8AAAAAAAD4fwAAAAAAAPh/nsfK/MGA6j/1z4WrAyawPwAAAAAAAPh/AAAAAAAA+H9OwEObz3zpPwAAAAAAAPh/AAAAAAAA+H8AAAAAAAD4fwAAAAAAAPh/AAAAAAAA+H8AAAAAAAD4fw==",
          "dtype": "f8",
          "shape": "5, 4"
         }
        },
        {
         "marker": {
          "color": "black",
          "line": {
           "color": "Gray",
           "width": 2
          }
         },
         "mode": "markers",
         "name": "Feasible Trial",
         "showlegend": false,
         "type": "scatter",
         "x": [
          64,
          64,
          128,
          128,
          64
         ],
         "xaxis": "x85",
         "y": [
          4,
          2,
          2,
          1,
          4
         ],
         "yaxis": "y85"
        },
        {
         "colorbar": {
          "title": {
           "text": "Objective Value"
          }
         },
         "colorscale": [
          [
           0,
           "rgb(247,251,255)"
          ],
          [
           0.125,
           "rgb(222,235,247)"
          ],
          [
           0.25,
           "rgb(198,219,239)"
          ],
          [
           0.375,
           "rgb(158,202,225)"
          ],
          [
           0.5,
           "rgb(107,174,214)"
          ],
          [
           0.625,
           "rgb(66,146,198)"
          ],
          [
           0.75,
           "rgb(33,113,181)"
          ],
          [
           0.875,
           "rgb(8,81,156)"
          ],
          [
           1,
           "rgb(8,48,107)"
          ]
         ],
         "connectgaps": true,
         "contours": {
          "coloring": "heatmap"
         },
         "hoverinfo": "none",
         "line": {
          "smoothing": 1.3
         },
         "reversescale": false,
         "showscale": false,
         "type": "contour",
         "x": [
          60.8,
          64,
          128,
          131.2
         ],
         "xaxis": "x95",
         "y": [
          0.000009718804605397253,
          0.000013467657668402778,
          0.00010450174221660634,
          0.003062273519768889,
          0.005666597524267947,
          0.009180713288833598,
          0.012722007360566055
         ],
         "yaxis": "y95",
         "z": {
          "bdata": "AAAAAAAA+H8AAAAAAAD4fwAAAAAAAPh/AAAAAAAA+H8AAAAAAAD4fwAAAAAAAPh/2aQSMjSV6T8AAAAAAAD4fwAAAAAAAPh/TsBDm8986T8AAAAAAAD4fwAAAAAAAPh/AAAAAAAA+H+ex8r8wYDqPwAAAAAAAPh/AAAAAAAA+H8AAAAAAAD4f7SVkWPcO64/AAAAAAAA+H8AAAAAAAD4fwAAAAAAAPh/AAAAAAAA+H/1z4WrAyawPwAAAAAAAPh/AAAAAAAA+H8AAAAAAAD4fwAAAAAAAPh/AAAAAAAA+H8=",
          "dtype": "f8",
          "shape": "7, 4"
         }
        },
        {
         "marker": {
          "color": "black",
          "line": {
           "color": "Gray",
           "width": 2
          }
         },
         "mode": "markers",
         "name": "Feasible Trial",
         "showlegend": false,
         "type": "scatter",
         "x": [
          64,
          64,
          128,
          128,
          64
         ],
         "xaxis": "x95",
         "y": [
          0.005666597524267947,
          0.003062273519768889,
          0.009180713288833598,
          0.000013467657668402778,
          0.00010450174221660634
         ],
         "yaxis": "y95"
        },
        {
         "colorbar": {
          "title": {
           "text": "Objective Value"
          }
         },
         "colorscale": [
          [
           0,
           "rgb(247,251,255)"
          ],
          [
           0.125,
           "rgb(222,235,247)"
          ],
          [
           0.25,
           "rgb(198,219,239)"
          ],
          [
           0.375,
           "rgb(158,202,225)"
          ],
          [
           0.5,
           "rgb(107,174,214)"
          ],
          [
           0.625,
           "rgb(66,146,198)"
          ],
          [
           0.75,
           "rgb(33,113,181)"
          ],
          [
           0.875,
           "rgb(8,81,156)"
          ],
          [
           1,
           "rgb(8,48,107)"
          ]
         ],
         "connectgaps": true,
         "contours": {
          "coloring": "heatmap"
         },
         "hoverinfo": "none",
         "line": {
          "smoothing": 1.3
         },
         "reversescale": false,
         "showscale": false,
         "type": "contour",
         "x": [
          0.00010149359594607536,
          0.00011982944130266843,
          0.00033452711277994786,
          0.001720021822320989,
          0.003230690711567297,
          0.003319414023327547,
          0.003919099763485756
         ],
         "xaxis": "x6",
         "y": [
          60.8,
          64,
          128,
          131.2
         ],
         "yaxis": "y6",
         "z": {
          "bdata": "AAAAAAAA+H8AAAAAAAD4fwAAAAAAAPh/AAAAAAAA+H8AAAAAAAD4fwAAAAAAAPh/AAAAAAAA+H8AAAAAAAD4f9mkEjI0lek/AAAAAAAA+H+ex8r8wYDqPwAAAAAAAPh/tJWRY9w7rj8AAAAAAAD4fwAAAAAAAPh/AAAAAAAA+H9OwEObz3zpPwAAAAAAAPh/9c+FqwMmsD8AAAAAAAD4fwAAAAAAAPh/AAAAAAAA+H8AAAAAAAD4fwAAAAAAAPh/AAAAAAAA+H8AAAAAAAD4fwAAAAAAAPh/AAAAAAAA+H8=",
          "dtype": "f8",
          "shape": "4, 7"
         }
        },
        {
         "marker": {
          "color": "black",
          "line": {
           "color": "Gray",
           "width": 2
          }
         },
         "mode": "markers",
         "name": "Feasible Trial",
         "showlegend": false,
         "type": "scatter",
         "x": [
          0.003319414023327547,
          0.001720021822320989,
          0.003230690711567297,
          0.00011982944130266843,
          0.00033452711277994786
         ],
         "xaxis": "x6",
         "y": [
          64,
          64,
          128,
          64,
          128
         ],
         "yaxis": "y6"
        },
        {
         "colorbar": {
          "title": {
           "text": "Objective Value"
          }
         },
         "colorscale": [
          [
           0,
           "rgb(247,251,255)"
          ],
          [
           0.125,
           "rgb(222,235,247)"
          ],
          [
           0.25,
           "rgb(198,219,239)"
          ],
          [
           0.375,
           "rgb(158,202,225)"
          ],
          [
           0.5,
           "rgb(107,174,214)"
          ],
          [
           0.625,
           "rgb(66,146,198)"
          ],
          [
           0.75,
           "rgb(33,113,181)"
          ],
          [
           0.875,
           "rgb(8,81,156)"
          ],
          [
           1,
           "rgb(8,48,107)"
          ]
         ],
         "connectgaps": true,
         "contours": {
          "coloring": "heatmap"
         },
         "hoverinfo": "none",
         "line": {
          "smoothing": 1.3
         },
         "reversescale": false,
         "showscale": false,
         "type": "contour",
         "x": [
          0.00010149359594607536,
          0.00011982944130266843,
          0.00033452711277994786,
          0.001720021822320989,
          0.003230690711567297,
          0.003319414023327547,
          0.003919099763485756
         ],
         "xaxis": "x16",
         "y": [
          "False",
          "True"
         ],
         "yaxis": "y16",
         "z": {
          "bdata": "AAAAAAAA+H/ZpBIyNJXpP07AQ5vPfOk/AAAAAAAA+H8AAAAAAAD4fwAAAAAAAPh/AAAAAAAA+H8AAAAAAAD4fwAAAAAAAPh/AAAAAAAA+H+ex8r8wYDqP/XPhasDJrA/tJWRY9w7rj8AAAAAAAD4fw==",
          "dtype": "f8",
          "shape": "2, 7"
         }
        },
        {
         "marker": {
          "color": "black",
          "line": {
           "color": "Gray",
           "width": 2
          }
         },
         "mode": "markers",
         "name": "Feasible Trial",
         "showlegend": false,
         "type": "scatter",
         "x": [
          0.003319414023327547,
          0.001720021822320989,
          0.003230690711567297,
          0.00011982944130266843,
          0.00033452711277994786
         ],
         "xaxis": "x16",
         "y": [
          "True",
          "True",
          "True",
          "False",
          "False"
         ],
         "yaxis": "y16"
        },
        {
         "colorbar": {
          "title": {
           "text": "Objective Value"
          }
         },
         "colorscale": [
          [
           0,
           "rgb(247,251,255)"
          ],
          [
           0.125,
           "rgb(222,235,247)"
          ],
          [
           0.25,
           "rgb(198,219,239)"
          ],
          [
           0.375,
           "rgb(158,202,225)"
          ],
          [
           0.5,
           "rgb(107,174,214)"
          ],
          [
           0.625,
           "rgb(66,146,198)"
          ],
          [
           0.75,
           "rgb(33,113,181)"
          ],
          [
           0.875,
           "rgb(8,81,156)"
          ],
          [
           1,
           "rgb(8,48,107)"
          ]
         ],
         "connectgaps": true,
         "contours": {
          "coloring": "heatmap"
         },
         "hoverinfo": "none",
         "line": {
          "smoothing": 1.3
         },
         "reversescale": false,
         "showscale": false,
         "type": "contour",
         "x": [
          0.00010149359594607536,
          0.00011982944130266843,
          0.00033452711277994786,
          0.001720021822320989,
          0.003230690711567297,
          0.003319414023327547,
          0.003919099763485756
         ],
         "xaxis": "x26",
         "y": [
          0.16550133145846863,
          0.17957901587152492,
          0.2994028049210362,
          0.34223102575750275,
          0.36965344602653816,
          0.46113270413265095,
          0.47521038854570724
         ],
         "yaxis": "y26",
         "z": {
          "bdata": "AAAAAAAA+H8AAAAAAAD4fwAAAAAAAPh/AAAAAAAA+H8AAAAAAAD4fwAAAAAAAPh/AAAAAAAA+H8AAAAAAAD4fwAAAAAAAPh/AAAAAAAA+H8AAAAAAAD4f/XPhasDJrA/AAAAAAAA+H8AAAAAAAD4fwAAAAAAAPh/AAAAAAAA+H8AAAAAAAD4fwAAAAAAAPh/AAAAAAAA+H+0lZFj3DuuPwAAAAAAAPh/AAAAAAAA+H8AAAAAAAD4f07AQ5vPfOk/AAAAAAAA+H8AAAAAAAD4fwAAAAAAAPh/AAAAAAAA+H8AAAAAAAD4fwAAAAAAAPh/AAAAAAAA+H+ex8r8wYDqPwAAAAAAAPh/AAAAAAAA+H8AAAAAAAD4fwAAAAAAAPh/2aQSMjSV6T8AAAAAAAD4fwAAAAAAAPh/AAAAAAAA+H8AAAAAAAD4fwAAAAAAAPh/AAAAAAAA+H8AAAAAAAD4fwAAAAAAAPh/AAAAAAAA+H8AAAAAAAD4fwAAAAAAAPh/AAAAAAAA+H8=",
          "dtype": "f8",
          "shape": "7, 7"
         }
        },
        {
         "marker": {
          "color": "black",
          "line": {
           "color": "Gray",
           "width": 2
          }
         },
         "mode": "markers",
         "name": "Feasible Trial",
         "showlegend": false,
         "type": "scatter",
         "x": [
          0.003319414023327547,
          0.001720021822320989,
          0.003230690711567297,
          0.00011982944130266843,
          0.00033452711277994786
         ],
         "xaxis": "x26",
         "y": [
          0.2994028049210362,
          0.36965344602653816,
          0.17957901587152492,
          0.46113270413265095,
          0.34223102575750275
         ],
         "yaxis": "y26"
        },
        {
         "colorbar": {
          "title": {
           "text": "Objective Value"
          }
         },
         "colorscale": [
          [
           0,
           "rgb(247,251,255)"
          ],
          [
           0.125,
           "rgb(222,235,247)"
          ],
          [
           0.25,
           "rgb(198,219,239)"
          ],
          [
           0.375,
           "rgb(158,202,225)"
          ],
          [
           0.5,
           "rgb(107,174,214)"
          ],
          [
           0.625,
           "rgb(66,146,198)"
          ],
          [
           0.75,
           "rgb(33,113,181)"
          ],
          [
           0.875,
           "rgb(8,81,156)"
          ],
          [
           1,
           "rgb(8,48,107)"
          ]
         ],
         "connectgaps": true,
         "contours": {
          "coloring": "heatmap"
         },
         "hoverinfo": "none",
         "line": {
          "smoothing": 1.3
         },
         "reversescale": false,
         "showscale": false,
         "type": "contour",
         "x": [
          0.00010149359594607536,
          0.00011982944130266843,
          0.00033452711277994786,
          0.001720021822320989,
          0.003230690711567297,
          0.003319414023327547,
          0.003919099763485756
         ],
         "xaxis": "x36",
         "y": [
          7.7,
          8,
          9,
          10,
          13,
          14,
          14.3
         ],
         "yaxis": "y36",
         "z": {
          "bdata": "AAAAAAAA+H8AAAAAAAD4fwAAAAAAAPh/AAAAAAAA+H8AAAAAAAD4fwAAAAAAAPh/AAAAAAAA+H8AAAAAAAD4fwAAAAAAAPh/AAAAAAAA+H+ex8r8wYDqPwAAAAAAAPh/AAAAAAAA+H8AAAAAAAD4fwAAAAAAAPh/2aQSMjSV6T8AAAAAAAD4fwAAAAAAAPh/AAAAAAAA+H8AAAAAAAD4fwAAAAAAAPh/AAAAAAAA+H8AAAAAAAD4f07AQ5vPfOk/AAAAAAAA+H8AAAAAAAD4fwAAAAAAAPh/AAAAAAAA+H8AAAAAAAD4fwAAAAAAAPh/AAAAAAAA+H8AAAAAAAD4fwAAAAAAAPh/tJWRY9w7rj8AAAAAAAD4fwAAAAAAAPh/AAAAAAAA+H8AAAAAAAD4fwAAAAAAAPh/9c+FqwMmsD8AAAAAAAD4fwAAAAAAAPh/AAAAAAAA+H8AAAAAAAD4fwAAAAAAAPh/AAAAAAAA+H8AAAAAAAD4fwAAAAAAAPh/AAAAAAAA+H8=",
          "dtype": "f8",
          "shape": "7, 7"
         }
        },
        {
         "marker": {
          "color": "black",
          "line": {
           "color": "Gray",
           "width": 2
          }
         },
         "mode": "markers",
         "name": "Feasible Trial",
         "showlegend": false,
         "type": "scatter",
         "x": [
          0.003319414023327547,
          0.001720021822320989,
          0.003230690711567297,
          0.00011982944130266843,
          0.00033452711277994786
         ],
         "xaxis": "x36",
         "y": [
          13,
          8,
          14,
          9,
          10
         ],
         "yaxis": "y36"
        },
        {
         "colorbar": {
          "title": {
           "text": "Objective Value"
          }
         },
         "colorscale": [
          [
           0,
           "rgb(247,251,255)"
          ],
          [
           0.125,
           "rgb(222,235,247)"
          ],
          [
           0.25,
           "rgb(198,219,239)"
          ],
          [
           0.375,
           "rgb(158,202,225)"
          ],
          [
           0.5,
           "rgb(107,174,214)"
          ],
          [
           0.625,
           "rgb(66,146,198)"
          ],
          [
           0.75,
           "rgb(33,113,181)"
          ],
          [
           0.875,
           "rgb(8,81,156)"
          ],
          [
           1,
           "rgb(8,48,107)"
          ]
         ],
         "connectgaps": true,
         "contours": {
          "coloring": "heatmap"
         },
         "hoverinfo": "none",
         "line": {
          "smoothing": 1.3
         },
         "reversescale": false,
         "showscale": false,
         "type": "contour",
         "x": [
          0.00010149359594607536,
          0.00011982944130266843,
          0.00033452711277994786,
          0.001720021822320989,
          0.003230690711567297,
          0.003319414023327547,
          0.003919099763485756
         ],
         "xaxis": "x46",
         "y": [
          60.8,
          64,
          128,
          131.2
         ],
         "yaxis": "y46",
         "z": {
          "bdata": "AAAAAAAA+H8AAAAAAAD4fwAAAAAAAPh/AAAAAAAA+H8AAAAAAAD4fwAAAAAAAPh/AAAAAAAA+H8AAAAAAAD4fwAAAAAAAPh/TsBDm8986T+ex8r8wYDqPwAAAAAAAPh/tJWRY9w7rj8AAAAAAAD4fwAAAAAAAPh/2aQSMjSV6T8AAAAAAAD4fwAAAAAAAPh/9c+FqwMmsD8AAAAAAAD4fwAAAAAAAPh/AAAAAAAA+H8AAAAAAAD4fwAAAAAAAPh/AAAAAAAA+H8AAAAAAAD4fwAAAAAAAPh/AAAAAAAA+H8=",
          "dtype": "f8",
          "shape": "4, 7"
         }
        },
        {
         "marker": {
          "color": "black",
          "line": {
           "color": "Gray",
           "width": 2
          }
         },
         "mode": "markers",
         "name": "Feasible Trial",
         "showlegend": false,
         "type": "scatter",
         "x": [
          0.003319414023327547,
          0.001720021822320989,
          0.003230690711567297,
          0.00011982944130266843,
          0.00033452711277994786
         ],
         "xaxis": "x46",
         "y": [
          64,
          64,
          128,
          128,
          64
         ],
         "yaxis": "y46"
        },
        {
         "type": "scatter",
         "xaxis": "x56",
         "yaxis": "y56"
        },
        {
         "colorbar": {
          "title": {
           "text": "Objective Value"
          }
         },
         "colorscale": [
          [
           0,
           "rgb(247,251,255)"
          ],
          [
           0.125,
           "rgb(222,235,247)"
          ],
          [
           0.25,
           "rgb(198,219,239)"
          ],
          [
           0.375,
           "rgb(158,202,225)"
          ],
          [
           0.5,
           "rgb(107,174,214)"
          ],
          [
           0.625,
           "rgb(66,146,198)"
          ],
          [
           0.75,
           "rgb(33,113,181)"
          ],
          [
           0.875,
           "rgb(8,81,156)"
          ],
          [
           1,
           "rgb(8,48,107)"
          ]
         ],
         "connectgaps": true,
         "contours": {
          "coloring": "heatmap"
         },
         "hoverinfo": "none",
         "line": {
          "smoothing": 1.3
         },
         "reversescale": false,
         "showscale": false,
         "type": "contour",
         "x": [
          0.00010149359594607536,
          0.00011982944130266843,
          0.00033452711277994786,
          0.001720021822320989,
          0.003230690711567297,
          0.003319414023327547,
          0.003919099763485756
         ],
         "xaxis": "x66",
         "y": [
          1.95,
          2,
          3,
          3.05
         ],
         "yaxis": "y66",
         "z": {
          "bdata": "AAAAAAAA+H8AAAAAAAD4fwAAAAAAAPh/AAAAAAAA+H8AAAAAAAD4fwAAAAAAAPh/AAAAAAAA+H8AAAAAAAD4f9mkEjI0lek/TsBDm8986T+ex8r8wYDqPwAAAAAAAPh/AAAAAAAA+H8AAAAAAAD4fwAAAAAAAPh/AAAAAAAA+H8AAAAAAAD4fwAAAAAAAPh/9c+FqwMmsD+0lZFj3DuuPwAAAAAAAPh/AAAAAAAA+H8AAAAAAAD4fwAAAAAAAPh/AAAAAAAA+H8AAAAAAAD4fwAAAAAAAPh/AAAAAAAA+H8=",
          "dtype": "f8",
          "shape": "4, 7"
         }
        },
        {
         "marker": {
          "color": "black",
          "line": {
           "color": "Gray",
           "width": 2
          }
         },
         "mode": "markers",
         "name": "Feasible Trial",
         "showlegend": false,
         "type": "scatter",
         "x": [
          0.003319414023327547,
          0.001720021822320989,
          0.003230690711567297,
          0.00011982944130266843,
          0.00033452711277994786
         ],
         "xaxis": "x66",
         "y": [
          3,
          2,
          3,
          2,
          2
         ],
         "yaxis": "y66"
        },
        {
         "colorbar": {
          "title": {
           "text": "Objective Value"
          }
         },
         "colorscale": [
          [
           0,
           "rgb(247,251,255)"
          ],
          [
           0.125,
           "rgb(222,235,247)"
          ],
          [
           0.25,
           "rgb(198,219,239)"
          ],
          [
           0.375,
           "rgb(158,202,225)"
          ],
          [
           0.5,
           "rgb(107,174,214)"
          ],
          [
           0.625,
           "rgb(66,146,198)"
          ],
          [
           0.75,
           "rgb(33,113,181)"
          ],
          [
           0.875,
           "rgb(8,81,156)"
          ],
          [
           1,
           "rgb(8,48,107)"
          ]
         ],
         "connectgaps": true,
         "contours": {
          "coloring": "heatmap"
         },
         "hoverinfo": "none",
         "line": {
          "smoothing": 1.3
         },
         "reversescale": false,
         "showscale": false,
         "type": "contour",
         "x": [
          0.00010149359594607536,
          0.00011982944130266843,
          0.00033452711277994786,
          0.001720021822320989,
          0.003230690711567297,
          0.003319414023327547,
          0.003919099763485756
         ],
         "xaxis": "x76",
         "y": [
          27.2,
          32,
          64,
          128,
          132.8
         ],
         "yaxis": "y76",
         "z": {
          "bdata": "AAAAAAAA+H8AAAAAAAD4fwAAAAAAAPh/AAAAAAAA+H8AAAAAAAD4fwAAAAAAAPh/AAAAAAAA+H8AAAAAAAD4fwAAAAAAAPh/AAAAAAAA+H8AAAAAAAD4fwAAAAAAAPh/tJWRY9w7rj8AAAAAAAD4fwAAAAAAAPh/2aQSMjSV6T8AAAAAAAD4fwAAAAAAAPh/9c+FqwMmsD8AAAAAAAD4fwAAAAAAAPh/AAAAAAAA+H8AAAAAAAD4f07AQ5vPfOk/nsfK/MGA6j8AAAAAAAD4fwAAAAAAAPh/AAAAAAAA+H8AAAAAAAD4fwAAAAAAAPh/AAAAAAAA+H8AAAAAAAD4fwAAAAAAAPh/AAAAAAAA+H8AAAAAAAD4fw==",
          "dtype": "f8",
          "shape": "5, 7"
         }
        },
        {
         "marker": {
          "color": "black",
          "line": {
           "color": "Gray",
           "width": 2
          }
         },
         "mode": "markers",
         "name": "Feasible Trial",
         "showlegend": false,
         "type": "scatter",
         "x": [
          0.003319414023327547,
          0.001720021822320989,
          0.003230690711567297,
          0.00011982944130266843,
          0.00033452711277994786
         ],
         "xaxis": "x76",
         "y": [
          32,
          128,
          64,
          64,
          128
         ],
         "yaxis": "y76"
        },
        {
         "colorbar": {
          "title": {
           "text": "Objective Value"
          }
         },
         "colorscale": [
          [
           0,
           "rgb(247,251,255)"
          ],
          [
           0.125,
           "rgb(222,235,247)"
          ],
          [
           0.25,
           "rgb(198,219,239)"
          ],
          [
           0.375,
           "rgb(158,202,225)"
          ],
          [
           0.5,
           "rgb(107,174,214)"
          ],
          [
           0.625,
           "rgb(66,146,198)"
          ],
          [
           0.75,
           "rgb(33,113,181)"
          ],
          [
           0.875,
           "rgb(8,81,156)"
          ],
          [
           1,
           "rgb(8,48,107)"
          ]
         ],
         "connectgaps": true,
         "contours": {
          "coloring": "heatmap"
         },
         "hoverinfo": "none",
         "line": {
          "smoothing": 1.3
         },
         "reversescale": false,
         "showscale": false,
         "type": "contour",
         "x": [
          0.00010149359594607536,
          0.00011982944130266843,
          0.00033452711277994786,
          0.001720021822320989,
          0.003230690711567297,
          0.003319414023327547,
          0.003919099763485756
         ],
         "xaxis": "x86",
         "y": [
          0.85,
          1,
          2,
          4,
          4.15
         ],
         "yaxis": "y86",
         "z": {
          "bdata": "AAAAAAAA+H8AAAAAAAD4fwAAAAAAAPh/AAAAAAAA+H8AAAAAAAD4fwAAAAAAAPh/AAAAAAAA+H8AAAAAAAD4f9mkEjI0lek/AAAAAAAA+H8AAAAAAAD4fwAAAAAAAPh/AAAAAAAA+H8AAAAAAAD4fwAAAAAAAPh/AAAAAAAA+H8AAAAAAAD4f57HyvzBgOo/9c+FqwMmsD8AAAAAAAD4fwAAAAAAAPh/AAAAAAAA+H8AAAAAAAD4f07AQ5vPfOk/AAAAAAAA+H8AAAAAAAD4f7SVkWPcO64/AAAAAAAA+H8AAAAAAAD4fwAAAAAAAPh/AAAAAAAA+H8AAAAAAAD4fwAAAAAAAPh/AAAAAAAA+H8AAAAAAAD4fw==",
          "dtype": "f8",
          "shape": "5, 7"
         }
        },
        {
         "marker": {
          "color": "black",
          "line": {
           "color": "Gray",
           "width": 2
          }
         },
         "mode": "markers",
         "name": "Feasible Trial",
         "showlegend": false,
         "type": "scatter",
         "x": [
          0.003319414023327547,
          0.001720021822320989,
          0.003230690711567297,
          0.00011982944130266843,
          0.00033452711277994786
         ],
         "xaxis": "x86",
         "y": [
          4,
          2,
          2,
          1,
          4
         ],
         "yaxis": "y86"
        },
        {
         "colorbar": {
          "title": {
           "text": "Objective Value"
          }
         },
         "colorscale": [
          [
           0,
           "rgb(247,251,255)"
          ],
          [
           0.125,
           "rgb(222,235,247)"
          ],
          [
           0.25,
           "rgb(198,219,239)"
          ],
          [
           0.375,
           "rgb(158,202,225)"
          ],
          [
           0.5,
           "rgb(107,174,214)"
          ],
          [
           0.625,
           "rgb(66,146,198)"
          ],
          [
           0.75,
           "rgb(33,113,181)"
          ],
          [
           0.875,
           "rgb(8,81,156)"
          ],
          [
           1,
           "rgb(8,48,107)"
          ]
         ],
         "connectgaps": true,
         "contours": {
          "coloring": "heatmap"
         },
         "hoverinfo": "none",
         "line": {
          "smoothing": 1.3
         },
         "reversescale": false,
         "showscale": false,
         "type": "contour",
         "x": [
          0.00010149359594607536,
          0.00011982944130266843,
          0.00033452711277994786,
          0.001720021822320989,
          0.003230690711567297,
          0.003319414023327547,
          0.003919099763485756
         ],
         "xaxis": "x96",
         "y": [
          0.000009718804605397253,
          0.000013467657668402778,
          0.00010450174221660634,
          0.003062273519768889,
          0.005666597524267947,
          0.009180713288833598,
          0.012722007360566055
         ],
         "yaxis": "y96",
         "z": {
          "bdata": "AAAAAAAA+H8AAAAAAAD4fwAAAAAAAPh/AAAAAAAA+H8AAAAAAAD4fwAAAAAAAPh/AAAAAAAA+H8AAAAAAAD4f9mkEjI0lek/AAAAAAAA+H8AAAAAAAD4fwAAAAAAAPh/AAAAAAAA+H8AAAAAAAD4fwAAAAAAAPh/AAAAAAAA+H9OwEObz3zpPwAAAAAAAPh/AAAAAAAA+H8AAAAAAAD4fwAAAAAAAPh/AAAAAAAA+H8AAAAAAAD4fwAAAAAAAPh/nsfK/MGA6j8AAAAAAAD4fwAAAAAAAPh/AAAAAAAA+H8AAAAAAAD4fwAAAAAAAPh/AAAAAAAA+H8AAAAAAAD4fwAAAAAAAPh/tJWRY9w7rj8AAAAAAAD4fwAAAAAAAPh/AAAAAAAA+H8AAAAAAAD4fwAAAAAAAPh/9c+FqwMmsD8AAAAAAAD4fwAAAAAAAPh/AAAAAAAA+H8AAAAAAAD4fwAAAAAAAPh/AAAAAAAA+H8AAAAAAAD4fwAAAAAAAPh/AAAAAAAA+H8=",
          "dtype": "f8",
          "shape": "7, 7"
         }
        },
        {
         "marker": {
          "color": "black",
          "line": {
           "color": "Gray",
           "width": 2
          }
         },
         "mode": "markers",
         "name": "Feasible Trial",
         "showlegend": false,
         "type": "scatter",
         "x": [
          0.003319414023327547,
          0.001720021822320989,
          0.003230690711567297,
          0.00011982944130266843,
          0.00033452711277994786
         ],
         "xaxis": "x96",
         "y": [
          0.005666597524267947,
          0.003062273519768889,
          0.009180713288833598,
          0.000013467657668402778,
          0.00010450174221660634
         ],
         "yaxis": "y96"
        },
        {
         "colorbar": {
          "title": {
           "text": "Objective Value"
          }
         },
         "colorscale": [
          [
           0,
           "rgb(247,251,255)"
          ],
          [
           0.125,
           "rgb(222,235,247)"
          ],
          [
           0.25,
           "rgb(198,219,239)"
          ],
          [
           0.375,
           "rgb(158,202,225)"
          ],
          [
           0.5,
           "rgb(107,174,214)"
          ],
          [
           0.625,
           "rgb(66,146,198)"
          ],
          [
           0.75,
           "rgb(33,113,181)"
          ],
          [
           0.875,
           "rgb(8,81,156)"
          ],
          [
           1,
           "rgb(8,48,107)"
          ]
         ],
         "connectgaps": true,
         "contours": {
          "coloring": "heatmap"
         },
         "hoverinfo": "none",
         "line": {
          "smoothing": 1.3
         },
         "reversescale": false,
         "showscale": false,
         "type": "contour",
         "x": [
          1.95,
          2,
          3,
          3.05
         ],
         "xaxis": "x7",
         "y": [
          60.8,
          64,
          128,
          131.2
         ],
         "yaxis": "y7",
         "z": {
          "bdata": "AAAAAAAA+H8AAAAAAAD4fwAAAAAAAPh/AAAAAAAA+H8AAAAAAAD4f57HyvzBgOo/tJWRY9w7rj8AAAAAAAD4fwAAAAAAAPh/TsBDm8986T/1z4WrAyawPwAAAAAAAPh/AAAAAAAA+H8AAAAAAAD4fwAAAAAAAPh/AAAAAAAA+H8=",
          "dtype": "f8",
          "shape": "4, 4"
         }
        },
        {
         "marker": {
          "color": "black",
          "line": {
           "color": "Gray",
           "width": 2
          }
         },
         "mode": "markers",
         "name": "Feasible Trial",
         "showlegend": false,
         "type": "scatter",
         "x": [
          3,
          2,
          3,
          2,
          2
         ],
         "xaxis": "x7",
         "y": [
          64,
          64,
          128,
          64,
          128
         ],
         "yaxis": "y7"
        },
        {
         "colorbar": {
          "title": {
           "text": "Objective Value"
          }
         },
         "colorscale": [
          [
           0,
           "rgb(247,251,255)"
          ],
          [
           0.125,
           "rgb(222,235,247)"
          ],
          [
           0.25,
           "rgb(198,219,239)"
          ],
          [
           0.375,
           "rgb(158,202,225)"
          ],
          [
           0.5,
           "rgb(107,174,214)"
          ],
          [
           0.625,
           "rgb(66,146,198)"
          ],
          [
           0.75,
           "rgb(33,113,181)"
          ],
          [
           0.875,
           "rgb(8,81,156)"
          ],
          [
           1,
           "rgb(8,48,107)"
          ]
         ],
         "connectgaps": true,
         "contours": {
          "coloring": "heatmap"
         },
         "hoverinfo": "none",
         "line": {
          "smoothing": 1.3
         },
         "reversescale": false,
         "showscale": false,
         "type": "contour",
         "x": [
          1.95,
          2,
          3,
          3.05
         ],
         "xaxis": "x17",
         "y": [
          "False",
          "True"
         ],
         "yaxis": "y17",
         "z": {
          "bdata": "AAAAAAAA+H/ZpBIyNJXpPwAAAAAAAPh/AAAAAAAA+H8AAAAAAAD4f57HyvzBgOo/9c+FqwMmsD8AAAAAAAD4fw==",
          "dtype": "f8",
          "shape": "2, 4"
         }
        },
        {
         "marker": {
          "color": "black",
          "line": {
           "color": "Gray",
           "width": 2
          }
         },
         "mode": "markers",
         "name": "Feasible Trial",
         "showlegend": false,
         "type": "scatter",
         "x": [
          3,
          2,
          3,
          2,
          2
         ],
         "xaxis": "x17",
         "y": [
          "True",
          "True",
          "True",
          "False",
          "False"
         ],
         "yaxis": "y17"
        },
        {
         "colorbar": {
          "title": {
           "text": "Objective Value"
          }
         },
         "colorscale": [
          [
           0,
           "rgb(247,251,255)"
          ],
          [
           0.125,
           "rgb(222,235,247)"
          ],
          [
           0.25,
           "rgb(198,219,239)"
          ],
          [
           0.375,
           "rgb(158,202,225)"
          ],
          [
           0.5,
           "rgb(107,174,214)"
          ],
          [
           0.625,
           "rgb(66,146,198)"
          ],
          [
           0.75,
           "rgb(33,113,181)"
          ],
          [
           0.875,
           "rgb(8,81,156)"
          ],
          [
           1,
           "rgb(8,48,107)"
          ]
         ],
         "connectgaps": true,
         "contours": {
          "coloring": "heatmap"
         },
         "hoverinfo": "none",
         "line": {
          "smoothing": 1.3
         },
         "reversescale": false,
         "showscale": false,
         "type": "contour",
         "x": [
          1.95,
          2,
          3,
          3.05
         ],
         "xaxis": "x27",
         "y": [
          0.16550133145846863,
          0.17957901587152492,
          0.2994028049210362,
          0.34223102575750275,
          0.36965344602653816,
          0.46113270413265095,
          0.47521038854570724
         ],
         "yaxis": "y27",
         "z": {
          "bdata": "AAAAAAAA+H8AAAAAAAD4fwAAAAAAAPh/AAAAAAAA+H8AAAAAAAD4fwAAAAAAAPh/9c+FqwMmsD8AAAAAAAD4fwAAAAAAAPh/AAAAAAAA+H+0lZFj3DuuPwAAAAAAAPh/AAAAAAAA+H9OwEObz3zpPwAAAAAAAPh/AAAAAAAA+H8AAAAAAAD4f57HyvzBgOo/AAAAAAAA+H8AAAAAAAD4fwAAAAAAAPh/2aQSMjSV6T8AAAAAAAD4fwAAAAAAAPh/AAAAAAAA+H8AAAAAAAD4fwAAAAAAAPh/AAAAAAAA+H8=",
          "dtype": "f8",
          "shape": "7, 4"
         }
        },
        {
         "marker": {
          "color": "black",
          "line": {
           "color": "Gray",
           "width": 2
          }
         },
         "mode": "markers",
         "name": "Feasible Trial",
         "showlegend": false,
         "type": "scatter",
         "x": [
          3,
          2,
          3,
          2,
          2
         ],
         "xaxis": "x27",
         "y": [
          0.2994028049210362,
          0.36965344602653816,
          0.17957901587152492,
          0.46113270413265095,
          0.34223102575750275
         ],
         "yaxis": "y27"
        },
        {
         "colorbar": {
          "title": {
           "text": "Objective Value"
          }
         },
         "colorscale": [
          [
           0,
           "rgb(247,251,255)"
          ],
          [
           0.125,
           "rgb(222,235,247)"
          ],
          [
           0.25,
           "rgb(198,219,239)"
          ],
          [
           0.375,
           "rgb(158,202,225)"
          ],
          [
           0.5,
           "rgb(107,174,214)"
          ],
          [
           0.625,
           "rgb(66,146,198)"
          ],
          [
           0.75,
           "rgb(33,113,181)"
          ],
          [
           0.875,
           "rgb(8,81,156)"
          ],
          [
           1,
           "rgb(8,48,107)"
          ]
         ],
         "connectgaps": true,
         "contours": {
          "coloring": "heatmap"
         },
         "hoverinfo": "none",
         "line": {
          "smoothing": 1.3
         },
         "reversescale": false,
         "showscale": false,
         "type": "contour",
         "x": [
          1.95,
          2,
          3,
          3.05
         ],
         "xaxis": "x37",
         "y": [
          7.7,
          8,
          9,
          10,
          13,
          14,
          14.3
         ],
         "yaxis": "y37",
         "z": {
          "bdata": "AAAAAAAA+H8AAAAAAAD4fwAAAAAAAPh/AAAAAAAA+H8AAAAAAAD4f57HyvzBgOo/AAAAAAAA+H8AAAAAAAD4fwAAAAAAAPh/2aQSMjSV6T8AAAAAAAD4fwAAAAAAAPh/AAAAAAAA+H9OwEObz3zpPwAAAAAAAPh/AAAAAAAA+H8AAAAAAAD4fwAAAAAAAPh/tJWRY9w7rj8AAAAAAAD4fwAAAAAAAPh/AAAAAAAA+H/1z4WrAyawPwAAAAAAAPh/AAAAAAAA+H8AAAAAAAD4fwAAAAAAAPh/AAAAAAAA+H8=",
          "dtype": "f8",
          "shape": "7, 4"
         }
        },
        {
         "marker": {
          "color": "black",
          "line": {
           "color": "Gray",
           "width": 2
          }
         },
         "mode": "markers",
         "name": "Feasible Trial",
         "showlegend": false,
         "type": "scatter",
         "x": [
          3,
          2,
          3,
          2,
          2
         ],
         "xaxis": "x37",
         "y": [
          13,
          8,
          14,
          9,
          10
         ],
         "yaxis": "y37"
        },
        {
         "colorbar": {
          "title": {
           "text": "Objective Value"
          }
         },
         "colorscale": [
          [
           0,
           "rgb(247,251,255)"
          ],
          [
           0.125,
           "rgb(222,235,247)"
          ],
          [
           0.25,
           "rgb(198,219,239)"
          ],
          [
           0.375,
           "rgb(158,202,225)"
          ],
          [
           0.5,
           "rgb(107,174,214)"
          ],
          [
           0.625,
           "rgb(66,146,198)"
          ],
          [
           0.75,
           "rgb(33,113,181)"
          ],
          [
           0.875,
           "rgb(8,81,156)"
          ],
          [
           1,
           "rgb(8,48,107)"
          ]
         ],
         "connectgaps": true,
         "contours": {
          "coloring": "heatmap"
         },
         "hoverinfo": "none",
         "line": {
          "smoothing": 1.3
         },
         "reversescale": false,
         "showscale": false,
         "type": "contour",
         "x": [
          1.95,
          2,
          3,
          3.05
         ],
         "xaxis": "x47",
         "y": [
          60.8,
          64,
          128,
          131.2
         ],
         "yaxis": "y47",
         "z": {
          "bdata": "AAAAAAAA+H8AAAAAAAD4fwAAAAAAAPh/AAAAAAAA+H8AAAAAAAD4f57HyvzBgOo/tJWRY9w7rj8AAAAAAAD4fwAAAAAAAPh/2aQSMjSV6T/1z4WrAyawPwAAAAAAAPh/AAAAAAAA+H8AAAAAAAD4fwAAAAAAAPh/AAAAAAAA+H8=",
          "dtype": "f8",
          "shape": "4, 4"
         }
        },
        {
         "marker": {
          "color": "black",
          "line": {
           "color": "Gray",
           "width": 2
          }
         },
         "mode": "markers",
         "name": "Feasible Trial",
         "showlegend": false,
         "type": "scatter",
         "x": [
          3,
          2,
          3,
          2,
          2
         ],
         "xaxis": "x47",
         "y": [
          64,
          64,
          128,
          128,
          64
         ],
         "yaxis": "y47"
        },
        {
         "colorbar": {
          "title": {
           "text": "Objective Value"
          }
         },
         "colorscale": [
          [
           0,
           "rgb(247,251,255)"
          ],
          [
           0.125,
           "rgb(222,235,247)"
          ],
          [
           0.25,
           "rgb(198,219,239)"
          ],
          [
           0.375,
           "rgb(158,202,225)"
          ],
          [
           0.5,
           "rgb(107,174,214)"
          ],
          [
           0.625,
           "rgb(66,146,198)"
          ],
          [
           0.75,
           "rgb(33,113,181)"
          ],
          [
           0.875,
           "rgb(8,81,156)"
          ],
          [
           1,
           "rgb(8,48,107)"
          ]
         ],
         "connectgaps": true,
         "contours": {
          "coloring": "heatmap"
         },
         "hoverinfo": "none",
         "line": {
          "smoothing": 1.3
         },
         "reversescale": false,
         "showscale": false,
         "type": "contour",
         "x": [
          1.95,
          2,
          3,
          3.05
         ],
         "xaxis": "x57",
         "y": [
          0.00010149359594607536,
          0.00011982944130266843,
          0.00033452711277994786,
          0.001720021822320989,
          0.003230690711567297,
          0.003319414023327547,
          0.003919099763485756
         ],
         "yaxis": "y57",
         "z": {
          "bdata": "AAAAAAAA+H8AAAAAAAD4fwAAAAAAAPh/AAAAAAAA+H8AAAAAAAD4f9mkEjI0lek/AAAAAAAA+H8AAAAAAAD4fwAAAAAAAPh/TsBDm8986T8AAAAAAAD4fwAAAAAAAPh/AAAAAAAA+H+ex8r8wYDqPwAAAAAAAPh/AAAAAAAA+H8AAAAAAAD4fwAAAAAAAPh/9c+FqwMmsD8AAAAAAAD4fwAAAAAAAPh/AAAAAAAA+H+0lZFj3DuuPwAAAAAAAPh/AAAAAAAA+H8AAAAAAAD4fwAAAAAAAPh/AAAAAAAA+H8=",
          "dtype": "f8",
          "shape": "7, 4"
         }
        },
        {
         "marker": {
          "color": "black",
          "line": {
           "color": "Gray",
           "width": 2
          }
         },
         "mode": "markers",
         "name": "Feasible Trial",
         "showlegend": false,
         "type": "scatter",
         "x": [
          3,
          2,
          3,
          2,
          2
         ],
         "xaxis": "x57",
         "y": [
          0.003319414023327547,
          0.001720021822320989,
          0.003230690711567297,
          0.00011982944130266843,
          0.00033452711277994786
         ],
         "yaxis": "y57"
        },
        {
         "type": "scatter",
         "xaxis": "x67",
         "yaxis": "y67"
        },
        {
         "colorbar": {
          "title": {
           "text": "Objective Value"
          }
         },
         "colorscale": [
          [
           0,
           "rgb(247,251,255)"
          ],
          [
           0.125,
           "rgb(222,235,247)"
          ],
          [
           0.25,
           "rgb(198,219,239)"
          ],
          [
           0.375,
           "rgb(158,202,225)"
          ],
          [
           0.5,
           "rgb(107,174,214)"
          ],
          [
           0.625,
           "rgb(66,146,198)"
          ],
          [
           0.75,
           "rgb(33,113,181)"
          ],
          [
           0.875,
           "rgb(8,81,156)"
          ],
          [
           1,
           "rgb(8,48,107)"
          ]
         ],
         "connectgaps": true,
         "contours": {
          "coloring": "heatmap"
         },
         "hoverinfo": "none",
         "line": {
          "smoothing": 1.3
         },
         "reversescale": false,
         "showscale": false,
         "type": "contour",
         "x": [
          1.95,
          2,
          3,
          3.05
         ],
         "xaxis": "x77",
         "y": [
          27.2,
          32,
          64,
          128,
          132.8
         ],
         "yaxis": "y77",
         "z": {
          "bdata": "AAAAAAAA+H8AAAAAAAD4fwAAAAAAAPh/AAAAAAAA+H8AAAAAAAD4fwAAAAAAAPh/tJWRY9w7rj8AAAAAAAD4fwAAAAAAAPh/2aQSMjSV6T/1z4WrAyawPwAAAAAAAPh/AAAAAAAA+H+ex8r8wYDqPwAAAAAAAPh/AAAAAAAA+H8AAAAAAAD4fwAAAAAAAPh/AAAAAAAA+H8AAAAAAAD4fw==",
          "dtype": "f8",
          "shape": "5, 4"
         }
        },
        {
         "marker": {
          "color": "black",
          "line": {
           "color": "Gray",
           "width": 2
          }
         },
         "mode": "markers",
         "name": "Feasible Trial",
         "showlegend": false,
         "type": "scatter",
         "x": [
          3,
          2,
          3,
          2,
          2
         ],
         "xaxis": "x77",
         "y": [
          32,
          128,
          64,
          64,
          128
         ],
         "yaxis": "y77"
        },
        {
         "colorbar": {
          "title": {
           "text": "Objective Value"
          }
         },
         "colorscale": [
          [
           0,
           "rgb(247,251,255)"
          ],
          [
           0.125,
           "rgb(222,235,247)"
          ],
          [
           0.25,
           "rgb(198,219,239)"
          ],
          [
           0.375,
           "rgb(158,202,225)"
          ],
          [
           0.5,
           "rgb(107,174,214)"
          ],
          [
           0.625,
           "rgb(66,146,198)"
          ],
          [
           0.75,
           "rgb(33,113,181)"
          ],
          [
           0.875,
           "rgb(8,81,156)"
          ],
          [
           1,
           "rgb(8,48,107)"
          ]
         ],
         "connectgaps": true,
         "contours": {
          "coloring": "heatmap"
         },
         "hoverinfo": "none",
         "line": {
          "smoothing": 1.3
         },
         "reversescale": false,
         "showscale": false,
         "type": "contour",
         "x": [
          1.95,
          2,
          3,
          3.05
         ],
         "xaxis": "x87",
         "y": [
          0.85,
          1,
          2,
          4,
          4.15
         ],
         "yaxis": "y87",
         "z": {
          "bdata": "AAAAAAAA+H8AAAAAAAD4fwAAAAAAAPh/AAAAAAAA+H8AAAAAAAD4f9mkEjI0lek/AAAAAAAA+H8AAAAAAAD4fwAAAAAAAPh/nsfK/MGA6j/1z4WrAyawPwAAAAAAAPh/AAAAAAAA+H9OwEObz3zpP7SVkWPcO64/AAAAAAAA+H8AAAAAAAD4fwAAAAAAAPh/AAAAAAAA+H8AAAAAAAD4fw==",
          "dtype": "f8",
          "shape": "5, 4"
         }
        },
        {
         "marker": {
          "color": "black",
          "line": {
           "color": "Gray",
           "width": 2
          }
         },
         "mode": "markers",
         "name": "Feasible Trial",
         "showlegend": false,
         "type": "scatter",
         "x": [
          3,
          2,
          3,
          2,
          2
         ],
         "xaxis": "x87",
         "y": [
          4,
          2,
          2,
          1,
          4
         ],
         "yaxis": "y87"
        },
        {
         "colorbar": {
          "title": {
           "text": "Objective Value"
          }
         },
         "colorscale": [
          [
           0,
           "rgb(247,251,255)"
          ],
          [
           0.125,
           "rgb(222,235,247)"
          ],
          [
           0.25,
           "rgb(198,219,239)"
          ],
          [
           0.375,
           "rgb(158,202,225)"
          ],
          [
           0.5,
           "rgb(107,174,214)"
          ],
          [
           0.625,
           "rgb(66,146,198)"
          ],
          [
           0.75,
           "rgb(33,113,181)"
          ],
          [
           0.875,
           "rgb(8,81,156)"
          ],
          [
           1,
           "rgb(8,48,107)"
          ]
         ],
         "connectgaps": true,
         "contours": {
          "coloring": "heatmap"
         },
         "hoverinfo": "none",
         "line": {
          "smoothing": 1.3
         },
         "reversescale": false,
         "showscale": false,
         "type": "contour",
         "x": [
          1.95,
          2,
          3,
          3.05
         ],
         "xaxis": "x97",
         "y": [
          0.000009718804605397253,
          0.000013467657668402778,
          0.00010450174221660634,
          0.003062273519768889,
          0.005666597524267947,
          0.009180713288833598,
          0.012722007360566055
         ],
         "yaxis": "y97",
         "z": {
          "bdata": "AAAAAAAA+H8AAAAAAAD4fwAAAAAAAPh/AAAAAAAA+H8AAAAAAAD4f9mkEjI0lek/AAAAAAAA+H8AAAAAAAD4fwAAAAAAAPh/TsBDm8986T8AAAAAAAD4fwAAAAAAAPh/AAAAAAAA+H+ex8r8wYDqPwAAAAAAAPh/AAAAAAAA+H8AAAAAAAD4fwAAAAAAAPh/tJWRY9w7rj8AAAAAAAD4fwAAAAAAAPh/AAAAAAAA+H/1z4WrAyawPwAAAAAAAPh/AAAAAAAA+H8AAAAAAAD4fwAAAAAAAPh/AAAAAAAA+H8=",
          "dtype": "f8",
          "shape": "7, 4"
         }
        },
        {
         "marker": {
          "color": "black",
          "line": {
           "color": "Gray",
           "width": 2
          }
         },
         "mode": "markers",
         "name": "Feasible Trial",
         "showlegend": false,
         "type": "scatter",
         "x": [
          3,
          2,
          3,
          2,
          2
         ],
         "xaxis": "x97",
         "y": [
          0.005666597524267947,
          0.003062273519768889,
          0.009180713288833598,
          0.000013467657668402778,
          0.00010450174221660634
         ],
         "yaxis": "y97"
        },
        {
         "colorbar": {
          "title": {
           "text": "Objective Value"
          }
         },
         "colorscale": [
          [
           0,
           "rgb(247,251,255)"
          ],
          [
           0.125,
           "rgb(222,235,247)"
          ],
          [
           0.25,
           "rgb(198,219,239)"
          ],
          [
           0.375,
           "rgb(158,202,225)"
          ],
          [
           0.5,
           "rgb(107,174,214)"
          ],
          [
           0.625,
           "rgb(66,146,198)"
          ],
          [
           0.75,
           "rgb(33,113,181)"
          ],
          [
           0.875,
           "rgb(8,81,156)"
          ],
          [
           1,
           "rgb(8,48,107)"
          ]
         ],
         "connectgaps": true,
         "contours": {
          "coloring": "heatmap"
         },
         "hoverinfo": "none",
         "line": {
          "smoothing": 1.3
         },
         "reversescale": false,
         "showscale": false,
         "type": "contour",
         "x": [
          27.2,
          32,
          64,
          128,
          132.8
         ],
         "xaxis": "x8",
         "y": [
          60.8,
          64,
          128,
          131.2
         ],
         "yaxis": "y8",
         "z": {
          "bdata": "AAAAAAAA+H8AAAAAAAD4fwAAAAAAAPh/AAAAAAAA+H8AAAAAAAD4fwAAAAAAAPh/tJWRY9w7rj/ZpBIyNJXpP57HyvzBgOo/AAAAAAAA+H8AAAAAAAD4fwAAAAAAAPh/9c+FqwMmsD9OwEObz3zpPwAAAAAAAPh/AAAAAAAA+H8AAAAAAAD4fwAAAAAAAPh/AAAAAAAA+H8AAAAAAAD4fw==",
          "dtype": "f8",
          "shape": "4, 5"
         }
        },
        {
         "marker": {
          "color": "black",
          "line": {
           "color": "Gray",
           "width": 2
          }
         },
         "mode": "markers",
         "name": "Feasible Trial",
         "showlegend": false,
         "type": "scatter",
         "x": [
          32,
          128,
          64,
          64,
          128
         ],
         "xaxis": "x8",
         "y": [
          64,
          64,
          128,
          64,
          128
         ],
         "yaxis": "y8"
        },
        {
         "colorbar": {
          "title": {
           "text": "Objective Value"
          }
         },
         "colorscale": [
          [
           0,
           "rgb(247,251,255)"
          ],
          [
           0.125,
           "rgb(222,235,247)"
          ],
          [
           0.25,
           "rgb(198,219,239)"
          ],
          [
           0.375,
           "rgb(158,202,225)"
          ],
          [
           0.5,
           "rgb(107,174,214)"
          ],
          [
           0.625,
           "rgb(66,146,198)"
          ],
          [
           0.75,
           "rgb(33,113,181)"
          ],
          [
           0.875,
           "rgb(8,81,156)"
          ],
          [
           1,
           "rgb(8,48,107)"
          ]
         ],
         "connectgaps": true,
         "contours": {
          "coloring": "heatmap"
         },
         "hoverinfo": "none",
         "line": {
          "smoothing": 1.3
         },
         "reversescale": false,
         "showscale": false,
         "type": "contour",
         "x": [
          27.2,
          32,
          64,
          128,
          132.8
         ],
         "xaxis": "x18",
         "y": [
          "False",
          "True"
         ],
         "yaxis": "y18",
         "z": {
          "bdata": "AAAAAAAA+H8AAAAAAAD4f9mkEjI0lek/TsBDm8986T8AAAAAAAD4fwAAAAAAAPh/tJWRY9w7rj/1z4WrAyawP57HyvzBgOo/AAAAAAAA+H8=",
          "dtype": "f8",
          "shape": "2, 5"
         }
        },
        {
         "marker": {
          "color": "black",
          "line": {
           "color": "Gray",
           "width": 2
          }
         },
         "mode": "markers",
         "name": "Feasible Trial",
         "showlegend": false,
         "type": "scatter",
         "x": [
          32,
          128,
          64,
          64,
          128
         ],
         "xaxis": "x18",
         "y": [
          "True",
          "True",
          "True",
          "False",
          "False"
         ],
         "yaxis": "y18"
        },
        {
         "colorbar": {
          "title": {
           "text": "Objective Value"
          }
         },
         "colorscale": [
          [
           0,
           "rgb(247,251,255)"
          ],
          [
           0.125,
           "rgb(222,235,247)"
          ],
          [
           0.25,
           "rgb(198,219,239)"
          ],
          [
           0.375,
           "rgb(158,202,225)"
          ],
          [
           0.5,
           "rgb(107,174,214)"
          ],
          [
           0.625,
           "rgb(66,146,198)"
          ],
          [
           0.75,
           "rgb(33,113,181)"
          ],
          [
           0.875,
           "rgb(8,81,156)"
          ],
          [
           1,
           "rgb(8,48,107)"
          ]
         ],
         "connectgaps": true,
         "contours": {
          "coloring": "heatmap"
         },
         "hoverinfo": "none",
         "line": {
          "smoothing": 1.3
         },
         "reversescale": false,
         "showscale": false,
         "type": "contour",
         "x": [
          27.2,
          32,
          64,
          128,
          132.8
         ],
         "xaxis": "x28",
         "y": [
          0.16550133145846863,
          0.17957901587152492,
          0.2994028049210362,
          0.34223102575750275,
          0.36965344602653816,
          0.46113270413265095,
          0.47521038854570724
         ],
         "yaxis": "y28",
         "z": {
          "bdata": "AAAAAAAA+H8AAAAAAAD4fwAAAAAAAPh/AAAAAAAA+H8AAAAAAAD4fwAAAAAAAPh/AAAAAAAA+H/1z4WrAyawPwAAAAAAAPh/AAAAAAAA+H8AAAAAAAD4f7SVkWPcO64/AAAAAAAA+H8AAAAAAAD4fwAAAAAAAPh/AAAAAAAA+H8AAAAAAAD4fwAAAAAAAPh/TsBDm8986T8AAAAAAAD4fwAAAAAAAPh/AAAAAAAA+H8AAAAAAAD4f57HyvzBgOo/AAAAAAAA+H8AAAAAAAD4fwAAAAAAAPh/2aQSMjSV6T8AAAAAAAD4fwAAAAAAAPh/AAAAAAAA+H8AAAAAAAD4fwAAAAAAAPh/AAAAAAAA+H8AAAAAAAD4fw==",
          "dtype": "f8",
          "shape": "7, 5"
         }
        },
        {
         "marker": {
          "color": "black",
          "line": {
           "color": "Gray",
           "width": 2
          }
         },
         "mode": "markers",
         "name": "Feasible Trial",
         "showlegend": false,
         "type": "scatter",
         "x": [
          32,
          128,
          64,
          64,
          128
         ],
         "xaxis": "x28",
         "y": [
          0.2994028049210362,
          0.36965344602653816,
          0.17957901587152492,
          0.46113270413265095,
          0.34223102575750275
         ],
         "yaxis": "y28"
        },
        {
         "colorbar": {
          "title": {
           "text": "Objective Value"
          }
         },
         "colorscale": [
          [
           0,
           "rgb(247,251,255)"
          ],
          [
           0.125,
           "rgb(222,235,247)"
          ],
          [
           0.25,
           "rgb(198,219,239)"
          ],
          [
           0.375,
           "rgb(158,202,225)"
          ],
          [
           0.5,
           "rgb(107,174,214)"
          ],
          [
           0.625,
           "rgb(66,146,198)"
          ],
          [
           0.75,
           "rgb(33,113,181)"
          ],
          [
           0.875,
           "rgb(8,81,156)"
          ],
          [
           1,
           "rgb(8,48,107)"
          ]
         ],
         "connectgaps": true,
         "contours": {
          "coloring": "heatmap"
         },
         "hoverinfo": "none",
         "line": {
          "smoothing": 1.3
         },
         "reversescale": false,
         "showscale": false,
         "type": "contour",
         "x": [
          27.2,
          32,
          64,
          128,
          132.8
         ],
         "xaxis": "x38",
         "y": [
          7.7,
          8,
          9,
          10,
          13,
          14,
          14.3
         ],
         "yaxis": "y38",
         "z": {
          "bdata": "AAAAAAAA+H8AAAAAAAD4fwAAAAAAAPh/AAAAAAAA+H8AAAAAAAD4fwAAAAAAAPh/AAAAAAAA+H8AAAAAAAD4f57HyvzBgOo/AAAAAAAA+H8AAAAAAAD4fwAAAAAAAPh/2aQSMjSV6T8AAAAAAAD4fwAAAAAAAPh/AAAAAAAA+H8AAAAAAAD4fwAAAAAAAPh/TsBDm8986T8AAAAAAAD4fwAAAAAAAPh/tJWRY9w7rj8AAAAAAAD4fwAAAAAAAPh/AAAAAAAA+H8AAAAAAAD4fwAAAAAAAPh/9c+FqwMmsD8AAAAAAAD4fwAAAAAAAPh/AAAAAAAA+H8AAAAAAAD4fwAAAAAAAPh/AAAAAAAA+H8AAAAAAAD4fw==",
          "dtype": "f8",
          "shape": "7, 5"
         }
        },
        {
         "marker": {
          "color": "black",
          "line": {
           "color": "Gray",
           "width": 2
          }
         },
         "mode": "markers",
         "name": "Feasible Trial",
         "showlegend": false,
         "type": "scatter",
         "x": [
          32,
          128,
          64,
          64,
          128
         ],
         "xaxis": "x38",
         "y": [
          13,
          8,
          14,
          9,
          10
         ],
         "yaxis": "y38"
        },
        {
         "colorbar": {
          "title": {
           "text": "Objective Value"
          }
         },
         "colorscale": [
          [
           0,
           "rgb(247,251,255)"
          ],
          [
           0.125,
           "rgb(222,235,247)"
          ],
          [
           0.25,
           "rgb(198,219,239)"
          ],
          [
           0.375,
           "rgb(158,202,225)"
          ],
          [
           0.5,
           "rgb(107,174,214)"
          ],
          [
           0.625,
           "rgb(66,146,198)"
          ],
          [
           0.75,
           "rgb(33,113,181)"
          ],
          [
           0.875,
           "rgb(8,81,156)"
          ],
          [
           1,
           "rgb(8,48,107)"
          ]
         ],
         "connectgaps": true,
         "contours": {
          "coloring": "heatmap"
         },
         "hoverinfo": "none",
         "line": {
          "smoothing": 1.3
         },
         "reversescale": false,
         "showscale": false,
         "type": "contour",
         "x": [
          27.2,
          32,
          64,
          128,
          132.8
         ],
         "xaxis": "x48",
         "y": [
          60.8,
          64,
          128,
          131.2
         ],
         "yaxis": "y48",
         "z": {
          "bdata": "AAAAAAAA+H8AAAAAAAD4fwAAAAAAAPh/AAAAAAAA+H8AAAAAAAD4fwAAAAAAAPh/tJWRY9w7rj8AAAAAAAD4f57HyvzBgOo/AAAAAAAA+H8AAAAAAAD4fwAAAAAAAPh/2aQSMjSV6T8AAAAAAAD4fwAAAAAAAPh/AAAAAAAA+H8AAAAAAAD4fwAAAAAAAPh/AAAAAAAA+H8AAAAAAAD4fw==",
          "dtype": "f8",
          "shape": "4, 5"
         }
        },
        {
         "marker": {
          "color": "black",
          "line": {
           "color": "Gray",
           "width": 2
          }
         },
         "mode": "markers",
         "name": "Feasible Trial",
         "showlegend": false,
         "type": "scatter",
         "x": [
          32,
          128,
          64,
          64,
          128
         ],
         "xaxis": "x48",
         "y": [
          64,
          64,
          128,
          128,
          64
         ],
         "yaxis": "y48"
        },
        {
         "colorbar": {
          "title": {
           "text": "Objective Value"
          }
         },
         "colorscale": [
          [
           0,
           "rgb(247,251,255)"
          ],
          [
           0.125,
           "rgb(222,235,247)"
          ],
          [
           0.25,
           "rgb(198,219,239)"
          ],
          [
           0.375,
           "rgb(158,202,225)"
          ],
          [
           0.5,
           "rgb(107,174,214)"
          ],
          [
           0.625,
           "rgb(66,146,198)"
          ],
          [
           0.75,
           "rgb(33,113,181)"
          ],
          [
           0.875,
           "rgb(8,81,156)"
          ],
          [
           1,
           "rgb(8,48,107)"
          ]
         ],
         "connectgaps": true,
         "contours": {
          "coloring": "heatmap"
         },
         "hoverinfo": "none",
         "line": {
          "smoothing": 1.3
         },
         "reversescale": false,
         "showscale": false,
         "type": "contour",
         "x": [
          27.2,
          32,
          64,
          128,
          132.8
         ],
         "xaxis": "x58",
         "y": [
          0.00010149359594607536,
          0.00011982944130266843,
          0.00033452711277994786,
          0.001720021822320989,
          0.003230690711567297,
          0.003319414023327547,
          0.003919099763485756
         ],
         "yaxis": "y58",
         "z": {
          "bdata": "AAAAAAAA+H8AAAAAAAD4fwAAAAAAAPh/AAAAAAAA+H8AAAAAAAD4fwAAAAAAAPh/AAAAAAAA+H/ZpBIyNJXpPwAAAAAAAPh/AAAAAAAA+H8AAAAAAAD4fwAAAAAAAPh/AAAAAAAA+H9OwEObz3zpPwAAAAAAAPh/AAAAAAAA+H8AAAAAAAD4fwAAAAAAAPh/nsfK/MGA6j8AAAAAAAD4fwAAAAAAAPh/AAAAAAAA+H/1z4WrAyawPwAAAAAAAPh/AAAAAAAA+H8AAAAAAAD4f7SVkWPcO64/AAAAAAAA+H8AAAAAAAD4fwAAAAAAAPh/AAAAAAAA+H8AAAAAAAD4fwAAAAAAAPh/AAAAAAAA+H8AAAAAAAD4fw==",
          "dtype": "f8",
          "shape": "7, 5"
         }
        },
        {
         "marker": {
          "color": "black",
          "line": {
           "color": "Gray",
           "width": 2
          }
         },
         "mode": "markers",
         "name": "Feasible Trial",
         "showlegend": false,
         "type": "scatter",
         "x": [
          32,
          128,
          64,
          64,
          128
         ],
         "xaxis": "x58",
         "y": [
          0.003319414023327547,
          0.001720021822320989,
          0.003230690711567297,
          0.00011982944130266843,
          0.00033452711277994786
         ],
         "yaxis": "y58"
        },
        {
         "colorbar": {
          "title": {
           "text": "Objective Value"
          }
         },
         "colorscale": [
          [
           0,
           "rgb(247,251,255)"
          ],
          [
           0.125,
           "rgb(222,235,247)"
          ],
          [
           0.25,
           "rgb(198,219,239)"
          ],
          [
           0.375,
           "rgb(158,202,225)"
          ],
          [
           0.5,
           "rgb(107,174,214)"
          ],
          [
           0.625,
           "rgb(66,146,198)"
          ],
          [
           0.75,
           "rgb(33,113,181)"
          ],
          [
           0.875,
           "rgb(8,81,156)"
          ],
          [
           1,
           "rgb(8,48,107)"
          ]
         ],
         "connectgaps": true,
         "contours": {
          "coloring": "heatmap"
         },
         "hoverinfo": "none",
         "line": {
          "smoothing": 1.3
         },
         "reversescale": false,
         "showscale": false,
         "type": "contour",
         "x": [
          27.2,
          32,
          64,
          128,
          132.8
         ],
         "xaxis": "x68",
         "y": [
          1.95,
          2,
          3,
          3.05
         ],
         "yaxis": "y68",
         "z": {
          "bdata": "AAAAAAAA+H8AAAAAAAD4fwAAAAAAAPh/AAAAAAAA+H8AAAAAAAD4fwAAAAAAAPh/AAAAAAAA+H/ZpBIyNJXpP57HyvzBgOo/AAAAAAAA+H8AAAAAAAD4f7SVkWPcO64/9c+FqwMmsD8AAAAAAAD4fwAAAAAAAPh/AAAAAAAA+H8AAAAAAAD4fwAAAAAAAPh/AAAAAAAA+H8AAAAAAAD4fw==",
          "dtype": "f8",
          "shape": "4, 5"
         }
        },
        {
         "marker": {
          "color": "black",
          "line": {
           "color": "Gray",
           "width": 2
          }
         },
         "mode": "markers",
         "name": "Feasible Trial",
         "showlegend": false,
         "type": "scatter",
         "x": [
          32,
          128,
          64,
          64,
          128
         ],
         "xaxis": "x68",
         "y": [
          3,
          2,
          3,
          2,
          2
         ],
         "yaxis": "y68"
        },
        {
         "type": "scatter",
         "xaxis": "x78",
         "yaxis": "y78"
        },
        {
         "colorbar": {
          "title": {
           "text": "Objective Value"
          }
         },
         "colorscale": [
          [
           0,
           "rgb(247,251,255)"
          ],
          [
           0.125,
           "rgb(222,235,247)"
          ],
          [
           0.25,
           "rgb(198,219,239)"
          ],
          [
           0.375,
           "rgb(158,202,225)"
          ],
          [
           0.5,
           "rgb(107,174,214)"
          ],
          [
           0.625,
           "rgb(66,146,198)"
          ],
          [
           0.75,
           "rgb(33,113,181)"
          ],
          [
           0.875,
           "rgb(8,81,156)"
          ],
          [
           1,
           "rgb(8,48,107)"
          ]
         ],
         "connectgaps": true,
         "contours": {
          "coloring": "heatmap"
         },
         "hoverinfo": "none",
         "line": {
          "smoothing": 1.3
         },
         "reversescale": false,
         "showscale": false,
         "type": "contour",
         "x": [
          27.2,
          32,
          64,
          128,
          132.8
         ],
         "xaxis": "x88",
         "y": [
          0.85,
          1,
          2,
          4,
          4.15
         ],
         "yaxis": "y88",
         "z": {
          "bdata": "AAAAAAAA+H8AAAAAAAD4fwAAAAAAAPh/AAAAAAAA+H8AAAAAAAD4fwAAAAAAAPh/AAAAAAAA+H/ZpBIyNJXpPwAAAAAAAPh/AAAAAAAA+H8AAAAAAAD4fwAAAAAAAPh/9c+FqwMmsD+ex8r8wYDqPwAAAAAAAPh/AAAAAAAA+H+0lZFj3DuuPwAAAAAAAPh/TsBDm8986T8AAAAAAAD4fwAAAAAAAPh/AAAAAAAA+H8AAAAAAAD4fwAAAAAAAPh/AAAAAAAA+H8=",
          "dtype": "f8",
          "shape": "5, 5"
         }
        },
        {
         "marker": {
          "color": "black",
          "line": {
           "color": "Gray",
           "width": 2
          }
         },
         "mode": "markers",
         "name": "Feasible Trial",
         "showlegend": false,
         "type": "scatter",
         "x": [
          32,
          128,
          64,
          64,
          128
         ],
         "xaxis": "x88",
         "y": [
          4,
          2,
          2,
          1,
          4
         ],
         "yaxis": "y88"
        },
        {
         "colorbar": {
          "title": {
           "text": "Objective Value"
          }
         },
         "colorscale": [
          [
           0,
           "rgb(247,251,255)"
          ],
          [
           0.125,
           "rgb(222,235,247)"
          ],
          [
           0.25,
           "rgb(198,219,239)"
          ],
          [
           0.375,
           "rgb(158,202,225)"
          ],
          [
           0.5,
           "rgb(107,174,214)"
          ],
          [
           0.625,
           "rgb(66,146,198)"
          ],
          [
           0.75,
           "rgb(33,113,181)"
          ],
          [
           0.875,
           "rgb(8,81,156)"
          ],
          [
           1,
           "rgb(8,48,107)"
          ]
         ],
         "connectgaps": true,
         "contours": {
          "coloring": "heatmap"
         },
         "hoverinfo": "none",
         "line": {
          "smoothing": 1.3
         },
         "reversescale": false,
         "showscale": false,
         "type": "contour",
         "x": [
          27.2,
          32,
          64,
          128,
          132.8
         ],
         "xaxis": "x98",
         "y": [
          0.000009718804605397253,
          0.000013467657668402778,
          0.00010450174221660634,
          0.003062273519768889,
          0.005666597524267947,
          0.009180713288833598,
          0.012722007360566055
         ],
         "yaxis": "y98",
         "z": {
          "bdata": "AAAAAAAA+H8AAAAAAAD4fwAAAAAAAPh/AAAAAAAA+H8AAAAAAAD4fwAAAAAAAPh/AAAAAAAA+H/ZpBIyNJXpPwAAAAAAAPh/AAAAAAAA+H8AAAAAAAD4fwAAAAAAAPh/AAAAAAAA+H9OwEObz3zpPwAAAAAAAPh/AAAAAAAA+H8AAAAAAAD4fwAAAAAAAPh/nsfK/MGA6j8AAAAAAAD4fwAAAAAAAPh/tJWRY9w7rj8AAAAAAAD4fwAAAAAAAPh/AAAAAAAA+H8AAAAAAAD4fwAAAAAAAPh/9c+FqwMmsD8AAAAAAAD4fwAAAAAAAPh/AAAAAAAA+H8AAAAAAAD4fwAAAAAAAPh/AAAAAAAA+H8AAAAAAAD4fw==",
          "dtype": "f8",
          "shape": "7, 5"
         }
        },
        {
         "marker": {
          "color": "black",
          "line": {
           "color": "Gray",
           "width": 2
          }
         },
         "mode": "markers",
         "name": "Feasible Trial",
         "showlegend": false,
         "type": "scatter",
         "x": [
          32,
          128,
          64,
          64,
          128
         ],
         "xaxis": "x98",
         "y": [
          0.005666597524267947,
          0.003062273519768889,
          0.009180713288833598,
          0.000013467657668402778,
          0.00010450174221660634
         ],
         "yaxis": "y98"
        },
        {
         "colorbar": {
          "title": {
           "text": "Objective Value"
          }
         },
         "colorscale": [
          [
           0,
           "rgb(247,251,255)"
          ],
          [
           0.125,
           "rgb(222,235,247)"
          ],
          [
           0.25,
           "rgb(198,219,239)"
          ],
          [
           0.375,
           "rgb(158,202,225)"
          ],
          [
           0.5,
           "rgb(107,174,214)"
          ],
          [
           0.625,
           "rgb(66,146,198)"
          ],
          [
           0.75,
           "rgb(33,113,181)"
          ],
          [
           0.875,
           "rgb(8,81,156)"
          ],
          [
           1,
           "rgb(8,48,107)"
          ]
         ],
         "connectgaps": true,
         "contours": {
          "coloring": "heatmap"
         },
         "hoverinfo": "none",
         "line": {
          "smoothing": 1.3
         },
         "reversescale": false,
         "showscale": false,
         "type": "contour",
         "x": [
          0.85,
          1,
          2,
          4,
          4.15
         ],
         "xaxis": "x9",
         "y": [
          60.8,
          64,
          128,
          131.2
         ],
         "yaxis": "y9",
         "z": {
          "bdata": "AAAAAAAA+H8AAAAAAAD4fwAAAAAAAPh/AAAAAAAA+H8AAAAAAAD4fwAAAAAAAPh/2aQSMjSV6T+ex8r8wYDqP7SVkWPcO64/AAAAAAAA+H8AAAAAAAD4fwAAAAAAAPh/9c+FqwMmsD9OwEObz3zpPwAAAAAAAPh/AAAAAAAA+H8AAAAAAAD4fwAAAAAAAPh/AAAAAAAA+H8AAAAAAAD4fw==",
          "dtype": "f8",
          "shape": "4, 5"
         }
        },
        {
         "marker": {
          "color": "black",
          "line": {
           "color": "Gray",
           "width": 2
          }
         },
         "mode": "markers",
         "name": "Feasible Trial",
         "showlegend": false,
         "type": "scatter",
         "x": [
          4,
          2,
          2,
          1,
          4
         ],
         "xaxis": "x9",
         "y": [
          64,
          64,
          128,
          64,
          128
         ],
         "yaxis": "y9"
        },
        {
         "colorbar": {
          "title": {
           "text": "Objective Value"
          }
         },
         "colorscale": [
          [
           0,
           "rgb(247,251,255)"
          ],
          [
           0.125,
           "rgb(222,235,247)"
          ],
          [
           0.25,
           "rgb(198,219,239)"
          ],
          [
           0.375,
           "rgb(158,202,225)"
          ],
          [
           0.5,
           "rgb(107,174,214)"
          ],
          [
           0.625,
           "rgb(66,146,198)"
          ],
          [
           0.75,
           "rgb(33,113,181)"
          ],
          [
           0.875,
           "rgb(8,81,156)"
          ],
          [
           1,
           "rgb(8,48,107)"
          ]
         ],
         "connectgaps": true,
         "contours": {
          "coloring": "heatmap"
         },
         "hoverinfo": "none",
         "line": {
          "smoothing": 1.3
         },
         "reversescale": false,
         "showscale": false,
         "type": "contour",
         "x": [
          0.85,
          1,
          2,
          4,
          4.15
         ],
         "xaxis": "x19",
         "y": [
          "False",
          "True"
         ],
         "yaxis": "y19",
         "z": {
          "bdata": "AAAAAAAA+H/ZpBIyNJXpPwAAAAAAAPh/TsBDm8986T8AAAAAAAD4fwAAAAAAAPh/AAAAAAAA+H+ex8r8wYDqP7SVkWPcO64/AAAAAAAA+H8=",
          "dtype": "f8",
          "shape": "2, 5"
         }
        },
        {
         "marker": {
          "color": "black",
          "line": {
           "color": "Gray",
           "width": 2
          }
         },
         "mode": "markers",
         "name": "Feasible Trial",
         "showlegend": false,
         "type": "scatter",
         "x": [
          4,
          2,
          2,
          1,
          4
         ],
         "xaxis": "x19",
         "y": [
          "True",
          "True",
          "True",
          "False",
          "False"
         ],
         "yaxis": "y19"
        },
        {
         "colorbar": {
          "title": {
           "text": "Objective Value"
          }
         },
         "colorscale": [
          [
           0,
           "rgb(247,251,255)"
          ],
          [
           0.125,
           "rgb(222,235,247)"
          ],
          [
           0.25,
           "rgb(198,219,239)"
          ],
          [
           0.375,
           "rgb(158,202,225)"
          ],
          [
           0.5,
           "rgb(107,174,214)"
          ],
          [
           0.625,
           "rgb(66,146,198)"
          ],
          [
           0.75,
           "rgb(33,113,181)"
          ],
          [
           0.875,
           "rgb(8,81,156)"
          ],
          [
           1,
           "rgb(8,48,107)"
          ]
         ],
         "connectgaps": true,
         "contours": {
          "coloring": "heatmap"
         },
         "hoverinfo": "none",
         "line": {
          "smoothing": 1.3
         },
         "reversescale": false,
         "showscale": false,
         "type": "contour",
         "x": [
          0.85,
          1,
          2,
          4,
          4.15
         ],
         "xaxis": "x29",
         "y": [
          0.16550133145846863,
          0.17957901587152492,
          0.2994028049210362,
          0.34223102575750275,
          0.36965344602653816,
          0.46113270413265095,
          0.47521038854570724
         ],
         "yaxis": "y29",
         "z": {
          "bdata": "AAAAAAAA+H8AAAAAAAD4fwAAAAAAAPh/AAAAAAAA+H8AAAAAAAD4fwAAAAAAAPh/AAAAAAAA+H/1z4WrAyawPwAAAAAAAPh/AAAAAAAA+H8AAAAAAAD4fwAAAAAAAPh/AAAAAAAA+H+0lZFj3DuuPwAAAAAAAPh/AAAAAAAA+H8AAAAAAAD4fwAAAAAAAPh/TsBDm8986T8AAAAAAAD4fwAAAAAAAPh/AAAAAAAA+H+ex8r8wYDqPwAAAAAAAPh/AAAAAAAA+H8AAAAAAAD4f9mkEjI0lek/AAAAAAAA+H8AAAAAAAD4fwAAAAAAAPh/AAAAAAAA+H8AAAAAAAD4fwAAAAAAAPh/AAAAAAAA+H8AAAAAAAD4fw==",
          "dtype": "f8",
          "shape": "7, 5"
         }
        },
        {
         "marker": {
          "color": "black",
          "line": {
           "color": "Gray",
           "width": 2
          }
         },
         "mode": "markers",
         "name": "Feasible Trial",
         "showlegend": false,
         "type": "scatter",
         "x": [
          4,
          2,
          2,
          1,
          4
         ],
         "xaxis": "x29",
         "y": [
          0.2994028049210362,
          0.36965344602653816,
          0.17957901587152492,
          0.46113270413265095,
          0.34223102575750275
         ],
         "yaxis": "y29"
        },
        {
         "colorbar": {
          "title": {
           "text": "Objective Value"
          }
         },
         "colorscale": [
          [
           0,
           "rgb(247,251,255)"
          ],
          [
           0.125,
           "rgb(222,235,247)"
          ],
          [
           0.25,
           "rgb(198,219,239)"
          ],
          [
           0.375,
           "rgb(158,202,225)"
          ],
          [
           0.5,
           "rgb(107,174,214)"
          ],
          [
           0.625,
           "rgb(66,146,198)"
          ],
          [
           0.75,
           "rgb(33,113,181)"
          ],
          [
           0.875,
           "rgb(8,81,156)"
          ],
          [
           1,
           "rgb(8,48,107)"
          ]
         ],
         "connectgaps": true,
         "contours": {
          "coloring": "heatmap"
         },
         "hoverinfo": "none",
         "line": {
          "smoothing": 1.3
         },
         "reversescale": false,
         "showscale": false,
         "type": "contour",
         "x": [
          0.85,
          1,
          2,
          4,
          4.15
         ],
         "xaxis": "x39",
         "y": [
          7.7,
          8,
          9,
          10,
          13,
          14,
          14.3
         ],
         "yaxis": "y39",
         "z": {
          "bdata": "AAAAAAAA+H8AAAAAAAD4fwAAAAAAAPh/AAAAAAAA+H8AAAAAAAD4fwAAAAAAAPh/AAAAAAAA+H+ex8r8wYDqPwAAAAAAAPh/AAAAAAAA+H8AAAAAAAD4f9mkEjI0lek/AAAAAAAA+H8AAAAAAAD4fwAAAAAAAPh/AAAAAAAA+H8AAAAAAAD4fwAAAAAAAPh/TsBDm8986T8AAAAAAAD4fwAAAAAAAPh/AAAAAAAA+H8AAAAAAAD4f7SVkWPcO64/AAAAAAAA+H8AAAAAAAD4fwAAAAAAAPh/9c+FqwMmsD8AAAAAAAD4fwAAAAAAAPh/AAAAAAAA+H8AAAAAAAD4fwAAAAAAAPh/AAAAAAAA+H8AAAAAAAD4fw==",
          "dtype": "f8",
          "shape": "7, 5"
         }
        },
        {
         "marker": {
          "color": "black",
          "line": {
           "color": "Gray",
           "width": 2
          }
         },
         "mode": "markers",
         "name": "Feasible Trial",
         "showlegend": false,
         "type": "scatter",
         "x": [
          4,
          2,
          2,
          1,
          4
         ],
         "xaxis": "x39",
         "y": [
          13,
          8,
          14,
          9,
          10
         ],
         "yaxis": "y39"
        },
        {
         "colorbar": {
          "title": {
           "text": "Objective Value"
          }
         },
         "colorscale": [
          [
           0,
           "rgb(247,251,255)"
          ],
          [
           0.125,
           "rgb(222,235,247)"
          ],
          [
           0.25,
           "rgb(198,219,239)"
          ],
          [
           0.375,
           "rgb(158,202,225)"
          ],
          [
           0.5,
           "rgb(107,174,214)"
          ],
          [
           0.625,
           "rgb(66,146,198)"
          ],
          [
           0.75,
           "rgb(33,113,181)"
          ],
          [
           0.875,
           "rgb(8,81,156)"
          ],
          [
           1,
           "rgb(8,48,107)"
          ]
         ],
         "connectgaps": true,
         "contours": {
          "coloring": "heatmap"
         },
         "hoverinfo": "none",
         "line": {
          "smoothing": 1.3
         },
         "reversescale": false,
         "showscale": false,
         "type": "contour",
         "x": [
          0.85,
          1,
          2,
          4,
          4.15
         ],
         "xaxis": "x49",
         "y": [
          60.8,
          64,
          128,
          131.2
         ],
         "yaxis": "y49",
         "z": {
          "bdata": "AAAAAAAA+H8AAAAAAAD4fwAAAAAAAPh/AAAAAAAA+H8AAAAAAAD4fwAAAAAAAPh/AAAAAAAA+H+ex8r8wYDqP07AQ5vPfOk/AAAAAAAA+H8AAAAAAAD4f9mkEjI0lek/9c+FqwMmsD8AAAAAAAD4fwAAAAAAAPh/AAAAAAAA+H8AAAAAAAD4fwAAAAAAAPh/AAAAAAAA+H8AAAAAAAD4fw==",
          "dtype": "f8",
          "shape": "4, 5"
         }
        },
        {
         "marker": {
          "color": "black",
          "line": {
           "color": "Gray",
           "width": 2
          }
         },
         "mode": "markers",
         "name": "Feasible Trial",
         "showlegend": false,
         "type": "scatter",
         "x": [
          4,
          2,
          2,
          1,
          4
         ],
         "xaxis": "x49",
         "y": [
          64,
          64,
          128,
          128,
          64
         ],
         "yaxis": "y49"
        },
        {
         "colorbar": {
          "title": {
           "text": "Objective Value"
          }
         },
         "colorscale": [
          [
           0,
           "rgb(247,251,255)"
          ],
          [
           0.125,
           "rgb(222,235,247)"
          ],
          [
           0.25,
           "rgb(198,219,239)"
          ],
          [
           0.375,
           "rgb(158,202,225)"
          ],
          [
           0.5,
           "rgb(107,174,214)"
          ],
          [
           0.625,
           "rgb(66,146,198)"
          ],
          [
           0.75,
           "rgb(33,113,181)"
          ],
          [
           0.875,
           "rgb(8,81,156)"
          ],
          [
           1,
           "rgb(8,48,107)"
          ]
         ],
         "connectgaps": true,
         "contours": {
          "coloring": "heatmap"
         },
         "hoverinfo": "none",
         "line": {
          "smoothing": 1.3
         },
         "reversescale": false,
         "showscale": false,
         "type": "contour",
         "x": [
          0.85,
          1,
          2,
          4,
          4.15
         ],
         "xaxis": "x59",
         "y": [
          0.00010149359594607536,
          0.00011982944130266843,
          0.00033452711277994786,
          0.001720021822320989,
          0.003230690711567297,
          0.003319414023327547,
          0.003919099763485756
         ],
         "yaxis": "y59",
         "z": {
          "bdata": "AAAAAAAA+H8AAAAAAAD4fwAAAAAAAPh/AAAAAAAA+H8AAAAAAAD4fwAAAAAAAPh/2aQSMjSV6T8AAAAAAAD4fwAAAAAAAPh/AAAAAAAA+H8AAAAAAAD4fwAAAAAAAPh/AAAAAAAA+H9OwEObz3zpPwAAAAAAAPh/AAAAAAAA+H8AAAAAAAD4f57HyvzBgOo/AAAAAAAA+H8AAAAAAAD4fwAAAAAAAPh/AAAAAAAA+H/1z4WrAyawPwAAAAAAAPh/AAAAAAAA+H8AAAAAAAD4fwAAAAAAAPh/AAAAAAAA+H+0lZFj3DuuPwAAAAAAAPh/AAAAAAAA+H8AAAAAAAD4fwAAAAAAAPh/AAAAAAAA+H8AAAAAAAD4fw==",
          "dtype": "f8",
          "shape": "7, 5"
         }
        },
        {
         "marker": {
          "color": "black",
          "line": {
           "color": "Gray",
           "width": 2
          }
         },
         "mode": "markers",
         "name": "Feasible Trial",
         "showlegend": false,
         "type": "scatter",
         "x": [
          4,
          2,
          2,
          1,
          4
         ],
         "xaxis": "x59",
         "y": [
          0.003319414023327547,
          0.001720021822320989,
          0.003230690711567297,
          0.00011982944130266843,
          0.00033452711277994786
         ],
         "yaxis": "y59"
        },
        {
         "colorbar": {
          "title": {
           "text": "Objective Value"
          }
         },
         "colorscale": [
          [
           0,
           "rgb(247,251,255)"
          ],
          [
           0.125,
           "rgb(222,235,247)"
          ],
          [
           0.25,
           "rgb(198,219,239)"
          ],
          [
           0.375,
           "rgb(158,202,225)"
          ],
          [
           0.5,
           "rgb(107,174,214)"
          ],
          [
           0.625,
           "rgb(66,146,198)"
          ],
          [
           0.75,
           "rgb(33,113,181)"
          ],
          [
           0.875,
           "rgb(8,81,156)"
          ],
          [
           1,
           "rgb(8,48,107)"
          ]
         ],
         "connectgaps": true,
         "contours": {
          "coloring": "heatmap"
         },
         "hoverinfo": "none",
         "line": {
          "smoothing": 1.3
         },
         "reversescale": false,
         "showscale": false,
         "type": "contour",
         "x": [
          0.85,
          1,
          2,
          4,
          4.15
         ],
         "xaxis": "x69",
         "y": [
          1.95,
          2,
          3,
          3.05
         ],
         "yaxis": "y69",
         "z": {
          "bdata": "AAAAAAAA+H8AAAAAAAD4fwAAAAAAAPh/AAAAAAAA+H8AAAAAAAD4fwAAAAAAAPh/2aQSMjSV6T+ex8r8wYDqP07AQ5vPfOk/AAAAAAAA+H8AAAAAAAD4fwAAAAAAAPh/9c+FqwMmsD+0lZFj3DuuPwAAAAAAAPh/AAAAAAAA+H8AAAAAAAD4fwAAAAAAAPh/AAAAAAAA+H8AAAAAAAD4fw==",
          "dtype": "f8",
          "shape": "4, 5"
         }
        },
        {
         "marker": {
          "color": "black",
          "line": {
           "color": "Gray",
           "width": 2
          }
         },
         "mode": "markers",
         "name": "Feasible Trial",
         "showlegend": false,
         "type": "scatter",
         "x": [
          4,
          2,
          2,
          1,
          4
         ],
         "xaxis": "x69",
         "y": [
          3,
          2,
          3,
          2,
          2
         ],
         "yaxis": "y69"
        },
        {
         "colorbar": {
          "title": {
           "text": "Objective Value"
          }
         },
         "colorscale": [
          [
           0,
           "rgb(247,251,255)"
          ],
          [
           0.125,
           "rgb(222,235,247)"
          ],
          [
           0.25,
           "rgb(198,219,239)"
          ],
          [
           0.375,
           "rgb(158,202,225)"
          ],
          [
           0.5,
           "rgb(107,174,214)"
          ],
          [
           0.625,
           "rgb(66,146,198)"
          ],
          [
           0.75,
           "rgb(33,113,181)"
          ],
          [
           0.875,
           "rgb(8,81,156)"
          ],
          [
           1,
           "rgb(8,48,107)"
          ]
         ],
         "connectgaps": true,
         "contours": {
          "coloring": "heatmap"
         },
         "hoverinfo": "none",
         "line": {
          "smoothing": 1.3
         },
         "reversescale": false,
         "showscale": false,
         "type": "contour",
         "x": [
          0.85,
          1,
          2,
          4,
          4.15
         ],
         "xaxis": "x79",
         "y": [
          27.2,
          32,
          64,
          128,
          132.8
         ],
         "yaxis": "y79",
         "z": {
          "bdata": "AAAAAAAA+H8AAAAAAAD4fwAAAAAAAPh/AAAAAAAA+H8AAAAAAAD4fwAAAAAAAPh/AAAAAAAA+H8AAAAAAAD4f7SVkWPcO64/AAAAAAAA+H8AAAAAAAD4f9mkEjI0lek/9c+FqwMmsD8AAAAAAAD4fwAAAAAAAPh/AAAAAAAA+H8AAAAAAAD4f57HyvzBgOo/TsBDm8986T8AAAAAAAD4fwAAAAAAAPh/AAAAAAAA+H8AAAAAAAD4fwAAAAAAAPh/AAAAAAAA+H8=",
          "dtype": "f8",
          "shape": "5, 5"
         }
        },
        {
         "marker": {
          "color": "black",
          "line": {
           "color": "Gray",
           "width": 2
          }
         },
         "mode": "markers",
         "name": "Feasible Trial",
         "showlegend": false,
         "type": "scatter",
         "x": [
          4,
          2,
          2,
          1,
          4
         ],
         "xaxis": "x79",
         "y": [
          32,
          128,
          64,
          64,
          128
         ],
         "yaxis": "y79"
        },
        {
         "type": "scatter",
         "xaxis": "x89",
         "yaxis": "y89"
        },
        {
         "colorbar": {
          "title": {
           "text": "Objective Value"
          }
         },
         "colorscale": [
          [
           0,
           "rgb(247,251,255)"
          ],
          [
           0.125,
           "rgb(222,235,247)"
          ],
          [
           0.25,
           "rgb(198,219,239)"
          ],
          [
           0.375,
           "rgb(158,202,225)"
          ],
          [
           0.5,
           "rgb(107,174,214)"
          ],
          [
           0.625,
           "rgb(66,146,198)"
          ],
          [
           0.75,
           "rgb(33,113,181)"
          ],
          [
           0.875,
           "rgb(8,81,156)"
          ],
          [
           1,
           "rgb(8,48,107)"
          ]
         ],
         "connectgaps": true,
         "contours": {
          "coloring": "heatmap"
         },
         "hoverinfo": "none",
         "line": {
          "smoothing": 1.3
         },
         "reversescale": false,
         "showscale": false,
         "type": "contour",
         "x": [
          0.85,
          1,
          2,
          4,
          4.15
         ],
         "xaxis": "x99",
         "y": [
          0.000009718804605397253,
          0.000013467657668402778,
          0.00010450174221660634,
          0.003062273519768889,
          0.005666597524267947,
          0.009180713288833598,
          0.012722007360566055
         ],
         "yaxis": "y99",
         "z": {
          "bdata": "AAAAAAAA+H8AAAAAAAD4fwAAAAAAAPh/AAAAAAAA+H8AAAAAAAD4fwAAAAAAAPh/2aQSMjSV6T8AAAAAAAD4fwAAAAAAAPh/AAAAAAAA+H8AAAAAAAD4fwAAAAAAAPh/AAAAAAAA+H9OwEObz3zpPwAAAAAAAPh/AAAAAAAA+H8AAAAAAAD4f57HyvzBgOo/AAAAAAAA+H8AAAAAAAD4fwAAAAAAAPh/AAAAAAAA+H8AAAAAAAD4f7SVkWPcO64/AAAAAAAA+H8AAAAAAAD4fwAAAAAAAPh/9c+FqwMmsD8AAAAAAAD4fwAAAAAAAPh/AAAAAAAA+H8AAAAAAAD4fwAAAAAAAPh/AAAAAAAA+H8AAAAAAAD4fw==",
          "dtype": "f8",
          "shape": "7, 5"
         }
        },
        {
         "marker": {
          "color": "black",
          "line": {
           "color": "Gray",
           "width": 2
          }
         },
         "mode": "markers",
         "name": "Feasible Trial",
         "showlegend": false,
         "type": "scatter",
         "x": [
          4,
          2,
          2,
          1,
          4
         ],
         "xaxis": "x99",
         "y": [
          0.005666597524267947,
          0.003062273519768889,
          0.009180713288833598,
          0.000013467657668402778,
          0.00010450174221660634
         ],
         "yaxis": "y99"
        },
        {
         "colorbar": {
          "title": {
           "text": "Objective Value"
          }
         },
         "colorscale": [
          [
           0,
           "rgb(247,251,255)"
          ],
          [
           0.125,
           "rgb(222,235,247)"
          ],
          [
           0.25,
           "rgb(198,219,239)"
          ],
          [
           0.375,
           "rgb(158,202,225)"
          ],
          [
           0.5,
           "rgb(107,174,214)"
          ],
          [
           0.625,
           "rgb(66,146,198)"
          ],
          [
           0.75,
           "rgb(33,113,181)"
          ],
          [
           0.875,
           "rgb(8,81,156)"
          ],
          [
           1,
           "rgb(8,48,107)"
          ]
         ],
         "connectgaps": true,
         "contours": {
          "coloring": "heatmap"
         },
         "hoverinfo": "none",
         "line": {
          "smoothing": 1.3
         },
         "reversescale": false,
         "showscale": false,
         "type": "contour",
         "x": [
          0.000009718804605397253,
          0.000013467657668402778,
          0.00010450174221660634,
          0.003062273519768889,
          0.005666597524267947,
          0.009180713288833598,
          0.012722007360566055
         ],
         "xaxis": "x10",
         "y": [
          60.8,
          64,
          128,
          131.2
         ],
         "yaxis": "y10",
         "z": {
          "bdata": "AAAAAAAA+H8AAAAAAAD4fwAAAAAAAPh/AAAAAAAA+H8AAAAAAAD4fwAAAAAAAPh/AAAAAAAA+H8AAAAAAAD4f9mkEjI0lek/AAAAAAAA+H+ex8r8wYDqP7SVkWPcO64/AAAAAAAA+H8AAAAAAAD4fwAAAAAAAPh/AAAAAAAA+H9OwEObz3zpPwAAAAAAAPh/AAAAAAAA+H/1z4WrAyawPwAAAAAAAPh/AAAAAAAA+H8AAAAAAAD4fwAAAAAAAPh/AAAAAAAA+H8AAAAAAAD4fwAAAAAAAPh/AAAAAAAA+H8=",
          "dtype": "f8",
          "shape": "4, 7"
         }
        },
        {
         "marker": {
          "color": "black",
          "line": {
           "color": "Gray",
           "width": 2
          }
         },
         "mode": "markers",
         "name": "Feasible Trial",
         "showlegend": false,
         "type": "scatter",
         "x": [
          0.005666597524267947,
          0.003062273519768889,
          0.009180713288833598,
          0.000013467657668402778,
          0.00010450174221660634
         ],
         "xaxis": "x10",
         "y": [
          64,
          64,
          128,
          64,
          128
         ],
         "yaxis": "y10"
        },
        {
         "colorbar": {
          "title": {
           "text": "Objective Value"
          }
         },
         "colorscale": [
          [
           0,
           "rgb(247,251,255)"
          ],
          [
           0.125,
           "rgb(222,235,247)"
          ],
          [
           0.25,
           "rgb(198,219,239)"
          ],
          [
           0.375,
           "rgb(158,202,225)"
          ],
          [
           0.5,
           "rgb(107,174,214)"
          ],
          [
           0.625,
           "rgb(66,146,198)"
          ],
          [
           0.75,
           "rgb(33,113,181)"
          ],
          [
           0.875,
           "rgb(8,81,156)"
          ],
          [
           1,
           "rgb(8,48,107)"
          ]
         ],
         "connectgaps": true,
         "contours": {
          "coloring": "heatmap"
         },
         "hoverinfo": "none",
         "line": {
          "smoothing": 1.3
         },
         "reversescale": false,
         "showscale": false,
         "type": "contour",
         "x": [
          0.000009718804605397253,
          0.000013467657668402778,
          0.00010450174221660634,
          0.003062273519768889,
          0.005666597524267947,
          0.009180713288833598,
          0.012722007360566055
         ],
         "xaxis": "x20",
         "y": [
          "False",
          "True"
         ],
         "yaxis": "y20",
         "z": {
          "bdata": "AAAAAAAA+H/ZpBIyNJXpP07AQ5vPfOk/AAAAAAAA+H8AAAAAAAD4fwAAAAAAAPh/AAAAAAAA+H8AAAAAAAD4fwAAAAAAAPh/AAAAAAAA+H+ex8r8wYDqP7SVkWPcO64/9c+FqwMmsD8AAAAAAAD4fw==",
          "dtype": "f8",
          "shape": "2, 7"
         }
        },
        {
         "marker": {
          "color": "black",
          "line": {
           "color": "Gray",
           "width": 2
          }
         },
         "mode": "markers",
         "name": "Feasible Trial",
         "showlegend": false,
         "type": "scatter",
         "x": [
          0.005666597524267947,
          0.003062273519768889,
          0.009180713288833598,
          0.000013467657668402778,
          0.00010450174221660634
         ],
         "xaxis": "x20",
         "y": [
          "True",
          "True",
          "True",
          "False",
          "False"
         ],
         "yaxis": "y20"
        },
        {
         "colorbar": {
          "title": {
           "text": "Objective Value"
          }
         },
         "colorscale": [
          [
           0,
           "rgb(247,251,255)"
          ],
          [
           0.125,
           "rgb(222,235,247)"
          ],
          [
           0.25,
           "rgb(198,219,239)"
          ],
          [
           0.375,
           "rgb(158,202,225)"
          ],
          [
           0.5,
           "rgb(107,174,214)"
          ],
          [
           0.625,
           "rgb(66,146,198)"
          ],
          [
           0.75,
           "rgb(33,113,181)"
          ],
          [
           0.875,
           "rgb(8,81,156)"
          ],
          [
           1,
           "rgb(8,48,107)"
          ]
         ],
         "connectgaps": true,
         "contours": {
          "coloring": "heatmap"
         },
         "hoverinfo": "none",
         "line": {
          "smoothing": 1.3
         },
         "reversescale": false,
         "showscale": false,
         "type": "contour",
         "x": [
          0.000009718804605397253,
          0.000013467657668402778,
          0.00010450174221660634,
          0.003062273519768889,
          0.005666597524267947,
          0.009180713288833598,
          0.012722007360566055
         ],
         "xaxis": "x30",
         "y": [
          0.16550133145846863,
          0.17957901587152492,
          0.2994028049210362,
          0.34223102575750275,
          0.36965344602653816,
          0.46113270413265095,
          0.47521038854570724
         ],
         "yaxis": "y30",
         "z": {
          "bdata": "AAAAAAAA+H8AAAAAAAD4fwAAAAAAAPh/AAAAAAAA+H8AAAAAAAD4fwAAAAAAAPh/AAAAAAAA+H8AAAAAAAD4fwAAAAAAAPh/AAAAAAAA+H8AAAAAAAD4fwAAAAAAAPh/9c+FqwMmsD8AAAAAAAD4fwAAAAAAAPh/AAAAAAAA+H8AAAAAAAD4fwAAAAAAAPh/tJWRY9w7rj8AAAAAAAD4fwAAAAAAAPh/AAAAAAAA+H8AAAAAAAD4f07AQ5vPfOk/AAAAAAAA+H8AAAAAAAD4fwAAAAAAAPh/AAAAAAAA+H8AAAAAAAD4fwAAAAAAAPh/AAAAAAAA+H+ex8r8wYDqPwAAAAAAAPh/AAAAAAAA+H8AAAAAAAD4fwAAAAAAAPh/2aQSMjSV6T8AAAAAAAD4fwAAAAAAAPh/AAAAAAAA+H8AAAAAAAD4fwAAAAAAAPh/AAAAAAAA+H8AAAAAAAD4fwAAAAAAAPh/AAAAAAAA+H8AAAAAAAD4fwAAAAAAAPh/AAAAAAAA+H8=",
          "dtype": "f8",
          "shape": "7, 7"
         }
        },
        {
         "marker": {
          "color": "black",
          "line": {
           "color": "Gray",
           "width": 2
          }
         },
         "mode": "markers",
         "name": "Feasible Trial",
         "showlegend": false,
         "type": "scatter",
         "x": [
          0.005666597524267947,
          0.003062273519768889,
          0.009180713288833598,
          0.000013467657668402778,
          0.00010450174221660634
         ],
         "xaxis": "x30",
         "y": [
          0.2994028049210362,
          0.36965344602653816,
          0.17957901587152492,
          0.46113270413265095,
          0.34223102575750275
         ],
         "yaxis": "y30"
        },
        {
         "colorbar": {
          "title": {
           "text": "Objective Value"
          }
         },
         "colorscale": [
          [
           0,
           "rgb(247,251,255)"
          ],
          [
           0.125,
           "rgb(222,235,247)"
          ],
          [
           0.25,
           "rgb(198,219,239)"
          ],
          [
           0.375,
           "rgb(158,202,225)"
          ],
          [
           0.5,
           "rgb(107,174,214)"
          ],
          [
           0.625,
           "rgb(66,146,198)"
          ],
          [
           0.75,
           "rgb(33,113,181)"
          ],
          [
           0.875,
           "rgb(8,81,156)"
          ],
          [
           1,
           "rgb(8,48,107)"
          ]
         ],
         "connectgaps": true,
         "contours": {
          "coloring": "heatmap"
         },
         "hoverinfo": "none",
         "line": {
          "smoothing": 1.3
         },
         "reversescale": false,
         "showscale": false,
         "type": "contour",
         "x": [
          0.000009718804605397253,
          0.000013467657668402778,
          0.00010450174221660634,
          0.003062273519768889,
          0.005666597524267947,
          0.009180713288833598,
          0.012722007360566055
         ],
         "xaxis": "x40",
         "y": [
          7.7,
          8,
          9,
          10,
          13,
          14,
          14.3
         ],
         "yaxis": "y40",
         "z": {
          "bdata": "AAAAAAAA+H8AAAAAAAD4fwAAAAAAAPh/AAAAAAAA+H8AAAAAAAD4fwAAAAAAAPh/AAAAAAAA+H8AAAAAAAD4fwAAAAAAAPh/AAAAAAAA+H+ex8r8wYDqPwAAAAAAAPh/AAAAAAAA+H8AAAAAAAD4fwAAAAAAAPh/2aQSMjSV6T8AAAAAAAD4fwAAAAAAAPh/AAAAAAAA+H8AAAAAAAD4fwAAAAAAAPh/AAAAAAAA+H8AAAAAAAD4f07AQ5vPfOk/AAAAAAAA+H8AAAAAAAD4fwAAAAAAAPh/AAAAAAAA+H8AAAAAAAD4fwAAAAAAAPh/AAAAAAAA+H8AAAAAAAD4f7SVkWPcO64/AAAAAAAA+H8AAAAAAAD4fwAAAAAAAPh/AAAAAAAA+H8AAAAAAAD4fwAAAAAAAPh/AAAAAAAA+H/1z4WrAyawPwAAAAAAAPh/AAAAAAAA+H8AAAAAAAD4fwAAAAAAAPh/AAAAAAAA+H8AAAAAAAD4fwAAAAAAAPh/AAAAAAAA+H8=",
          "dtype": "f8",
          "shape": "7, 7"
         }
        },
        {
         "marker": {
          "color": "black",
          "line": {
           "color": "Gray",
           "width": 2
          }
         },
         "mode": "markers",
         "name": "Feasible Trial",
         "showlegend": false,
         "type": "scatter",
         "x": [
          0.005666597524267947,
          0.003062273519768889,
          0.009180713288833598,
          0.000013467657668402778,
          0.00010450174221660634
         ],
         "xaxis": "x40",
         "y": [
          13,
          8,
          14,
          9,
          10
         ],
         "yaxis": "y40"
        },
        {
         "colorbar": {
          "title": {
           "text": "Objective Value"
          }
         },
         "colorscale": [
          [
           0,
           "rgb(247,251,255)"
          ],
          [
           0.125,
           "rgb(222,235,247)"
          ],
          [
           0.25,
           "rgb(198,219,239)"
          ],
          [
           0.375,
           "rgb(158,202,225)"
          ],
          [
           0.5,
           "rgb(107,174,214)"
          ],
          [
           0.625,
           "rgb(66,146,198)"
          ],
          [
           0.75,
           "rgb(33,113,181)"
          ],
          [
           0.875,
           "rgb(8,81,156)"
          ],
          [
           1,
           "rgb(8,48,107)"
          ]
         ],
         "connectgaps": true,
         "contours": {
          "coloring": "heatmap"
         },
         "hoverinfo": "none",
         "line": {
          "smoothing": 1.3
         },
         "reversescale": false,
         "showscale": false,
         "type": "contour",
         "x": [
          0.000009718804605397253,
          0.000013467657668402778,
          0.00010450174221660634,
          0.003062273519768889,
          0.005666597524267947,
          0.009180713288833598,
          0.012722007360566055
         ],
         "xaxis": "x50",
         "y": [
          60.8,
          64,
          128,
          131.2
         ],
         "yaxis": "y50",
         "z": {
          "bdata": "AAAAAAAA+H8AAAAAAAD4fwAAAAAAAPh/AAAAAAAA+H8AAAAAAAD4fwAAAAAAAPh/AAAAAAAA+H8AAAAAAAD4fwAAAAAAAPh/TsBDm8986T+ex8r8wYDqP7SVkWPcO64/AAAAAAAA+H8AAAAAAAD4fwAAAAAAAPh/2aQSMjSV6T8AAAAAAAD4fwAAAAAAAPh/AAAAAAAA+H/1z4WrAyawPwAAAAAAAPh/AAAAAAAA+H8AAAAAAAD4fwAAAAAAAPh/AAAAAAAA+H8AAAAAAAD4fwAAAAAAAPh/AAAAAAAA+H8=",
          "dtype": "f8",
          "shape": "4, 7"
         }
        },
        {
         "marker": {
          "color": "black",
          "line": {
           "color": "Gray",
           "width": 2
          }
         },
         "mode": "markers",
         "name": "Feasible Trial",
         "showlegend": false,
         "type": "scatter",
         "x": [
          0.005666597524267947,
          0.003062273519768889,
          0.009180713288833598,
          0.000013467657668402778,
          0.00010450174221660634
         ],
         "xaxis": "x50",
         "y": [
          64,
          64,
          128,
          128,
          64
         ],
         "yaxis": "y50"
        },
        {
         "colorbar": {
          "title": {
           "text": "Objective Value"
          }
         },
         "colorscale": [
          [
           0,
           "rgb(247,251,255)"
          ],
          [
           0.125,
           "rgb(222,235,247)"
          ],
          [
           0.25,
           "rgb(198,219,239)"
          ],
          [
           0.375,
           "rgb(158,202,225)"
          ],
          [
           0.5,
           "rgb(107,174,214)"
          ],
          [
           0.625,
           "rgb(66,146,198)"
          ],
          [
           0.75,
           "rgb(33,113,181)"
          ],
          [
           0.875,
           "rgb(8,81,156)"
          ],
          [
           1,
           "rgb(8,48,107)"
          ]
         ],
         "connectgaps": true,
         "contours": {
          "coloring": "heatmap"
         },
         "hoverinfo": "none",
         "line": {
          "smoothing": 1.3
         },
         "reversescale": false,
         "showscale": false,
         "type": "contour",
         "x": [
          0.000009718804605397253,
          0.000013467657668402778,
          0.00010450174221660634,
          0.003062273519768889,
          0.005666597524267947,
          0.009180713288833598,
          0.012722007360566055
         ],
         "xaxis": "x60",
         "y": [
          0.00010149359594607536,
          0.00011982944130266843,
          0.00033452711277994786,
          0.001720021822320989,
          0.003230690711567297,
          0.003319414023327547,
          0.003919099763485756
         ],
         "yaxis": "y60",
         "z": {
          "bdata": "AAAAAAAA+H8AAAAAAAD4fwAAAAAAAPh/AAAAAAAA+H8AAAAAAAD4fwAAAAAAAPh/AAAAAAAA+H8AAAAAAAD4f9mkEjI0lek/AAAAAAAA+H8AAAAAAAD4fwAAAAAAAPh/AAAAAAAA+H8AAAAAAAD4fwAAAAAAAPh/AAAAAAAA+H9OwEObz3zpPwAAAAAAAPh/AAAAAAAA+H8AAAAAAAD4fwAAAAAAAPh/AAAAAAAA+H8AAAAAAAD4fwAAAAAAAPh/nsfK/MGA6j8AAAAAAAD4fwAAAAAAAPh/AAAAAAAA+H8AAAAAAAD4fwAAAAAAAPh/AAAAAAAA+H8AAAAAAAD4fwAAAAAAAPh/9c+FqwMmsD8AAAAAAAD4fwAAAAAAAPh/AAAAAAAA+H8AAAAAAAD4fwAAAAAAAPh/tJWRY9w7rj8AAAAAAAD4fwAAAAAAAPh/AAAAAAAA+H8AAAAAAAD4fwAAAAAAAPh/AAAAAAAA+H8AAAAAAAD4fwAAAAAAAPh/AAAAAAAA+H8=",
          "dtype": "f8",
          "shape": "7, 7"
         }
        },
        {
         "marker": {
          "color": "black",
          "line": {
           "color": "Gray",
           "width": 2
          }
         },
         "mode": "markers",
         "name": "Feasible Trial",
         "showlegend": false,
         "type": "scatter",
         "x": [
          0.005666597524267947,
          0.003062273519768889,
          0.009180713288833598,
          0.000013467657668402778,
          0.00010450174221660634
         ],
         "xaxis": "x60",
         "y": [
          0.003319414023327547,
          0.001720021822320989,
          0.003230690711567297,
          0.00011982944130266843,
          0.00033452711277994786
         ],
         "yaxis": "y60"
        },
        {
         "colorbar": {
          "title": {
           "text": "Objective Value"
          }
         },
         "colorscale": [
          [
           0,
           "rgb(247,251,255)"
          ],
          [
           0.125,
           "rgb(222,235,247)"
          ],
          [
           0.25,
           "rgb(198,219,239)"
          ],
          [
           0.375,
           "rgb(158,202,225)"
          ],
          [
           0.5,
           "rgb(107,174,214)"
          ],
          [
           0.625,
           "rgb(66,146,198)"
          ],
          [
           0.75,
           "rgb(33,113,181)"
          ],
          [
           0.875,
           "rgb(8,81,156)"
          ],
          [
           1,
           "rgb(8,48,107)"
          ]
         ],
         "connectgaps": true,
         "contours": {
          "coloring": "heatmap"
         },
         "hoverinfo": "none",
         "line": {
          "smoothing": 1.3
         },
         "reversescale": false,
         "showscale": false,
         "type": "contour",
         "x": [
          0.000009718804605397253,
          0.000013467657668402778,
          0.00010450174221660634,
          0.003062273519768889,
          0.005666597524267947,
          0.009180713288833598,
          0.012722007360566055
         ],
         "xaxis": "x70",
         "y": [
          1.95,
          2,
          3,
          3.05
         ],
         "yaxis": "y70",
         "z": {
          "bdata": "AAAAAAAA+H8AAAAAAAD4fwAAAAAAAPh/AAAAAAAA+H8AAAAAAAD4fwAAAAAAAPh/AAAAAAAA+H8AAAAAAAD4f9mkEjI0lek/TsBDm8986T+ex8r8wYDqPwAAAAAAAPh/AAAAAAAA+H8AAAAAAAD4fwAAAAAAAPh/AAAAAAAA+H8AAAAAAAD4fwAAAAAAAPh/tJWRY9w7rj/1z4WrAyawPwAAAAAAAPh/AAAAAAAA+H8AAAAAAAD4fwAAAAAAAPh/AAAAAAAA+H8AAAAAAAD4fwAAAAAAAPh/AAAAAAAA+H8=",
          "dtype": "f8",
          "shape": "4, 7"
         }
        },
        {
         "marker": {
          "color": "black",
          "line": {
           "color": "Gray",
           "width": 2
          }
         },
         "mode": "markers",
         "name": "Feasible Trial",
         "showlegend": false,
         "type": "scatter",
         "x": [
          0.005666597524267947,
          0.003062273519768889,
          0.009180713288833598,
          0.000013467657668402778,
          0.00010450174221660634
         ],
         "xaxis": "x70",
         "y": [
          3,
          2,
          3,
          2,
          2
         ],
         "yaxis": "y70"
        },
        {
         "colorbar": {
          "title": {
           "text": "Objective Value"
          }
         },
         "colorscale": [
          [
           0,
           "rgb(247,251,255)"
          ],
          [
           0.125,
           "rgb(222,235,247)"
          ],
          [
           0.25,
           "rgb(198,219,239)"
          ],
          [
           0.375,
           "rgb(158,202,225)"
          ],
          [
           0.5,
           "rgb(107,174,214)"
          ],
          [
           0.625,
           "rgb(66,146,198)"
          ],
          [
           0.75,
           "rgb(33,113,181)"
          ],
          [
           0.875,
           "rgb(8,81,156)"
          ],
          [
           1,
           "rgb(8,48,107)"
          ]
         ],
         "connectgaps": true,
         "contours": {
          "coloring": "heatmap"
         },
         "hoverinfo": "none",
         "line": {
          "smoothing": 1.3
         },
         "reversescale": false,
         "showscale": false,
         "type": "contour",
         "x": [
          0.000009718804605397253,
          0.000013467657668402778,
          0.00010450174221660634,
          0.003062273519768889,
          0.005666597524267947,
          0.009180713288833598,
          0.012722007360566055
         ],
         "xaxis": "x80",
         "y": [
          27.2,
          32,
          64,
          128,
          132.8
         ],
         "yaxis": "y80",
         "z": {
          "bdata": "AAAAAAAA+H8AAAAAAAD4fwAAAAAAAPh/AAAAAAAA+H8AAAAAAAD4fwAAAAAAAPh/AAAAAAAA+H8AAAAAAAD4fwAAAAAAAPh/AAAAAAAA+H8AAAAAAAD4f7SVkWPcO64/AAAAAAAA+H8AAAAAAAD4fwAAAAAAAPh/2aQSMjSV6T8AAAAAAAD4fwAAAAAAAPh/AAAAAAAA+H/1z4WrAyawPwAAAAAAAPh/AAAAAAAA+H8AAAAAAAD4f07AQ5vPfOk/nsfK/MGA6j8AAAAAAAD4fwAAAAAAAPh/AAAAAAAA+H8AAAAAAAD4fwAAAAAAAPh/AAAAAAAA+H8AAAAAAAD4fwAAAAAAAPh/AAAAAAAA+H8AAAAAAAD4fw==",
          "dtype": "f8",
          "shape": "5, 7"
         }
        },
        {
         "marker": {
          "color": "black",
          "line": {
           "color": "Gray",
           "width": 2
          }
         },
         "mode": "markers",
         "name": "Feasible Trial",
         "showlegend": false,
         "type": "scatter",
         "x": [
          0.005666597524267947,
          0.003062273519768889,
          0.009180713288833598,
          0.000013467657668402778,
          0.00010450174221660634
         ],
         "xaxis": "x80",
         "y": [
          32,
          128,
          64,
          64,
          128
         ],
         "yaxis": "y80"
        },
        {
         "colorbar": {
          "title": {
           "text": "Objective Value"
          }
         },
         "colorscale": [
          [
           0,
           "rgb(247,251,255)"
          ],
          [
           0.125,
           "rgb(222,235,247)"
          ],
          [
           0.25,
           "rgb(198,219,239)"
          ],
          [
           0.375,
           "rgb(158,202,225)"
          ],
          [
           0.5,
           "rgb(107,174,214)"
          ],
          [
           0.625,
           "rgb(66,146,198)"
          ],
          [
           0.75,
           "rgb(33,113,181)"
          ],
          [
           0.875,
           "rgb(8,81,156)"
          ],
          [
           1,
           "rgb(8,48,107)"
          ]
         ],
         "connectgaps": true,
         "contours": {
          "coloring": "heatmap"
         },
         "hoverinfo": "none",
         "line": {
          "smoothing": 1.3
         },
         "reversescale": false,
         "showscale": false,
         "type": "contour",
         "x": [
          0.000009718804605397253,
          0.000013467657668402778,
          0.00010450174221660634,
          0.003062273519768889,
          0.005666597524267947,
          0.009180713288833598,
          0.012722007360566055
         ],
         "xaxis": "x90",
         "y": [
          0.85,
          1,
          2,
          4,
          4.15
         ],
         "yaxis": "y90",
         "z": {
          "bdata": "AAAAAAAA+H8AAAAAAAD4fwAAAAAAAPh/AAAAAAAA+H8AAAAAAAD4fwAAAAAAAPh/AAAAAAAA+H8AAAAAAAD4f9mkEjI0lek/AAAAAAAA+H8AAAAAAAD4fwAAAAAAAPh/AAAAAAAA+H8AAAAAAAD4fwAAAAAAAPh/AAAAAAAA+H8AAAAAAAD4f57HyvzBgOo/AAAAAAAA+H/1z4WrAyawPwAAAAAAAPh/AAAAAAAA+H8AAAAAAAD4f07AQ5vPfOk/AAAAAAAA+H+0lZFj3DuuPwAAAAAAAPh/AAAAAAAA+H8AAAAAAAD4fwAAAAAAAPh/AAAAAAAA+H8AAAAAAAD4fwAAAAAAAPh/AAAAAAAA+H8AAAAAAAD4fw==",
          "dtype": "f8",
          "shape": "5, 7"
         }
        },
        {
         "marker": {
          "color": "black",
          "line": {
           "color": "Gray",
           "width": 2
          }
         },
         "mode": "markers",
         "name": "Feasible Trial",
         "showlegend": false,
         "type": "scatter",
         "x": [
          0.005666597524267947,
          0.003062273519768889,
          0.009180713288833598,
          0.000013467657668402778,
          0.00010450174221660634
         ],
         "xaxis": "x90",
         "y": [
          4,
          2,
          2,
          1,
          4
         ],
         "yaxis": "y90"
        },
        {
         "type": "scatter",
         "xaxis": "x100",
         "yaxis": "y100"
        }
       ],
       "layout": {
        "template": {
         "data": {
          "bar": [
           {
            "error_x": {
             "color": "#2a3f5f"
            },
            "error_y": {
             "color": "#2a3f5f"
            },
            "marker": {
             "line": {
              "color": "#E5ECF6",
              "width": 0.5
             },
             "pattern": {
              "fillmode": "overlay",
              "size": 10,
              "solidity": 0.2
             }
            },
            "type": "bar"
           }
          ],
          "barpolar": [
           {
            "marker": {
             "line": {
              "color": "#E5ECF6",
              "width": 0.5
             },
             "pattern": {
              "fillmode": "overlay",
              "size": 10,
              "solidity": 0.2
             }
            },
            "type": "barpolar"
           }
          ],
          "carpet": [
           {
            "aaxis": {
             "endlinecolor": "#2a3f5f",
             "gridcolor": "white",
             "linecolor": "white",
             "minorgridcolor": "white",
             "startlinecolor": "#2a3f5f"
            },
            "baxis": {
             "endlinecolor": "#2a3f5f",
             "gridcolor": "white",
             "linecolor": "white",
             "minorgridcolor": "white",
             "startlinecolor": "#2a3f5f"
            },
            "type": "carpet"
           }
          ],
          "choropleth": [
           {
            "colorbar": {
             "outlinewidth": 0,
             "ticks": ""
            },
            "type": "choropleth"
           }
          ],
          "contour": [
           {
            "colorbar": {
             "outlinewidth": 0,
             "ticks": ""
            },
            "colorscale": [
             [
              0,
              "#0d0887"
             ],
             [
              0.1111111111111111,
              "#46039f"
             ],
             [
              0.2222222222222222,
              "#7201a8"
             ],
             [
              0.3333333333333333,
              "#9c179e"
             ],
             [
              0.4444444444444444,
              "#bd3786"
             ],
             [
              0.5555555555555556,
              "#d8576b"
             ],
             [
              0.6666666666666666,
              "#ed7953"
             ],
             [
              0.7777777777777778,
              "#fb9f3a"
             ],
             [
              0.8888888888888888,
              "#fdca26"
             ],
             [
              1,
              "#f0f921"
             ]
            ],
            "type": "contour"
           }
          ],
          "contourcarpet": [
           {
            "colorbar": {
             "outlinewidth": 0,
             "ticks": ""
            },
            "type": "contourcarpet"
           }
          ],
          "heatmap": [
           {
            "colorbar": {
             "outlinewidth": 0,
             "ticks": ""
            },
            "colorscale": [
             [
              0,
              "#0d0887"
             ],
             [
              0.1111111111111111,
              "#46039f"
             ],
             [
              0.2222222222222222,
              "#7201a8"
             ],
             [
              0.3333333333333333,
              "#9c179e"
             ],
             [
              0.4444444444444444,
              "#bd3786"
             ],
             [
              0.5555555555555556,
              "#d8576b"
             ],
             [
              0.6666666666666666,
              "#ed7953"
             ],
             [
              0.7777777777777778,
              "#fb9f3a"
             ],
             [
              0.8888888888888888,
              "#fdca26"
             ],
             [
              1,
              "#f0f921"
             ]
            ],
            "type": "heatmap"
           }
          ],
          "histogram": [
           {
            "marker": {
             "pattern": {
              "fillmode": "overlay",
              "size": 10,
              "solidity": 0.2
             }
            },
            "type": "histogram"
           }
          ],
          "histogram2d": [
           {
            "colorbar": {
             "outlinewidth": 0,
             "ticks": ""
            },
            "colorscale": [
             [
              0,
              "#0d0887"
             ],
             [
              0.1111111111111111,
              "#46039f"
             ],
             [
              0.2222222222222222,
              "#7201a8"
             ],
             [
              0.3333333333333333,
              "#9c179e"
             ],
             [
              0.4444444444444444,
              "#bd3786"
             ],
             [
              0.5555555555555556,
              "#d8576b"
             ],
             [
              0.6666666666666666,
              "#ed7953"
             ],
             [
              0.7777777777777778,
              "#fb9f3a"
             ],
             [
              0.8888888888888888,
              "#fdca26"
             ],
             [
              1,
              "#f0f921"
             ]
            ],
            "type": "histogram2d"
           }
          ],
          "histogram2dcontour": [
           {
            "colorbar": {
             "outlinewidth": 0,
             "ticks": ""
            },
            "colorscale": [
             [
              0,
              "#0d0887"
             ],
             [
              0.1111111111111111,
              "#46039f"
             ],
             [
              0.2222222222222222,
              "#7201a8"
             ],
             [
              0.3333333333333333,
              "#9c179e"
             ],
             [
              0.4444444444444444,
              "#bd3786"
             ],
             [
              0.5555555555555556,
              "#d8576b"
             ],
             [
              0.6666666666666666,
              "#ed7953"
             ],
             [
              0.7777777777777778,
              "#fb9f3a"
             ],
             [
              0.8888888888888888,
              "#fdca26"
             ],
             [
              1,
              "#f0f921"
             ]
            ],
            "type": "histogram2dcontour"
           }
          ],
          "mesh3d": [
           {
            "colorbar": {
             "outlinewidth": 0,
             "ticks": ""
            },
            "type": "mesh3d"
           }
          ],
          "parcoords": [
           {
            "line": {
             "colorbar": {
              "outlinewidth": 0,
              "ticks": ""
             }
            },
            "type": "parcoords"
           }
          ],
          "pie": [
           {
            "automargin": true,
            "type": "pie"
           }
          ],
          "scatter": [
           {
            "fillpattern": {
             "fillmode": "overlay",
             "size": 10,
             "solidity": 0.2
            },
            "type": "scatter"
           }
          ],
          "scatter3d": [
           {
            "line": {
             "colorbar": {
              "outlinewidth": 0,
              "ticks": ""
             }
            },
            "marker": {
             "colorbar": {
              "outlinewidth": 0,
              "ticks": ""
             }
            },
            "type": "scatter3d"
           }
          ],
          "scattercarpet": [
           {
            "marker": {
             "colorbar": {
              "outlinewidth": 0,
              "ticks": ""
             }
            },
            "type": "scattercarpet"
           }
          ],
          "scattergeo": [
           {
            "marker": {
             "colorbar": {
              "outlinewidth": 0,
              "ticks": ""
             }
            },
            "type": "scattergeo"
           }
          ],
          "scattergl": [
           {
            "marker": {
             "colorbar": {
              "outlinewidth": 0,
              "ticks": ""
             }
            },
            "type": "scattergl"
           }
          ],
          "scattermap": [
           {
            "marker": {
             "colorbar": {
              "outlinewidth": 0,
              "ticks": ""
             }
            },
            "type": "scattermap"
           }
          ],
          "scattermapbox": [
           {
            "marker": {
             "colorbar": {
              "outlinewidth": 0,
              "ticks": ""
             }
            },
            "type": "scattermapbox"
           }
          ],
          "scatterpolar": [
           {
            "marker": {
             "colorbar": {
              "outlinewidth": 0,
              "ticks": ""
             }
            },
            "type": "scatterpolar"
           }
          ],
          "scatterpolargl": [
           {
            "marker": {
             "colorbar": {
              "outlinewidth": 0,
              "ticks": ""
             }
            },
            "type": "scatterpolargl"
           }
          ],
          "scatterternary": [
           {
            "marker": {
             "colorbar": {
              "outlinewidth": 0,
              "ticks": ""
             }
            },
            "type": "scatterternary"
           }
          ],
          "surface": [
           {
            "colorbar": {
             "outlinewidth": 0,
             "ticks": ""
            },
            "colorscale": [
             [
              0,
              "#0d0887"
             ],
             [
              0.1111111111111111,
              "#46039f"
             ],
             [
              0.2222222222222222,
              "#7201a8"
             ],
             [
              0.3333333333333333,
              "#9c179e"
             ],
             [
              0.4444444444444444,
              "#bd3786"
             ],
             [
              0.5555555555555556,
              "#d8576b"
             ],
             [
              0.6666666666666666,
              "#ed7953"
             ],
             [
              0.7777777777777778,
              "#fb9f3a"
             ],
             [
              0.8888888888888888,
              "#fdca26"
             ],
             [
              1,
              "#f0f921"
             ]
            ],
            "type": "surface"
           }
          ],
          "table": [
           {
            "cells": {
             "fill": {
              "color": "#EBF0F8"
             },
             "line": {
              "color": "white"
             }
            },
            "header": {
             "fill": {
              "color": "#C8D4E3"
             },
             "line": {
              "color": "white"
             }
            },
            "type": "table"
           }
          ]
         },
         "layout": {
          "annotationdefaults": {
           "arrowcolor": "#2a3f5f",
           "arrowhead": 0,
           "arrowwidth": 1
          },
          "autotypenumbers": "strict",
          "coloraxis": {
           "colorbar": {
            "outlinewidth": 0,
            "ticks": ""
           }
          },
          "colorscale": {
           "diverging": [
            [
             0,
             "#8e0152"
            ],
            [
             0.1,
             "#c51b7d"
            ],
            [
             0.2,
             "#de77ae"
            ],
            [
             0.3,
             "#f1b6da"
            ],
            [
             0.4,
             "#fde0ef"
            ],
            [
             0.5,
             "#f7f7f7"
            ],
            [
             0.6,
             "#e6f5d0"
            ],
            [
             0.7,
             "#b8e186"
            ],
            [
             0.8,
             "#7fbc41"
            ],
            [
             0.9,
             "#4d9221"
            ],
            [
             1,
             "#276419"
            ]
           ],
           "sequential": [
            [
             0,
             "#0d0887"
            ],
            [
             0.1111111111111111,
             "#46039f"
            ],
            [
             0.2222222222222222,
             "#7201a8"
            ],
            [
             0.3333333333333333,
             "#9c179e"
            ],
            [
             0.4444444444444444,
             "#bd3786"
            ],
            [
             0.5555555555555556,
             "#d8576b"
            ],
            [
             0.6666666666666666,
             "#ed7953"
            ],
            [
             0.7777777777777778,
             "#fb9f3a"
            ],
            [
             0.8888888888888888,
             "#fdca26"
            ],
            [
             1,
             "#f0f921"
            ]
           ],
           "sequentialminus": [
            [
             0,
             "#0d0887"
            ],
            [
             0.1111111111111111,
             "#46039f"
            ],
            [
             0.2222222222222222,
             "#7201a8"
            ],
            [
             0.3333333333333333,
             "#9c179e"
            ],
            [
             0.4444444444444444,
             "#bd3786"
            ],
            [
             0.5555555555555556,
             "#d8576b"
            ],
            [
             0.6666666666666666,
             "#ed7953"
            ],
            [
             0.7777777777777778,
             "#fb9f3a"
            ],
            [
             0.8888888888888888,
             "#fdca26"
            ],
            [
             1,
             "#f0f921"
            ]
           ]
          },
          "colorway": [
           "#636efa",
           "#EF553B",
           "#00cc96",
           "#ab63fa",
           "#FFA15A",
           "#19d3f3",
           "#FF6692",
           "#B6E880",
           "#FF97FF",
           "#FECB52"
          ],
          "font": {
           "color": "#2a3f5f"
          },
          "geo": {
           "bgcolor": "white",
           "lakecolor": "white",
           "landcolor": "#E5ECF6",
           "showlakes": true,
           "showland": true,
           "subunitcolor": "white"
          },
          "hoverlabel": {
           "align": "left"
          },
          "hovermode": "closest",
          "mapbox": {
           "style": "light"
          },
          "paper_bgcolor": "white",
          "plot_bgcolor": "#E5ECF6",
          "polar": {
           "angularaxis": {
            "gridcolor": "white",
            "linecolor": "white",
            "ticks": ""
           },
           "bgcolor": "#E5ECF6",
           "radialaxis": {
            "gridcolor": "white",
            "linecolor": "white",
            "ticks": ""
           }
          },
          "scene": {
           "xaxis": {
            "backgroundcolor": "#E5ECF6",
            "gridcolor": "white",
            "gridwidth": 2,
            "linecolor": "white",
            "showbackground": true,
            "ticks": "",
            "zerolinecolor": "white"
           },
           "yaxis": {
            "backgroundcolor": "#E5ECF6",
            "gridcolor": "white",
            "gridwidth": 2,
            "linecolor": "white",
            "showbackground": true,
            "ticks": "",
            "zerolinecolor": "white"
           },
           "zaxis": {
            "backgroundcolor": "#E5ECF6",
            "gridcolor": "white",
            "gridwidth": 2,
            "linecolor": "white",
            "showbackground": true,
            "ticks": "",
            "zerolinecolor": "white"
           }
          },
          "shapedefaults": {
           "line": {
            "color": "#2a3f5f"
           }
          },
          "ternary": {
           "aaxis": {
            "gridcolor": "white",
            "linecolor": "white",
            "ticks": ""
           },
           "baxis": {
            "gridcolor": "white",
            "linecolor": "white",
            "ticks": ""
           },
           "bgcolor": "#E5ECF6",
           "caxis": {
            "gridcolor": "white",
            "linecolor": "white",
            "ticks": ""
           }
          },
          "title": {
           "x": 0.05
          },
          "xaxis": {
           "automargin": true,
           "gridcolor": "white",
           "linecolor": "white",
           "ticks": "",
           "title": {
            "standoff": 15
           },
           "zerolinecolor": "white",
           "zerolinewidth": 2
          },
          "yaxis": {
           "automargin": true,
           "gridcolor": "white",
           "linecolor": "white",
           "ticks": "",
           "title": {
            "standoff": 15
           },
           "zerolinecolor": "white",
           "zerolinewidth": 2
          }
         }
        },
        "title": {
         "text": "Contour Plot"
        },
        "xaxis": {
         "anchor": "y",
         "domain": [
          0,
          0.082
         ],
         "matches": "x91",
         "range": [
          60.8,
          131.2
         ],
         "showticklabels": false
        },
        "xaxis10": {
         "anchor": "y10",
         "domain": [
          0.9179999999999999,
          0.9999999999999999
         ],
         "matches": "x100",
         "range": [
          -5.012387149189548,
          -1.8954443574898514
         ],
         "showticklabels": false,
         "type": "log"
        },
        "xaxis100": {
         "anchor": "y100",
         "domain": [
          0.9179999999999999,
          0.9999999999999999
         ],
         "range": [
          -5.012387149189548,
          -1.8954443574898514
         ],
         "title": {
          "text": "weight_decay"
         },
         "type": "log"
        },
        "xaxis11": {
         "anchor": "y11",
         "domain": [
          0,
          0.082
         ],
         "matches": "x91",
         "range": [
          60.8,
          131.2
         ],
         "showticklabels": false
        },
        "xaxis12": {
         "anchor": "y12",
         "domain": [
          0.10200000000000001,
          0.184
         ],
         "matches": "x92",
         "range": [
          -0.05,
          1.05
         ],
         "showticklabels": false,
         "type": "category"
        },
        "xaxis13": {
         "anchor": "y13",
         "domain": [
          0.20400000000000001,
          0.28600000000000003
         ],
         "matches": "x93",
         "range": [
          0.16550133145846863,
          0.47521038854570724
         ],
         "showticklabels": false
        },
        "xaxis14": {
         "anchor": "y14",
         "domain": [
          0.306,
          0.388
         ],
         "matches": "x94",
         "range": [
          7.7,
          14.3
         ],
         "showticklabels": false
        },
        "xaxis15": {
         "anchor": "y15",
         "domain": [
          0.40800000000000003,
          0.49000000000000005
         ],
         "matches": "x95",
         "range": [
          60.8,
          131.2
         ],
         "showticklabels": false
        },
        "xaxis16": {
         "anchor": "y16",
         "domain": [
          0.51,
          0.592
         ],
         "matches": "x96",
         "range": [
          -3.993561360046582,
          -2.406813681104725
         ],
         "showticklabels": false,
         "type": "log"
        },
        "xaxis17": {
         "anchor": "y17",
         "domain": [
          0.612,
          0.694
         ],
         "matches": "x97",
         "range": [
          1.95,
          3.05
         ],
         "showticklabels": false
        },
        "xaxis18": {
         "anchor": "y18",
         "domain": [
          0.7140000000000001,
          0.796
         ],
         "matches": "x98",
         "range": [
          27.2,
          132.8
         ],
         "showticklabels": false
        },
        "xaxis19": {
         "anchor": "y19",
         "domain": [
          0.8160000000000001,
          0.898
         ],
         "matches": "x99",
         "range": [
          0.85,
          4.15
         ],
         "showticklabels": false
        },
        "xaxis2": {
         "anchor": "y2",
         "domain": [
          0.10200000000000001,
          0.184
         ],
         "matches": "x92",
         "range": [
          -0.05,
          1.05
         ],
         "showticklabels": false,
         "type": "category"
        },
        "xaxis20": {
         "anchor": "y20",
         "domain": [
          0.9179999999999999,
          0.9999999999999999
         ],
         "matches": "x100",
         "range": [
          -5.012387149189548,
          -1.8954443574898514
         ],
         "showticklabels": false,
         "type": "log"
        },
        "xaxis21": {
         "anchor": "y21",
         "domain": [
          0,
          0.082
         ],
         "matches": "x91",
         "range": [
          60.8,
          131.2
         ],
         "showticklabels": false
        },
        "xaxis22": {
         "anchor": "y22",
         "domain": [
          0.10200000000000001,
          0.184
         ],
         "matches": "x92",
         "range": [
          -0.05,
          1.05
         ],
         "showticklabels": false,
         "type": "category"
        },
        "xaxis23": {
         "anchor": "y23",
         "domain": [
          0.20400000000000001,
          0.28600000000000003
         ],
         "matches": "x93",
         "range": [
          0.16550133145846863,
          0.47521038854570724
         ],
         "showticklabels": false
        },
        "xaxis24": {
         "anchor": "y24",
         "domain": [
          0.306,
          0.388
         ],
         "matches": "x94",
         "range": [
          7.7,
          14.3
         ],
         "showticklabels": false
        },
        "xaxis25": {
         "anchor": "y25",
         "domain": [
          0.40800000000000003,
          0.49000000000000005
         ],
         "matches": "x95",
         "range": [
          60.8,
          131.2
         ],
         "showticklabels": false
        },
        "xaxis26": {
         "anchor": "y26",
         "domain": [
          0.51,
          0.592
         ],
         "matches": "x96",
         "range": [
          -3.993561360046582,
          -2.406813681104725
         ],
         "showticklabels": false,
         "type": "log"
        },
        "xaxis27": {
         "anchor": "y27",
         "domain": [
          0.612,
          0.694
         ],
         "matches": "x97",
         "range": [
          1.95,
          3.05
         ],
         "showticklabels": false
        },
        "xaxis28": {
         "anchor": "y28",
         "domain": [
          0.7140000000000001,
          0.796
         ],
         "matches": "x98",
         "range": [
          27.2,
          132.8
         ],
         "showticklabels": false
        },
        "xaxis29": {
         "anchor": "y29",
         "domain": [
          0.8160000000000001,
          0.898
         ],
         "matches": "x99",
         "range": [
          0.85,
          4.15
         ],
         "showticklabels": false
        },
        "xaxis3": {
         "anchor": "y3",
         "domain": [
          0.20400000000000001,
          0.28600000000000003
         ],
         "matches": "x93",
         "range": [
          0.16550133145846863,
          0.47521038854570724
         ],
         "showticklabels": false
        },
        "xaxis30": {
         "anchor": "y30",
         "domain": [
          0.9179999999999999,
          0.9999999999999999
         ],
         "matches": "x100",
         "range": [
          -5.012387149189548,
          -1.8954443574898514
         ],
         "showticklabels": false,
         "type": "log"
        },
        "xaxis31": {
         "anchor": "y31",
         "domain": [
          0,
          0.082
         ],
         "matches": "x91",
         "range": [
          60.8,
          131.2
         ],
         "showticklabels": false
        },
        "xaxis32": {
         "anchor": "y32",
         "domain": [
          0.10200000000000001,
          0.184
         ],
         "matches": "x92",
         "range": [
          -0.05,
          1.05
         ],
         "showticklabels": false,
         "type": "category"
        },
        "xaxis33": {
         "anchor": "y33",
         "domain": [
          0.20400000000000001,
          0.28600000000000003
         ],
         "matches": "x93",
         "range": [
          0.16550133145846863,
          0.47521038854570724
         ],
         "showticklabels": false
        },
        "xaxis34": {
         "anchor": "y34",
         "domain": [
          0.306,
          0.388
         ],
         "matches": "x94",
         "range": [
          7.7,
          14.3
         ],
         "showticklabels": false
        },
        "xaxis35": {
         "anchor": "y35",
         "domain": [
          0.40800000000000003,
          0.49000000000000005
         ],
         "matches": "x95",
         "range": [
          60.8,
          131.2
         ],
         "showticklabels": false
        },
        "xaxis36": {
         "anchor": "y36",
         "domain": [
          0.51,
          0.592
         ],
         "matches": "x96",
         "range": [
          -3.993561360046582,
          -2.406813681104725
         ],
         "showticklabels": false,
         "type": "log"
        },
        "xaxis37": {
         "anchor": "y37",
         "domain": [
          0.612,
          0.694
         ],
         "matches": "x97",
         "range": [
          1.95,
          3.05
         ],
         "showticklabels": false
        },
        "xaxis38": {
         "anchor": "y38",
         "domain": [
          0.7140000000000001,
          0.796
         ],
         "matches": "x98",
         "range": [
          27.2,
          132.8
         ],
         "showticklabels": false
        },
        "xaxis39": {
         "anchor": "y39",
         "domain": [
          0.8160000000000001,
          0.898
         ],
         "matches": "x99",
         "range": [
          0.85,
          4.15
         ],
         "showticklabels": false
        },
        "xaxis4": {
         "anchor": "y4",
         "domain": [
          0.306,
          0.388
         ],
         "matches": "x94",
         "range": [
          7.7,
          14.3
         ],
         "showticklabels": false
        },
        "xaxis40": {
         "anchor": "y40",
         "domain": [
          0.9179999999999999,
          0.9999999999999999
         ],
         "matches": "x100",
         "range": [
          -5.012387149189548,
          -1.8954443574898514
         ],
         "showticklabels": false,
         "type": "log"
        },
        "xaxis41": {
         "anchor": "y41",
         "domain": [
          0,
          0.082
         ],
         "matches": "x91",
         "range": [
          60.8,
          131.2
         ],
         "showticklabels": false
        },
        "xaxis42": {
         "anchor": "y42",
         "domain": [
          0.10200000000000001,
          0.184
         ],
         "matches": "x92",
         "range": [
          -0.05,
          1.05
         ],
         "showticklabels": false,
         "type": "category"
        },
        "xaxis43": {
         "anchor": "y43",
         "domain": [
          0.20400000000000001,
          0.28600000000000003
         ],
         "matches": "x93",
         "range": [
          0.16550133145846863,
          0.47521038854570724
         ],
         "showticklabels": false
        },
        "xaxis44": {
         "anchor": "y44",
         "domain": [
          0.306,
          0.388
         ],
         "matches": "x94",
         "range": [
          7.7,
          14.3
         ],
         "showticklabels": false
        },
        "xaxis45": {
         "anchor": "y45",
         "domain": [
          0.40800000000000003,
          0.49000000000000005
         ],
         "matches": "x95",
         "range": [
          60.8,
          131.2
         ],
         "showticklabels": false
        },
        "xaxis46": {
         "anchor": "y46",
         "domain": [
          0.51,
          0.592
         ],
         "matches": "x96",
         "range": [
          -3.993561360046582,
          -2.406813681104725
         ],
         "showticklabels": false,
         "type": "log"
        },
        "xaxis47": {
         "anchor": "y47",
         "domain": [
          0.612,
          0.694
         ],
         "matches": "x97",
         "range": [
          1.95,
          3.05
         ],
         "showticklabels": false
        },
        "xaxis48": {
         "anchor": "y48",
         "domain": [
          0.7140000000000001,
          0.796
         ],
         "matches": "x98",
         "range": [
          27.2,
          132.8
         ],
         "showticklabels": false
        },
        "xaxis49": {
         "anchor": "y49",
         "domain": [
          0.8160000000000001,
          0.898
         ],
         "matches": "x99",
         "range": [
          0.85,
          4.15
         ],
         "showticklabels": false
        },
        "xaxis5": {
         "anchor": "y5",
         "domain": [
          0.40800000000000003,
          0.49000000000000005
         ],
         "matches": "x95",
         "range": [
          60.8,
          131.2
         ],
         "showticklabels": false
        },
        "xaxis50": {
         "anchor": "y50",
         "domain": [
          0.9179999999999999,
          0.9999999999999999
         ],
         "matches": "x100",
         "range": [
          -5.012387149189548,
          -1.8954443574898514
         ],
         "showticklabels": false,
         "type": "log"
        },
        "xaxis51": {
         "anchor": "y51",
         "domain": [
          0,
          0.082
         ],
         "matches": "x91",
         "range": [
          60.8,
          131.2
         ],
         "showticklabels": false
        },
        "xaxis52": {
         "anchor": "y52",
         "domain": [
          0.10200000000000001,
          0.184
         ],
         "matches": "x92",
         "range": [
          -0.05,
          1.05
         ],
         "showticklabels": false,
         "type": "category"
        },
        "xaxis53": {
         "anchor": "y53",
         "domain": [
          0.20400000000000001,
          0.28600000000000003
         ],
         "matches": "x93",
         "range": [
          0.16550133145846863,
          0.47521038854570724
         ],
         "showticklabels": false
        },
        "xaxis54": {
         "anchor": "y54",
         "domain": [
          0.306,
          0.388
         ],
         "matches": "x94",
         "range": [
          7.7,
          14.3
         ],
         "showticklabels": false
        },
        "xaxis55": {
         "anchor": "y55",
         "domain": [
          0.40800000000000003,
          0.49000000000000005
         ],
         "matches": "x95",
         "range": [
          60.8,
          131.2
         ],
         "showticklabels": false
        },
        "xaxis56": {
         "anchor": "y56",
         "domain": [
          0.51,
          0.592
         ],
         "matches": "x96",
         "range": [
          -3.993561360046582,
          -2.406813681104725
         ],
         "showticklabels": false,
         "type": "log"
        },
        "xaxis57": {
         "anchor": "y57",
         "domain": [
          0.612,
          0.694
         ],
         "matches": "x97",
         "range": [
          1.95,
          3.05
         ],
         "showticklabels": false
        },
        "xaxis58": {
         "anchor": "y58",
         "domain": [
          0.7140000000000001,
          0.796
         ],
         "matches": "x98",
         "range": [
          27.2,
          132.8
         ],
         "showticklabels": false
        },
        "xaxis59": {
         "anchor": "y59",
         "domain": [
          0.8160000000000001,
          0.898
         ],
         "matches": "x99",
         "range": [
          0.85,
          4.15
         ],
         "showticklabels": false
        },
        "xaxis6": {
         "anchor": "y6",
         "domain": [
          0.51,
          0.592
         ],
         "matches": "x96",
         "range": [
          -3.993561360046582,
          -2.406813681104725
         ],
         "showticklabels": false,
         "type": "log"
        },
        "xaxis60": {
         "anchor": "y60",
         "domain": [
          0.9179999999999999,
          0.9999999999999999
         ],
         "matches": "x100",
         "range": [
          -5.012387149189548,
          -1.8954443574898514
         ],
         "showticklabels": false,
         "type": "log"
        },
        "xaxis61": {
         "anchor": "y61",
         "domain": [
          0,
          0.082
         ],
         "matches": "x91",
         "range": [
          60.8,
          131.2
         ],
         "showticklabels": false
        },
        "xaxis62": {
         "anchor": "y62",
         "domain": [
          0.10200000000000001,
          0.184
         ],
         "matches": "x92",
         "range": [
          -0.05,
          1.05
         ],
         "showticklabels": false,
         "type": "category"
        },
        "xaxis63": {
         "anchor": "y63",
         "domain": [
          0.20400000000000001,
          0.28600000000000003
         ],
         "matches": "x93",
         "range": [
          0.16550133145846863,
          0.47521038854570724
         ],
         "showticklabels": false
        },
        "xaxis64": {
         "anchor": "y64",
         "domain": [
          0.306,
          0.388
         ],
         "matches": "x94",
         "range": [
          7.7,
          14.3
         ],
         "showticklabels": false
        },
        "xaxis65": {
         "anchor": "y65",
         "domain": [
          0.40800000000000003,
          0.49000000000000005
         ],
         "matches": "x95",
         "range": [
          60.8,
          131.2
         ],
         "showticklabels": false
        },
        "xaxis66": {
         "anchor": "y66",
         "domain": [
          0.51,
          0.592
         ],
         "matches": "x96",
         "range": [
          -3.993561360046582,
          -2.406813681104725
         ],
         "showticklabels": false,
         "type": "log"
        },
        "xaxis67": {
         "anchor": "y67",
         "domain": [
          0.612,
          0.694
         ],
         "matches": "x97",
         "range": [
          1.95,
          3.05
         ],
         "showticklabels": false
        },
        "xaxis68": {
         "anchor": "y68",
         "domain": [
          0.7140000000000001,
          0.796
         ],
         "matches": "x98",
         "range": [
          27.2,
          132.8
         ],
         "showticklabels": false
        },
        "xaxis69": {
         "anchor": "y69",
         "domain": [
          0.8160000000000001,
          0.898
         ],
         "matches": "x99",
         "range": [
          0.85,
          4.15
         ],
         "showticklabels": false
        },
        "xaxis7": {
         "anchor": "y7",
         "domain": [
          0.612,
          0.694
         ],
         "matches": "x97",
         "range": [
          1.95,
          3.05
         ],
         "showticklabels": false
        },
        "xaxis70": {
         "anchor": "y70",
         "domain": [
          0.9179999999999999,
          0.9999999999999999
         ],
         "matches": "x100",
         "range": [
          -5.012387149189548,
          -1.8954443574898514
         ],
         "showticklabels": false,
         "type": "log"
        },
        "xaxis71": {
         "anchor": "y71",
         "domain": [
          0,
          0.082
         ],
         "matches": "x91",
         "range": [
          60.8,
          131.2
         ],
         "showticklabels": false
        },
        "xaxis72": {
         "anchor": "y72",
         "domain": [
          0.10200000000000001,
          0.184
         ],
         "matches": "x92",
         "range": [
          -0.05,
          1.05
         ],
         "showticklabels": false,
         "type": "category"
        },
        "xaxis73": {
         "anchor": "y73",
         "domain": [
          0.20400000000000001,
          0.28600000000000003
         ],
         "matches": "x93",
         "range": [
          0.16550133145846863,
          0.47521038854570724
         ],
         "showticklabels": false
        },
        "xaxis74": {
         "anchor": "y74",
         "domain": [
          0.306,
          0.388
         ],
         "matches": "x94",
         "range": [
          7.7,
          14.3
         ],
         "showticklabels": false
        },
        "xaxis75": {
         "anchor": "y75",
         "domain": [
          0.40800000000000003,
          0.49000000000000005
         ],
         "matches": "x95",
         "range": [
          60.8,
          131.2
         ],
         "showticklabels": false
        },
        "xaxis76": {
         "anchor": "y76",
         "domain": [
          0.51,
          0.592
         ],
         "matches": "x96",
         "range": [
          -3.993561360046582,
          -2.406813681104725
         ],
         "showticklabels": false,
         "type": "log"
        },
        "xaxis77": {
         "anchor": "y77",
         "domain": [
          0.612,
          0.694
         ],
         "matches": "x97",
         "range": [
          1.95,
          3.05
         ],
         "showticklabels": false
        },
        "xaxis78": {
         "anchor": "y78",
         "domain": [
          0.7140000000000001,
          0.796
         ],
         "matches": "x98",
         "range": [
          27.2,
          132.8
         ],
         "showticklabels": false
        },
        "xaxis79": {
         "anchor": "y79",
         "domain": [
          0.8160000000000001,
          0.898
         ],
         "matches": "x99",
         "range": [
          0.85,
          4.15
         ],
         "showticklabels": false
        },
        "xaxis8": {
         "anchor": "y8",
         "domain": [
          0.7140000000000001,
          0.796
         ],
         "matches": "x98",
         "range": [
          27.2,
          132.8
         ],
         "showticklabels": false
        },
        "xaxis80": {
         "anchor": "y80",
         "domain": [
          0.9179999999999999,
          0.9999999999999999
         ],
         "matches": "x100",
         "range": [
          -5.012387149189548,
          -1.8954443574898514
         ],
         "showticklabels": false,
         "type": "log"
        },
        "xaxis81": {
         "anchor": "y81",
         "domain": [
          0,
          0.082
         ],
         "matches": "x91",
         "range": [
          60.8,
          131.2
         ],
         "showticklabels": false
        },
        "xaxis82": {
         "anchor": "y82",
         "domain": [
          0.10200000000000001,
          0.184
         ],
         "matches": "x92",
         "range": [
          -0.05,
          1.05
         ],
         "showticklabels": false,
         "type": "category"
        },
        "xaxis83": {
         "anchor": "y83",
         "domain": [
          0.20400000000000001,
          0.28600000000000003
         ],
         "matches": "x93",
         "range": [
          0.16550133145846863,
          0.47521038854570724
         ],
         "showticklabels": false
        },
        "xaxis84": {
         "anchor": "y84",
         "domain": [
          0.306,
          0.388
         ],
         "matches": "x94",
         "range": [
          7.7,
          14.3
         ],
         "showticklabels": false
        },
        "xaxis85": {
         "anchor": "y85",
         "domain": [
          0.40800000000000003,
          0.49000000000000005
         ],
         "matches": "x95",
         "range": [
          60.8,
          131.2
         ],
         "showticklabels": false
        },
        "xaxis86": {
         "anchor": "y86",
         "domain": [
          0.51,
          0.592
         ],
         "matches": "x96",
         "range": [
          -3.993561360046582,
          -2.406813681104725
         ],
         "showticklabels": false,
         "type": "log"
        },
        "xaxis87": {
         "anchor": "y87",
         "domain": [
          0.612,
          0.694
         ],
         "matches": "x97",
         "range": [
          1.95,
          3.05
         ],
         "showticklabels": false
        },
        "xaxis88": {
         "anchor": "y88",
         "domain": [
          0.7140000000000001,
          0.796
         ],
         "matches": "x98",
         "range": [
          27.2,
          132.8
         ],
         "showticklabels": false
        },
        "xaxis89": {
         "anchor": "y89",
         "domain": [
          0.8160000000000001,
          0.898
         ],
         "matches": "x99",
         "range": [
          0.85,
          4.15
         ],
         "showticklabels": false
        },
        "xaxis9": {
         "anchor": "y9",
         "domain": [
          0.8160000000000001,
          0.898
         ],
         "matches": "x99",
         "range": [
          0.85,
          4.15
         ],
         "showticklabels": false
        },
        "xaxis90": {
         "anchor": "y90",
         "domain": [
          0.9179999999999999,
          0.9999999999999999
         ],
         "matches": "x100",
         "range": [
          -5.012387149189548,
          -1.8954443574898514
         ],
         "showticklabels": false,
         "type": "log"
        },
        "xaxis91": {
         "anchor": "y91",
         "domain": [
          0,
          0.082
         ],
         "range": [
          60.8,
          131.2
         ],
         "title": {
          "text": "batch_size"
         }
        },
        "xaxis92": {
         "anchor": "y92",
         "domain": [
          0.10200000000000001,
          0.184
         ],
         "range": [
          -0.05,
          1.05
         ],
         "title": {
          "text": "bidirectional"
         },
         "type": "category"
        },
        "xaxis93": {
         "anchor": "y93",
         "domain": [
          0.20400000000000001,
          0.28600000000000003
         ],
         "range": [
          0.16550133145846863,
          0.47521038854570724
         ],
         "title": {
          "text": "dropout"
         }
        },
        "xaxis94": {
         "anchor": "y94",
         "domain": [
          0.306,
          0.388
         ],
         "range": [
          7.7,
          14.3
         ],
         "title": {
          "text": "epochs"
         }
        },
        "xaxis95": {
         "anchor": "y95",
         "domain": [
          0.40800000000000003,
          0.49000000000000005
         ],
         "range": [
          60.8,
          131.2
         ],
         "title": {
          "text": "hidden_size"
         }
        },
        "xaxis96": {
         "anchor": "y96",
         "domain": [
          0.51,
          0.592
         ],
         "range": [
          -3.993561360046582,
          -2.406813681104725
         ],
         "title": {
          "text": "learning_rate"
         },
         "type": "log"
        },
        "xaxis97": {
         "anchor": "y97",
         "domain": [
          0.612,
          0.694
         ],
         "range": [
          1.95,
          3.05
         ],
         "title": {
          "text": "num_layers"
         }
        },
        "xaxis98": {
         "anchor": "y98",
         "domain": [
          0.7140000000000001,
          0.796
         ],
         "range": [
          27.2,
          132.8
         ],
         "title": {
          "text": "seq_len"
         }
        },
        "xaxis99": {
         "anchor": "y99",
         "domain": [
          0.8160000000000001,
          0.898
         ],
         "range": [
          0.85,
          4.15
         ],
         "title": {
          "text": "stride"
         }
        },
        "yaxis": {
         "anchor": "x",
         "domain": [
          0.9269999999999999,
          0.9999999999999999
         ],
         "range": [
          60.8,
          131.2
         ],
         "title": {
          "text": "batch_size"
         }
        },
        "yaxis10": {
         "anchor": "x10",
         "domain": [
          0.9269999999999999,
          0.9999999999999999
         ],
         "matches": "y",
         "range": [
          60.8,
          131.2
         ],
         "showticklabels": false
        },
        "yaxis100": {
         "anchor": "x100",
         "domain": [
          0,
          0.073
         ],
         "matches": "y91",
         "range": [
          -5.012387149189548,
          -1.8954443574898514
         ],
         "showticklabels": false,
         "type": "log"
        },
        "yaxis11": {
         "anchor": "x11",
         "domain": [
          0.824,
          0.8969999999999999
         ],
         "range": [
          -0.05,
          1.05
         ],
         "title": {
          "text": "bidirectional"
         },
         "type": "category"
        },
        "yaxis12": {
         "anchor": "x12",
         "domain": [
          0.824,
          0.8969999999999999
         ],
         "matches": "y11",
         "range": [
          -0.05,
          1.05
         ],
         "showticklabels": false,
         "type": "category"
        },
        "yaxis13": {
         "anchor": "x13",
         "domain": [
          0.824,
          0.8969999999999999
         ],
         "matches": "y11",
         "range": [
          -0.05,
          1.05
         ],
         "showticklabels": false,
         "type": "category"
        },
        "yaxis14": {
         "anchor": "x14",
         "domain": [
          0.824,
          0.8969999999999999
         ],
         "matches": "y11",
         "range": [
          -0.05,
          1.05
         ],
         "showticklabels": false,
         "type": "category"
        },
        "yaxis15": {
         "anchor": "x15",
         "domain": [
          0.824,
          0.8969999999999999
         ],
         "matches": "y11",
         "range": [
          -0.05,
          1.05
         ],
         "showticklabels": false,
         "type": "category"
        },
        "yaxis16": {
         "anchor": "x16",
         "domain": [
          0.824,
          0.8969999999999999
         ],
         "matches": "y11",
         "range": [
          -0.05,
          1.05
         ],
         "showticklabels": false,
         "type": "category"
        },
        "yaxis17": {
         "anchor": "x17",
         "domain": [
          0.824,
          0.8969999999999999
         ],
         "matches": "y11",
         "range": [
          -0.05,
          1.05
         ],
         "showticklabels": false,
         "type": "category"
        },
        "yaxis18": {
         "anchor": "x18",
         "domain": [
          0.824,
          0.8969999999999999
         ],
         "matches": "y11",
         "range": [
          -0.05,
          1.05
         ],
         "showticklabels": false,
         "type": "category"
        },
        "yaxis19": {
         "anchor": "x19",
         "domain": [
          0.824,
          0.8969999999999999
         ],
         "matches": "y11",
         "range": [
          -0.05,
          1.05
         ],
         "showticklabels": false,
         "type": "category"
        },
        "yaxis2": {
         "anchor": "x2",
         "domain": [
          0.9269999999999999,
          0.9999999999999999
         ],
         "matches": "y",
         "range": [
          60.8,
          131.2
         ],
         "showticklabels": false
        },
        "yaxis20": {
         "anchor": "x20",
         "domain": [
          0.824,
          0.8969999999999999
         ],
         "matches": "y11",
         "range": [
          -0.05,
          1.05
         ],
         "showticklabels": false,
         "type": "category"
        },
        "yaxis21": {
         "anchor": "x21",
         "domain": [
          0.721,
          0.7939999999999999
         ],
         "range": [
          0.16550133145846863,
          0.47521038854570724
         ],
         "title": {
          "text": "dropout"
         }
        },
        "yaxis22": {
         "anchor": "x22",
         "domain": [
          0.721,
          0.7939999999999999
         ],
         "matches": "y21",
         "range": [
          0.16550133145846863,
          0.47521038854570724
         ],
         "showticklabels": false
        },
        "yaxis23": {
         "anchor": "x23",
         "domain": [
          0.721,
          0.7939999999999999
         ],
         "matches": "y21",
         "range": [
          0.16550133145846863,
          0.47521038854570724
         ],
         "showticklabels": false
        },
        "yaxis24": {
         "anchor": "x24",
         "domain": [
          0.721,
          0.7939999999999999
         ],
         "matches": "y21",
         "range": [
          0.16550133145846863,
          0.47521038854570724
         ],
         "showticklabels": false
        },
        "yaxis25": {
         "anchor": "x25",
         "domain": [
          0.721,
          0.7939999999999999
         ],
         "matches": "y21",
         "range": [
          0.16550133145846863,
          0.47521038854570724
         ],
         "showticklabels": false
        },
        "yaxis26": {
         "anchor": "x26",
         "domain": [
          0.721,
          0.7939999999999999
         ],
         "matches": "y21",
         "range": [
          0.16550133145846863,
          0.47521038854570724
         ],
         "showticklabels": false
        },
        "yaxis27": {
         "anchor": "x27",
         "domain": [
          0.721,
          0.7939999999999999
         ],
         "matches": "y21",
         "range": [
          0.16550133145846863,
          0.47521038854570724
         ],
         "showticklabels": false
        },
        "yaxis28": {
         "anchor": "x28",
         "domain": [
          0.721,
          0.7939999999999999
         ],
         "matches": "y21",
         "range": [
          0.16550133145846863,
          0.47521038854570724
         ],
         "showticklabels": false
        },
        "yaxis29": {
         "anchor": "x29",
         "domain": [
          0.721,
          0.7939999999999999
         ],
         "matches": "y21",
         "range": [
          0.16550133145846863,
          0.47521038854570724
         ],
         "showticklabels": false
        },
        "yaxis3": {
         "anchor": "x3",
         "domain": [
          0.9269999999999999,
          0.9999999999999999
         ],
         "matches": "y",
         "range": [
          60.8,
          131.2
         ],
         "showticklabels": false
        },
        "yaxis30": {
         "anchor": "x30",
         "domain": [
          0.721,
          0.7939999999999999
         ],
         "matches": "y21",
         "range": [
          0.16550133145846863,
          0.47521038854570724
         ],
         "showticklabels": false
        },
        "yaxis31": {
         "anchor": "x31",
         "domain": [
          0.6179999999999999,
          0.6909999999999998
         ],
         "range": [
          7.7,
          14.3
         ],
         "title": {
          "text": "epochs"
         }
        },
        "yaxis32": {
         "anchor": "x32",
         "domain": [
          0.6179999999999999,
          0.6909999999999998
         ],
         "matches": "y31",
         "range": [
          7.7,
          14.3
         ],
         "showticklabels": false
        },
        "yaxis33": {
         "anchor": "x33",
         "domain": [
          0.6179999999999999,
          0.6909999999999998
         ],
         "matches": "y31",
         "range": [
          7.7,
          14.3
         ],
         "showticklabels": false
        },
        "yaxis34": {
         "anchor": "x34",
         "domain": [
          0.6179999999999999,
          0.6909999999999998
         ],
         "matches": "y31",
         "range": [
          7.7,
          14.3
         ],
         "showticklabels": false
        },
        "yaxis35": {
         "anchor": "x35",
         "domain": [
          0.6179999999999999,
          0.6909999999999998
         ],
         "matches": "y31",
         "range": [
          7.7,
          14.3
         ],
         "showticklabels": false
        },
        "yaxis36": {
         "anchor": "x36",
         "domain": [
          0.6179999999999999,
          0.6909999999999998
         ],
         "matches": "y31",
         "range": [
          7.7,
          14.3
         ],
         "showticklabels": false
        },
        "yaxis37": {
         "anchor": "x37",
         "domain": [
          0.6179999999999999,
          0.6909999999999998
         ],
         "matches": "y31",
         "range": [
          7.7,
          14.3
         ],
         "showticklabels": false
        },
        "yaxis38": {
         "anchor": "x38",
         "domain": [
          0.6179999999999999,
          0.6909999999999998
         ],
         "matches": "y31",
         "range": [
          7.7,
          14.3
         ],
         "showticklabels": false
        },
        "yaxis39": {
         "anchor": "x39",
         "domain": [
          0.6179999999999999,
          0.6909999999999998
         ],
         "matches": "y31",
         "range": [
          7.7,
          14.3
         ],
         "showticklabels": false
        },
        "yaxis4": {
         "anchor": "x4",
         "domain": [
          0.9269999999999999,
          0.9999999999999999
         ],
         "matches": "y",
         "range": [
          60.8,
          131.2
         ],
         "showticklabels": false
        },
        "yaxis40": {
         "anchor": "x40",
         "domain": [
          0.6179999999999999,
          0.6909999999999998
         ],
         "matches": "y31",
         "range": [
          7.7,
          14.3
         ],
         "showticklabels": false
        },
        "yaxis41": {
         "anchor": "x41",
         "domain": [
          0.515,
          0.588
         ],
         "range": [
          60.8,
          131.2
         ],
         "title": {
          "text": "hidden_size"
         }
        },
        "yaxis42": {
         "anchor": "x42",
         "domain": [
          0.515,
          0.588
         ],
         "matches": "y41",
         "range": [
          60.8,
          131.2
         ],
         "showticklabels": false
        },
        "yaxis43": {
         "anchor": "x43",
         "domain": [
          0.515,
          0.588
         ],
         "matches": "y41",
         "range": [
          60.8,
          131.2
         ],
         "showticklabels": false
        },
        "yaxis44": {
         "anchor": "x44",
         "domain": [
          0.515,
          0.588
         ],
         "matches": "y41",
         "range": [
          60.8,
          131.2
         ],
         "showticklabels": false
        },
        "yaxis45": {
         "anchor": "x45",
         "domain": [
          0.515,
          0.588
         ],
         "matches": "y41",
         "range": [
          60.8,
          131.2
         ],
         "showticklabels": false
        },
        "yaxis46": {
         "anchor": "x46",
         "domain": [
          0.515,
          0.588
         ],
         "matches": "y41",
         "range": [
          60.8,
          131.2
         ],
         "showticklabels": false
        },
        "yaxis47": {
         "anchor": "x47",
         "domain": [
          0.515,
          0.588
         ],
         "matches": "y41",
         "range": [
          60.8,
          131.2
         ],
         "showticklabels": false
        },
        "yaxis48": {
         "anchor": "x48",
         "domain": [
          0.515,
          0.588
         ],
         "matches": "y41",
         "range": [
          60.8,
          131.2
         ],
         "showticklabels": false
        },
        "yaxis49": {
         "anchor": "x49",
         "domain": [
          0.515,
          0.588
         ],
         "matches": "y41",
         "range": [
          60.8,
          131.2
         ],
         "showticklabels": false
        },
        "yaxis5": {
         "anchor": "x5",
         "domain": [
          0.9269999999999999,
          0.9999999999999999
         ],
         "matches": "y",
         "range": [
          60.8,
          131.2
         ],
         "showticklabels": false
        },
        "yaxis50": {
         "anchor": "x50",
         "domain": [
          0.515,
          0.588
         ],
         "matches": "y41",
         "range": [
          60.8,
          131.2
         ],
         "showticklabels": false
        },
        "yaxis51": {
         "anchor": "x51",
         "domain": [
          0.412,
          0.485
         ],
         "range": [
          -3.993561360046582,
          -2.406813681104725
         ],
         "title": {
          "text": "learning_rate"
         },
         "type": "log"
        },
        "yaxis52": {
         "anchor": "x52",
         "domain": [
          0.412,
          0.485
         ],
         "matches": "y51",
         "range": [
          -3.993561360046582,
          -2.406813681104725
         ],
         "showticklabels": false,
         "type": "log"
        },
        "yaxis53": {
         "anchor": "x53",
         "domain": [
          0.412,
          0.485
         ],
         "matches": "y51",
         "range": [
          -3.993561360046582,
          -2.406813681104725
         ],
         "showticklabels": false,
         "type": "log"
        },
        "yaxis54": {
         "anchor": "x54",
         "domain": [
          0.412,
          0.485
         ],
         "matches": "y51",
         "range": [
          -3.993561360046582,
          -2.406813681104725
         ],
         "showticklabels": false,
         "type": "log"
        },
        "yaxis55": {
         "anchor": "x55",
         "domain": [
          0.412,
          0.485
         ],
         "matches": "y51",
         "range": [
          -3.993561360046582,
          -2.406813681104725
         ],
         "showticklabels": false,
         "type": "log"
        },
        "yaxis56": {
         "anchor": "x56",
         "domain": [
          0.412,
          0.485
         ],
         "matches": "y51",
         "range": [
          -3.993561360046582,
          -2.406813681104725
         ],
         "showticklabels": false,
         "type": "log"
        },
        "yaxis57": {
         "anchor": "x57",
         "domain": [
          0.412,
          0.485
         ],
         "matches": "y51",
         "range": [
          -3.993561360046582,
          -2.406813681104725
         ],
         "showticklabels": false,
         "type": "log"
        },
        "yaxis58": {
         "anchor": "x58",
         "domain": [
          0.412,
          0.485
         ],
         "matches": "y51",
         "range": [
          -3.993561360046582,
          -2.406813681104725
         ],
         "showticklabels": false,
         "type": "log"
        },
        "yaxis59": {
         "anchor": "x59",
         "domain": [
          0.412,
          0.485
         ],
         "matches": "y51",
         "range": [
          -3.993561360046582,
          -2.406813681104725
         ],
         "showticklabels": false,
         "type": "log"
        },
        "yaxis6": {
         "anchor": "x6",
         "domain": [
          0.9269999999999999,
          0.9999999999999999
         ],
         "matches": "y",
         "range": [
          60.8,
          131.2
         ],
         "showticklabels": false
        },
        "yaxis60": {
         "anchor": "x60",
         "domain": [
          0.412,
          0.485
         ],
         "matches": "y51",
         "range": [
          -3.993561360046582,
          -2.406813681104725
         ],
         "showticklabels": false,
         "type": "log"
        },
        "yaxis61": {
         "anchor": "x61",
         "domain": [
          0.30899999999999994,
          0.38199999999999995
         ],
         "range": [
          1.95,
          3.05
         ],
         "title": {
          "text": "num_layers"
         }
        },
        "yaxis62": {
         "anchor": "x62",
         "domain": [
          0.30899999999999994,
          0.38199999999999995
         ],
         "matches": "y61",
         "range": [
          1.95,
          3.05
         ],
         "showticklabels": false
        },
        "yaxis63": {
         "anchor": "x63",
         "domain": [
          0.30899999999999994,
          0.38199999999999995
         ],
         "matches": "y61",
         "range": [
          1.95,
          3.05
         ],
         "showticklabels": false
        },
        "yaxis64": {
         "anchor": "x64",
         "domain": [
          0.30899999999999994,
          0.38199999999999995
         ],
         "matches": "y61",
         "range": [
          1.95,
          3.05
         ],
         "showticklabels": false
        },
        "yaxis65": {
         "anchor": "x65",
         "domain": [
          0.30899999999999994,
          0.38199999999999995
         ],
         "matches": "y61",
         "range": [
          1.95,
          3.05
         ],
         "showticklabels": false
        },
        "yaxis66": {
         "anchor": "x66",
         "domain": [
          0.30899999999999994,
          0.38199999999999995
         ],
         "matches": "y61",
         "range": [
          1.95,
          3.05
         ],
         "showticklabels": false
        },
        "yaxis67": {
         "anchor": "x67",
         "domain": [
          0.30899999999999994,
          0.38199999999999995
         ],
         "matches": "y61",
         "range": [
          1.95,
          3.05
         ],
         "showticklabels": false
        },
        "yaxis68": {
         "anchor": "x68",
         "domain": [
          0.30899999999999994,
          0.38199999999999995
         ],
         "matches": "y61",
         "range": [
          1.95,
          3.05
         ],
         "showticklabels": false
        },
        "yaxis69": {
         "anchor": "x69",
         "domain": [
          0.30899999999999994,
          0.38199999999999995
         ],
         "matches": "y61",
         "range": [
          1.95,
          3.05
         ],
         "showticklabels": false
        },
        "yaxis7": {
         "anchor": "x7",
         "domain": [
          0.9269999999999999,
          0.9999999999999999
         ],
         "matches": "y",
         "range": [
          60.8,
          131.2
         ],
         "showticklabels": false
        },
        "yaxis70": {
         "anchor": "x70",
         "domain": [
          0.30899999999999994,
          0.38199999999999995
         ],
         "matches": "y61",
         "range": [
          1.95,
          3.05
         ],
         "showticklabels": false
        },
        "yaxis71": {
         "anchor": "x71",
         "domain": [
          0.206,
          0.27899999999999997
         ],
         "range": [
          27.2,
          132.8
         ],
         "title": {
          "text": "seq_len"
         }
        },
        "yaxis72": {
         "anchor": "x72",
         "domain": [
          0.206,
          0.27899999999999997
         ],
         "matches": "y71",
         "range": [
          27.2,
          132.8
         ],
         "showticklabels": false
        },
        "yaxis73": {
         "anchor": "x73",
         "domain": [
          0.206,
          0.27899999999999997
         ],
         "matches": "y71",
         "range": [
          27.2,
          132.8
         ],
         "showticklabels": false
        },
        "yaxis74": {
         "anchor": "x74",
         "domain": [
          0.206,
          0.27899999999999997
         ],
         "matches": "y71",
         "range": [
          27.2,
          132.8
         ],
         "showticklabels": false
        },
        "yaxis75": {
         "anchor": "x75",
         "domain": [
          0.206,
          0.27899999999999997
         ],
         "matches": "y71",
         "range": [
          27.2,
          132.8
         ],
         "showticklabels": false
        },
        "yaxis76": {
         "anchor": "x76",
         "domain": [
          0.206,
          0.27899999999999997
         ],
         "matches": "y71",
         "range": [
          27.2,
          132.8
         ],
         "showticklabels": false
        },
        "yaxis77": {
         "anchor": "x77",
         "domain": [
          0.206,
          0.27899999999999997
         ],
         "matches": "y71",
         "range": [
          27.2,
          132.8
         ],
         "showticklabels": false
        },
        "yaxis78": {
         "anchor": "x78",
         "domain": [
          0.206,
          0.27899999999999997
         ],
         "matches": "y71",
         "range": [
          27.2,
          132.8
         ],
         "showticklabels": false
        },
        "yaxis79": {
         "anchor": "x79",
         "domain": [
          0.206,
          0.27899999999999997
         ],
         "matches": "y71",
         "range": [
          27.2,
          132.8
         ],
         "showticklabels": false
        },
        "yaxis8": {
         "anchor": "x8",
         "domain": [
          0.9269999999999999,
          0.9999999999999999
         ],
         "matches": "y",
         "range": [
          60.8,
          131.2
         ],
         "showticklabels": false
        },
        "yaxis80": {
         "anchor": "x80",
         "domain": [
          0.206,
          0.27899999999999997
         ],
         "matches": "y71",
         "range": [
          27.2,
          132.8
         ],
         "showticklabels": false
        },
        "yaxis81": {
         "anchor": "x81",
         "domain": [
          0.103,
          0.176
         ],
         "range": [
          0.85,
          4.15
         ],
         "title": {
          "text": "stride"
         }
        },
        "yaxis82": {
         "anchor": "x82",
         "domain": [
          0.103,
          0.176
         ],
         "matches": "y81",
         "range": [
          0.85,
          4.15
         ],
         "showticklabels": false
        },
        "yaxis83": {
         "anchor": "x83",
         "domain": [
          0.103,
          0.176
         ],
         "matches": "y81",
         "range": [
          0.85,
          4.15
         ],
         "showticklabels": false
        },
        "yaxis84": {
         "anchor": "x84",
         "domain": [
          0.103,
          0.176
         ],
         "matches": "y81",
         "range": [
          0.85,
          4.15
         ],
         "showticklabels": false
        },
        "yaxis85": {
         "anchor": "x85",
         "domain": [
          0.103,
          0.176
         ],
         "matches": "y81",
         "range": [
          0.85,
          4.15
         ],
         "showticklabels": false
        },
        "yaxis86": {
         "anchor": "x86",
         "domain": [
          0.103,
          0.176
         ],
         "matches": "y81",
         "range": [
          0.85,
          4.15
         ],
         "showticklabels": false
        },
        "yaxis87": {
         "anchor": "x87",
         "domain": [
          0.103,
          0.176
         ],
         "matches": "y81",
         "range": [
          0.85,
          4.15
         ],
         "showticklabels": false
        },
        "yaxis88": {
         "anchor": "x88",
         "domain": [
          0.103,
          0.176
         ],
         "matches": "y81",
         "range": [
          0.85,
          4.15
         ],
         "showticklabels": false
        },
        "yaxis89": {
         "anchor": "x89",
         "domain": [
          0.103,
          0.176
         ],
         "matches": "y81",
         "range": [
          0.85,
          4.15
         ],
         "showticklabels": false
        },
        "yaxis9": {
         "anchor": "x9",
         "domain": [
          0.9269999999999999,
          0.9999999999999999
         ],
         "matches": "y",
         "range": [
          60.8,
          131.2
         ],
         "showticklabels": false
        },
        "yaxis90": {
         "anchor": "x90",
         "domain": [
          0.103,
          0.176
         ],
         "matches": "y81",
         "range": [
          0.85,
          4.15
         ],
         "showticklabels": false
        },
        "yaxis91": {
         "anchor": "x91",
         "domain": [
          0,
          0.073
         ],
         "range": [
          -5.012387149189548,
          -1.8954443574898514
         ],
         "title": {
          "text": "weight_decay"
         },
         "type": "log"
        },
        "yaxis92": {
         "anchor": "x92",
         "domain": [
          0,
          0.073
         ],
         "matches": "y91",
         "range": [
          -5.012387149189548,
          -1.8954443574898514
         ],
         "showticklabels": false,
         "type": "log"
        },
        "yaxis93": {
         "anchor": "x93",
         "domain": [
          0,
          0.073
         ],
         "matches": "y91",
         "range": [
          -5.012387149189548,
          -1.8954443574898514
         ],
         "showticklabels": false,
         "type": "log"
        },
        "yaxis94": {
         "anchor": "x94",
         "domain": [
          0,
          0.073
         ],
         "matches": "y91",
         "range": [
          -5.012387149189548,
          -1.8954443574898514
         ],
         "showticklabels": false,
         "type": "log"
        },
        "yaxis95": {
         "anchor": "x95",
         "domain": [
          0,
          0.073
         ],
         "matches": "y91",
         "range": [
          -5.012387149189548,
          -1.8954443574898514
         ],
         "showticklabels": false,
         "type": "log"
        },
        "yaxis96": {
         "anchor": "x96",
         "domain": [
          0,
          0.073
         ],
         "matches": "y91",
         "range": [
          -5.012387149189548,
          -1.8954443574898514
         ],
         "showticklabels": false,
         "type": "log"
        },
        "yaxis97": {
         "anchor": "x97",
         "domain": [
          0,
          0.073
         ],
         "matches": "y91",
         "range": [
          -5.012387149189548,
          -1.8954443574898514
         ],
         "showticklabels": false,
         "type": "log"
        },
        "yaxis98": {
         "anchor": "x98",
         "domain": [
          0,
          0.073
         ],
         "matches": "y91",
         "range": [
          -5.012387149189548,
          -1.8954443574898514
         ],
         "showticklabels": false,
         "type": "log"
        },
        "yaxis99": {
         "anchor": "x99",
         "domain": [
          0,
          0.073
         ],
         "matches": "y91",
         "range": [
          -5.012387149189548,
          -1.8954443574898514
         ],
         "showticklabels": false,
         "type": "log"
        }
       }
      }
     },
     "metadata": {},
     "output_type": "display_data"
    }
   ],
   "source": [
    "from optuna.visualization import plot_contour\n",
    "\n",
    "fig = plot_contour(study)\n",
    "fig.show() "
   ]
  },
  {
   "cell_type": "code",
   "execution_count": 26,
   "metadata": {},
   "outputs": [
    {
     "data": {
      "application/vnd.plotly.v1+json": {
       "config": {
        "plotlyServerURL": "https://plot.ly"
       },
       "data": [
        {
         "colorbar": {
          "title": {
           "text": "Objective Value"
          }
         },
         "colorscale": [
          [
           0,
           "rgb(247,251,255)"
          ],
          [
           0.125,
           "rgb(222,235,247)"
          ],
          [
           0.25,
           "rgb(198,219,239)"
          ],
          [
           0.375,
           "rgb(158,202,225)"
          ],
          [
           0.5,
           "rgb(107,174,214)"
          ],
          [
           0.625,
           "rgb(66,146,198)"
          ],
          [
           0.75,
           "rgb(33,113,181)"
          ],
          [
           0.875,
           "rgb(8,81,156)"
          ],
          [
           1,
           "rgb(8,48,107)"
          ]
         ],
         "connectgaps": true,
         "contours": {
          "coloring": "heatmap"
         },
         "hoverinfo": "none",
         "line": {
          "smoothing": 1.3
         },
         "reversescale": false,
         "type": "contour",
         "x": [
          0.16550133145846863,
          0.17957901587152492,
          0.2994028049210362,
          0.34223102575750275,
          0.36965344602653816,
          0.46113270413265095,
          0.47521038854570724
         ],
         "y": [
          0.00010149359594607536,
          0.00011982944130266843,
          0.00033452711277994786,
          0.001720021822320989,
          0.003230690711567297,
          0.003319414023327547,
          0.003919099763485756
         ],
         "z": {
          "bdata": "AAAAAAAA+H8AAAAAAAD4fwAAAAAAAPh/AAAAAAAA+H8AAAAAAAD4fwAAAAAAAPh/AAAAAAAA+H8AAAAAAAD4fwAAAAAAAPh/AAAAAAAA+H8AAAAAAAD4fwAAAAAAAPh/2aQSMjSV6T8AAAAAAAD4fwAAAAAAAPh/AAAAAAAA+H8AAAAAAAD4f07AQ5vPfOk/AAAAAAAA+H8AAAAAAAD4fwAAAAAAAPh/AAAAAAAA+H8AAAAAAAD4fwAAAAAAAPh/AAAAAAAA+H+ex8r8wYDqPwAAAAAAAPh/AAAAAAAA+H8AAAAAAAD4f/XPhasDJrA/AAAAAAAA+H8AAAAAAAD4fwAAAAAAAPh/AAAAAAAA+H8AAAAAAAD4fwAAAAAAAPh/AAAAAAAA+H+0lZFj3DuuPwAAAAAAAPh/AAAAAAAA+H8AAAAAAAD4fwAAAAAAAPh/AAAAAAAA+H8AAAAAAAD4fwAAAAAAAPh/AAAAAAAA+H8AAAAAAAD4fwAAAAAAAPh/AAAAAAAA+H8=",
          "dtype": "f8",
          "shape": "7, 7"
         }
        },
        {
         "marker": {
          "color": "black",
          "line": {
           "color": "Gray",
           "width": 2
          }
         },
         "mode": "markers",
         "name": "Feasible Trial",
         "showlegend": false,
         "type": "scatter",
         "x": [
          0.2994028049210362,
          0.36965344602653816,
          0.17957901587152492,
          0.46113270413265095,
          0.34223102575750275
         ],
         "y": [
          0.003319414023327547,
          0.001720021822320989,
          0.003230690711567297,
          0.00011982944130266843,
          0.00033452711277994786
         ]
        },
        {
         "marker": {
          "color": "#cccccc",
          "line": {
           "color": "Gray",
           "width": 2
          }
         },
         "mode": "markers",
         "name": "Infeasible Trial",
         "showlegend": false,
         "type": "scatter",
         "x": [],
         "y": []
        }
       ],
       "layout": {
        "template": {
         "data": {
          "bar": [
           {
            "error_x": {
             "color": "#2a3f5f"
            },
            "error_y": {
             "color": "#2a3f5f"
            },
            "marker": {
             "line": {
              "color": "#E5ECF6",
              "width": 0.5
             },
             "pattern": {
              "fillmode": "overlay",
              "size": 10,
              "solidity": 0.2
             }
            },
            "type": "bar"
           }
          ],
          "barpolar": [
           {
            "marker": {
             "line": {
              "color": "#E5ECF6",
              "width": 0.5
             },
             "pattern": {
              "fillmode": "overlay",
              "size": 10,
              "solidity": 0.2
             }
            },
            "type": "barpolar"
           }
          ],
          "carpet": [
           {
            "aaxis": {
             "endlinecolor": "#2a3f5f",
             "gridcolor": "white",
             "linecolor": "white",
             "minorgridcolor": "white",
             "startlinecolor": "#2a3f5f"
            },
            "baxis": {
             "endlinecolor": "#2a3f5f",
             "gridcolor": "white",
             "linecolor": "white",
             "minorgridcolor": "white",
             "startlinecolor": "#2a3f5f"
            },
            "type": "carpet"
           }
          ],
          "choropleth": [
           {
            "colorbar": {
             "outlinewidth": 0,
             "ticks": ""
            },
            "type": "choropleth"
           }
          ],
          "contour": [
           {
            "colorbar": {
             "outlinewidth": 0,
             "ticks": ""
            },
            "colorscale": [
             [
              0,
              "#0d0887"
             ],
             [
              0.1111111111111111,
              "#46039f"
             ],
             [
              0.2222222222222222,
              "#7201a8"
             ],
             [
              0.3333333333333333,
              "#9c179e"
             ],
             [
              0.4444444444444444,
              "#bd3786"
             ],
             [
              0.5555555555555556,
              "#d8576b"
             ],
             [
              0.6666666666666666,
              "#ed7953"
             ],
             [
              0.7777777777777778,
              "#fb9f3a"
             ],
             [
              0.8888888888888888,
              "#fdca26"
             ],
             [
              1,
              "#f0f921"
             ]
            ],
            "type": "contour"
           }
          ],
          "contourcarpet": [
           {
            "colorbar": {
             "outlinewidth": 0,
             "ticks": ""
            },
            "type": "contourcarpet"
           }
          ],
          "heatmap": [
           {
            "colorbar": {
             "outlinewidth": 0,
             "ticks": ""
            },
            "colorscale": [
             [
              0,
              "#0d0887"
             ],
             [
              0.1111111111111111,
              "#46039f"
             ],
             [
              0.2222222222222222,
              "#7201a8"
             ],
             [
              0.3333333333333333,
              "#9c179e"
             ],
             [
              0.4444444444444444,
              "#bd3786"
             ],
             [
              0.5555555555555556,
              "#d8576b"
             ],
             [
              0.6666666666666666,
              "#ed7953"
             ],
             [
              0.7777777777777778,
              "#fb9f3a"
             ],
             [
              0.8888888888888888,
              "#fdca26"
             ],
             [
              1,
              "#f0f921"
             ]
            ],
            "type": "heatmap"
           }
          ],
          "histogram": [
           {
            "marker": {
             "pattern": {
              "fillmode": "overlay",
              "size": 10,
              "solidity": 0.2
             }
            },
            "type": "histogram"
           }
          ],
          "histogram2d": [
           {
            "colorbar": {
             "outlinewidth": 0,
             "ticks": ""
            },
            "colorscale": [
             [
              0,
              "#0d0887"
             ],
             [
              0.1111111111111111,
              "#46039f"
             ],
             [
              0.2222222222222222,
              "#7201a8"
             ],
             [
              0.3333333333333333,
              "#9c179e"
             ],
             [
              0.4444444444444444,
              "#bd3786"
             ],
             [
              0.5555555555555556,
              "#d8576b"
             ],
             [
              0.6666666666666666,
              "#ed7953"
             ],
             [
              0.7777777777777778,
              "#fb9f3a"
             ],
             [
              0.8888888888888888,
              "#fdca26"
             ],
             [
              1,
              "#f0f921"
             ]
            ],
            "type": "histogram2d"
           }
          ],
          "histogram2dcontour": [
           {
            "colorbar": {
             "outlinewidth": 0,
             "ticks": ""
            },
            "colorscale": [
             [
              0,
              "#0d0887"
             ],
             [
              0.1111111111111111,
              "#46039f"
             ],
             [
              0.2222222222222222,
              "#7201a8"
             ],
             [
              0.3333333333333333,
              "#9c179e"
             ],
             [
              0.4444444444444444,
              "#bd3786"
             ],
             [
              0.5555555555555556,
              "#d8576b"
             ],
             [
              0.6666666666666666,
              "#ed7953"
             ],
             [
              0.7777777777777778,
              "#fb9f3a"
             ],
             [
              0.8888888888888888,
              "#fdca26"
             ],
             [
              1,
              "#f0f921"
             ]
            ],
            "type": "histogram2dcontour"
           }
          ],
          "mesh3d": [
           {
            "colorbar": {
             "outlinewidth": 0,
             "ticks": ""
            },
            "type": "mesh3d"
           }
          ],
          "parcoords": [
           {
            "line": {
             "colorbar": {
              "outlinewidth": 0,
              "ticks": ""
             }
            },
            "type": "parcoords"
           }
          ],
          "pie": [
           {
            "automargin": true,
            "type": "pie"
           }
          ],
          "scatter": [
           {
            "fillpattern": {
             "fillmode": "overlay",
             "size": 10,
             "solidity": 0.2
            },
            "type": "scatter"
           }
          ],
          "scatter3d": [
           {
            "line": {
             "colorbar": {
              "outlinewidth": 0,
              "ticks": ""
             }
            },
            "marker": {
             "colorbar": {
              "outlinewidth": 0,
              "ticks": ""
             }
            },
            "type": "scatter3d"
           }
          ],
          "scattercarpet": [
           {
            "marker": {
             "colorbar": {
              "outlinewidth": 0,
              "ticks": ""
             }
            },
            "type": "scattercarpet"
           }
          ],
          "scattergeo": [
           {
            "marker": {
             "colorbar": {
              "outlinewidth": 0,
              "ticks": ""
             }
            },
            "type": "scattergeo"
           }
          ],
          "scattergl": [
           {
            "marker": {
             "colorbar": {
              "outlinewidth": 0,
              "ticks": ""
             }
            },
            "type": "scattergl"
           }
          ],
          "scattermap": [
           {
            "marker": {
             "colorbar": {
              "outlinewidth": 0,
              "ticks": ""
             }
            },
            "type": "scattermap"
           }
          ],
          "scattermapbox": [
           {
            "marker": {
             "colorbar": {
              "outlinewidth": 0,
              "ticks": ""
             }
            },
            "type": "scattermapbox"
           }
          ],
          "scatterpolar": [
           {
            "marker": {
             "colorbar": {
              "outlinewidth": 0,
              "ticks": ""
             }
            },
            "type": "scatterpolar"
           }
          ],
          "scatterpolargl": [
           {
            "marker": {
             "colorbar": {
              "outlinewidth": 0,
              "ticks": ""
             }
            },
            "type": "scatterpolargl"
           }
          ],
          "scatterternary": [
           {
            "marker": {
             "colorbar": {
              "outlinewidth": 0,
              "ticks": ""
             }
            },
            "type": "scatterternary"
           }
          ],
          "surface": [
           {
            "colorbar": {
             "outlinewidth": 0,
             "ticks": ""
            },
            "colorscale": [
             [
              0,
              "#0d0887"
             ],
             [
              0.1111111111111111,
              "#46039f"
             ],
             [
              0.2222222222222222,
              "#7201a8"
             ],
             [
              0.3333333333333333,
              "#9c179e"
             ],
             [
              0.4444444444444444,
              "#bd3786"
             ],
             [
              0.5555555555555556,
              "#d8576b"
             ],
             [
              0.6666666666666666,
              "#ed7953"
             ],
             [
              0.7777777777777778,
              "#fb9f3a"
             ],
             [
              0.8888888888888888,
              "#fdca26"
             ],
             [
              1,
              "#f0f921"
             ]
            ],
            "type": "surface"
           }
          ],
          "table": [
           {
            "cells": {
             "fill": {
              "color": "#EBF0F8"
             },
             "line": {
              "color": "white"
             }
            },
            "header": {
             "fill": {
              "color": "#C8D4E3"
             },
             "line": {
              "color": "white"
             }
            },
            "type": "table"
           }
          ]
         },
         "layout": {
          "annotationdefaults": {
           "arrowcolor": "#2a3f5f",
           "arrowhead": 0,
           "arrowwidth": 1
          },
          "autotypenumbers": "strict",
          "coloraxis": {
           "colorbar": {
            "outlinewidth": 0,
            "ticks": ""
           }
          },
          "colorscale": {
           "diverging": [
            [
             0,
             "#8e0152"
            ],
            [
             0.1,
             "#c51b7d"
            ],
            [
             0.2,
             "#de77ae"
            ],
            [
             0.3,
             "#f1b6da"
            ],
            [
             0.4,
             "#fde0ef"
            ],
            [
             0.5,
             "#f7f7f7"
            ],
            [
             0.6,
             "#e6f5d0"
            ],
            [
             0.7,
             "#b8e186"
            ],
            [
             0.8,
             "#7fbc41"
            ],
            [
             0.9,
             "#4d9221"
            ],
            [
             1,
             "#276419"
            ]
           ],
           "sequential": [
            [
             0,
             "#0d0887"
            ],
            [
             0.1111111111111111,
             "#46039f"
            ],
            [
             0.2222222222222222,
             "#7201a8"
            ],
            [
             0.3333333333333333,
             "#9c179e"
            ],
            [
             0.4444444444444444,
             "#bd3786"
            ],
            [
             0.5555555555555556,
             "#d8576b"
            ],
            [
             0.6666666666666666,
             "#ed7953"
            ],
            [
             0.7777777777777778,
             "#fb9f3a"
            ],
            [
             0.8888888888888888,
             "#fdca26"
            ],
            [
             1,
             "#f0f921"
            ]
           ],
           "sequentialminus": [
            [
             0,
             "#0d0887"
            ],
            [
             0.1111111111111111,
             "#46039f"
            ],
            [
             0.2222222222222222,
             "#7201a8"
            ],
            [
             0.3333333333333333,
             "#9c179e"
            ],
            [
             0.4444444444444444,
             "#bd3786"
            ],
            [
             0.5555555555555556,
             "#d8576b"
            ],
            [
             0.6666666666666666,
             "#ed7953"
            ],
            [
             0.7777777777777778,
             "#fb9f3a"
            ],
            [
             0.8888888888888888,
             "#fdca26"
            ],
            [
             1,
             "#f0f921"
            ]
           ]
          },
          "colorway": [
           "#636efa",
           "#EF553B",
           "#00cc96",
           "#ab63fa",
           "#FFA15A",
           "#19d3f3",
           "#FF6692",
           "#B6E880",
           "#FF97FF",
           "#FECB52"
          ],
          "font": {
           "color": "#2a3f5f"
          },
          "geo": {
           "bgcolor": "white",
           "lakecolor": "white",
           "landcolor": "#E5ECF6",
           "showlakes": true,
           "showland": true,
           "subunitcolor": "white"
          },
          "hoverlabel": {
           "align": "left"
          },
          "hovermode": "closest",
          "mapbox": {
           "style": "light"
          },
          "paper_bgcolor": "white",
          "plot_bgcolor": "#E5ECF6",
          "polar": {
           "angularaxis": {
            "gridcolor": "white",
            "linecolor": "white",
            "ticks": ""
           },
           "bgcolor": "#E5ECF6",
           "radialaxis": {
            "gridcolor": "white",
            "linecolor": "white",
            "ticks": ""
           }
          },
          "scene": {
           "xaxis": {
            "backgroundcolor": "#E5ECF6",
            "gridcolor": "white",
            "gridwidth": 2,
            "linecolor": "white",
            "showbackground": true,
            "ticks": "",
            "zerolinecolor": "white"
           },
           "yaxis": {
            "backgroundcolor": "#E5ECF6",
            "gridcolor": "white",
            "gridwidth": 2,
            "linecolor": "white",
            "showbackground": true,
            "ticks": "",
            "zerolinecolor": "white"
           },
           "zaxis": {
            "backgroundcolor": "#E5ECF6",
            "gridcolor": "white",
            "gridwidth": 2,
            "linecolor": "white",
            "showbackground": true,
            "ticks": "",
            "zerolinecolor": "white"
           }
          },
          "shapedefaults": {
           "line": {
            "color": "#2a3f5f"
           }
          },
          "ternary": {
           "aaxis": {
            "gridcolor": "white",
            "linecolor": "white",
            "ticks": ""
           },
           "baxis": {
            "gridcolor": "white",
            "linecolor": "white",
            "ticks": ""
           },
           "bgcolor": "#E5ECF6",
           "caxis": {
            "gridcolor": "white",
            "linecolor": "white",
            "ticks": ""
           }
          },
          "title": {
           "x": 0.05
          },
          "xaxis": {
           "automargin": true,
           "gridcolor": "white",
           "linecolor": "white",
           "ticks": "",
           "title": {
            "standoff": 15
           },
           "zerolinecolor": "white",
           "zerolinewidth": 2
          },
          "yaxis": {
           "automargin": true,
           "gridcolor": "white",
           "linecolor": "white",
           "ticks": "",
           "title": {
            "standoff": 15
           },
           "zerolinecolor": "white",
           "zerolinewidth": 2
          }
         }
        },
        "title": {
         "text": "Contour Plot"
        },
        "xaxis": {
         "range": [
          0.16550133145846863,
          0.47521038854570724
         ],
         "title": {
          "text": "dropout"
         }
        },
        "yaxis": {
         "range": [
          -3.993561360046582,
          -2.406813681104725
         ],
         "title": {
          "text": "learning_rate"
         },
         "type": "log"
        }
       }
      }
     },
     "metadata": {},
     "output_type": "display_data"
    }
   ],
   "source": [
    "plot_contour(study, params=[\"learning_rate\", \"dropout\"])\n"
   ]
  },
  {
   "cell_type": "code",
   "execution_count": null,
   "metadata": {},
   "outputs": [],
   "source": [
    "# Next, line plot tracking f1s across the trials\n",
    "# Figure out if there's a patter (ex. f1 improvement)\n",
    "\n",
    "# TO DO: \n",
    "# Test generalizeability on more (and eventually all) subjects\n",
    "# Lead Scoring vs LTV -- and why they're two parts of a sales funnel\n",
    "# Expanding Phase 4 to have 5 subphases \n",
    "# -- will cover all steps in the Keyspire Funnel\n",
    "# -- more progress needed on Pitch Deck today\n",
    "# -- but that's only viable once the Roadmap is in a better spot\n",
    "\n",
    "\n",
    "# ---- Sleep_Wave ---- \n",
    "# lr is consistently the most important param, correlating with great f1 scores \n",
    "# It's correlation is so extremely negative, reminder to tune lr down in optuna\n",
    "# Just to see if it has an effect\n",
    "# Success... sort of!\n",
    "\n",
    "# Spoke with Charlie, he's still interested in real-time sleep_wave\n",
    "# Think about how the script would have to adapt for real-time"
   ]
  },
  {
   "cell_type": "markdown",
   "metadata": {},
   "source": [
    "## Real-Time Classification Simulation"
   ]
  },
  {
   "cell_type": "code",
   "execution_count": null,
   "metadata": {},
   "outputs": [],
   "source": [
    "# Idea: StreamSim class... that feeds one 30s epoch at a time "
   ]
  },
  {
   "cell_type": "code",
   "execution_count": 4,
   "metadata": {},
   "outputs": [
    {
     "name": "stdout",
     "output_type": "stream",
     "text": [
      "DATA_DIR =  C:\\Users\\andre\\OneDrive\\Desktop\\Code_Projects\\DS_Tutorials\\data\n",
      "Matching PSGs:\n"
     ]
    }
   ],
   "source": [
    "\n",
    "import sys \n",
    "import os\n",
    "\n",
    "PROJECT_ROOT = os.path.abspath(os.path.join(os.getcwd(), \"..\"))\n",
    "sys.path.append(PROJECT_ROOT)\n",
    "\n",
    "import pandas as pd\n",
    "import matplotlib.pyplot as plt\n",
    "from src.paths import DATA_DIR\n",
    "\n",
    "print(\"DATA_DIR = \", DATA_DIR.resolve())\n",
    "print(\"Matching PSGs:\")\n",
    "for f in DATA_DIR.glob(\"ST7012J*-PSG.edf\"):\n",
    "    print(\" -\", f.name)\n"
   ]
  }
 ],
 "metadata": {
  "kernelspec": {
   "display_name": ".venv",
   "language": "python",
   "name": "python3"
  },
  "language_info": {
   "codemirror_mode": {
    "name": "ipython",
    "version": 3
   },
   "file_extension": ".py",
   "mimetype": "text/x-python",
   "name": "python",
   "nbconvert_exporter": "python",
   "pygments_lexer": "ipython3",
   "version": "3.13.0"
  }
 },
 "nbformat": 4,
 "nbformat_minor": 4
}
